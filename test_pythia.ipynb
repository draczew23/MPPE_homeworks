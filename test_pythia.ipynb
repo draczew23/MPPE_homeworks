{
 "cells": [
  {
   "cell_type": "markdown",
   "metadata": {},
   "source": [
    "## HOMEWORK: $Z$ boson production in $p+\\bar{p}$ collisions\n",
    "### Generate 10000 $p+\\bar{p}$ events at 630 GeV of $Z$ boson production ($Z$ discovery at CERN SPS). (in the center of mass)"
   ]
  },
  {
   "cell_type": "markdown",
   "metadata": {},
   "source": [
    "Setup:\n",
    "* in order to look at $Z$ boson production we limit physics list of Pythia8 to include only hard $f\\bar{f}\\to Z \\to f\\bar{f}$ processes\n",
    "  * `WeakSingleBoson:ffbar2gmZ`\n",
    "* moreover, we will disable all $Z$ decay modes other than $Z\\to e^+e^-$, in which the particle was discovered\n",
    "  * `id:onMode = off` disables all decay channels of particle with given id (`id` should be an integer equal to PDG code of the particle)\n",
    "  * `id:onIfAny = prod` enables decay of particle `id` in channels containing `prod` - see pythia documentation if more info is necessary\n",
    "* to speed up the simulation we disable hadronisation (we are interested only in leptonic final states)\n",
    "* we also limit phase space to $\\pm 20$ GeV around the $Z$ rest mass\n",
    "  * use `PhaseSpace:mHatMin = XX` and `PhaseSpace:mHatMax = XX` options, values are in GeV\n",
    "\n",
    "To do:\n",
    "* select candidates for products of $Z$ decay in each event and plot their invariant mass distribution in range 70-110 GeV\n",
    "* check influence of final state radiation on the spectrum - generate additional 10000 events with FSR turned off\n",
    "* normalize histograms so that their maxima are at $1$\n",
    "* draw both distributions (as a histograms, option `\"hist\"`) on the same plot with axis labels and a legend, how does FSR influence invariant mass spectrum?\n",
    "* draw $\\frac{1}{p_T}\\frac{\\mathrm{d}N}{\\mathrm{d}p_T}$ and $\\frac{\\mathrm{d}N}{\\mathrm{d}\\eta}$ spectra of produced $Z$ bosons (only for one dataset, with FSR on), with axis labels and proper normalisation, pick the $x$ axis ranges so that the whole distribution fits inside the plot\n",
    "  * **hint:** $Z$ boson will occur multiple times in the event listing (why?), it will never be a final particle, pick only $Z$'s that appear *last* in each event\n",
    "* NOT COMPULSORY what is the *mean* number $\\langle N_Z\\rangle$ of $Z$ bosons produced in an event, with what error? is this result surprising? \n",
    "  * **hint:** $\\langle N \\rangle = \\int\\limits_0^\\infty \\frac{\\mathrm{d}N}{\\mathrm{d}p_T}\\cdot \\mathrm{d}p_T = \\int\\limits_{-\\infty}^\\infty \\frac{\\mathrm{d}N}{\\mathrm{d}\\eta}\\cdot \\mathrm{d}\\eta$, see `TH1::Integral`, and `TH1::IntegralAndError` methods and make sure, that *\"width\"* option is used so that bin contents are multiplied by bin widths during computation of the integral"
   ]
  },
  {
   "cell_type": "code",
   "execution_count": 115,
   "metadata": {},
   "outputs": [],
   "source": [
    "# Imported librareis\n",
    "import ROOT\n",
    "import os, sys, subprocess, time\n",
    "import py8settings as py8s\n",
    "from py8settings import PDF\n",
    "import itertools as it\n",
    "import ctypes\n",
    "%jsroot on"
   ]
  },
  {
   "cell_type": "markdown",
   "metadata": {},
   "source": [
    "Settings"
   ]
  },
  {
   "cell_type": "code",
   "execution_count": 116,
   "metadata": {},
   "outputs": [],
   "source": [
    "def makePythiaSilent(pythia):\n",
    "    pythia.ReadString(\"Init:showMultipartonInteractions = off\")\n",
    "    pythia.ReadString(\"Init:showChangedParticleData = off\")\n",
    "    pythia.ReadString(\"Init:showProcesses = off\")\n",
    "    pythia.ReadString(\"Init:showChangedSettings = off\")\n",
    "    pythia.ReadString(\"Next:numberShowInfo = 0\")\n",
    "    pythia.ReadString(\"Next:numberShowProcess = 0\")\n",
    "    pythia.ReadString(\"Next:numberShowEvent = 0\")\n",
    "    pythia.ReadString(\"Next:numberCount = 0\")\n",
    "    \n",
    "pythia = ROOT.TPythia8(False)\n",
    "makePythiaSilent(pythia)\n",
    "pythia.ReadString(\"WeakSingleBoson:ffbar2gmZ = on\")\n",
    "pythia.ReadString(\"Random:setSeed = on\")\n",
    "pythia.ReadString(\"Random:seed = 42\")\n",
    "pythia.ReadString(\"23:onMode = off\")\n",
    "pythia.ReadString(\"23:onIfAny = 11\")\n",
    "pythia.ReadString(\"HadronLevel:Hadronize = off\")\n",
    "pythia.ReadString(\"PhaseSpace:mHatMin = 70\")\n",
    "pythia.ReadString(\"PhaseSpace:mHatMax = 110\")\n",
    "\n",
    "# Warning about cross section violated is ok"
   ]
  },
  {
   "cell_type": "markdown",
   "metadata": {},
   "source": [
    "Initialize our simulation"
   ]
  },
  {
   "cell_type": "code",
   "execution_count": 117,
   "metadata": {},
   "outputs": [
    {
     "name": "stdout",
     "output_type": "stream",
     "text": [
      " *** TDatabasePDG::AddParticle: particle with PDGcode=90 already defined\n",
      " *** TDatabasePDG::AddParticle: particle with PDGcode=9900110 already defined\n",
      " *** TDatabasePDG::AddParticle: particle with PDGcode=9900210 already defined\n",
      " *** TDatabasePDG::AddParticle: particle with PDGcode=9900220 already defined\n",
      " *** TDatabasePDG::AddParticle: particle with PDGcode=9900330 already defined\n",
      " *** TDatabasePDG::AddParticle: particle with PDGcode=9900440 already defined\n",
      " *** TDatabasePDG::AddParticle: particle with PDGcode=9902110 already defined\n",
      " *** TDatabasePDG::AddParticle: particle with PDGcode=9902210 already defined\n"
     ]
    }
   ],
   "source": [
    "# FSR on\n",
    "pythia.ReadString(\"PartonLevel:FSR = on\")\n",
    "particles = ROOT.TClonesArray(\"TParticle\", 10000)\n",
    "pythia.Initialize(2212 , -2212 , 630)\n",
    "pythia.GenerateEvent()"
   ]
  },
  {
   "cell_type": "markdown",
   "metadata": {},
   "source": [
    "Useful functions"
   ]
  },
  {
   "cell_type": "code",
   "execution_count": 118,
   "metadata": {},
   "outputs": [],
   "source": [
    "def isFinal(p,name=None):\n",
    "    if name==None:\n",
    "        return p.GetStatusCode()>0\n",
    "    else:\n",
    "        return p.GetStatusCode()>0 and p.GetName()==name\n",
    "\n",
    "\n",
    "def getMinv(pair):  # invariant mass of 2 particles\n",
    "    p4_1=ROOT.TLorentzVector()  # ROOT class to represent 4vectors\n",
    "    p4_2=ROOT.TLorentzVector()\n",
    "    pair[0].Momentum(p4_1)\n",
    "    pair[1].Momentum(p4_2)\n",
    "    p4=p4_1+p4_2\n",
    "    return p4.M()   # get mass of 4vector"
   ]
  },
  {
   "cell_type": "markdown",
   "metadata": {},
   "source": [
    "## 1. FSR on "
   ]
  },
  {
   "cell_type": "code",
   "execution_count": 119,
   "metadata": {},
   "outputs": [
    {
     "name": "stdout",
     "output_type": "stream",
     "text": [
      " PYTHIA Warning in JunctionSplitting::SplitJunPairs: parallel junction state not allowed.  \n",
      " PYTHIA Warning in JunctionSplitting::CheckColours: Not possible to split junctions; making new colours  \n",
      " PYTHIA Error in BeamRemnants::add: failed to find physical colour state after colour reconnection  \n",
      " PYTHIA Warning in MultipartonInteractions::pTnext: weight above unity  \n"
     ]
    },
    {
     "name": "stderr",
     "output_type": "stream",
     "text": [
      "Warning in <TCanvas::Constructor>: Deleting canvas with same name: c1\n",
      "Warning in <TROOT::Append>: Replacing existing TH1: h (Potential memory leak).\n"
     ]
    }
   ],
   "source": [
    "#plotting invariant mass distribution of product of decay of Z boson (e+ and e-)\n",
    "c1_kstar = ROOT.TCanvas(\"c1\",\"\",800,600)\n",
    "\n",
    "nEvents=10000\n",
    "h=ROOT.TH1D(\"h\",\"\",300,70,110)\n",
    "parts=[\"electron\", \"positron\"]\n",
    "labels={\"e-\": \"#e^{-}\", \"e+\": \"#e^{+}\"}\n",
    "\n",
    "def getZbosondecayCandidates(parts):\n",
    "    electron = [p for p in parts if isFinal(p,\"e-\")]\n",
    "    positron = [p for p in parts if isFinal(p,\"e+\")]\n",
    "    return list(it.product(electron,positron))\n",
    "\n",
    "for i in range(nEvents):\n",
    "    pythia.GenerateEvent()\n",
    "    pythia.ImportParticles(particles,\"All\")\n",
    "    #for all possible e- e+ pairs we fill invariant mass histogram\n",
    "    for pair in getZbosondecayCandidates(particles):\n",
    "        h.Fill(getMinv(pair))\n",
    "        \n",
    "# Normalization\n",
    "h.Scale(1/h.GetMaximum())"
   ]
  },
  {
   "cell_type": "markdown",
   "metadata": {},
   "source": [
    "Make plot with fsr on"
   ]
  },
  {
   "cell_type": "code",
   "execution_count": 120,
   "metadata": {},
   "outputs": [
    {
     "data": {
      "text/plain": [
       "<cppyy.gbl.TH1D object at 0x5619c7312cd0>"
      ]
     },
     "execution_count": 120,
     "metadata": {},
     "output_type": "execute_result"
    }
   ],
   "source": [
    "h.GetXaxis().SetTitle(\"M_{#e^{-}e^{+}}[GeV/#it{c}^{2}]\")\n",
    "h.GetXaxis().SetTitleOffset(1.1)\n",
    "h.GetYaxis().SetTitle(\"Entries\")\n",
    "h.SetLineColor(ROOT.kBlue)\n",
    "h.SetLineWidth(2)\n",
    "h.DrawCopy()\n"
   ]
  },
  {
   "cell_type": "markdown",
   "metadata": {},
   "source": [
    "## 2. FSR off"
   ]
  },
  {
   "cell_type": "markdown",
   "metadata": {},
   "source": [
    "Settings"
   ]
  },
  {
   "cell_type": "code",
   "execution_count": 121,
   "metadata": {},
   "outputs": [],
   "source": [
    "def makePythiaSilent(pythia):\n",
    "    pythia.ReadString(\"Init:showMultipartonInteractions = off\")\n",
    "    pythia.ReadString(\"Init:showChangedParticleData = off\")\n",
    "    pythia.ReadString(\"Init:showProcesses = off\")\n",
    "    pythia.ReadString(\"Init:showChangedSettings = off\")\n",
    "    pythia.ReadString(\"Next:numberShowInfo = 0\")\n",
    "    pythia.ReadString(\"Next:numberShowProcess = 0\")\n",
    "    pythia.ReadString(\"Next:numberShowEvent = 0\")\n",
    "    pythia.ReadString(\"Next:numberCount = 0\")\n",
    "    \n",
    "pythia = ROOT.TPythia8(False)\n",
    "makePythiaSilent(pythia)\n",
    "pythia.ReadString(\"WeakSingleBoson:ffbar2gmZ = on\")\n",
    "pythia.ReadString(\"Random:setSeed = on\")\n",
    "pythia.ReadString(\"Random:seed = 42\")\n",
    "pythia.ReadString(\"23:onMode = off\")\n",
    "pythia.ReadString(\"23:onIfAny = 11\")\n",
    "pythia.ReadString(\"HadronLevel:Hadronize = off\")\n",
    "pythia.ReadString(\"PhaseSpace:mHatMin = 70\")\n",
    "pythia.ReadString(\"PhaseSpace:mHatMax = 110\")\n",
    "\n",
    "# Warning about cross section violated is ok"
   ]
  },
  {
   "cell_type": "markdown",
   "metadata": {},
   "source": [
    "Initialize"
   ]
  },
  {
   "cell_type": "code",
   "execution_count": 122,
   "metadata": {},
   "outputs": [
    {
     "name": "stdout",
     "output_type": "stream",
     "text": [
      " *** TDatabasePDG::AddParticle: particle with PDGcode=90 already defined\n",
      " *** TDatabasePDG::AddParticle: particle with PDGcode=9900110 already defined\n",
      " *** TDatabasePDG::AddParticle: particle with PDGcode=9900210 already defined\n",
      " *** TDatabasePDG::AddParticle: particle with PDGcode=9900220 already defined\n",
      " *** TDatabasePDG::AddParticle: particle with PDGcode=9900330 already defined\n",
      " *** TDatabasePDG::AddParticle: particle with PDGcode=9900440 already defined\n",
      " *** TDatabasePDG::AddParticle: particle with PDGcode=9902110 already defined\n",
      " *** TDatabasePDG::AddParticle: particle with PDGcode=9902210 already defined\n"
     ]
    }
   ],
   "source": [
    "# FSR off\n",
    "pythia.ReadString(\"PartonLevel:FSR = off\")\n",
    "particles = ROOT.TClonesArray(\"TParticle\", 10000)\n",
    "pythia.Initialize(2212 , -2212 , 630)\n",
    "pythia.GenerateEvent()"
   ]
  },
  {
   "cell_type": "code",
   "execution_count": 123,
   "metadata": {},
   "outputs": [
    {
     "name": "stdout",
     "output_type": "stream",
     "text": [
      " PYTHIA Warning in JunctionSplitting::SplitJunPairs: parallel junction state not allowed.  \n",
      " PYTHIA Warning in JunctionSplitting::CheckColours: Not possible to split junctions; making new colours  \n",
      " PYTHIA Error in BeamRemnants::add: failed to find physical colour state after colour reconnection  \n",
      " PYTHIA Warning in SimpleSpaceShower::pT2nextQCD: weight above unity  \n",
      " PYTHIA Warning in MultipartonInteractions::pTnext: weight above unity  \n",
      " PYTHIA Error in SimpleSpaceShower::pT2nearThreshold: stuck in loop  \n"
     ]
    },
    {
     "name": "stderr",
     "output_type": "stream",
     "text": [
      "Warning in <TROOT::Append>: Replacing existing TH1: hfsr (Potential memory leak).\n"
     ]
    }
   ],
   "source": [
    "#plotting invariant mass distribution of product of decay of Z boson (e+ and e-)\n",
    "nEvents=10000\n",
    "hfsr=ROOT.TH1D(\"hfsr\",\"\",300,70,110)\n",
    "parts=[\"electron\", \"positron\"]\n",
    "labels={\"e-\": \"#e^{-}\", \"e+\": \"#e^{+}\"}\n",
    "\n",
    "def getZbosondecayCandidates(parts):\n",
    "    electron = [p for p in parts if isFinal(p,\"e-\")]\n",
    "    positron = [p for p in parts if isFinal(p,\"e+\")]\n",
    "    return list(it.product(electron,positron))\n",
    "\n",
    "for i in range(nEvents):\n",
    "    pythia.GenerateEvent()\n",
    "    pythia.ImportParticles(particles,\"All\")\n",
    "    #for all possible e- e+ pairs we fill invariant mass histogram\n",
    "    for pair in getZbosondecayCandidates(particles):\n",
    "        hfsr.Fill(getMinv(pair))\n",
    "        \n",
    "# Normalization\n",
    "hfsr.Scale(1/hfsr.GetMaximum())"
   ]
  },
  {
   "cell_type": "markdown",
   "metadata": {},
   "source": [
    "Make plot with fsr off and make final plot"
   ]
  },
  {
   "cell_type": "code",
   "execution_count": 124,
   "metadata": {},
   "outputs": [
    {
     "data": {
      "text/html": [
       "\n",
       "\n",
       "<div id=\"root_plot_1649445858604\"\n",
       "     style=\"width: 796px; height: 572px\">\n",
       "</div>\n",
       "<script>\n",
       "\n",
       "function display_root_plot_1649445858604(Core) {\n",
       "   let obj = Core.parse({\"_typename\":\"TCanvas\",\"fUniqueID\":0,\"fBits\":3342344,\"fLineColor\":1,\"fLineStyle\":1,\"fLineWidth\":1,\"fFillColor\":0,\"fFillStyle\":1001,\"fLeftMargin\":0.1,\"fRightMargin\":0.1,\"fBottomMargin\":0.1,\"fTopMargin\":0.1,\"fXfile\":2,\"fYfile\":2,\"fAfile\":1,\"fXstat\":0.99,\"fYstat\":0.99,\"fAstat\":2,\"fFrameFillColor\":0,\"fFrameLineColor\":1,\"fFrameFillStyle\":1001,\"fFrameLineStyle\":1,\"fFrameLineWidth\":1,\"fFrameBorderSize\":1,\"fFrameBorderMode\":0,\"fX1\":64.9999996274709,\"fY1\":-0.139267380162111,\"fX2\":115.000000372529,\"fY2\":1.25340633844917,\"fXtoAbsPixelk\":-1034.79992864961,\"fXtoPixelk\":-1034.79992864961,\"fXtoPixel\":15.9199997627735,\"fYtoAbsPixelk\":514.800046590614,\"fYtoPixelk\":514.800046590614,\"fYtoPixel\":-410.720754155091,\"fUtoAbsPixelk\":5e-5,\"fUtoPixelk\":5e-5,\"fUtoPixel\":796,\"fVtoAbsPixelk\":572.00005,\"fVtoPixelk\":572,\"fVtoPixel\":-572,\"fAbsPixeltoXk\":64.9999996274709,\"fPixeltoXk\":64.9999996274709,\"fPixeltoX\":0.0628140712877615,\"fAbsPixeltoYk\":1.25340633844917,\"fPixeltoYk\":-0.139267380162111,\"fPixeltoY\":-0.00243474426330644,\"fXlowNDC\":0,\"fYlowNDC\":0,\"fXUpNDC\":1,\"fYUpNDC\":1,\"fWNDC\":1,\"fHNDC\":1,\"fAbsXlowNDC\":0,\"fAbsYlowNDC\":0,\"fAbsWNDC\":1,\"fAbsHNDC\":1,\"fUxmin\":70,\"fUymin\":0,\"fUxmax\":110,\"fUymax\":1.11413895828706,\"fTheta\":30,\"fPhi\":30,\"fAspectRatio\":0,\"fNumber\":0,\"fTickx\":0,\"fTicky\":0,\"fLogx\":0,\"fLogy\":0,\"fLogz\":0,\"fPadPaint\":0,\"fCrosshair\":0,\"fCrosshairPos\":0,\"fBorderSize\":2,\"fBorderMode\":0,\"fModified\":false,\"fGridx\":false,\"fGridy\":false,\"fAbsCoord\":false,\"fEditable\":true,\"fFixedAspectRatio\":false,\"fPrimitives\":{\"_typename\":\"TList\",\"name\":\"TList\",\"arr\":[{\"_typename\":\"TFrame\",\"fUniqueID\":0,\"fBits\":8,\"fLineColor\":1,\"fLineStyle\":1,\"fLineWidth\":1,\"fFillColor\":0,\"fFillStyle\":1001,\"fX1\":70,\"fY1\":0,\"fX2\":110,\"fY2\":1.11413895828706,\"fBorderSize\":1,\"fBorderMode\":0},{\"_typename\":\"TH1D\",\"fUniqueID\":0,\"fBits\":521,\"fName\":\"h_copy\",\"fTitle\":\"\",\"fLineColor\":600,\"fLineStyle\":1,\"fLineWidth\":2,\"fFillColor\":0,\"fFillStyle\":1001,\"fMarkerColor\":1,\"fMarkerStyle\":1,\"fMarkerSize\":1,\"fNcells\":302,\"fXaxis\":{\"_typename\":\"TAxis\",\"fUniqueID\":0,\"fBits\":0,\"fName\":\"xaxis\",\"fTitle\":\"M_{#e^{-}e^{+}}[GeV\\/#it{c}^{2}]\",\"fNdivisions\":510,\"fAxisColor\":1,\"fLabelColor\":1,\"fLabelFont\":42,\"fLabelOffset\":0.005,\"fLabelSize\":0.035,\"fTickLength\":0.03,\"fTitleOffset\":1.1,\"fTitleSize\":0.035,\"fTitleColor\":1,\"fTitleFont\":42,\"fNbins\":300,\"fXmin\":70,\"fXmax\":110,\"fXbins\":[],\"fFirst\":0,\"fLast\":0,\"fBits2\":0,\"fTimeDisplay\":false,\"fTimeFormat\":\"\",\"fLabels\":null,\"fModLabs\":null},\"fYaxis\":{\"_typename\":\"TAxis\",\"fUniqueID\":0,\"fBits\":0,\"fName\":\"yaxis\",\"fTitle\":\"Entries\",\"fNdivisions\":510,\"fAxisColor\":1,\"fLabelColor\":1,\"fLabelFont\":42,\"fLabelOffset\":0.005,\"fLabelSize\":0.035,\"fTickLength\":0.03,\"fTitleOffset\":0,\"fTitleSize\":0.035,\"fTitleColor\":1,\"fTitleFont\":42,\"fNbins\":1,\"fXmin\":0,\"fXmax\":1,\"fXbins\":[],\"fFirst\":0,\"fLast\":0,\"fBits2\":0,\"fTimeDisplay\":false,\"fTimeFormat\":\"\",\"fLabels\":null,\"fModLabs\":null},\"fZaxis\":{\"_typename\":\"TAxis\",\"fUniqueID\":0,\"fBits\":0,\"fName\":\"zaxis\",\"fTitle\":\"\",\"fNdivisions\":510,\"fAxisColor\":1,\"fLabelColor\":1,\"fLabelFont\":42,\"fLabelOffset\":0.005,\"fLabelSize\":0.035,\"fTickLength\":0.03,\"fTitleOffset\":1,\"fTitleSize\":0.035,\"fTitleColor\":1,\"fTitleFont\":42,\"fNbins\":1,\"fXmin\":0,\"fXmax\":1,\"fXbins\":[],\"fFirst\":0,\"fLast\":0,\"fBits2\":0,\"fTimeDisplay\":false,\"fTimeFormat\":\"\",\"fLabels\":null,\"fModLabs\":null},\"fBarOffset\":0,\"fBarWidth\":1000,\"fEntries\":10111,\"fTsumw\":35.044776119403,\"fTsumw2\":0.130764089997772,\"fTsumwx\":3125.34913220852,\"fTsumwx2\":279762.387898982,\"fMaximum\":-1111,\"fMinimum\":-1111,\"fNormFactor\":0,\"fContour\":[],\"fSumw2\":[0.0100105814212519,1.25306304299399e-4,1.11383381599465e-4,9.74604588995322e-5,8.3537536199599e-5,5.56916907997327e-5,1.80997995099131e-4,1.11383381599465e-4,9.74604588995322e-5,6.96146134996659e-5,8.3537536199599e-5,8.3537536199599e-5,1.67075072399198e-4,1.11383381599465e-4,5.56916907997327e-5,8.3537536199599e-5,8.3537536199599e-5,1.67075072399198e-4,1.25306304299399e-4,1.25306304299399e-4,1.25306304299399e-4,2.78458453998663e-5,1.11383381599465e-4,8.3537536199599e-5,6.96146134996659e-5,1.11383381599465e-4,8.3537536199599e-5,1.39229226999332e-4,5.56916907997327e-5,1.53152149699265e-4,1.94920917799064e-4,1.53152149699265e-4,1.53152149699265e-4,1.53152149699265e-4,1.39229226999332e-4,1.67075072399198e-4,1.53152149699265e-4,1.94920917799064e-4,2.08843840498998e-4,1.11383381599465e-4,1.67075072399198e-4,5.56916907997327e-5,6.96146134996659e-5,6.96146134996659e-5,2.08843840498998e-4,1.53152149699265e-4,5.56916907997327e-5,1.80997995099131e-4,1.39229226999332e-4,1.80997995099131e-4,1.39229226999332e-4,1.53152149699265e-4,9.74604588995322e-5,2.22766763198931e-4,1.25306304299399e-4,1.67075072399198e-4,1.39229226999332e-4,9.74604588995322e-5,2.22766763198931e-4,2.22766763198931e-4,9.74604588995322e-5,1.67075072399198e-4,1.25306304299399e-4,1.25306304299399e-4,1.80997995099131e-4,2.22766763198931e-4,2.36689685898864e-4,1.80997995099131e-4,1.25306304299399e-4,1.94920917799064e-4,2.78458453998663e-4,2.78458453998663e-4,2.78458453998663e-4,1.80997995099131e-4,1.11383381599465e-4,1.80997995099131e-4,2.36689685898864e-4,2.92381376698597e-4,2.08843840498998e-4,1.67075072399198e-4,2.22766763198931e-4,2.36689685898864e-4,2.08843840498998e-4,2.22766763198931e-4,1.94920917799064e-4,3.48073067498329e-4,2.50612608598797e-4,1.11383381599465e-4,2.08843840498998e-4,2.08843840498998e-4,2.92381376698597e-4,2.36689685898864e-4,2.92381376698597e-4,4.17687680997995e-4,1.25306304299399e-4,2.50612608598797e-4,1.94920917799064e-4,3.20227222098463e-4,2.92381376698597e-4,2.08843840498998e-4,3.48073067498329e-4,2.6453553129873e-4,3.48073067498329e-4,2.92381376698597e-4,3.61995990198262e-4,4.17687680997995e-4,2.50612608598797e-4,3.34150144798396e-4,3.75918912898196e-4,4.87302294497661e-4,2.92381376698597e-4,3.75918912898196e-4,4.59456449097795e-4,5.15148139897527e-4,3.48073067498329e-4,4.45533526397861e-4,5.84762753397193e-4,5.42993985297394e-4,5.15148139897527e-4,4.73379371797728e-4,5.98685676097126e-4,4.59456449097795e-4,4.31610603697928e-4,4.59456449097795e-4,6.68300289596792e-4,5.56916907997327e-4,4.31610603697928e-4,5.98685676097126e-4,6.40454444196926e-4,5.56916907997327e-4,6.12608598797059e-4,8.07529516596124e-4,7.10069057696592e-4,7.79683671196257e-4,6.26531521496993e-4,9.60681666295389e-4,9.04989975495656e-4,7.23991980396525e-4,0.00100245043439519,0.00118344842949432,9.18912898195589e-4,0.00132267765649365,0.00104421920249499,0.00132267765649365,0.00164290487859211,0.00146190688349298,0.00174036533749165,0.00171251949209178,0.00219982178658944,0.00222766763198931,0.00193528625529071,0.00231120516818891,0.0029795054577857,0.00267320115838717,0.00290989084428603,0.00303519714858543,0.00325796391178436,0.00373134328358209,0.00353642236578302,0.00366172867008242,0.00313265760748496,0.00336934729338383,0.00292381376698597,0.00279850746268657,0.00295165961238583,0.00238081978168857,0.00221374470928937,0.00201882379149031,0.00211628425038984,0.00169859656939185,0.00155936734239251,0.00119737135219425,0.00126698596569392,9.60681666295389e-4,8.7714413009579e-4,7.37914903096458e-4,8.91067052795723e-4,7.79683671196257e-4,6.54377366896859e-4,6.82223212296725e-4,5.42993985297394e-4,5.15148139897527e-4,5.98685676097126e-4,4.17687680997995e-4,4.31610603697928e-4,3.48073067498329e-4,4.03764758298062e-4,3.75918912898196e-4,3.20227222098463e-4,3.20227222098463e-4,2.92381376698597e-4,3.0630429939853e-4,4.45533526397861e-4,2.50612608598797e-4,2.6453553129873e-4,2.36689685898864e-4,1.94920917799064e-4,2.08843840498998e-4,1.94920917799064e-4,1.80997995099131e-4,2.08843840498998e-4,1.67075072399198e-4,1.53152149699265e-4,1.53152149699265e-4,2.78458453998663e-4,1.39229226999332e-4,4.17687680997995e-5,1.80997995099131e-4,1.11383381599465e-4,1.25306304299399e-4,1.39229226999332e-4,8.3537536199599e-5,1.39229226999332e-4,5.56916907997327e-5,1.39229226999332e-4,1.11383381599465e-4,1.11383381599465e-4,5.56916907997327e-5,5.56916907997327e-5,8.3537536199599e-5,9.74604588995322e-5,1.11383381599465e-4,8.3537536199599e-5,5.56916907997327e-5,9.74604588995322e-5,6.96146134996659e-5,2.78458453998663e-5,6.96146134996659e-5,6.96146134996659e-5,5.56916907997327e-5,8.3537536199599e-5,2.78458453998663e-5,6.96146134996659e-5,1.39229226999332e-5,0,2.78458453998663e-5,5.56916907997327e-5,2.78458453998663e-5,5.56916907997327e-5,6.96146134996659e-5,5.56916907997327e-5,5.56916907997327e-5,2.78458453998663e-5,4.17687680997995e-5,5.56916907997327e-5,2.78458453998663e-5,0,5.56916907997327e-5,2.78458453998663e-5,2.78458453998663e-5,4.17687680997995e-5,4.17687680997995e-5,2.78458453998663e-5,1.39229226999332e-5,4.17687680997995e-5,1.39229226999332e-5,1.39229226999332e-5,4.17687680997995e-5,0,2.78458453998663e-5,8.3537536199599e-5,5.56916907997327e-5,1.39229226999332e-5,0,1.39229226999332e-5,1.39229226999332e-5,5.56916907997327e-5,0,1.39229226999332e-5,2.78458453998663e-5,0,1.39229226999332e-5,5.56916907997327e-5,4.17687680997995e-5,4.17687680997995e-5,1.39229226999332e-5,1.39229226999332e-5,2.78458453998663e-5,0,1.39229226999332e-5,0,4.17687680997995e-5,1.39229226999332e-5,4.17687680997995e-5,1.39229226999332e-5,1.39229226999332e-5,1.39229226999332e-5,0,1.39229226999332e-5,0,0,0,2.78458453998663e-5,2.78458453998663e-5,2.78458453998663e-5,1.39229226999332e-5,1.39229226999332e-5,1.39229226999332e-5,0,1.39229226999332e-5,0,0],\"fOption\":\"\",\"fFunctions\":{\"_typename\":\"TList\",\"name\":\"TList\",\"arr\":[],\"opt\":[]},\"fBufferSize\":0,\"fBuffer\":[],\"fBinStatErrOpt\":0,\"fStatOverflows\":2,\"fArray\":[2.68283582089552,0.0335820895522388,0.0298507462686567,0.0261194029850746,0.0223880597014925,0.0149253731343284,0.0485074626865672,0.0298507462686567,0.0261194029850746,0.0186567164179104,0.0223880597014925,0.0223880597014925,0.0447761194029851,0.0298507462686567,0.0149253731343284,0.0223880597014925,0.0223880597014925,0.0447761194029851,0.0335820895522388,0.0335820895522388,0.0335820895522388,0.00746268656716418,0.0298507462686567,0.0223880597014925,0.0186567164179104,0.0298507462686567,0.0223880597014925,0.0373134328358209,0.0149253731343284,0.041044776119403,0.0522388059701493,0.041044776119403,0.041044776119403,0.041044776119403,0.0373134328358209,0.0447761194029851,0.041044776119403,0.0522388059701493,0.0559701492537313,0.0298507462686567,0.0447761194029851,0.0149253731343284,0.0186567164179104,0.0186567164179104,0.0559701492537313,0.041044776119403,0.0149253731343284,0.0485074626865672,0.0373134328358209,0.0485074626865672,0.0373134328358209,0.041044776119403,0.0261194029850746,0.0597014925373134,0.0335820895522388,0.0447761194029851,0.0373134328358209,0.0261194029850746,0.0597014925373134,0.0597014925373134,0.0261194029850746,0.0447761194029851,0.0335820895522388,0.0335820895522388,0.0485074626865672,0.0597014925373134,0.0634328358208955,0.0485074626865672,0.0335820895522388,0.0522388059701493,0.0746268656716418,0.0746268656716418,0.0746268656716418,0.0485074626865672,0.0298507462686567,0.0485074626865672,0.0634328358208955,0.0783582089552239,0.0559701492537313,0.0447761194029851,0.0597014925373134,0.0634328358208955,0.0559701492537313,0.0597014925373134,0.0522388059701493,0.0932835820895522,0.0671641791044776,0.0298507462686567,0.0559701492537313,0.0559701492537313,0.0783582089552239,0.0634328358208955,0.0783582089552239,0.111940298507463,0.0335820895522388,0.0671641791044776,0.0522388059701493,0.0858208955223881,0.0783582089552239,0.0559701492537313,0.0932835820895522,0.0708955223880597,0.0932835820895522,0.0783582089552239,0.0970149253731343,0.111940298507463,0.0671641791044776,0.0895522388059701,0.100746268656716,0.130597014925373,0.0783582089552239,0.100746268656716,0.123134328358209,0.138059701492537,0.0932835820895522,0.119402985074627,0.156716417910448,0.145522388059701,0.138059701492537,0.126865671641791,0.16044776119403,0.123134328358209,0.115671641791045,0.123134328358209,0.17910447761194,0.149253731343284,0.115671641791045,0.16044776119403,0.171641791044776,0.149253731343284,0.164179104477612,0.216417910447761,0.190298507462687,0.208955223880597,0.167910447761194,0.257462686567164,0.242537313432836,0.194029850746269,0.26865671641791,0.317164179104478,0.246268656716418,0.354477611940298,0.279850746268657,0.354477611940298,0.440298507462687,0.391791044776119,0.466417910447761,0.458955223880597,0.58955223880597,0.597014925373134,0.51865671641791,0.619402985074627,0.798507462686567,0.716417910447761,0.779850746268657,0.813432835820896,0.873134328358209,1,0.947761194029851,0.98134328358209,0.83955223880597,0.902985074626866,0.783582089552239,0.75,0.791044776119403,0.638059701492537,0.593283582089552,0.541044776119403,0.567164179104478,0.455223880597015,0.417910447761194,0.32089552238806,0.33955223880597,0.257462686567164,0.235074626865672,0.197761194029851,0.238805970149254,0.208955223880597,0.175373134328358,0.182835820895522,0.145522388059701,0.138059701492537,0.16044776119403,0.111940298507463,0.115671641791045,0.0932835820895522,0.108208955223881,0.100746268656716,0.0858208955223881,0.0858208955223881,0.0783582089552239,0.082089552238806,0.119402985074627,0.0671641791044776,0.0708955223880597,0.0634328358208955,0.0522388059701493,0.0559701492537313,0.0522388059701493,0.0485074626865672,0.0559701492537313,0.0447761194029851,0.041044776119403,0.041044776119403,0.0746268656716418,0.0373134328358209,0.0111940298507463,0.0485074626865672,0.0298507462686567,0.0335820895522388,0.0373134328358209,0.0223880597014925,0.0373134328358209,0.0149253731343284,0.0373134328358209,0.0298507462686567,0.0298507462686567,0.0149253731343284,0.0149253731343284,0.0223880597014925,0.0261194029850746,0.0298507462686567,0.0223880597014925,0.0149253731343284,0.0261194029850746,0.0186567164179104,0.00746268656716418,0.0186567164179104,0.0186567164179104,0.0149253731343284,0.0223880597014925,0.00746268656716418,0.0186567164179104,0.00373134328358209,0,0.00746268656716418,0.0149253731343284,0.00746268656716418,0.0149253731343284,0.0186567164179104,0.0149253731343284,0.0149253731343284,0.00746268656716418,0.0111940298507463,0.0149253731343284,0.00746268656716418,0,0.0149253731343284,0.00746268656716418,0.00746268656716418,0.0111940298507463,0.0111940298507463,0.00746268656716418,0.00373134328358209,0.0111940298507463,0.00373134328358209,0.00373134328358209,0.0111940298507463,0,0.00746268656716418,0.0223880597014925,0.0149253731343284,0.00373134328358209,0,0.00373134328358209,0.00373134328358209,0.0149253731343284,0,0.00373134328358209,0.00746268656716418,0,0.00373134328358209,0.0149253731343284,0.0111940298507463,0.0111940298507463,0.00373134328358209,0.00373134328358209,0.00746268656716418,0,0.00373134328358209,0,0.0111940298507463,0.00373134328358209,0.0111940298507463,0.00373134328358209,0.00373134328358209,0.00373134328358209,0,0.00373134328358209,0,0,0,0.00746268656716418,0.00746268656716418,0.00746268656716418,0.00373134328358209,0.00373134328358209,0.00373134328358209,0,0.00373134328358209,0,0]},{\"_typename\":\"TH1D\",\"fUniqueID\":0,\"fBits\":521,\"fName\":\"hfsr_copy\",\"fTitle\":\"\",\"fLineColor\":416,\"fLineStyle\":1,\"fLineWidth\":2,\"fFillColor\":0,\"fFillStyle\":1001,\"fMarkerColor\":1,\"fMarkerStyle\":1,\"fMarkerSize\":1,\"fNcells\":302,\"fXaxis\":{\"_typename\":\"TAxis\",\"fUniqueID\":0,\"fBits\":0,\"fName\":\"xaxis\",\"fTitle\":\"M_{#e^{-}e^{+}}[GeV\\/#it{c}^{2}]\",\"fNdivisions\":510,\"fAxisColor\":1,\"fLabelColor\":1,\"fLabelFont\":42,\"fLabelOffset\":0.005,\"fLabelSize\":0.035,\"fTickLength\":0.03,\"fTitleOffset\":1.1,\"fTitleSize\":0.035,\"fTitleColor\":1,\"fTitleFont\":42,\"fNbins\":300,\"fXmin\":70,\"fXmax\":110,\"fXbins\":[],\"fFirst\":0,\"fLast\":0,\"fBits2\":0,\"fTimeDisplay\":false,\"fTimeFormat\":\"\",\"fLabels\":null,\"fModLabs\":null},\"fYaxis\":{\"_typename\":\"TAxis\",\"fUniqueID\":0,\"fBits\":0,\"fName\":\"yaxis\",\"fTitle\":\"Entries\",\"fNdivisions\":510,\"fAxisColor\":1,\"fLabelColor\":1,\"fLabelFont\":42,\"fLabelOffset\":0.005,\"fLabelSize\":0.035,\"fTickLength\":0.03,\"fTitleOffset\":0,\"fTitleSize\":0.035,\"fTitleColor\":1,\"fTitleFont\":42,\"fNbins\":1,\"fXmin\":0,\"fXmax\":1,\"fXbins\":[],\"fFirst\":0,\"fLast\":0,\"fBits2\":0,\"fTimeDisplay\":false,\"fTimeFormat\":\"\",\"fLabels\":null,\"fModLabs\":null},\"fZaxis\":{\"_typename\":\"TAxis\",\"fUniqueID\":0,\"fBits\":0,\"fName\":\"zaxis\",\"fTitle\":\"\",\"fNdivisions\":510,\"fAxisColor\":1,\"fLabelColor\":1,\"fLabelFont\":42,\"fLabelOffset\":0.005,\"fLabelSize\":0.035,\"fTickLength\":0.03,\"fTitleOffset\":1,\"fTitleSize\":0.035,\"fTitleColor\":1,\"fTitleFont\":42,\"fNbins\":1,\"fXmin\":0,\"fXmax\":1,\"fXbins\":[],\"fFirst\":0,\"fLast\":0,\"fBits2\":0,\"fTimeDisplay\":false,\"fTimeFormat\":\"\",\"fLabels\":null,\"fModLabs\":null},\"fBarOffset\":0,\"fBarWidth\":1000,\"fEntries\":10003,\"fTsumw\":26.246719160105,\"fTsumw2\":0.0688890266669422,\"fTsumwx\":2380.55965476576,\"fTsumwx2\":216421.287635444,\"fMaximum\":-1111,\"fMinimum\":-1111,\"fNormFactor\":0,\"fContour\":[],\"fSumw2\":[2.06667080000827e-5,2.06667080000827e-5,4.13334160001653e-5,6.88890266669422e-6,2.06667080000827e-5,4.82223186668596e-5,2.06667080000827e-5,3.44445133334711e-5,3.44445133334711e-5,3.44445133334711e-5,2.75556106667769e-5,2.75556106667769e-5,2.75556106667769e-5,4.13334160001653e-5,1.37778053333884e-5,2.75556106667769e-5,2.75556106667769e-5,4.13334160001653e-5,3.44445133334711e-5,5.51112213335538e-5,2.06667080000827e-5,3.44445133334711e-5,4.13334160001653e-5,4.13334160001653e-5,2.75556106667769e-5,2.06667080000827e-5,2.75556106667769e-5,1.37778053333884e-5,2.75556106667769e-5,1.37778053333884e-5,1.37778053333884e-5,4.82223186668596e-5,4.13334160001653e-5,2.75556106667769e-5,4.13334160001653e-5,2.06667080000827e-5,2.75556106667769e-5,4.13334160001653e-5,2.75556106667769e-5,2.75556106667769e-5,1.37778053333884e-5,4.13334160001653e-5,2.75556106667769e-5,3.44445133334711e-5,2.06667080000827e-5,2.06667080000827e-5,2.06667080000827e-5,2.06667080000827e-5,2.06667080000827e-5,4.13334160001653e-5,1.37778053333884e-5,1.37778053333884e-5,4.13334160001653e-5,1.37778053333884e-5,2.75556106667769e-5,2.06667080000827e-5,6.2000124000248e-5,4.13334160001653e-5,2.75556106667769e-5,2.75556106667769e-5,2.06667080000827e-5,2.75556106667769e-5,4.13334160001653e-5,3.44445133334711e-5,3.44445133334711e-5,3.44445133334711e-5,2.75556106667769e-5,2.75556106667769e-5,3.44445133334711e-5,4.13334160001653e-5,2.75556106667769e-5,3.44445133334711e-5,6.2000124000248e-5,3.44445133334711e-5,3.44445133334711e-5,4.82223186668596e-5,2.75556106667769e-5,6.2000124000248e-5,4.82223186668596e-5,4.82223186668596e-5,5.51112213335538e-5,5.51112213335538e-5,6.2000124000248e-5,5.51112213335538e-5,6.2000124000248e-5,8.26668320003307e-5,4.13334160001653e-5,9.64446373337191e-5,3.44445133334711e-5,4.82223186668596e-5,2.75556106667769e-5,8.26668320003307e-5,3.44445133334711e-5,5.51112213335538e-5,3.44445133334711e-5,6.2000124000248e-5,9.64446373337191e-5,8.95557346670249e-5,1.17111345333802e-4,7.57779293336364e-5,6.2000124000248e-5,7.57779293336364e-5,9.64446373337191e-5,2.75556106667769e-5,4.13334160001653e-5,1.24000248000496e-4,6.88890266669422e-5,1.03333540000413e-4,1.03333540000413e-4,4.13334160001653e-5,5.51112213335538e-5,8.95557346670249e-5,8.26668320003307e-5,8.95557346670249e-5,9.64446373337191e-5,1.44666956000579e-4,5.51112213335538e-5,8.95557346670249e-5,1.03333540000413e-4,1.58444761333967e-4,1.58444761333967e-4,1.7911146933405e-4,1.37778053333884e-4,1.24000248000496e-4,1.24000248000496e-4,2.20444885334215e-4,1.37778053333884e-4,2.06667080000827e-4,2.27333788000909e-4,2.82445009334463e-4,2.34222690667604e-4,2.06667080000827e-4,2.13555982667521e-4,2.68667204001075e-4,3.85778549334876e-4,2.41111593334298e-4,2.96222814667852e-4,3.582229386681e-4,4.20223062668348e-4,4.54667576001819e-4,4.61556478668513e-4,5.58001116002232e-4,4.20223062668348e-4,5.51112213335538e-4,5.44223310668844e-4,8.61112833336778e-4,8.19779417336612e-4,7.92223806669836e-4,9.92001984003968e-4,0.00115044674533794,0.00132955821467198,0.0013157804093386,0.0015500031000062,0.00170155895867347,0.0017842257906738,0.0021493376320086,0.00217000434000868,0.00223200446400893,0.0026246719160105,0.00236978251734281,0.00232156019867595,0.00228711568534248,0.0020253373840081,0.00199089287067463,0.00185311481734075,0.00177044798534042,0.00157066980800628,0.00146733626800587,0.0013088915066719,0.00126066918800504,0.00105400210800422,9.50668568003803e-4,8.8177954133686e-4,6.47556850669257e-4,6.88890266669422e-4,5.30445505335455e-4,5.44223310668844e-4,4.34000868001736e-4,5.09778797335372e-4,3.99556354668265e-4,4.27111965335042e-4,3.03111717334546e-4,3.37556230668017e-4,3.03111717334546e-4,2.96222814667852e-4,2.41111593334298e-4,2.41111593334298e-4,2.82445009334463e-4,2.82445009334463e-4,2.27333788000909e-4,2.13555982667521e-4,1.24000248000496e-4,1.65333664000661e-4,1.10222442667108e-4,2.20444885334215e-4,2.06667080000827e-4,1.44666956000579e-4,1.37778053333884e-4,1.10222442667108e-4,1.17111345333802e-4,9.64446373337191e-5,1.24000248000496e-4,1.17111345333802e-4,9.64446373337191e-5,1.03333540000413e-4,5.51112213335538e-5,1.37778053333884e-4,6.2000124000248e-5,6.88890266669422e-5,5.51112213335538e-5,6.2000124000248e-5,5.51112213335538e-5,8.95557346670249e-5,7.57779293336364e-5,6.2000124000248e-5,7.57779293336364e-5,3.44445133334711e-5,4.13334160001653e-5,5.51112213335538e-5,2.75556106667769e-5,3.44445133334711e-5,4.13334160001653e-5,3.44445133334711e-5,3.44445133334711e-5,1.37778053333884e-5,3.44445133334711e-5,5.51112213335538e-5,4.13334160001653e-5,2.75556106667769e-5,5.51112213335538e-5,2.75556106667769e-5,4.82223186668596e-5,6.88890266669422e-5,2.06667080000827e-5,4.13334160001653e-5,2.75556106667769e-5,3.44445133334711e-5,1.37778053333884e-5,2.75556106667769e-5,4.13334160001653e-5,1.37778053333884e-5,2.06667080000827e-5,1.37778053333884e-5,1.37778053333884e-5,3.44445133334711e-5,1.37778053333884e-5,2.06667080000827e-5,2.75556106667769e-5,2.75556106667769e-5,2.06667080000827e-5,2.06667080000827e-5,2.75556106667769e-5,1.37778053333884e-5,2.75556106667769e-5,2.06667080000827e-5,2.75556106667769e-5,2.75556106667769e-5,3.44445133334711e-5,3.44445133334711e-5,2.06667080000827e-5,2.06667080000827e-5,1.37778053333884e-5,1.37778053333884e-5,6.88890266669422e-6,0,0,2.75556106667769e-5,1.37778053333884e-5,2.06667080000827e-5,2.06667080000827e-5,1.37778053333884e-5,6.88890266669422e-6,2.06667080000827e-5,2.06667080000827e-5,2.75556106667769e-5,1.37778053333884e-5,6.88890266669422e-6,6.88890266669422e-6,1.37778053333884e-5,1.37778053333884e-5,2.06667080000827e-5,0,0,0,6.88890266669422e-6,2.75556106667769e-5,2.75556106667769e-5,6.88890266669422e-6,1.37778053333884e-5,0,6.88890266669422e-6,6.88890266669422e-6,2.75556106667769e-5,1.37778053333884e-5,1.37778053333884e-5,6.88890266669422e-6,6.88890266669422e-6,0,1.37778053333884e-5,6.88890266669422e-6,2.75556106667769e-5,0],\"fOption\":\"\",\"fFunctions\":{\"_typename\":\"TList\",\"name\":\"TList\",\"arr\":[],\"opt\":[]},\"fBufferSize\":0,\"fBuffer\":[],\"fBinStatErrOpt\":0,\"fStatOverflows\":2,\"fArray\":[0.0078740157480315,0.0078740157480315,0.015748031496063,0.0026246719160105,0.0078740157480315,0.0183727034120735,0.0078740157480315,0.0131233595800525,0.0131233595800525,0.0131233595800525,0.010498687664042,0.010498687664042,0.010498687664042,0.015748031496063,0.005249343832021,0.010498687664042,0.010498687664042,0.015748031496063,0.0131233595800525,0.020997375328084,0.0078740157480315,0.0131233595800525,0.015748031496063,0.015748031496063,0.010498687664042,0.0078740157480315,0.010498687664042,0.005249343832021,0.010498687664042,0.005249343832021,0.005249343832021,0.0183727034120735,0.015748031496063,0.010498687664042,0.015748031496063,0.0078740157480315,0.010498687664042,0.015748031496063,0.010498687664042,0.010498687664042,0.005249343832021,0.015748031496063,0.010498687664042,0.0131233595800525,0.0078740157480315,0.0078740157480315,0.0078740157480315,0.0078740157480315,0.0078740157480315,0.015748031496063,0.005249343832021,0.005249343832021,0.015748031496063,0.005249343832021,0.010498687664042,0.0078740157480315,0.0236220472440945,0.015748031496063,0.010498687664042,0.010498687664042,0.0078740157480315,0.010498687664042,0.015748031496063,0.0131233595800525,0.0131233595800525,0.0131233595800525,0.010498687664042,0.010498687664042,0.0131233595800525,0.015748031496063,0.010498687664042,0.0131233595800525,0.0236220472440945,0.0131233595800525,0.0131233595800525,0.0183727034120735,0.010498687664042,0.0236220472440945,0.0183727034120735,0.0183727034120735,0.020997375328084,0.020997375328084,0.0236220472440945,0.020997375328084,0.0236220472440945,0.031496062992126,0.015748031496063,0.036745406824147,0.0131233595800525,0.0183727034120735,0.010498687664042,0.031496062992126,0.0131233595800525,0.020997375328084,0.0131233595800525,0.0236220472440945,0.036745406824147,0.0341207349081365,0.0446194225721785,0.0288713910761155,0.0236220472440945,0.0288713910761155,0.036745406824147,0.010498687664042,0.015748031496063,0.047244094488189,0.026246719160105,0.0393700787401575,0.0393700787401575,0.015748031496063,0.020997375328084,0.0341207349081365,0.031496062992126,0.0341207349081365,0.036745406824147,0.0551181102362205,0.020997375328084,0.0341207349081365,0.0393700787401575,0.0603674540682415,0.0603674540682415,0.068241469816273,0.05249343832021,0.047244094488189,0.047244094488189,0.083989501312336,0.05249343832021,0.078740157480315,0.0866141732283465,0.10761154855643,0.089238845144357,0.078740157480315,0.0813648293963255,0.102362204724409,0.146981627296588,0.0918635170603675,0.112860892388451,0.136482939632546,0.16010498687664,0.173228346456693,0.175853018372703,0.21259842519685,0.16010498687664,0.20997375328084,0.207349081364829,0.328083989501312,0.312335958005249,0.301837270341207,0.377952755905512,0.438320209973753,0.506561679790026,0.501312335958005,0.590551181102362,0.648293963254593,0.679790026246719,0.818897637795276,0.826771653543307,0.850393700787402,1,0.902887139107612,0.884514435695538,0.871391076115485,0.771653543307087,0.758530183727034,0.706036745406824,0.674540682414698,0.598425196850394,0.559055118110236,0.498687664041995,0.480314960629921,0.401574803149606,0.362204724409449,0.335958005249344,0.246719160104987,0.26246719160105,0.202099737532808,0.207349081364829,0.165354330708661,0.194225721784777,0.152230971128609,0.162729658792651,0.115485564304462,0.128608923884514,0.115485564304462,0.112860892388451,0.0918635170603675,0.0918635170603675,0.10761154855643,0.10761154855643,0.0866141732283465,0.0813648293963255,0.047244094488189,0.062992125984252,0.041994750656168,0.083989501312336,0.078740157480315,0.0551181102362205,0.05249343832021,0.041994750656168,0.0446194225721785,0.036745406824147,0.047244094488189,0.0446194225721785,0.036745406824147,0.0393700787401575,0.020997375328084,0.05249343832021,0.0236220472440945,0.026246719160105,0.020997375328084,0.0236220472440945,0.020997375328084,0.0341207349081365,0.0288713910761155,0.0236220472440945,0.0288713910761155,0.0131233595800525,0.015748031496063,0.020997375328084,0.010498687664042,0.0131233595800525,0.015748031496063,0.0131233595800525,0.0131233595800525,0.005249343832021,0.0131233595800525,0.020997375328084,0.015748031496063,0.010498687664042,0.020997375328084,0.010498687664042,0.0183727034120735,0.026246719160105,0.0078740157480315,0.015748031496063,0.010498687664042,0.0131233595800525,0.005249343832021,0.010498687664042,0.015748031496063,0.005249343832021,0.0078740157480315,0.005249343832021,0.005249343832021,0.0131233595800525,0.005249343832021,0.0078740157480315,0.010498687664042,0.010498687664042,0.0078740157480315,0.0078740157480315,0.010498687664042,0.005249343832021,0.010498687664042,0.0078740157480315,0.010498687664042,0.010498687664042,0.0131233595800525,0.0131233595800525,0.0078740157480315,0.0078740157480315,0.005249343832021,0.005249343832021,0.0026246719160105,0,0,0.010498687664042,0.005249343832021,0.0078740157480315,0.0078740157480315,0.005249343832021,0.0026246719160105,0.0078740157480315,0.0078740157480315,0.010498687664042,0.005249343832021,0.0026246719160105,0.0026246719160105,0.005249343832021,0.005249343832021,0.0078740157480315,0,0,0,0.0026246719160105,0.010498687664042,0.010498687664042,0.0026246719160105,0.005249343832021,0,0.0026246719160105,0.0026246719160105,0.010498687664042,0.005249343832021,0.005249343832021,0.0026246719160105,0.0026246719160105,0,0.005249343832021,0.0026246719160105,0.010498687664042,0]},{\"_typename\":\"TLegend\",\"fUniqueID\":0,\"fBits\":8,\"fLineColor\":1,\"fLineStyle\":1,\"fLineWidth\":1,\"fFillColor\":0,\"fFillStyle\":1001,\"fX1\":95.0000000745058,\"fY1\":0.974871594726915,\"fX2\":110.000000298023,\"fY2\":1.11413896658804,\"fX1NDC\":0.6,\"fY1NDC\":0.8,\"fX2NDC\":0.9,\"fY2NDC\":0.9,\"fBorderSize\":1,\"fInit\":1,\"fShadowColor\":1,\"fCornerRadius\":0,\"fOption\":\"brNDC\",\"fName\":\"TPave\",\"fTextAngle\":0,\"fTextSize\":0,\"fTextAlign\":12,\"fTextColor\":1,\"fTextFont\":42,\"fPrimitives\":{\"_typename\":\"TList\",\"name\":\"TList\",\"arr\":[{\"_typename\":\"TLegendEntry\",\"fUniqueID\":0,\"fBits\":0,\"fTextAngle\":0,\"fTextSize\":0,\"fTextAlign\":0,\"fTextColor\":0,\"fTextFont\":42,\"fLineColor\":600,\"fLineStyle\":1,\"fLineWidth\":2,\"fFillColor\":0,\"fFillStyle\":1001,\"fMarkerColor\":1,\"fMarkerStyle\":1,\"fMarkerSize\":1,\"fObject\":{\"_typename\":\"TH1D\",\"fUniqueID\":0,\"fBits\":520,\"fName\":\"h\",\"fTitle\":\"\",\"fLineColor\":600,\"fLineStyle\":1,\"fLineWidth\":2,\"fFillColor\":0,\"fFillStyle\":1001,\"fMarkerColor\":1,\"fMarkerStyle\":1,\"fMarkerSize\":1,\"fNcells\":302,\"fXaxis\":{\"_typename\":\"TAxis\",\"fUniqueID\":0,\"fBits\":0,\"fName\":\"xaxis\",\"fTitle\":\"M_{#e^{-}e^{+}}[GeV\\/#it{c}^{2}]\",\"fNdivisions\":510,\"fAxisColor\":1,\"fLabelColor\":1,\"fLabelFont\":42,\"fLabelOffset\":0.005,\"fLabelSize\":0.035,\"fTickLength\":0.03,\"fTitleOffset\":1.1,\"fTitleSize\":0.035,\"fTitleColor\":1,\"fTitleFont\":42,\"fNbins\":300,\"fXmin\":70,\"fXmax\":110,\"fXbins\":[],\"fFirst\":0,\"fLast\":0,\"fBits2\":0,\"fTimeDisplay\":false,\"fTimeFormat\":\"\",\"fLabels\":null,\"fModLabs\":null},\"fYaxis\":{\"_typename\":\"TAxis\",\"fUniqueID\":0,\"fBits\":0,\"fName\":\"yaxis\",\"fTitle\":\"Entries\",\"fNdivisions\":510,\"fAxisColor\":1,\"fLabelColor\":1,\"fLabelFont\":42,\"fLabelOffset\":0.005,\"fLabelSize\":0.035,\"fTickLength\":0.03,\"fTitleOffset\":0,\"fTitleSize\":0.035,\"fTitleColor\":1,\"fTitleFont\":42,\"fNbins\":1,\"fXmin\":0,\"fXmax\":1,\"fXbins\":[],\"fFirst\":0,\"fLast\":0,\"fBits2\":0,\"fTimeDisplay\":false,\"fTimeFormat\":\"\",\"fLabels\":null,\"fModLabs\":null},\"fZaxis\":{\"_typename\":\"TAxis\",\"fUniqueID\":0,\"fBits\":0,\"fName\":\"zaxis\",\"fTitle\":\"\",\"fNdivisions\":510,\"fAxisColor\":1,\"fLabelColor\":1,\"fLabelFont\":42,\"fLabelOffset\":0.005,\"fLabelSize\":0.035,\"fTickLength\":0.03,\"fTitleOffset\":1,\"fTitleSize\":0.035,\"fTitleColor\":1,\"fTitleFont\":42,\"fNbins\":1,\"fXmin\":0,\"fXmax\":1,\"fXbins\":[],\"fFirst\":0,\"fLast\":0,\"fBits2\":0,\"fTimeDisplay\":false,\"fTimeFormat\":\"\",\"fLabels\":null,\"fModLabs\":null},\"fBarOffset\":0,\"fBarWidth\":1000,\"fEntries\":10111,\"fTsumw\":35.044776119403,\"fTsumw2\":0.130764089997772,\"fTsumwx\":3125.34913220852,\"fTsumwx2\":279762.387898982,\"fMaximum\":-1111,\"fMinimum\":-1111,\"fNormFactor\":0,\"fContour\":[],\"fSumw2\":[0.0100105814212519,1.25306304299399e-4,1.11383381599465e-4,9.74604588995322e-5,8.3537536199599e-5,5.56916907997327e-5,1.80997995099131e-4,1.11383381599465e-4,9.74604588995322e-5,6.96146134996659e-5,8.3537536199599e-5,8.3537536199599e-5,1.67075072399198e-4,1.11383381599465e-4,5.56916907997327e-5,8.3537536199599e-5,8.3537536199599e-5,1.67075072399198e-4,1.25306304299399e-4,1.25306304299399e-4,1.25306304299399e-4,2.78458453998663e-5,1.11383381599465e-4,8.3537536199599e-5,6.96146134996659e-5,1.11383381599465e-4,8.3537536199599e-5,1.39229226999332e-4,5.56916907997327e-5,1.53152149699265e-4,1.94920917799064e-4,1.53152149699265e-4,1.53152149699265e-4,1.53152149699265e-4,1.39229226999332e-4,1.67075072399198e-4,1.53152149699265e-4,1.94920917799064e-4,2.08843840498998e-4,1.11383381599465e-4,1.67075072399198e-4,5.56916907997327e-5,6.96146134996659e-5,6.96146134996659e-5,2.08843840498998e-4,1.53152149699265e-4,5.56916907997327e-5,1.80997995099131e-4,1.39229226999332e-4,1.80997995099131e-4,1.39229226999332e-4,1.53152149699265e-4,9.74604588995322e-5,2.22766763198931e-4,1.25306304299399e-4,1.67075072399198e-4,1.39229226999332e-4,9.74604588995322e-5,2.22766763198931e-4,2.22766763198931e-4,9.74604588995322e-5,1.67075072399198e-4,1.25306304299399e-4,1.25306304299399e-4,1.80997995099131e-4,2.22766763198931e-4,2.36689685898864e-4,1.80997995099131e-4,1.25306304299399e-4,1.94920917799064e-4,2.78458453998663e-4,2.78458453998663e-4,2.78458453998663e-4,1.80997995099131e-4,1.11383381599465e-4,1.80997995099131e-4,2.36689685898864e-4,2.92381376698597e-4,2.08843840498998e-4,1.67075072399198e-4,2.22766763198931e-4,2.36689685898864e-4,2.08843840498998e-4,2.22766763198931e-4,1.94920917799064e-4,3.48073067498329e-4,2.50612608598797e-4,1.11383381599465e-4,2.08843840498998e-4,2.08843840498998e-4,2.92381376698597e-4,2.36689685898864e-4,2.92381376698597e-4,4.17687680997995e-4,1.25306304299399e-4,2.50612608598797e-4,1.94920917799064e-4,3.20227222098463e-4,2.92381376698597e-4,2.08843840498998e-4,3.48073067498329e-4,2.6453553129873e-4,3.48073067498329e-4,2.92381376698597e-4,3.61995990198262e-4,4.17687680997995e-4,2.50612608598797e-4,3.34150144798396e-4,3.75918912898196e-4,4.87302294497661e-4,2.92381376698597e-4,3.75918912898196e-4,4.59456449097795e-4,5.15148139897527e-4,3.48073067498329e-4,4.45533526397861e-4,5.84762753397193e-4,5.42993985297394e-4,5.15148139897527e-4,4.73379371797728e-4,5.98685676097126e-4,4.59456449097795e-4,4.31610603697928e-4,4.59456449097795e-4,6.68300289596792e-4,5.56916907997327e-4,4.31610603697928e-4,5.98685676097126e-4,6.40454444196926e-4,5.56916907997327e-4,6.12608598797059e-4,8.07529516596124e-4,7.10069057696592e-4,7.79683671196257e-4,6.26531521496993e-4,9.60681666295389e-4,9.04989975495656e-4,7.23991980396525e-4,0.00100245043439519,0.00118344842949432,9.18912898195589e-4,0.00132267765649365,0.00104421920249499,0.00132267765649365,0.00164290487859211,0.00146190688349298,0.00174036533749165,0.00171251949209178,0.00219982178658944,0.00222766763198931,0.00193528625529071,0.00231120516818891,0.0029795054577857,0.00267320115838717,0.00290989084428603,0.00303519714858543,0.00325796391178436,0.00373134328358209,0.00353642236578302,0.00366172867008242,0.00313265760748496,0.00336934729338383,0.00292381376698597,0.00279850746268657,0.00295165961238583,0.00238081978168857,0.00221374470928937,0.00201882379149031,0.00211628425038984,0.00169859656939185,0.00155936734239251,0.00119737135219425,0.00126698596569392,9.60681666295389e-4,8.7714413009579e-4,7.37914903096458e-4,8.91067052795723e-4,7.79683671196257e-4,6.54377366896859e-4,6.82223212296725e-4,5.42993985297394e-4,5.15148139897527e-4,5.98685676097126e-4,4.17687680997995e-4,4.31610603697928e-4,3.48073067498329e-4,4.03764758298062e-4,3.75918912898196e-4,3.20227222098463e-4,3.20227222098463e-4,2.92381376698597e-4,3.0630429939853e-4,4.45533526397861e-4,2.50612608598797e-4,2.6453553129873e-4,2.36689685898864e-4,1.94920917799064e-4,2.08843840498998e-4,1.94920917799064e-4,1.80997995099131e-4,2.08843840498998e-4,1.67075072399198e-4,1.53152149699265e-4,1.53152149699265e-4,2.78458453998663e-4,1.39229226999332e-4,4.17687680997995e-5,1.80997995099131e-4,1.11383381599465e-4,1.25306304299399e-4,1.39229226999332e-4,8.3537536199599e-5,1.39229226999332e-4,5.56916907997327e-5,1.39229226999332e-4,1.11383381599465e-4,1.11383381599465e-4,5.56916907997327e-5,5.56916907997327e-5,8.3537536199599e-5,9.74604588995322e-5,1.11383381599465e-4,8.3537536199599e-5,5.56916907997327e-5,9.74604588995322e-5,6.96146134996659e-5,2.78458453998663e-5,6.96146134996659e-5,6.96146134996659e-5,5.56916907997327e-5,8.3537536199599e-5,2.78458453998663e-5,6.96146134996659e-5,1.39229226999332e-5,0,2.78458453998663e-5,5.56916907997327e-5,2.78458453998663e-5,5.56916907997327e-5,6.96146134996659e-5,5.56916907997327e-5,5.56916907997327e-5,2.78458453998663e-5,4.17687680997995e-5,5.56916907997327e-5,2.78458453998663e-5,0,5.56916907997327e-5,2.78458453998663e-5,2.78458453998663e-5,4.17687680997995e-5,4.17687680997995e-5,2.78458453998663e-5,1.39229226999332e-5,4.17687680997995e-5,1.39229226999332e-5,1.39229226999332e-5,4.17687680997995e-5,0,2.78458453998663e-5,8.3537536199599e-5,5.56916907997327e-5,1.39229226999332e-5,0,1.39229226999332e-5,1.39229226999332e-5,5.56916907997327e-5,0,1.39229226999332e-5,2.78458453998663e-5,0,1.39229226999332e-5,5.56916907997327e-5,4.17687680997995e-5,4.17687680997995e-5,1.39229226999332e-5,1.39229226999332e-5,2.78458453998663e-5,0,1.39229226999332e-5,0,4.17687680997995e-5,1.39229226999332e-5,4.17687680997995e-5,1.39229226999332e-5,1.39229226999332e-5,1.39229226999332e-5,0,1.39229226999332e-5,0,0,0,2.78458453998663e-5,2.78458453998663e-5,2.78458453998663e-5,1.39229226999332e-5,1.39229226999332e-5,1.39229226999332e-5,0,1.39229226999332e-5,0,0],\"fOption\":\"\",\"fFunctions\":{\"_typename\":\"TList\",\"name\":\"TList\",\"arr\":[],\"opt\":[]},\"fBufferSize\":0,\"fBuffer\":[],\"fBinStatErrOpt\":0,\"fStatOverflows\":2,\"fArray\":[2.68283582089552,0.0335820895522388,0.0298507462686567,0.0261194029850746,0.0223880597014925,0.0149253731343284,0.0485074626865672,0.0298507462686567,0.0261194029850746,0.0186567164179104,0.0223880597014925,0.0223880597014925,0.0447761194029851,0.0298507462686567,0.0149253731343284,0.0223880597014925,0.0223880597014925,0.0447761194029851,0.0335820895522388,0.0335820895522388,0.0335820895522388,0.00746268656716418,0.0298507462686567,0.0223880597014925,0.0186567164179104,0.0298507462686567,0.0223880597014925,0.0373134328358209,0.0149253731343284,0.041044776119403,0.0522388059701493,0.041044776119403,0.041044776119403,0.041044776119403,0.0373134328358209,0.0447761194029851,0.041044776119403,0.0522388059701493,0.0559701492537313,0.0298507462686567,0.0447761194029851,0.0149253731343284,0.0186567164179104,0.0186567164179104,0.0559701492537313,0.041044776119403,0.0149253731343284,0.0485074626865672,0.0373134328358209,0.0485074626865672,0.0373134328358209,0.041044776119403,0.0261194029850746,0.0597014925373134,0.0335820895522388,0.0447761194029851,0.0373134328358209,0.0261194029850746,0.0597014925373134,0.0597014925373134,0.0261194029850746,0.0447761194029851,0.0335820895522388,0.0335820895522388,0.0485074626865672,0.0597014925373134,0.0634328358208955,0.0485074626865672,0.0335820895522388,0.0522388059701493,0.0746268656716418,0.0746268656716418,0.0746268656716418,0.0485074626865672,0.0298507462686567,0.0485074626865672,0.0634328358208955,0.0783582089552239,0.0559701492537313,0.0447761194029851,0.0597014925373134,0.0634328358208955,0.0559701492537313,0.0597014925373134,0.0522388059701493,0.0932835820895522,0.0671641791044776,0.0298507462686567,0.0559701492537313,0.0559701492537313,0.0783582089552239,0.0634328358208955,0.0783582089552239,0.111940298507463,0.0335820895522388,0.0671641791044776,0.0522388059701493,0.0858208955223881,0.0783582089552239,0.0559701492537313,0.0932835820895522,0.0708955223880597,0.0932835820895522,0.0783582089552239,0.0970149253731343,0.111940298507463,0.0671641791044776,0.0895522388059701,0.100746268656716,0.130597014925373,0.0783582089552239,0.100746268656716,0.123134328358209,0.138059701492537,0.0932835820895522,0.119402985074627,0.156716417910448,0.145522388059701,0.138059701492537,0.126865671641791,0.16044776119403,0.123134328358209,0.115671641791045,0.123134328358209,0.17910447761194,0.149253731343284,0.115671641791045,0.16044776119403,0.171641791044776,0.149253731343284,0.164179104477612,0.216417910447761,0.190298507462687,0.208955223880597,0.167910447761194,0.257462686567164,0.242537313432836,0.194029850746269,0.26865671641791,0.317164179104478,0.246268656716418,0.354477611940298,0.279850746268657,0.354477611940298,0.440298507462687,0.391791044776119,0.466417910447761,0.458955223880597,0.58955223880597,0.597014925373134,0.51865671641791,0.619402985074627,0.798507462686567,0.716417910447761,0.779850746268657,0.813432835820896,0.873134328358209,1,0.947761194029851,0.98134328358209,0.83955223880597,0.902985074626866,0.783582089552239,0.75,0.791044776119403,0.638059701492537,0.593283582089552,0.541044776119403,0.567164179104478,0.455223880597015,0.417910447761194,0.32089552238806,0.33955223880597,0.257462686567164,0.235074626865672,0.197761194029851,0.238805970149254,0.208955223880597,0.175373134328358,0.182835820895522,0.145522388059701,0.138059701492537,0.16044776119403,0.111940298507463,0.115671641791045,0.0932835820895522,0.108208955223881,0.100746268656716,0.0858208955223881,0.0858208955223881,0.0783582089552239,0.082089552238806,0.119402985074627,0.0671641791044776,0.0708955223880597,0.0634328358208955,0.0522388059701493,0.0559701492537313,0.0522388059701493,0.0485074626865672,0.0559701492537313,0.0447761194029851,0.041044776119403,0.041044776119403,0.0746268656716418,0.0373134328358209,0.0111940298507463,0.0485074626865672,0.0298507462686567,0.0335820895522388,0.0373134328358209,0.0223880597014925,0.0373134328358209,0.0149253731343284,0.0373134328358209,0.0298507462686567,0.0298507462686567,0.0149253731343284,0.0149253731343284,0.0223880597014925,0.0261194029850746,0.0298507462686567,0.0223880597014925,0.0149253731343284,0.0261194029850746,0.0186567164179104,0.00746268656716418,0.0186567164179104,0.0186567164179104,0.0149253731343284,0.0223880597014925,0.00746268656716418,0.0186567164179104,0.00373134328358209,0,0.00746268656716418,0.0149253731343284,0.00746268656716418,0.0149253731343284,0.0186567164179104,0.0149253731343284,0.0149253731343284,0.00746268656716418,0.0111940298507463,0.0149253731343284,0.00746268656716418,0,0.0149253731343284,0.00746268656716418,0.00746268656716418,0.0111940298507463,0.0111940298507463,0.00746268656716418,0.00373134328358209,0.0111940298507463,0.00373134328358209,0.00373134328358209,0.0111940298507463,0,0.00746268656716418,0.0223880597014925,0.0149253731343284,0.00373134328358209,0,0.00373134328358209,0.00373134328358209,0.0149253731343284,0,0.00373134328358209,0.00746268656716418,0,0.00373134328358209,0.0149253731343284,0.0111940298507463,0.0111940298507463,0.00373134328358209,0.00373134328358209,0.00746268656716418,0,0.00373134328358209,0,0.0111940298507463,0.00373134328358209,0.0111940298507463,0.00373134328358209,0.00373134328358209,0.00373134328358209,0,0.00373134328358209,0,0,0,0.00746268656716418,0.00746268656716418,0.00746268656716418,0.00373134328358209,0.00373134328358209,0.00373134328358209,0,0.00373134328358209,0,0]},\"fLabel\":\"FSR on e^{-}e^{+} pairs\",\"fOption\":\"lpf\"},{\"_typename\":\"TLegendEntry\",\"fUniqueID\":0,\"fBits\":0,\"fTextAngle\":0,\"fTextSize\":0,\"fTextAlign\":0,\"fTextColor\":0,\"fTextFont\":42,\"fLineColor\":416,\"fLineStyle\":1,\"fLineWidth\":2,\"fFillColor\":0,\"fFillStyle\":1001,\"fMarkerColor\":1,\"fMarkerStyle\":1,\"fMarkerSize\":1,\"fObject\":{\"_typename\":\"TH1D\",\"fUniqueID\":0,\"fBits\":520,\"fName\":\"hfsr\",\"fTitle\":\"\",\"fLineColor\":416,\"fLineStyle\":1,\"fLineWidth\":2,\"fFillColor\":0,\"fFillStyle\":1001,\"fMarkerColor\":1,\"fMarkerStyle\":1,\"fMarkerSize\":1,\"fNcells\":302,\"fXaxis\":{\"_typename\":\"TAxis\",\"fUniqueID\":0,\"fBits\":0,\"fName\":\"xaxis\",\"fTitle\":\"M_{#e^{-}e^{+}}[GeV\\/#it{c}^{2}]\",\"fNdivisions\":510,\"fAxisColor\":1,\"fLabelColor\":1,\"fLabelFont\":42,\"fLabelOffset\":0.005,\"fLabelSize\":0.035,\"fTickLength\":0.03,\"fTitleOffset\":1.1,\"fTitleSize\":0.035,\"fTitleColor\":1,\"fTitleFont\":42,\"fNbins\":300,\"fXmin\":70,\"fXmax\":110,\"fXbins\":[],\"fFirst\":0,\"fLast\":0,\"fBits2\":0,\"fTimeDisplay\":false,\"fTimeFormat\":\"\",\"fLabels\":null,\"fModLabs\":null},\"fYaxis\":{\"_typename\":\"TAxis\",\"fUniqueID\":0,\"fBits\":0,\"fName\":\"yaxis\",\"fTitle\":\"Entries\",\"fNdivisions\":510,\"fAxisColor\":1,\"fLabelColor\":1,\"fLabelFont\":42,\"fLabelOffset\":0.005,\"fLabelSize\":0.035,\"fTickLength\":0.03,\"fTitleOffset\":0,\"fTitleSize\":0.035,\"fTitleColor\":1,\"fTitleFont\":42,\"fNbins\":1,\"fXmin\":0,\"fXmax\":1,\"fXbins\":[],\"fFirst\":0,\"fLast\":0,\"fBits2\":0,\"fTimeDisplay\":false,\"fTimeFormat\":\"\",\"fLabels\":null,\"fModLabs\":null},\"fZaxis\":{\"_typename\":\"TAxis\",\"fUniqueID\":0,\"fBits\":0,\"fName\":\"zaxis\",\"fTitle\":\"\",\"fNdivisions\":510,\"fAxisColor\":1,\"fLabelColor\":1,\"fLabelFont\":42,\"fLabelOffset\":0.005,\"fLabelSize\":0.035,\"fTickLength\":0.03,\"fTitleOffset\":1,\"fTitleSize\":0.035,\"fTitleColor\":1,\"fTitleFont\":42,\"fNbins\":1,\"fXmin\":0,\"fXmax\":1,\"fXbins\":[],\"fFirst\":0,\"fLast\":0,\"fBits2\":0,\"fTimeDisplay\":false,\"fTimeFormat\":\"\",\"fLabels\":null,\"fModLabs\":null},\"fBarOffset\":0,\"fBarWidth\":1000,\"fEntries\":10003,\"fTsumw\":26.246719160105,\"fTsumw2\":0.0688890266669422,\"fTsumwx\":2380.55965476576,\"fTsumwx2\":216421.287635444,\"fMaximum\":-1111,\"fMinimum\":-1111,\"fNormFactor\":0,\"fContour\":[],\"fSumw2\":[2.06667080000827e-5,2.06667080000827e-5,4.13334160001653e-5,6.88890266669422e-6,2.06667080000827e-5,4.82223186668596e-5,2.06667080000827e-5,3.44445133334711e-5,3.44445133334711e-5,3.44445133334711e-5,2.75556106667769e-5,2.75556106667769e-5,2.75556106667769e-5,4.13334160001653e-5,1.37778053333884e-5,2.75556106667769e-5,2.75556106667769e-5,4.13334160001653e-5,3.44445133334711e-5,5.51112213335538e-5,2.06667080000827e-5,3.44445133334711e-5,4.13334160001653e-5,4.13334160001653e-5,2.75556106667769e-5,2.06667080000827e-5,2.75556106667769e-5,1.37778053333884e-5,2.75556106667769e-5,1.37778053333884e-5,1.37778053333884e-5,4.82223186668596e-5,4.13334160001653e-5,2.75556106667769e-5,4.13334160001653e-5,2.06667080000827e-5,2.75556106667769e-5,4.13334160001653e-5,2.75556106667769e-5,2.75556106667769e-5,1.37778053333884e-5,4.13334160001653e-5,2.75556106667769e-5,3.44445133334711e-5,2.06667080000827e-5,2.06667080000827e-5,2.06667080000827e-5,2.06667080000827e-5,2.06667080000827e-5,4.13334160001653e-5,1.37778053333884e-5,1.37778053333884e-5,4.13334160001653e-5,1.37778053333884e-5,2.75556106667769e-5,2.06667080000827e-5,6.2000124000248e-5,4.13334160001653e-5,2.75556106667769e-5,2.75556106667769e-5,2.06667080000827e-5,2.75556106667769e-5,4.13334160001653e-5,3.44445133334711e-5,3.44445133334711e-5,3.44445133334711e-5,2.75556106667769e-5,2.75556106667769e-5,3.44445133334711e-5,4.13334160001653e-5,2.75556106667769e-5,3.44445133334711e-5,6.2000124000248e-5,3.44445133334711e-5,3.44445133334711e-5,4.82223186668596e-5,2.75556106667769e-5,6.2000124000248e-5,4.82223186668596e-5,4.82223186668596e-5,5.51112213335538e-5,5.51112213335538e-5,6.2000124000248e-5,5.51112213335538e-5,6.2000124000248e-5,8.26668320003307e-5,4.13334160001653e-5,9.64446373337191e-5,3.44445133334711e-5,4.82223186668596e-5,2.75556106667769e-5,8.26668320003307e-5,3.44445133334711e-5,5.51112213335538e-5,3.44445133334711e-5,6.2000124000248e-5,9.64446373337191e-5,8.95557346670249e-5,1.17111345333802e-4,7.57779293336364e-5,6.2000124000248e-5,7.57779293336364e-5,9.64446373337191e-5,2.75556106667769e-5,4.13334160001653e-5,1.24000248000496e-4,6.88890266669422e-5,1.03333540000413e-4,1.03333540000413e-4,4.13334160001653e-5,5.51112213335538e-5,8.95557346670249e-5,8.26668320003307e-5,8.95557346670249e-5,9.64446373337191e-5,1.44666956000579e-4,5.51112213335538e-5,8.95557346670249e-5,1.03333540000413e-4,1.58444761333967e-4,1.58444761333967e-4,1.7911146933405e-4,1.37778053333884e-4,1.24000248000496e-4,1.24000248000496e-4,2.20444885334215e-4,1.37778053333884e-4,2.06667080000827e-4,2.27333788000909e-4,2.82445009334463e-4,2.34222690667604e-4,2.06667080000827e-4,2.13555982667521e-4,2.68667204001075e-4,3.85778549334876e-4,2.41111593334298e-4,2.96222814667852e-4,3.582229386681e-4,4.20223062668348e-4,4.54667576001819e-4,4.61556478668513e-4,5.58001116002232e-4,4.20223062668348e-4,5.51112213335538e-4,5.44223310668844e-4,8.61112833336778e-4,8.19779417336612e-4,7.92223806669836e-4,9.92001984003968e-4,0.00115044674533794,0.00132955821467198,0.0013157804093386,0.0015500031000062,0.00170155895867347,0.0017842257906738,0.0021493376320086,0.00217000434000868,0.00223200446400893,0.0026246719160105,0.00236978251734281,0.00232156019867595,0.00228711568534248,0.0020253373840081,0.00199089287067463,0.00185311481734075,0.00177044798534042,0.00157066980800628,0.00146733626800587,0.0013088915066719,0.00126066918800504,0.00105400210800422,9.50668568003803e-4,8.8177954133686e-4,6.47556850669257e-4,6.88890266669422e-4,5.30445505335455e-4,5.44223310668844e-4,4.34000868001736e-4,5.09778797335372e-4,3.99556354668265e-4,4.27111965335042e-4,3.03111717334546e-4,3.37556230668017e-4,3.03111717334546e-4,2.96222814667852e-4,2.41111593334298e-4,2.41111593334298e-4,2.82445009334463e-4,2.82445009334463e-4,2.27333788000909e-4,2.13555982667521e-4,1.24000248000496e-4,1.65333664000661e-4,1.10222442667108e-4,2.20444885334215e-4,2.06667080000827e-4,1.44666956000579e-4,1.37778053333884e-4,1.10222442667108e-4,1.17111345333802e-4,9.64446373337191e-5,1.24000248000496e-4,1.17111345333802e-4,9.64446373337191e-5,1.03333540000413e-4,5.51112213335538e-5,1.37778053333884e-4,6.2000124000248e-5,6.88890266669422e-5,5.51112213335538e-5,6.2000124000248e-5,5.51112213335538e-5,8.95557346670249e-5,7.57779293336364e-5,6.2000124000248e-5,7.57779293336364e-5,3.44445133334711e-5,4.13334160001653e-5,5.51112213335538e-5,2.75556106667769e-5,3.44445133334711e-5,4.13334160001653e-5,3.44445133334711e-5,3.44445133334711e-5,1.37778053333884e-5,3.44445133334711e-5,5.51112213335538e-5,4.13334160001653e-5,2.75556106667769e-5,5.51112213335538e-5,2.75556106667769e-5,4.82223186668596e-5,6.88890266669422e-5,2.06667080000827e-5,4.13334160001653e-5,2.75556106667769e-5,3.44445133334711e-5,1.37778053333884e-5,2.75556106667769e-5,4.13334160001653e-5,1.37778053333884e-5,2.06667080000827e-5,1.37778053333884e-5,1.37778053333884e-5,3.44445133334711e-5,1.37778053333884e-5,2.06667080000827e-5,2.75556106667769e-5,2.75556106667769e-5,2.06667080000827e-5,2.06667080000827e-5,2.75556106667769e-5,1.37778053333884e-5,2.75556106667769e-5,2.06667080000827e-5,2.75556106667769e-5,2.75556106667769e-5,3.44445133334711e-5,3.44445133334711e-5,2.06667080000827e-5,2.06667080000827e-5,1.37778053333884e-5,1.37778053333884e-5,6.88890266669422e-6,0,0,2.75556106667769e-5,1.37778053333884e-5,2.06667080000827e-5,2.06667080000827e-5,1.37778053333884e-5,6.88890266669422e-6,2.06667080000827e-5,2.06667080000827e-5,2.75556106667769e-5,1.37778053333884e-5,6.88890266669422e-6,6.88890266669422e-6,1.37778053333884e-5,1.37778053333884e-5,2.06667080000827e-5,0,0,0,6.88890266669422e-6,2.75556106667769e-5,2.75556106667769e-5,6.88890266669422e-6,1.37778053333884e-5,0,6.88890266669422e-6,6.88890266669422e-6,2.75556106667769e-5,1.37778053333884e-5,1.37778053333884e-5,6.88890266669422e-6,6.88890266669422e-6,0,1.37778053333884e-5,6.88890266669422e-6,2.75556106667769e-5,0],\"fOption\":\"\",\"fFunctions\":{\"_typename\":\"TList\",\"name\":\"TList\",\"arr\":[],\"opt\":[]},\"fBufferSize\":0,\"fBuffer\":[],\"fBinStatErrOpt\":0,\"fStatOverflows\":2,\"fArray\":[0.0078740157480315,0.0078740157480315,0.015748031496063,0.0026246719160105,0.0078740157480315,0.0183727034120735,0.0078740157480315,0.0131233595800525,0.0131233595800525,0.0131233595800525,0.010498687664042,0.010498687664042,0.010498687664042,0.015748031496063,0.005249343832021,0.010498687664042,0.010498687664042,0.015748031496063,0.0131233595800525,0.020997375328084,0.0078740157480315,0.0131233595800525,0.015748031496063,0.015748031496063,0.010498687664042,0.0078740157480315,0.010498687664042,0.005249343832021,0.010498687664042,0.005249343832021,0.005249343832021,0.0183727034120735,0.015748031496063,0.010498687664042,0.015748031496063,0.0078740157480315,0.010498687664042,0.015748031496063,0.010498687664042,0.010498687664042,0.005249343832021,0.015748031496063,0.010498687664042,0.0131233595800525,0.0078740157480315,0.0078740157480315,0.0078740157480315,0.0078740157480315,0.0078740157480315,0.015748031496063,0.005249343832021,0.005249343832021,0.015748031496063,0.005249343832021,0.010498687664042,0.0078740157480315,0.0236220472440945,0.015748031496063,0.010498687664042,0.010498687664042,0.0078740157480315,0.010498687664042,0.015748031496063,0.0131233595800525,0.0131233595800525,0.0131233595800525,0.010498687664042,0.010498687664042,0.0131233595800525,0.015748031496063,0.010498687664042,0.0131233595800525,0.0236220472440945,0.0131233595800525,0.0131233595800525,0.0183727034120735,0.010498687664042,0.0236220472440945,0.0183727034120735,0.0183727034120735,0.020997375328084,0.020997375328084,0.0236220472440945,0.020997375328084,0.0236220472440945,0.031496062992126,0.015748031496063,0.036745406824147,0.0131233595800525,0.0183727034120735,0.010498687664042,0.031496062992126,0.0131233595800525,0.020997375328084,0.0131233595800525,0.0236220472440945,0.036745406824147,0.0341207349081365,0.0446194225721785,0.0288713910761155,0.0236220472440945,0.0288713910761155,0.036745406824147,0.010498687664042,0.015748031496063,0.047244094488189,0.026246719160105,0.0393700787401575,0.0393700787401575,0.015748031496063,0.020997375328084,0.0341207349081365,0.031496062992126,0.0341207349081365,0.036745406824147,0.0551181102362205,0.020997375328084,0.0341207349081365,0.0393700787401575,0.0603674540682415,0.0603674540682415,0.068241469816273,0.05249343832021,0.047244094488189,0.047244094488189,0.083989501312336,0.05249343832021,0.078740157480315,0.0866141732283465,0.10761154855643,0.089238845144357,0.078740157480315,0.0813648293963255,0.102362204724409,0.146981627296588,0.0918635170603675,0.112860892388451,0.136482939632546,0.16010498687664,0.173228346456693,0.175853018372703,0.21259842519685,0.16010498687664,0.20997375328084,0.207349081364829,0.328083989501312,0.312335958005249,0.301837270341207,0.377952755905512,0.438320209973753,0.506561679790026,0.501312335958005,0.590551181102362,0.648293963254593,0.679790026246719,0.818897637795276,0.826771653543307,0.850393700787402,1,0.902887139107612,0.884514435695538,0.871391076115485,0.771653543307087,0.758530183727034,0.706036745406824,0.674540682414698,0.598425196850394,0.559055118110236,0.498687664041995,0.480314960629921,0.401574803149606,0.362204724409449,0.335958005249344,0.246719160104987,0.26246719160105,0.202099737532808,0.207349081364829,0.165354330708661,0.194225721784777,0.152230971128609,0.162729658792651,0.115485564304462,0.128608923884514,0.115485564304462,0.112860892388451,0.0918635170603675,0.0918635170603675,0.10761154855643,0.10761154855643,0.0866141732283465,0.0813648293963255,0.047244094488189,0.062992125984252,0.041994750656168,0.083989501312336,0.078740157480315,0.0551181102362205,0.05249343832021,0.041994750656168,0.0446194225721785,0.036745406824147,0.047244094488189,0.0446194225721785,0.036745406824147,0.0393700787401575,0.020997375328084,0.05249343832021,0.0236220472440945,0.026246719160105,0.020997375328084,0.0236220472440945,0.020997375328084,0.0341207349081365,0.0288713910761155,0.0236220472440945,0.0288713910761155,0.0131233595800525,0.015748031496063,0.020997375328084,0.010498687664042,0.0131233595800525,0.015748031496063,0.0131233595800525,0.0131233595800525,0.005249343832021,0.0131233595800525,0.020997375328084,0.015748031496063,0.010498687664042,0.020997375328084,0.010498687664042,0.0183727034120735,0.026246719160105,0.0078740157480315,0.015748031496063,0.010498687664042,0.0131233595800525,0.005249343832021,0.010498687664042,0.015748031496063,0.005249343832021,0.0078740157480315,0.005249343832021,0.005249343832021,0.0131233595800525,0.005249343832021,0.0078740157480315,0.010498687664042,0.010498687664042,0.0078740157480315,0.0078740157480315,0.010498687664042,0.005249343832021,0.010498687664042,0.0078740157480315,0.010498687664042,0.010498687664042,0.0131233595800525,0.0131233595800525,0.0078740157480315,0.0078740157480315,0.005249343832021,0.005249343832021,0.0026246719160105,0,0,0.010498687664042,0.005249343832021,0.0078740157480315,0.0078740157480315,0.005249343832021,0.0026246719160105,0.0078740157480315,0.0078740157480315,0.010498687664042,0.005249343832021,0.0026246719160105,0.0026246719160105,0.005249343832021,0.005249343832021,0.0078740157480315,0,0,0,0.0026246719160105,0.010498687664042,0.010498687664042,0.0026246719160105,0.005249343832021,0,0.0026246719160105,0.0026246719160105,0.010498687664042,0.005249343832021,0.005249343832021,0.0026246719160105,0.0026246719160105,0,0.005249343832021,0.0026246719160105,0.010498687664042,0]},\"fLabel\":\"FSR off e^{-}e^{+} pairs\",\"fOption\":\"lpf\"}],\"opt\":[\"lpf\",\"lpf\"]},\"fEntrySeparation\":0.1,\"fMargin\":0.25,\"fNColumns\":1,\"fColumnSeparation\":0},{\"_typename\":\"TStyle\",\"fUniqueID\":0,\"fBits\":0,\"fName\":\"Modern\",\"fTitle\":\"Modern Style\",\"fLineColor\":1,\"fLineStyle\":1,\"fLineWidth\":1,\"fFillColor\":19,\"fFillStyle\":1001,\"fMarkerColor\":1,\"fMarkerStyle\":1,\"fMarkerSize\":1,\"fTextAngle\":0,\"fTextSize\":0.05,\"fTextAlign\":11,\"fTextColor\":1,\"fTextFont\":62,\"fXaxis\":{\"_typename\":\"TAttAxis\",\"fNdivisions\":510,\"fAxisColor\":1,\"fLabelColor\":1,\"fLabelFont\":42,\"fLabelOffset\":0.005,\"fLabelSize\":0.035,\"fTickLength\":0.03,\"fTitleOffset\":1,\"fTitleSize\":0.035,\"fTitleColor\":1,\"fTitleFont\":42},\"fYaxis\":{\"_typename\":\"TAttAxis\",\"fNdivisions\":510,\"fAxisColor\":1,\"fLabelColor\":1,\"fLabelFont\":42,\"fLabelOffset\":0.005,\"fLabelSize\":0.035,\"fTickLength\":0.03,\"fTitleOffset\":0,\"fTitleSize\":0.035,\"fTitleColor\":1,\"fTitleFont\":42},\"fZaxis\":{\"_typename\":\"TAttAxis\",\"fNdivisions\":510,\"fAxisColor\":1,\"fLabelColor\":1,\"fLabelFont\":42,\"fLabelOffset\":0.005,\"fLabelSize\":0.035,\"fTickLength\":0.03,\"fTitleOffset\":1,\"fTitleSize\":0.035,\"fTitleColor\":1,\"fTitleFont\":42},\"fBarWidth\":1,\"fBarOffset\":0,\"fColorModelPS\":0,\"fDrawBorder\":0,\"fOptLogx\":0,\"fOptLogy\":0,\"fOptLogz\":0,\"fOptDate\":0,\"fOptStat\":0,\"fOptTitle\":1,\"fOptFile\":0,\"fOptFit\":0,\"fShowEventStatus\":0,\"fShowEditor\":0,\"fShowToolBar\":0,\"fNumberContours\":20,\"fAttDate\":{\"_typename\":\"TAttText\",\"fTextAngle\":0,\"fTextSize\":0.025,\"fTextAlign\":11,\"fTextColor\":1,\"fTextFont\":62},\"fDateX\":0.01,\"fDateY\":0.01,\"fEndErrorSize\":2,\"fErrorX\":0.5,\"fFuncColor\":2,\"fFuncStyle\":1,\"fFuncWidth\":2,\"fGridColor\":0,\"fGridStyle\":3,\"fGridWidth\":1,\"fLegendBorderSize\":1,\"fLegendFillColor\":0,\"fLegendFont\":42,\"fLegendTextSize\":0,\"fHatchesLineWidth\":1,\"fHatchesSpacing\":1,\"fFrameFillColor\":0,\"fFrameLineColor\":1,\"fFrameFillStyle\":1001,\"fFrameLineStyle\":1,\"fFrameLineWidth\":1,\"fFrameBorderSize\":1,\"fFrameBorderMode\":0,\"fHistFillColor\":0,\"fHistLineColor\":602,\"fHistFillStyle\":1001,\"fHistLineStyle\":1,\"fHistLineWidth\":1,\"fHistMinimumZero\":false,\"fHistTopMargin\":0.05,\"fCanvasPreferGL\":false,\"fCanvasColor\":0,\"fCanvasBorderSize\":2,\"fCanvasBorderMode\":0,\"fCanvasDefH\":500,\"fCanvasDefW\":700,\"fCanvasDefX\":10,\"fCanvasDefY\":10,\"fPadColor\":0,\"fPadBorderSize\":2,\"fPadBorderMode\":0,\"fPadBottomMargin\":0.1,\"fPadTopMargin\":0.1,\"fPadLeftMargin\":0.1,\"fPadRightMargin\":0.1,\"fPadGridX\":false,\"fPadGridY\":false,\"fPadTickX\":0,\"fPadTickY\":0,\"fPaperSizeX\":20,\"fPaperSizeY\":26,\"fScreenFactor\":1,\"fStatColor\":0,\"fStatTextColor\":1,\"fStatBorderSize\":1,\"fStatFont\":42,\"fStatFontSize\":0,\"fStatStyle\":1001,\"fStatFormat\":\"6.4g\",\"fStatX\":0.98,\"fStatY\":0.935,\"fStatW\":0.2,\"fStatH\":0.16,\"fStripDecimals\":true,\"fTitleAlign\":23,\"fTitleColor\":0,\"fTitleTextColor\":1,\"fTitleBorderSize\":0,\"fTitleFont\":42,\"fTitleFontSize\":0.05,\"fTitleStyle\":0,\"fTitleX\":0.5,\"fTitleY\":0.995,\"fTitleW\":0,\"fTitleH\":0,\"fLegoInnerR\":0.5,\"fLineStyle\":[\"\",\"  \",\" 12 12\",\" 4 8\",\" 12 16 4 16\",\" 20 12 4 12\",\" 20 12 4 12 4 12 4 12\",\" 20 20\",\" 20 12 4 12 4 12\",\" 80 20\",\" 80 40 4 40\",\"  \",\"  \",\"  \",\"  \",\"  \",\"  \",\"  \",\"  \",\"  \",\"  \",\"  \",\"  \",\"  \",\"  \",\"  \",\"  \",\"  \",\"  \",\"  \"],\"fHeaderPS\":\"\",\"fTitlePS\":\"\",\"fFitFormat\":\"5.4g\",\"fPaintTextFormat\":\"g\",\"fLineScalePS\":3,\"fJoinLinePS\":0,\"fCapLinePS\":0,\"fTimeOffset\":788918400,\"fImageScaling\":1}],\"opt\":[\"\",\"\",\"same\",\"\",\"\"]},\"fExecs\":null,\"fName\":\"c1\",\"fTitle\":\"\",\"fNumPaletteColor\":0,\"fNextPaletteColor\":0,\"fDISPLAY\":\"$DISPLAY\",\"fDoubleBuffer\":0,\"fRetained\":true,\"fXsizeUser\":0,\"fYsizeUser\":0,\"fXsizeReal\":20,\"fYsizeReal\":15,\"fWindowTopX\":0,\"fWindowTopY\":0,\"fWindowWidth\":0,\"fWindowHeight\":0,\"fCw\":796,\"fCh\":572,\"fCatt\":{\"_typename\":\"TAttCanvas\",\"fXBetween\":2,\"fYBetween\":2,\"fTitleFromTop\":1.2,\"fXdate\":0.2,\"fYdate\":0.3,\"fAdate\":1},\"kMoveOpaque\":true,\"kResizeOpaque\":true,\"fHighLightColor\":2,\"fBatch\":true,\"kShowEventStatus\":false,\"kAutoExec\":true,\"kMenuBar\":true});\n",
       "   Core.settings.HandleKeys = false;\n",
       "   Core.draw(\"root_plot_1649445858604\", obj, \"\");\n",
       "}\n",
       "\n",
       "function script_load_root_plot_1649445858604(src, on_error) {\n",
       "    let script = document.createElement('script');\n",
       "    script.src = src;\n",
       "    script.onload = function() { display_root_plot_1649445858604(JSROOT); };\n",
       "    script.onerror = function() { script.remove(); on_error(); };\n",
       "    document.head.appendChild(script);\n",
       "}\n",
       "\n",
       "if (typeof requirejs !== 'undefined') {\n",
       "\n",
       "    // We are in jupyter notebooks, use require.js which should be configured already\n",
       "    requirejs.config({\n",
       "       paths: { 'JSRootCore' : [ 'scripts/JSRoot.core', 'https://root.cern/js/6.1.1/scripts/JSRoot.core.min', 'https://jsroot.gsi.de/6.1.1/scripts/JSRoot.core.min' ] }\n",
       "    })(['JSRootCore'],  function(Core) {\n",
       "       display_root_plot_1649445858604(Core);\n",
       "    });\n",
       "\n",
       "} else if (typeof JSROOT !== 'undefined') {\n",
       "\n",
       "   // JSROOT already loaded, just use it\n",
       "   display_root_plot_1649445858604(JSROOT);\n",
       "\n",
       "} else {\n",
       "\n",
       "    // We are in jupyterlab without require.js, directly loading jsroot\n",
       "    // Jupyterlab might be installed in a different base_url so we need to know it.\n",
       "    try {\n",
       "        var base_url = JSON.parse(document.getElementById('jupyter-config-data').innerHTML).baseUrl;\n",
       "    } catch(_) {\n",
       "        var base_url = '/';\n",
       "    }\n",
       "\n",
       "    // Try loading a local version of requirejs and fallback to cdn if not possible.\n",
       "    script_load_root_plot_1649445858604(base_url + 'static/scripts/JSRoot.core.js', function(){\n",
       "        console.error('Fail to load JSROOT locally, please check your jupyter_notebook_config.py file');\n",
       "        script_load_root_plot_1649445858604('https://root.cern/js/6.1.1/scripts/JSRoot.core.min.js', function(){\n",
       "            document.getElementById(\"root_plot_1649445858604\").innerHTML = \"Failed to load JSROOT\";\n",
       "        });\n",
       "    });\n",
       "}\n",
       "\n",
       "</script>\n"
      ],
      "text/plain": [
       "<IPython.core.display.HTML object>"
      ]
     },
     "metadata": {},
     "output_type": "display_data"
    }
   ],
   "source": [
    "hfsr.GetXaxis().SetTitle(\"M_{#e^{-}e^{+}}[GeV/#it{c}^{2}]\")\n",
    "hfsr.GetXaxis().SetTitleOffset(1.1)\n",
    "hfsr.GetYaxis().SetTitle(\"Entries\")\n",
    "hfsr.SetLineColor(ROOT.kGreen)\n",
    "hfsr.SetLineWidth(2)\n",
    "hfsr.DrawCopy(\"same\")\n",
    "\n",
    "# Draw final plot and\n",
    "\n",
    "leg=ROOT.TLegend(0.6,0.8,0.9,0.9)\n",
    "leg.AddEntry(h,\"FSR on e^{-}e^{+} pairs\")\n",
    "leg.AddEntry(hfsr,\"FSR off e^{-}e^{+} pairs\")\n",
    "leg.Draw()\n",
    "\n",
    "c1_kstar.Update()\n",
    "c1_kstar.Draw()"
   ]
  },
  {
   "cell_type": "code",
   "execution_count": 125,
   "metadata": {},
   "outputs": [],
   "source": [
    "# heta={}\n",
    "# hpt={}\n",
    "\n",
    "# for p in parts:\n",
    "#     heta[p]=ROOT.TH1D(\"eta\"+p,\"\",120,-12,12)\n",
    "#     heta[p].Sumw2()\n",
    "#     hpt[p]=ROOT.TH1D(\"pt\"+p,\"\",50,0,10)\n",
    "#     hpt[p].Sumw2()\n",
    "\n",
    "# def fillHistos(p):\n",
    "#     name=p.GetName()\n",
    "#     if name in parts:\n",
    "#         heta[name].Fill(p.Eta())\n",
    "#         hpt[name].Fill(p.Pt(),1/(p.Pt()))\n",
    "\n",
    "# #generate events\n",
    "# for i in range(nEvents):\n",
    "#     pythia.GenerateEvent()\n",
    "#     pythia.ImportParticles(particles,\"All\")\n",
    "#     for p in particles:\n",
    "#         if isFinal(p):\n",
    "#             fillHistos(p)\n",
    "\n",
    "# #format and normalize histograms, find ranges on y axes\n",
    "# maxeta=0\n",
    "# maxpt=0\n",
    "# for p in parts:\n",
    "#     heta[p].SetMarkerStyle(ROOT.kFullCircle)\n",
    "#     heta[p].SetMarkerColor(colors[p])\n",
    "#     bw=heta[p].GetBinWidth(1)\n",
    "#     heta[p].Scale(1./(bw*nEvents))\n",
    "#     maxeta=max(maxeta,heta[p].GetMaximum())\n",
    "    \n",
    "#     hpt[p].SetMarkerStyle(ROOT.kFullCircle)\n",
    "#     hpt[p].SetMarkerColor(colors[p])\n",
    "#     bw=hpt[p].GetBinWidth(1)\n",
    "#     hpt[p].Scale(1./(bw*nEvents))\n",
    "#     maxpt=max(maxpt,hpt[p].GetMaximum())\n",
    "\n",
    "# c_etapt = ROOT.TCanvas(\"c_etapt\",\"\",1600,600)\n",
    "# c_etapt.Divide(2,1)\n",
    "\n",
    "# leg=ROOT.TLegend(0.8,0.75,0.9,0.9)\n",
    "# for p in parts:\n",
    "#     leg.AddEntry(hpt[p], labels[p])\n",
    "\n",
    "# c_etapt.cd(1).SetLogy()\n",
    "# frame_pt=c_etapt.cd(1).DrawFrame(0,maxpt*1e-8,10,10*maxpt)\n",
    "# frame_pt.GetXaxis().SetTitle(\"p_{T} [GeV/c]\")\n",
    "# frame_pt.GetXaxis().SetTitleOffset(1.5)\n",
    "# frame_pt.GetYaxis().SetTitleSize(15)\n",
    "# frame_pt.GetYaxis().SetTitle(\"#frac{1}{p_{T}}#frac{dN}{dp_{T}} [GeV/c]^{-2}\")\n",
    "# frame_pt.Draw()\n",
    "# for p in parts:\n",
    "#     hpt[p].Draw(\"p same\")\n",
    "# leg.Draw()\n",
    "\n",
    "# c_etapt.cd(2)\n",
    "# frame_eta=c_etapt.cd(2).DrawFrame(-12,0,12,1.1*maxeta)\n",
    "# frame_eta.GetXaxis().SetTitle(\"#eta\")\n",
    "# frame_eta.GetYaxis().SetTitleSize(15)\n",
    "# frame_eta.GetYaxis().SetTitle(\"#frac{dN}{d#eta} \")\n",
    "# frame_eta.Draw()\n",
    "# for p in parts:\n",
    "    \n",
    "#     heta[p].Draw(\"p same\")\n",
    "# leg.Draw()\n",
    "\n",
    "# c_etapt.Draw()"
   ]
  },
  {
   "cell_type": "markdown",
   "metadata": {},
   "source": [
    "## Spectra"
   ]
  }
 ],
 "metadata": {
  "interpreter": {
   "hash": "31f2aee4e71d21fbe5cf8b01ff0e069b9275f58929596ceb00d14d90e3e16cd6"
  },
  "kernelspec": {
   "display_name": "Python 3.9.7 64-bit",
   "language": "python",
   "name": "python3"
  },
  "language_info": {
   "codemirror_mode": {
    "name": "ipython",
    "version": 3
   },
   "file_extension": ".py",
   "mimetype": "text/x-python",
   "name": "python",
   "nbconvert_exporter": "python",
   "pygments_lexer": "ipython3",
   "version": "3.9.7"
  },
  "orig_nbformat": 4
 },
 "nbformat": 4,
 "nbformat_minor": 2
}
