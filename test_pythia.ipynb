{
 "cells": [
  {
   "cell_type": "markdown",
   "metadata": {},
   "source": [
    "## HOMEWORK: $Z$ boson production in $p+\\bar{p}$ collisions\n",
    "### Generate 10000 $p+\\bar{p}$ events at 630 GeV of $Z$ boson production ($Z$ discovery at CERN SPS). (in the center of mass)"
   ]
  },
  {
   "cell_type": "markdown",
   "metadata": {},
   "source": [
    "Setup:\n",
    "* in order to look at $Z$ boson production we limit physics list of Pythia8 to include only hard $f\\bar{f}\\to Z \\to f\\bar{f}$ processes\n",
    "  * `WeakSingleBoson:ffbar2gmZ`\n",
    "* moreover, we will disable all $Z$ decay modes other than $Z\\to e^+e^-$, in which the particle was discovered\n",
    "  * `id:onMode = off` disables all decay channels of particle with given id (`id` should be an integer equal to PDG code of the particle)\n",
    "  * `id:onIfAny = prod` enables decay of particle `id` in channels containing `prod` - see pythia documentation if more info is necessary\n",
    "* to speed up the simulation we disable hadronisation (we are interested only in leptonic final states)\n",
    "* we also limit phase space to $\\pm 20$ GeV around the $Z$ rest mass\n",
    "  * use `PhaseSpace:mHatMin = XX` and `PhaseSpace:mHatMax = XX` options, values are in GeV\n",
    "\n",
    "To do:\n",
    "* select candidates for products of $Z$ decay in each event and plot their invariant mass distribution in range 70-110 GeV\n",
    "* check influence of final state radiation on the spectrum - generate additional 10000 events with FSR turned off\n",
    "* normalize histograms so that their maxima are at $1$\n",
    "* draw both distributions (as a histograms, option `\"hist\"`) on the same plot with axis labels and a legend, how does FSR influence invariant mass spectrum?\n",
    "* draw $\\frac{1}{p_T}\\frac{\\mathrm{d}N}{\\mathrm{d}p_T}$ and $\\frac{\\mathrm{d}N}{\\mathrm{d}\\eta}$ spectra of produced $Z$ bosons (only for one dataset, with FSR on), with axis labels and proper normalisation, pick the $x$ axis ranges so that the whole distribution fits inside the plot\n",
    "  * **hint:** $Z$ boson will occur multiple times in the event listing (why?), it will never be a final particle, pick only $Z$'s that appear *last* in each event\n",
    "* NOT COMPULSORY what is the *mean* number $\\langle N_Z\\rangle$ of $Z$ bosons produced in an event, with what error? is this result surprising? \n",
    "  * **hint:** $\\langle N \\rangle = \\int\\limits_0^\\infty \\frac{\\mathrm{d}N}{\\mathrm{d}p_T}\\cdot \\mathrm{d}p_T = \\int\\limits_{-\\infty}^\\infty \\frac{\\mathrm{d}N}{\\mathrm{d}\\eta}\\cdot \\mathrm{d}\\eta$, see `TH1::Integral`, and `TH1::IntegralAndError` methods and make sure, that *\"width\"* option is used so that bin contents are multiplied by bin widths during computation of the integral"
   ]
  },
  {
   "cell_type": "code",
   "execution_count": 1,
   "metadata": {},
   "outputs": [
    {
     "name": "stdout",
     "output_type": "stream",
     "text": [
      "Welcome to JupyROOT 6.24/04\n"
     ]
    }
   ],
   "source": [
    "import ROOT\n",
    "import os, sys, subprocess, time\n",
    "import py8settings as py8s\n",
    "from py8settings import PDF\n",
    "import itertools as it\n",
    "import ctypes\n",
    "\n",
    "%jsroot on"
   ]
  },
  {
   "cell_type": "code",
   "execution_count": 11,
   "metadata": {},
   "outputs": [
    {
     "name": "stdout",
     "output_type": "stream",
     "text": [
      " *** TDatabasePDG::AddParticle: particle with PDGcode=90 already defined\n",
      " *** TDatabasePDG::AddParticle: particle with PDGcode=9900110 already defined\n",
      " *** TDatabasePDG::AddParticle: particle with PDGcode=9900210 already defined\n",
      " *** TDatabasePDG::AddParticle: particle with PDGcode=9900220 already defined\n",
      " *** TDatabasePDG::AddParticle: particle with PDGcode=9900330 already defined\n",
      " *** TDatabasePDG::AddParticle: particle with PDGcode=9900440 already defined\n",
      " *** TDatabasePDG::AddParticle: particle with PDGcode=9902110 already defined\n",
      " *** TDatabasePDG::AddParticle: particle with PDGcode=9902210 already defined\n"
     ]
    }
   ],
   "source": [
    "def makePythiaSilent(pythia):\n",
    "    pythia.ReadString(\"Init:showMultipartonInteractions = off\")\n",
    "    pythia.ReadString(\"Init:showChangedParticleData = off\")\n",
    "    pythia.ReadString(\"Init:showProcesses = off\")\n",
    "    pythia.ReadString(\"Init:showChangedSettings = off\")\n",
    "    pythia.ReadString(\"Next:numberShowInfo = 0\")\n",
    "    pythia.ReadString(\"Next:numberShowProcess = 0\")\n",
    "    pythia.ReadString(\"Next:numberShowEvent = 0\")\n",
    "    pythia.ReadString(\"Next:numberCount = 0\")\n",
    "    pythia.ReadString(\"WeakSingleBoson:ffbar2gmZ = on\")\n",
    "    pythia.ReadString(\"HadronLevel:all = off\")      # maybe this is ok\n",
    "    pythia.ReadString(\"23:onMode = off\")    # disable decay of Z boson\n",
    "    pythia.ReadString(\"23:onIfAny = 11 -11\")    # enable decay of Z boson in channels containing electron and positon\n",
    "    pythia.ReadString(\"PhaseSpace:mHatMin = 111\")\n",
    "    pythia.ReadString(\"PhaseSpace:mHatMax = 71\")\n",
    "\n",
    "pythia = ROOT.TPythia8(False)   # suppress the banner message\n",
    "makePythiaSilent(pythia)\n",
    "# pythia.ReadString(\"HardQCD:all = on\")   # passing set of parameters, options in Pythia documentation; \n",
    "pythia.ReadString(\"Random:setSeed = on\")\n",
    "pythia.ReadString(\"Random:seed = 42\") # to ro randomize seed; while we give taahe same seed we will receive the same results\n",
    "pythia.Initialize(2212 , -2212 , 630)  # 2212 - proton in PDG codes, antiproton has a minus sign\n",
    "particles = ROOT.TClonesArray(\"TParticle\", 1000) #prepare space for generated particles\n",
    "\n",
    "# Warning about cross section violated is ok"
   ]
  },
  {
   "cell_type": "code",
   "execution_count": 12,
   "metadata": {},
   "outputs": [],
   "source": [
    "# pythia.GenerateEvent()\n",
    "# pythia.EventListing()"
   ]
  },
  {
   "cell_type": "code",
   "execution_count": 13,
   "metadata": {},
   "outputs": [],
   "source": [
    "def isFinal(p,name=None):\n",
    "    if name==None:\n",
    "        return p.GetStatusCode()>0\n",
    "    else:\n",
    "        return p.GetStatusCode()>0 and p.GetName()==name\n",
    "\n",
    "\n",
    "def getMinv(pair):  # invariant mass of 2 particles\n",
    "    p4_1=ROOT.TLorentzVector()  # ROOT class to represent 4vectors\n",
    "    p4_2=ROOT.TLorentzVector()\n",
    "    pair[0].Momentum(p4_1)\n",
    "    pair[1].Momentum(p4_2)\n",
    "    p4=p4_1+p4_2\n",
    "    return p4.M()   # get mass of 4vector"
   ]
  },
  {
   "cell_type": "markdown",
   "metadata": {},
   "source": [
    "## 1. FSR on "
   ]
  },
  {
   "cell_type": "code",
   "execution_count": 14,
   "metadata": {},
   "outputs": [
    {
     "name": "stdout",
     "output_type": "stream",
     "text": [
      " PYTHIA Warning in JunctionSplitting::SplitJunPairs: parallel junction state not allowed.  \n",
      " PYTHIA Warning in JunctionSplitting::CheckColours: Not possible to split junctions; making new colours  \n",
      " PYTHIA Error in BeamRemnants::add: failed to find physical colour state after colour reconnection  \n",
      " PYTHIA Error in BeamRemnants::setKinematics: kinematics construction failed  \n",
      " PYTHIA Warning in MultipartonInteractions::pTnext: weight above unity  \n",
      " PYTHIA Error in SimpleSpaceShower::pT2nearThreshold: stuck in loop  \n"
     ]
    },
    {
     "name": "stderr",
     "output_type": "stream",
     "text": [
      "Warning in <TROOT::Append>: Replacing existing TH1: h_all (Potential memory leak).\n",
      "Warning in <TROOT::Append>: Replacing existing TH1: h_pure (Potential memory leak).\n"
     ]
    }
   ],
   "source": [
    "nEvents=10000\n",
    "parts=[\"electron\", \"antielectron\", \"gamma\"]     # our particles\n",
    "labels={\"electron\": \"e-\", \"antielectron\": \"e+\", \"gamma\" : \"#gamma\"}\n",
    "colors={\"proton\": ROOT.kBlack, \"antielectron\": ROOT.kBlue, \"gamma\": ROOT.kMagenta}\n",
    "heta={}\n",
    "hpt={}\n",
    "\n",
    "h=ROOT.TH1D(\"h_all\",\"\",300, 70, 110)    # histograms start\n",
    "hpure=ROOT.TH1D(\"h_pure\",\"\",300, 70, 110)\n",
    "\n",
    "\n",
    "def getZcandidates(parts):\n",
    "    eminus = [p for p in parts if isFinal(p,\"e-\")]    # creates list\n",
    "    eplus = [p for p in parts if isFinal(p,\"e+\")]\n",
    "    return list(it.product(eminus,eplus))   # pair of electron and positon\n",
    "\n",
    "pythia.GenerateEvent()\n",
    "\n",
    "for i in range(nEvents):\n",
    "    pythia.GenerateEvent()\n",
    "    pythia.ImportParticles(particles,\"All\")\n",
    "    #for all possible e- e+ pairs we fill invariant mass histogram\n",
    "    for pair in getZcandidates(particles):\n",
    "        # print(\"works\")\n",
    "        h.Fill(getMinv(pair))\n",
    "    #now we look for actual Z's that decayed:\n",
    "    for p in particles:\n",
    "        if p.GetName()==\"Z0\":\n",
    "            #we accept Z0 only if it decayed to electron and positon\n",
    "            d0=particles[p.GetDaughter(0)].GetName()\n",
    "            d1=particles[p.GetDaughter(1)].GetName()\n",
    "            if {d0,d1} != {\"e-\",\"e+\"}:     # curly braces represent set datatype in python\n",
    "                continue\n",
    "            p4=ROOT.TLorentzVector()\n",
    "            p.Momentum(p4)\n",
    "            hpure.Fill(p4.M())\n",
    "\n",
    "# bw=h.GetBinWidth(1)\n",
    "# h.Scale(1./(bw*nEvents))\n",
    "\n",
    "# bwf = hpure.GetBinWidth(1)\n",
    "# hpure.Scale(1./(bwf * nEvents))\n",
    "\n",
    "\n",
    "# c_kstar = ROOT.TCanvas(\"c\",\"\",800,600)\n",
    "# ROOT.gStyle.SetOptStat(0)\n",
    "# h.GetXaxis().SetTitle(\"M_{#e^{-}e^{+}} [GeV/#it{c}^{2}]\")\n",
    "# h.GetXaxis().SetTitleOffset(1.1)\n",
    "# h.GetYaxis().SetTitle(\"Entries\")\n",
    "# h.SetLineWidth(2)\n",
    "# h.Draw()\n",
    "# hpure.SetLineWidth(2)\n",
    "# hpure.SetLineColor(ROOT.kRed)\n",
    "# hpure.Draw(\"same\")\n",
    "# leg=ROOT.TLegend(0.5,0.7,0.9,0.9)\n",
    "# leg.AddEntry(h,\"#e^{-}e^{+} pairs\")\n",
    "# leg.AddEntry(hpure,\"#pi^{-}K^{+} pairs from K^{*} decay\")\n",
    "# leg.Draw()\n",
    "# c_kstar.Draw()\n",
    "\n",
    "# Warnings are ok"
   ]
  },
  {
   "cell_type": "code",
   "execution_count": 17,
   "metadata": {},
   "outputs": [
    {
     "name": "stderr",
     "output_type": "stream",
     "text": [
      "Warning in <TCanvas::Constructor>: Deleting canvas with same name: c\n"
     ]
    },
    {
     "data": {
      "text/html": [
       "\n",
       "\n",
       "<div id=\"root_plot_1649273181155\"\n",
       "     style=\"width: 796px; height: 572px\">\n",
       "</div>\n",
       "<script>\n",
       "\n",
       "function display_root_plot_1649273181155(Core) {\n",
       "   let obj = Core.parse({\"_typename\":\"TCanvas\",\"fUniqueID\":0,\"fBits\":3342344,\"fLineColor\":1,\"fLineStyle\":1,\"fLineWidth\":1,\"fFillColor\":0,\"fFillStyle\":1001,\"fLeftMargin\":0.1,\"fRightMargin\":0.1,\"fBottomMargin\":0.1,\"fTopMargin\":0.1,\"fXfile\":2,\"fYfile\":2,\"fAfile\":1,\"fXstat\":0.99,\"fYstat\":0.99,\"fAstat\":2,\"fFrameFillColor\":0,\"fFrameLineColor\":1,\"fFrameFillStyle\":1001,\"fFrameLineStyle\":1,\"fFrameLineWidth\":1,\"fFrameBorderSize\":1,\"fFrameBorderMode\":0,\"fX1\":64.9999996274709,\"fY1\":-2.62500019557775,\"fX2\":115.000000372529,\"fY2\":23.6250001955778,\"fXtoAbsPixelk\":-1034.79992864961,\"fXtoPixelk\":-1034.79992864961,\"fXtoPixel\":15.9199997627735,\"fYtoAbsPixelk\":514.800046590614,\"fYtoPixelk\":514.800046590614,\"fYtoPixel\":-21.7904758657728,\"fUtoAbsPixelk\":5e-5,\"fUtoPixelk\":5e-5,\"fUtoPixel\":796,\"fVtoAbsPixelk\":572.00005,\"fVtoPixelk\":572,\"fVtoPixel\":-572,\"fAbsPixeltoXk\":64.9999996274709,\"fPixeltoXk\":64.9999996274709,\"fPixeltoX\":0.0628140712877615,\"fAbsPixeltoYk\":23.6250001955778,\"fPixeltoYk\":-2.62500019557775,\"fPixeltoY\":-0.0458916090754467,\"fXlowNDC\":0,\"fYlowNDC\":0,\"fXUpNDC\":1,\"fYUpNDC\":1,\"fWNDC\":1,\"fHNDC\":1,\"fAbsXlowNDC\":0,\"fAbsYlowNDC\":0,\"fAbsWNDC\":1,\"fAbsHNDC\":1,\"fUxmin\":70,\"fUymin\":0,\"fUxmax\":110,\"fUymax\":21,\"fTheta\":30,\"fPhi\":30,\"fAspectRatio\":0,\"fNumber\":0,\"fTickx\":0,\"fTicky\":0,\"fLogx\":0,\"fLogy\":0,\"fLogz\":0,\"fPadPaint\":0,\"fCrosshair\":0,\"fCrosshairPos\":0,\"fBorderSize\":2,\"fBorderMode\":0,\"fModified\":false,\"fGridx\":false,\"fGridy\":false,\"fAbsCoord\":false,\"fEditable\":true,\"fFixedAspectRatio\":false,\"fPrimitives\":{\"_typename\":\"TList\",\"name\":\"TList\",\"arr\":[{\"_typename\":\"TFrame\",\"fUniqueID\":0,\"fBits\":8,\"fLineColor\":1,\"fLineStyle\":1,\"fLineWidth\":1,\"fFillColor\":0,\"fFillStyle\":1001,\"fX1\":70,\"fY1\":0,\"fX2\":110,\"fY2\":21,\"fBorderSize\":1,\"fBorderMode\":0},{\"_typename\":\"TH1D\",\"fUniqueID\":0,\"fBits\":520,\"fName\":\"h_all\",\"fTitle\":\"\",\"fLineColor\":602,\"fLineStyle\":1,\"fLineWidth\":2,\"fFillColor\":0,\"fFillStyle\":1001,\"fMarkerColor\":1,\"fMarkerStyle\":1,\"fMarkerSize\":1,\"fNcells\":302,\"fXaxis\":{\"_typename\":\"TAxis\",\"fUniqueID\":0,\"fBits\":0,\"fName\":\"xaxis\",\"fTitle\":\"M_{#e^{-}e^{+}} [GeV\\/#it{c}^{2}]\",\"fNdivisions\":510,\"fAxisColor\":1,\"fLabelColor\":1,\"fLabelFont\":42,\"fLabelOffset\":0.005,\"fLabelSize\":0.035,\"fTickLength\":0.03,\"fTitleOffset\":1.1,\"fTitleSize\":0.035,\"fTitleColor\":1,\"fTitleFont\":42,\"fNbins\":300,\"fXmin\":70,\"fXmax\":110,\"fXbins\":[],\"fFirst\":0,\"fLast\":0,\"fBits2\":0,\"fTimeDisplay\":false,\"fTimeFormat\":\"\",\"fLabels\":null,\"fModLabs\":null},\"fYaxis\":{\"_typename\":\"TAxis\",\"fUniqueID\":0,\"fBits\":0,\"fName\":\"yaxis\",\"fTitle\":\"Entries\",\"fNdivisions\":510,\"fAxisColor\":1,\"fLabelColor\":1,\"fLabelFont\":42,\"fLabelOffset\":0.005,\"fLabelSize\":0.035,\"fTickLength\":0.03,\"fTitleOffset\":0,\"fTitleSize\":0.035,\"fTitleColor\":1,\"fTitleFont\":42,\"fNbins\":1,\"fXmin\":0,\"fXmax\":1,\"fXbins\":[],\"fFirst\":0,\"fLast\":0,\"fBits2\":0,\"fTimeDisplay\":false,\"fTimeFormat\":\"\",\"fLabels\":null,\"fModLabs\":null},\"fZaxis\":{\"_typename\":\"TAxis\",\"fUniqueID\":0,\"fBits\":0,\"fName\":\"zaxis\",\"fTitle\":\"\",\"fNdivisions\":510,\"fAxisColor\":1,\"fLabelColor\":1,\"fLabelFont\":42,\"fLabelOffset\":0.005,\"fLabelSize\":0.035,\"fTickLength\":0.03,\"fTitleOffset\":1,\"fTitleSize\":0.035,\"fTitleColor\":1,\"fTitleFont\":42,\"fNbins\":1,\"fXmin\":0,\"fXmax\":1,\"fXbins\":[],\"fFirst\":0,\"fLast\":0,\"fBits2\":0,\"fTimeDisplay\":false,\"fTimeFormat\":\"\",\"fLabels\":null,\"fModLabs\":null},\"fBarOffset\":0,\"fBarWidth\":1000,\"fEntries\":10129,\"fTsumw\":1069,\"fTsumw2\":1069,\"fTsumwx\":104459.101460399,\"fTsumwx2\":10329267.5017892,\"fMaximum\":-1111,\"fMinimum\":-1111,\"fNormFactor\":0,\"fContour\":[],\"fSumw2\":[],\"fOption\":\"\",\"fFunctions\":{\"_typename\":\"TList\",\"name\":\"TList\",\"arr\":[],\"opt\":[]},\"fBufferSize\":0,\"fBuffer\":[],\"fBinStatErrOpt\":0,\"fStatOverflows\":2,\"fArray\":[323,0,1,1,0,2,1,0,2,1,3,1,1,0,2,2,1,0,4,2,1,1,2,1,1,0,3,0,0,1,2,1,0,0,1,0,3,1,2,0,1,2,2,3,1,1,1,2,0,4,4,1,0,2,1,1,2,1,1,3,1,0,1,2,1,5,2,1,1,1,1,0,3,1,2,2,2,0,2,0,2,4,1,2,0,1,4,3,2,1,2,3,3,2,0,2,2,2,1,3,1,3,1,3,1,1,0,2,2,3,0,3,2,4,5,1,1,2,2,1,2,1,1,1,2,2,0,1,3,1,1,2,2,4,3,1,1,6,2,1,0,3,2,4,2,3,1,4,2,2,6,7,4,1,3,2,4,2,3,3,2,4,2,3,2,3,2,6,3,3,5,1,4,3,1,2,3,4,0,5,4,5,4,4,0,5,2,2,1,1,0,2,3,3,4,5,3,3,7,4,3,2,3,3,4,1,4,3,3,3,8,5,4,3,3,3,1,5,6,4,4,6,5,5,4,6,5,1,4,9,3,7,6,2,5,8,7,8,9,6,5,7,3,4,4,9,5,5,7,4,2,6,7,7,6,8,3,8,6,4,6,5,2,5,15,6,5,12,9,5,8,8,3,4,5,8,6,9,9,9,6,13,7,11,10,8,11,19,8,8,7,17,9,8,14,12,12,11,11,20,19,8737]},{\"_typename\":\"TLegend\",\"fUniqueID\":0,\"fBits\":8,\"fLineColor\":1,\"fLineStyle\":1,\"fLineWidth\":1,\"fFillColor\":0,\"fFillStyle\":1001,\"fX1\":90,\"fY1\":15.7500000782311,\"fX2\":110.000000298023,\"fY2\":21.0000001564622,\"fX1NDC\":0.5,\"fY1NDC\":0.7,\"fX2NDC\":0.9,\"fY2NDC\":0.9,\"fBorderSize\":1,\"fInit\":1,\"fShadowColor\":1,\"fCornerRadius\":0,\"fOption\":\"brNDC\",\"fName\":\"TPave\",\"fTextAngle\":0,\"fTextSize\":0,\"fTextAlign\":12,\"fTextColor\":1,\"fTextFont\":42,\"fPrimitives\":{\"_typename\":\"TList\",\"name\":\"TList\",\"arr\":[{\"_typename\":\"TLegendEntry\",\"fUniqueID\":0,\"fBits\":0,\"fTextAngle\":0,\"fTextSize\":0,\"fTextAlign\":0,\"fTextColor\":0,\"fTextFont\":42,\"fLineColor\":602,\"fLineStyle\":1,\"fLineWidth\":2,\"fFillColor\":0,\"fFillStyle\":1001,\"fMarkerColor\":1,\"fMarkerStyle\":1,\"fMarkerSize\":1,\"fObject\":{\"$ref\":3},\"fLabel\":\"#e^{-}e^{+} pairs\",\"fOption\":\"lpf\"}],\"opt\":[\"lpf\"]},\"fEntrySeparation\":0.1,\"fMargin\":0.25,\"fNColumns\":1,\"fColumnSeparation\":0},{\"_typename\":\"TStyle\",\"fUniqueID\":0,\"fBits\":0,\"fName\":\"Modern\",\"fTitle\":\"Modern Style\",\"fLineColor\":1,\"fLineStyle\":1,\"fLineWidth\":1,\"fFillColor\":19,\"fFillStyle\":1001,\"fMarkerColor\":1,\"fMarkerStyle\":1,\"fMarkerSize\":1,\"fTextAngle\":0,\"fTextSize\":0.05,\"fTextAlign\":11,\"fTextColor\":1,\"fTextFont\":62,\"fXaxis\":{\"_typename\":\"TAttAxis\",\"fNdivisions\":510,\"fAxisColor\":1,\"fLabelColor\":1,\"fLabelFont\":42,\"fLabelOffset\":0.005,\"fLabelSize\":0.035,\"fTickLength\":0.03,\"fTitleOffset\":1,\"fTitleSize\":0.035,\"fTitleColor\":1,\"fTitleFont\":42},\"fYaxis\":{\"_typename\":\"TAttAxis\",\"fNdivisions\":510,\"fAxisColor\":1,\"fLabelColor\":1,\"fLabelFont\":42,\"fLabelOffset\":0.005,\"fLabelSize\":0.035,\"fTickLength\":0.03,\"fTitleOffset\":0,\"fTitleSize\":0.035,\"fTitleColor\":1,\"fTitleFont\":42},\"fZaxis\":{\"_typename\":\"TAttAxis\",\"fNdivisions\":510,\"fAxisColor\":1,\"fLabelColor\":1,\"fLabelFont\":42,\"fLabelOffset\":0.005,\"fLabelSize\":0.035,\"fTickLength\":0.03,\"fTitleOffset\":1,\"fTitleSize\":0.035,\"fTitleColor\":1,\"fTitleFont\":42},\"fBarWidth\":1,\"fBarOffset\":0,\"fColorModelPS\":0,\"fDrawBorder\":0,\"fOptLogx\":0,\"fOptLogy\":0,\"fOptLogz\":0,\"fOptDate\":0,\"fOptStat\":0,\"fOptTitle\":1,\"fOptFile\":0,\"fOptFit\":0,\"fShowEventStatus\":0,\"fShowEditor\":0,\"fShowToolBar\":0,\"fNumberContours\":20,\"fAttDate\":{\"_typename\":\"TAttText\",\"fTextAngle\":0,\"fTextSize\":0.025,\"fTextAlign\":11,\"fTextColor\":1,\"fTextFont\":62},\"fDateX\":0.01,\"fDateY\":0.01,\"fEndErrorSize\":2,\"fErrorX\":0.5,\"fFuncColor\":2,\"fFuncStyle\":1,\"fFuncWidth\":2,\"fGridColor\":0,\"fGridStyle\":3,\"fGridWidth\":1,\"fLegendBorderSize\":1,\"fLegendFillColor\":0,\"fLegendFont\":42,\"fLegendTextSize\":0,\"fHatchesLineWidth\":1,\"fHatchesSpacing\":1,\"fFrameFillColor\":0,\"fFrameLineColor\":1,\"fFrameFillStyle\":1001,\"fFrameLineStyle\":1,\"fFrameLineWidth\":1,\"fFrameBorderSize\":1,\"fFrameBorderMode\":0,\"fHistFillColor\":0,\"fHistLineColor\":602,\"fHistFillStyle\":1001,\"fHistLineStyle\":1,\"fHistLineWidth\":1,\"fHistMinimumZero\":false,\"fHistTopMargin\":0.05,\"fCanvasPreferGL\":false,\"fCanvasColor\":0,\"fCanvasBorderSize\":2,\"fCanvasBorderMode\":0,\"fCanvasDefH\":500,\"fCanvasDefW\":700,\"fCanvasDefX\":10,\"fCanvasDefY\":10,\"fPadColor\":0,\"fPadBorderSize\":2,\"fPadBorderMode\":0,\"fPadBottomMargin\":0.1,\"fPadTopMargin\":0.1,\"fPadLeftMargin\":0.1,\"fPadRightMargin\":0.1,\"fPadGridX\":false,\"fPadGridY\":false,\"fPadTickX\":0,\"fPadTickY\":0,\"fPaperSizeX\":20,\"fPaperSizeY\":26,\"fScreenFactor\":1,\"fStatColor\":0,\"fStatTextColor\":1,\"fStatBorderSize\":1,\"fStatFont\":42,\"fStatFontSize\":0,\"fStatStyle\":1001,\"fStatFormat\":\"6.4g\",\"fStatX\":0.98,\"fStatY\":0.935,\"fStatW\":0.2,\"fStatH\":0.16,\"fStripDecimals\":true,\"fTitleAlign\":23,\"fTitleColor\":0,\"fTitleTextColor\":1,\"fTitleBorderSize\":0,\"fTitleFont\":42,\"fTitleFontSize\":0.05,\"fTitleStyle\":0,\"fTitleX\":0.5,\"fTitleY\":0.995,\"fTitleW\":0,\"fTitleH\":0,\"fLegoInnerR\":0.5,\"fLineStyle\":[\"\",\"  \",\" 12 12\",\" 4 8\",\" 12 16 4 16\",\" 20 12 4 12\",\" 20 12 4 12 4 12 4 12\",\" 20 20\",\" 20 12 4 12 4 12\",\" 80 20\",\" 80 40 4 40\",\"  \",\"  \",\"  \",\"  \",\"  \",\"  \",\"  \",\"  \",\"  \",\"  \",\"  \",\"  \",\"  \",\"  \",\"  \",\"  \",\"  \",\"  \",\"  \"],\"fHeaderPS\":\"\",\"fTitlePS\":\"\",\"fFitFormat\":\"5.4g\",\"fPaintTextFormat\":\"g\",\"fLineScalePS\":3,\"fJoinLinePS\":0,\"fCapLinePS\":0,\"fTimeOffset\":788918400,\"fImageScaling\":1}],\"opt\":[\"\",\"\",\"\",\"\"]},\"fExecs\":null,\"fName\":\"c\",\"fTitle\":\"\",\"fNumPaletteColor\":0,\"fNextPaletteColor\":0,\"fDISPLAY\":\"$DISPLAY\",\"fDoubleBuffer\":0,\"fRetained\":true,\"fXsizeUser\":0,\"fYsizeUser\":0,\"fXsizeReal\":20,\"fYsizeReal\":15,\"fWindowTopX\":0,\"fWindowTopY\":0,\"fWindowWidth\":0,\"fWindowHeight\":0,\"fCw\":796,\"fCh\":572,\"fCatt\":{\"_typename\":\"TAttCanvas\",\"fXBetween\":2,\"fYBetween\":2,\"fTitleFromTop\":1.2,\"fXdate\":0.2,\"fYdate\":0.3,\"fAdate\":1},\"kMoveOpaque\":true,\"kResizeOpaque\":true,\"fHighLightColor\":2,\"fBatch\":true,\"kShowEventStatus\":false,\"kAutoExec\":true,\"kMenuBar\":true});\n",
       "   Core.settings.HandleKeys = false;\n",
       "   Core.draw(\"root_plot_1649273181155\", obj, \"\");\n",
       "}\n",
       "\n",
       "function script_load_root_plot_1649273181155(src, on_error) {\n",
       "    let script = document.createElement('script');\n",
       "    script.src = src;\n",
       "    script.onload = function() { display_root_plot_1649273181155(JSROOT); };\n",
       "    script.onerror = function() { script.remove(); on_error(); };\n",
       "    document.head.appendChild(script);\n",
       "}\n",
       "\n",
       "if (typeof requirejs !== 'undefined') {\n",
       "\n",
       "    // We are in jupyter notebooks, use require.js which should be configured already\n",
       "    requirejs.config({\n",
       "       paths: { 'JSRootCore' : [ 'scripts/JSRoot.core', 'https://root.cern/js/6.1.1/scripts/JSRoot.core.min', 'https://jsroot.gsi.de/6.1.1/scripts/JSRoot.core.min' ] }\n",
       "    })(['JSRootCore'],  function(Core) {\n",
       "       display_root_plot_1649273181155(Core);\n",
       "    });\n",
       "\n",
       "} else if (typeof JSROOT !== 'undefined') {\n",
       "\n",
       "   // JSROOT already loaded, just use it\n",
       "   display_root_plot_1649273181155(JSROOT);\n",
       "\n",
       "} else {\n",
       "\n",
       "    // We are in jupyterlab without require.js, directly loading jsroot\n",
       "    // Jupyterlab might be installed in a different base_url so we need to know it.\n",
       "    try {\n",
       "        var base_url = JSON.parse(document.getElementById('jupyter-config-data').innerHTML).baseUrl;\n",
       "    } catch(_) {\n",
       "        var base_url = '/';\n",
       "    }\n",
       "\n",
       "    // Try loading a local version of requirejs and fallback to cdn if not possible.\n",
       "    script_load_root_plot_1649273181155(base_url + 'static/scripts/JSRoot.core.js', function(){\n",
       "        console.error('Fail to load JSROOT locally, please check your jupyter_notebook_config.py file');\n",
       "        script_load_root_plot_1649273181155('https://root.cern/js/6.1.1/scripts/JSRoot.core.min.js', function(){\n",
       "            document.getElementById(\"root_plot_1649273181155\").innerHTML = \"Failed to load JSROOT\";\n",
       "        });\n",
       "    });\n",
       "}\n",
       "\n",
       "</script>\n"
      ],
      "text/plain": [
       "<IPython.core.display.HTML object>"
      ]
     },
     "metadata": {},
     "output_type": "display_data"
    }
   ],
   "source": [
    "c_kstar = ROOT.TCanvas(\"c\",\"\",800,600)\n",
    "ROOT.gStyle.SetOptStat(0)\n",
    "h.GetXaxis().SetTitle(\"M_{#e^{-}e^{+}} [GeV/#it{c}^{2}]\")\n",
    "h.GetXaxis().SetTitleOffset(1.1)\n",
    "h.GetYaxis().SetTitle(\"Entries\")\n",
    "h.SetLineWidth(2)\n",
    "h.Draw()\n",
    "hpure.SetLineWidth(2)\n",
    "hpure.SetLineColor(ROOT.kRed)\n",
    "# hpure.Draw(\"same\")\n",
    "leg=ROOT.TLegend(0.5,0.7,0.9,0.9)\n",
    "leg.AddEntry(h,\"#e^{-}e^{+} pairs\")\n",
    "# leg.AddEntry(hpure,\"#Z0\")\n",
    "leg.Draw()\n",
    "c_kstar.Draw()\n"
   ]
  },
  {
   "cell_type": "markdown",
   "metadata": {},
   "source": [
    "## Spectra"
   ]
  },
  {
   "cell_type": "code",
   "execution_count": 7,
   "metadata": {},
   "outputs": [
    {
     "ename": "KeyError",
     "evalue": "'electron'",
     "output_type": "error",
     "traceback": [
      "\u001b[0;31m---------------------------------------------------------------------------\u001b[0m",
      "\u001b[0;31mKeyError\u001b[0m                                  Traceback (most recent call last)",
      "\u001b[0;32m<ipython-input-7-8168c7ba029b>\u001b[0m in \u001b[0;36m<module>\u001b[0;34m\u001b[0m\n\u001b[1;32m     27\u001b[0m \u001b[0;32mfor\u001b[0m \u001b[0mp\u001b[0m \u001b[0;32min\u001b[0m \u001b[0mparts\u001b[0m\u001b[0;34m:\u001b[0m\u001b[0;34m\u001b[0m\u001b[0;34m\u001b[0m\u001b[0m\n\u001b[1;32m     28\u001b[0m     \u001b[0mheta\u001b[0m\u001b[0;34m[\u001b[0m\u001b[0mp\u001b[0m\u001b[0;34m]\u001b[0m\u001b[0;34m.\u001b[0m\u001b[0mSetMarkerStyle\u001b[0m\u001b[0;34m(\u001b[0m\u001b[0mROOT\u001b[0m\u001b[0;34m.\u001b[0m\u001b[0mkFullCircle\u001b[0m\u001b[0;34m)\u001b[0m\u001b[0;34m\u001b[0m\u001b[0;34m\u001b[0m\u001b[0m\n\u001b[0;32m---> 29\u001b[0;31m     \u001b[0mheta\u001b[0m\u001b[0;34m[\u001b[0m\u001b[0mp\u001b[0m\u001b[0;34m]\u001b[0m\u001b[0;34m.\u001b[0m\u001b[0mSetMarkerColor\u001b[0m\u001b[0;34m(\u001b[0m\u001b[0mcolors\u001b[0m\u001b[0;34m[\u001b[0m\u001b[0mp\u001b[0m\u001b[0;34m]\u001b[0m\u001b[0;34m)\u001b[0m\u001b[0;34m\u001b[0m\u001b[0;34m\u001b[0m\u001b[0m\n\u001b[0m\u001b[1;32m     30\u001b[0m     \u001b[0mbw\u001b[0m\u001b[0;34m=\u001b[0m\u001b[0mheta\u001b[0m\u001b[0;34m[\u001b[0m\u001b[0mp\u001b[0m\u001b[0;34m]\u001b[0m\u001b[0;34m.\u001b[0m\u001b[0mGetBinWidth\u001b[0m\u001b[0;34m(\u001b[0m\u001b[0;36m1\u001b[0m\u001b[0;34m)\u001b[0m\u001b[0;34m\u001b[0m\u001b[0;34m\u001b[0m\u001b[0m\n\u001b[1;32m     31\u001b[0m     \u001b[0mheta\u001b[0m\u001b[0;34m[\u001b[0m\u001b[0mp\u001b[0m\u001b[0;34m]\u001b[0m\u001b[0;34m.\u001b[0m\u001b[0mScale\u001b[0m\u001b[0;34m(\u001b[0m\u001b[0;36m1.\u001b[0m\u001b[0;34m/\u001b[0m\u001b[0;34m(\u001b[0m\u001b[0mbw\u001b[0m\u001b[0;34m*\u001b[0m\u001b[0mnEvents\u001b[0m\u001b[0;34m)\u001b[0m\u001b[0;34m)\u001b[0m\u001b[0;34m\u001b[0m\u001b[0;34m\u001b[0m\u001b[0m\n",
      "\u001b[0;31mKeyError\u001b[0m: 'electron'"
     ]
    }
   ],
   "source": [
    "heta={}\n",
    "hpt={}\n",
    "\n",
    "for p in parts:\n",
    "    heta[p]=ROOT.TH1D(\"eta\"+p,\"\",120,-12,12)\n",
    "    heta[p].Sumw2()\n",
    "    hpt[p]=ROOT.TH1D(\"pt\"+p,\"\",50,0,10)\n",
    "    hpt[p].Sumw2()\n",
    "\n",
    "def fillHistos(p):\n",
    "    name=p.GetName()\n",
    "    if name in parts:\n",
    "        heta[name].Fill(p.Eta())\n",
    "        hpt[name].Fill(p.Pt(),1/(p.Pt()))\n",
    "\n",
    "#generate events\n",
    "for i in range(nEvents):\n",
    "    pythia.GenerateEvent()\n",
    "    pythia.ImportParticles(particles,\"All\")\n",
    "    for p in particles:\n",
    "        if isFinal(p):\n",
    "            fillHistos(p)\n",
    "\n",
    "#format and normalize histograms, find ranges on y axes\n",
    "maxeta=0\n",
    "maxpt=0\n",
    "for p in parts:\n",
    "    heta[p].SetMarkerStyle(ROOT.kFullCircle)\n",
    "    heta[p].SetMarkerColor(colors[p])\n",
    "    bw=heta[p].GetBinWidth(1)\n",
    "    heta[p].Scale(1./(bw*nEvents))\n",
    "    maxeta=max(maxeta,heta[p].GetMaximum())\n",
    "    \n",
    "    hpt[p].SetMarkerStyle(ROOT.kFullCircle)\n",
    "    hpt[p].SetMarkerColor(colors[p])\n",
    "    bw=hpt[p].GetBinWidth(1)\n",
    "    hpt[p].Scale(1./(bw*nEvents))\n",
    "    maxpt=max(maxpt,hpt[p].GetMaximum())\n",
    "\n",
    "c_etapt = ROOT.TCanvas(\"c_etapt\",\"\",1600,600)\n",
    "c_etapt.Divide(2,1)\n",
    "\n",
    "leg=ROOT.TLegend(0.8,0.75,0.9,0.9)\n",
    "for p in parts:\n",
    "    leg.AddEntry(hpt[p], labels[p])\n",
    "\n",
    "c_etapt.cd(1).SetLogy()\n",
    "frame_pt=c_etapt.cd(1).DrawFrame(0,maxpt*1e-8,10,10*maxpt)\n",
    "frame_pt.GetXaxis().SetTitle(\"p_{T} [GeV/c]\")\n",
    "frame_pt.GetXaxis().SetTitleOffset(1.5)\n",
    "frame_pt.GetYaxis().SetTitleSize(15)\n",
    "frame_pt.GetYaxis().SetTitle(\"#frac{1}{p_{T}}#frac{dN}{dp_{T}} [GeV/c]^{-2}\")\n",
    "frame_pt.Draw()\n",
    "for p in parts:\n",
    "    hpt[p].Draw(\"p same\")\n",
    "leg.Draw()\n",
    "\n",
    "c_etapt.cd(2)\n",
    "frame_eta=c_etapt.cd(2).DrawFrame(-12,0,12,1.1*maxeta)\n",
    "frame_eta.GetXaxis().SetTitle(\"#eta\")\n",
    "frame_eta.GetYaxis().SetTitleSize(15)\n",
    "frame_eta.GetYaxis().SetTitle(\"#frac{dN}{d#eta} \")\n",
    "frame_eta.Draw()\n",
    "for p in parts:\n",
    "    heta[p].Draw(\"p same\")\n",
    "    \n",
    "leg.Draw()\n",
    "\n",
    "c_etapt.Draw()"
   ]
  },
  {
   "cell_type": "markdown",
   "metadata": {},
   "source": [
    "## 2. FSR off"
   ]
  },
  {
   "cell_type": "code",
   "execution_count": 8,
   "metadata": {},
   "outputs": [
    {
     "name": "stdout",
     "output_type": "stream",
     "text": [
      " *** TDatabasePDG::AddParticle: particle with PDGcode=90 already defined\n",
      " *** TDatabasePDG::AddParticle: particle with PDGcode=9900110 already defined\n",
      " *** TDatabasePDG::AddParticle: particle with PDGcode=9900210 already defined\n",
      " *** TDatabasePDG::AddParticle: particle with PDGcode=9900220 already defined\n",
      " *** TDatabasePDG::AddParticle: particle with PDGcode=9900330 already defined\n",
      " *** TDatabasePDG::AddParticle: particle with PDGcode=9900440 already defined\n",
      " *** TDatabasePDG::AddParticle: particle with PDGcode=9902110 already defined\n",
      " *** TDatabasePDG::AddParticle: particle with PDGcode=9902210 already defined\n"
     ]
    }
   ],
   "source": [
    "def makePythiaSilent(pythia):\n",
    "    pythia.ReadString(\"Init:showMultipartonInteractions = off\")\n",
    "    pythia.ReadString(\"Init:showChangedParticleData = off\")\n",
    "    pythia.ReadString(\"Init:showProcesses = off\")\n",
    "    pythia.ReadString(\"Init:showChangedSettings = off\")\n",
    "    pythia.ReadString(\"Next:numberShowInfo = 0\")\n",
    "    pythia.ReadString(\"Next:numberShowProcess = 0\")\n",
    "    pythia.ReadString(\"Next:numberShowEvent = 0\")\n",
    "    pythia.ReadString(\"Next:numberCount = 0\")\n",
    "    pythia.ReadString(\"WeakSingleBoson:ffbar2gmZ = on\")\n",
    "    pythia.ReadString(\"HadronLevel:all = off\")      # maybe this is ok\n",
    "    pythia.ReadString(\"23:onMode = off\")    # disable decay of Z boson\n",
    "    pythia.ReadString(\"23:onIfAny = 11 -11\")    # enable decay of Z boson in channels containing electron and positon\n",
    "    pythia.ReadString(\"PhaseSpace:mHatMin = 111\")\n",
    "    pythia.ReadString(\"PhaseSpace:mHatMax = 71\")\n",
    "    pythia.ReadString(\"PartonLevel:FSR = off\")\n",
    "    # pythia.ReadString(\"PartonLevel:FSRinProcess = off\")\n",
    "    # pythia.ReadString(\"PartonLevel:FSRinResonances = off\")\n",
    "    \n",
    "\n",
    "pythia = ROOT.TPythia8(False)   # suppress the banner message\n",
    "makePythiaSilent(pythia)\n",
    "# pythia.ReadString(\"HardQCD:all = on\")   # passing set of parameters, options in Pythia documentation; \n",
    "pythia.ReadString(\"Random:setSeed = on\")\n",
    "pythia.ReadString(\"Random:seed = 42\") # to ro randomize seed; while we give taahe same seed we will receive the same results\n",
    "pythia.Initialize(2212 , -2212 , 630)  # 2212 - proton in PDG codes, antiproton has a minus sign\n",
    "particles = ROOT.TClonesArray(\"TParticle\", 1000) #prepare space for generated particles\n",
    "\n",
    "# Warning about cross section violated is ok"
   ]
  },
  {
   "cell_type": "code",
   "execution_count": 9,
   "metadata": {},
   "outputs": [
    {
     "name": "stdout",
     "output_type": "stream",
     "text": [
      " PYTHIA Warning in JunctionSplitting::SplitJunPairs: parallel junction state not allowed.  \n",
      " PYTHIA Warning in JunctionSplitting::CheckColours: Not possible to split junctions; making new colours  \n",
      " PYTHIA Error in BeamRemnants::add: failed to find physical colour state after colour reconnection  \n",
      " PYTHIA Warning in SimpleSpaceShower::pT2nextQCD: weight above unity  \n"
     ]
    },
    {
     "name": "stderr",
     "output_type": "stream",
     "text": [
      "Warning in <TROOT::Append>: Replacing existing TH1: h_all (Potential memory leak).\n",
      "Warning in <TROOT::Append>: Replacing existing TH1: h_pure (Potential memory leak).\n"
     ]
    }
   ],
   "source": [
    "nEvents=10000\n",
    "parts=[\"electron\", \"antielectron\", \"gamma\"]     # our particles\n",
    "labels={\"electron\": \"e-\", \"antielectron\": \"e+\", \"gamma\" : \"#gamma\"}\n",
    "colors={\"proton\": ROOT.kBlack, \"antielectron\": ROOT.kBlue, \"gamma\": ROOT.kMagenta}\n",
    "heta={}\n",
    "hpt={}\n",
    "\n",
    "h=ROOT.TH1D(\"h_all\",\"\",300, 70, 190)    # histograms start\n",
    "hpure=ROOT.TH1D(\"h_pure\",\"\",300, 70, 190)\n",
    "\n",
    "\n",
    "def getZcandidates(parts):\n",
    "    eminus = [p for p in parts if isFinal(p,\"e-\")]    # creates list\n",
    "    eplus = [p for p in parts if isFinal(p,\"e+\")]\n",
    "    return list(it.product(eminus,eplus))   # pair of electron and positon\n",
    "\n",
    "pythia.GenerateEvent()\n",
    "\n",
    "for i in range(nEvents):\n",
    "    pythia.GenerateEvent()\n",
    "    pythia.ImportParticles(particles,\"All\")\n",
    "    #for all possible e- e+ pairs we fill invariant mass histogram\n",
    "    for pair in getZcandidates(particles):\n",
    "        h.Fill(getMinv(pair))\n",
    "    #now we look for actual Z's that decayed:\n",
    "    for p in particles:\n",
    "        if p.GetName()==\"Z0\":\n",
    "            #we accept Z0 only if it decayed to electron and positon\n",
    "            d0=particles[p.GetDaughter(0)].GetName()\n",
    "            d1=particles[p.GetDaughter(1)].GetName()\n",
    "            if {d0,d1} != {\"e-\",\"e+\"}:     # curly braces represent set datatype in python\n",
    "                continue\n",
    "            p4=ROOT.TLorentzVector()\n",
    "            p.Momentum(p4)\n",
    "            # print(p4.M())\n",
    "            hpure.Fill(p4.M())\n",
    "\n",
    "\n",
    "# for p in parts:\n",
    "bw=h.GetBinWidth(1)\n",
    "h.Scale(1./(bw*nEvents))\n",
    "\n",
    "\n",
    "# d_kstar = ROOT.TCanvas(\"c\",\"\",800,600)\n",
    "# ROOT.gStyle.SetOptStat(0)\n",
    "# h.GetXaxis().SetTitle(\"M_{#e^{-}e^{+}} [GeV/#it{c}^{2}]\")\n",
    "# h.GetXaxis().SetTitleOffset(1.1)\n",
    "# h.GetYaxis().SetTitle(\"Entries\")\n",
    "# h.SetLineWidth(2)\n",
    "# h.Draw()\n",
    "# hpure.SetLineWidth(2)\n",
    "# hpure.SetLineColor(ROOT.kRed)\n",
    "# hpure.Draw(\"same\")\n",
    "# leg=ROOT.TLegend(0.5,0.7,0.9,0.9)\n",
    "# leg.AddEntry(h,\"#e^{-}e^{+} pairs fsr off\")\n",
    "# # leg.AddEntry(hpure,\"#pi^{-}K^{+} pairs from K^{*} decay\")\n",
    "# leg.Draw()\n",
    "# d_kstar.Draw()\n",
    "\n",
    "# Warnings are ok"
   ]
  },
  {
   "cell_type": "markdown",
   "metadata": {},
   "source": [
    "## Draw plot"
   ]
  },
  {
   "cell_type": "code",
   "execution_count": 10,
   "metadata": {},
   "outputs": [
    {
     "name": "stderr",
     "output_type": "stream",
     "text": [
      "Warning in <TCanvas::Constructor>: Deleting canvas with same name: c\n"
     ]
    },
    {
     "data": {
      "text/html": [
       "\n",
       "\n",
       "<div id=\"root_plot_1649272115813\"\n",
       "     style=\"width: 796px; height: 572px\">\n",
       "</div>\n",
       "<script>\n",
       "\n",
       "function display_root_plot_1649272115813(Core) {\n",
       "   let obj = Core.parse({\"_typename\":\"TCanvas\",\"fUniqueID\":0,\"fBits\":3342344,\"fLineColor\":1,\"fLineStyle\":1,\"fLineWidth\":1,\"fFillColor\":0,\"fFillStyle\":1001,\"fLeftMargin\":0.1,\"fRightMargin\":0.1,\"fBottomMargin\":0.1,\"fTopMargin\":0.1,\"fXfile\":2,\"fYfile\":2,\"fAfile\":1,\"fXstat\":0.99,\"fYstat\":0.99,\"fAstat\":2,\"fFrameFillColor\":0,\"fFrameLineColor\":1,\"fFrameFillStyle\":1001,\"fFrameLineStyle\":1,\"fFrameLineWidth\":1,\"fFrameBorderSize\":1,\"fFrameBorderMode\":0,\"fX1\":54.9999988824128,\"fY1\":-0.00906033633977974,\"fX2\":205.000001117587,\"fY2\":0.0815430216576365,\"fXtoAbsPixelk\":-291.866606386852,\"fXtoPixelk\":-291.866606386852,\"fXtoPixel\":5.30666658759117,\"fYtoAbsPixelk\":514.800046590614,\"fYtoPixelk\":514.800046590614,\"fYtoPixel\":-6313.23179010994,\"fUtoAbsPixelk\":5e-5,\"fUtoPixelk\":5e-5,\"fUtoPixel\":796,\"fVtoAbsPixelk\":572.00005,\"fVtoPixelk\":572,\"fVtoPixel\":-572,\"fAbsPixeltoXk\":54.9999988824128,\"fPixeltoXk\":54.9999988824128,\"fPixeltoX\":0.188442213863284,\"fAbsPixeltoYk\":0.0815430216576365,\"fPixeltoYk\":-0.00906033633977974,\"fPixeltoY\":-1.58397479016462e-4,\"fXlowNDC\":0,\"fYlowNDC\":0,\"fXUpNDC\":1,\"fYUpNDC\":1,\"fWNDC\":1,\"fHNDC\":1,\"fAbsXlowNDC\":0,\"fAbsYlowNDC\":0,\"fAbsWNDC\":1,\"fAbsHNDC\":1,\"fUxmin\":70,\"fUymin\":0,\"fUxmax\":190,\"fUymax\":0.0724826853178567,\"fTheta\":30,\"fPhi\":30,\"fAspectRatio\":0,\"fNumber\":0,\"fTickx\":0,\"fTicky\":0,\"fLogx\":0,\"fLogy\":0,\"fLogz\":0,\"fPadPaint\":0,\"fCrosshair\":0,\"fCrosshairPos\":0,\"fBorderSize\":2,\"fBorderMode\":0,\"fModified\":false,\"fGridx\":false,\"fGridy\":false,\"fAbsCoord\":false,\"fEditable\":true,\"fFixedAspectRatio\":false,\"fPrimitives\":{\"_typename\":\"TList\",\"name\":\"TList\",\"arr\":[{\"_typename\":\"TFrame\",\"fUniqueID\":0,\"fBits\":8,\"fLineColor\":1,\"fLineStyle\":1,\"fLineWidth\":1,\"fFillColor\":0,\"fFillStyle\":1001,\"fX1\":70,\"fY1\":0,\"fX2\":190,\"fY2\":0.0724826853178567,\"fBorderSize\":1,\"fBorderMode\":0},{\"_typename\":\"TH1D\",\"fUniqueID\":0,\"fBits\":520,\"fName\":\"h_all\",\"fTitle\":\"\",\"fLineColor\":602,\"fLineStyle\":1,\"fLineWidth\":2,\"fFillColor\":0,\"fFillStyle\":1001,\"fMarkerColor\":1,\"fMarkerStyle\":1,\"fMarkerSize\":1,\"fNcells\":302,\"fXaxis\":{\"_typename\":\"TAxis\",\"fUniqueID\":0,\"fBits\":0,\"fName\":\"xaxis\",\"fTitle\":\"M_{#e^{-}e^{+}} [GeV\\/#it{c}^{2}]\",\"fNdivisions\":510,\"fAxisColor\":1,\"fLabelColor\":1,\"fLabelFont\":42,\"fLabelOffset\":0.005,\"fLabelSize\":0.035,\"fTickLength\":0.03,\"fTitleOffset\":1.1,\"fTitleSize\":0.035,\"fTitleColor\":1,\"fTitleFont\":42,\"fNbins\":300,\"fXmin\":70,\"fXmax\":190,\"fXbins\":[],\"fFirst\":0,\"fLast\":0,\"fBits2\":0,\"fTimeDisplay\":false,\"fTimeFormat\":\"\",\"fLabels\":null,\"fModLabs\":null},\"fYaxis\":{\"_typename\":\"TAxis\",\"fUniqueID\":0,\"fBits\":0,\"fName\":\"yaxis\",\"fTitle\":\"Entries\",\"fNdivisions\":510,\"fAxisColor\":1,\"fLabelColor\":1,\"fLabelFont\":42,\"fLabelOffset\":0.005,\"fLabelSize\":0.035,\"fTickLength\":0.03,\"fTitleOffset\":0,\"fTitleSize\":0.035,\"fTitleColor\":1,\"fTitleFont\":42,\"fNbins\":1,\"fXmin\":0,\"fXmax\":1,\"fXbins\":[],\"fFirst\":0,\"fLast\":0,\"fBits2\":0,\"fTimeDisplay\":false,\"fTimeFormat\":\"\",\"fLabels\":null,\"fModLabs\":null},\"fZaxis\":{\"_typename\":\"TAxis\",\"fUniqueID\":0,\"fBits\":0,\"fName\":\"zaxis\",\"fTitle\":\"\",\"fNdivisions\":510,\"fAxisColor\":1,\"fLabelColor\":1,\"fLabelFont\":42,\"fLabelOffset\":0.005,\"fLabelSize\":0.035,\"fTickLength\":0.03,\"fTitleOffset\":1,\"fTitleSize\":0.035,\"fTitleColor\":1,\"fTitleFont\":42,\"fNbins\":1,\"fXmin\":0,\"fXmax\":1,\"fXbins\":[],\"fFirst\":0,\"fLast\":0,\"fBits2\":0,\"fTimeDisplay\":false,\"fTimeFormat\":\"\",\"fLabels\":null,\"fModLabs\":null},\"fBarOffset\":0,\"fBarWidth\":1000,\"fEntries\":10000,\"fTsumw\":2.42425,\"fTsumw2\":6.060625e-4,\"fTsumwx\":309.732158372801,\"fTsumwx2\":40256.1919188889,\"fMaximum\":-1111,\"fMinimum\":-1111,\"fNormFactor\":0,\"fContour\":[],\"fSumw2\":[0,0,0,0,0,0,0,0,0,0,0,0,0,0,0,0,0,0,0,0,0,0,0,0,0,0,0,0,0,0,0,0,0,0,0,0,0,0,0,0,0,0,0,0,0,0,0,0,0,0,0,0,0,0,0,0,0,0,0,0,0,0,0,0,0,0,0,0,0,0,0,0,0,0,0,0,0,0,0,0,0,0,0,0,0,0,0,0,0,0,0,0,0,0,0,0,0,0,0,0,0,0,0,8.1875e-6,1.5e-5,1.5e-5,1.575e-5,1.625e-5,1.53125e-5,1.325e-5,1.625e-5,1.19375e-5,1.325e-5,1.3625e-5,1.025e-5,1.10625e-5,9.5625e-6,1.0625e-5,9.375e-6,1.11875e-5,1.0625e-5,8.5e-6,7.625e-6,8.75e-6,9.0625e-6,8.4375e-6,7.1875e-6,7.6875e-6,6.5625e-6,6.9375e-6,5.875e-6,6.5e-6,7.25e-6,5.375e-6,6.875e-6,6.125e-6,6e-6,6.8125e-6,4.75e-6,5.8125e-6,5.0625e-6,5.5e-6,5.8125e-6,5.9375e-6,5.9375e-6,5.0625e-6,5.1875e-6,4.6875e-6,4e-6,4.25e-6,4e-6,3.9375e-6,3.0625e-6,3.6875e-6,4.4375e-6,2.9375e-6,3.4375e-6,3.625e-6,3.4375e-6,2.875e-6,3.0625e-6,2.1875e-6,2.375e-6,3.25e-6,2.3125e-6,3.125e-6,1.875e-6,3.0625e-6,2.125e-6,2.5e-6,2.875e-6,2.5e-6,2.6875e-6,2.1875e-6,2.4375e-6,2.25e-6,2.875e-6,2.375e-6,2.875e-6,1.75e-6,2.375e-6,2.5625e-6,2.25e-6,2.0625e-6,2.3125e-6,2.4375e-6,1.625e-6,1.6875e-6,2e-6,1.625e-6,1.8125e-6,1.9375e-6,2e-6,1.75e-6,1.8125e-6,1.5e-6,2e-6,1.375e-6,1.5625e-6,1.375e-6,1.5625e-6,1.625e-6,1.5625e-6,1.5625e-6,1.75e-6,8.75e-7,1.375e-6,1.5625e-6,1.1875e-6,1.375e-6,1.25e-6,1.5625e-6,1e-6,8.75e-7,1.25e-6,1.375e-6,8.125e-7,8.75e-7,1.1875e-6,9.375e-7,7.5e-7,9.375e-7,7.5e-7,1e-6,8.75e-7,1.0625e-6,6.875e-7,1.125e-6,1.25e-6,1.375e-6,4.375e-7,1.1875e-6,1e-6,9.375e-7,1.1875e-6,1.1875e-6,3.75e-7,5.625e-7,4.375e-7,6.25e-7,8.125e-7,3.125e-7,6.875e-7,5.625e-7,6.25e-7,5.625e-7,6.875e-7,3.75e-7,8.125e-7,5e-7,5e-7,5e-7,6.875e-7,9.375e-7,8.125e-7,5e-7,5.625e-7,7.5e-7,5.625e-7,4.375e-7,5e-7,6.25e-7,3.75e-7,5e-7,4.375e-7,4.375e-7,5e-7,3.125e-7,4.375e-7,6.875e-7,3.75e-7,5.625e-7,5.625e-7,1.875e-7,3.75e-7,3.75e-7,4.375e-7,3.75e-7,5.625e-7,2.5e-7,4.375e-7,6.25e-7,3.125e-7,7.5e-7,6.25e-7,1.25e-7,3.125e-7,3.125e-7,4.375e-7,2.5e-7,3.125e-7,2.5e-7,3.75e-7,5e-7,5.625e-7,1.25e-7,3.75e-7,2.5e-7,3.75e-7,6.25e-8,6.25e-8,1.89375e-5],\"fOption\":\"\",\"fFunctions\":{\"_typename\":\"TList\",\"name\":\"TList\",\"arr\":[],\"opt\":[]},\"fBufferSize\":0,\"fBuffer\":[],\"fBinStatErrOpt\":0,\"fStatOverflows\":2,\"fArray\":[0,0,0,0,0,0,0,0,0,0,0,0,0,0,0,0,0,0,0,0,0,0,0,0,0,0,0,0,0,0,0,0,0,0,0,0,0,0,0,0,0,0,0,0,0,0,0,0,0,0,0,0,0,0,0,0,0,0,0,0,0,0,0,0,0,0,0,0,0,0,0,0,0,0,0,0,0,0,0,0,0,0,0,0,0,0,0,0,0,0,0,0,0,0,0,0,0,0,0,0,0,0,0,0.03275,0.06,0.06,0.063,0.065,0.06125,0.053,0.065,0.04775,0.053,0.0545,0.041,0.04425,0.03825,0.0425,0.0375,0.04475,0.0425,0.034,0.0305,0.035,0.03625,0.03375,0.02875,0.03075,0.02625,0.02775,0.0235,0.026,0.029,0.0215,0.0275,0.0245,0.024,0.02725,0.019,0.02325,0.02025,0.022,0.02325,0.02375,0.02375,0.02025,0.02075,0.01875,0.016,0.017,0.016,0.01575,0.01225,0.01475,0.01775,0.01175,0.01375,0.0145,0.01375,0.0115,0.01225,0.00875,0.0095,0.013,0.00925,0.0125,0.0075,0.01225,0.0085,0.01,0.0115,0.01,0.01075,0.00875,0.00975,0.009,0.0115,0.0095,0.0115,0.007,0.0095,0.01025,0.009,0.00825,0.00925,0.00975,0.0065,0.00675,0.008,0.0065,0.00725,0.00775,0.008,0.007,0.00725,0.006,0.008,0.0055,0.00625,0.0055,0.00625,0.0065,0.00625,0.00625,0.007,0.0035,0.0055,0.00625,0.00475,0.0055,0.005,0.00625,0.004,0.0035,0.005,0.0055,0.00325,0.0035,0.00475,0.00375,0.003,0.00375,0.003,0.004,0.0035,0.00425,0.00275,0.0045,0.005,0.0055,0.00175,0.00475,0.004,0.00375,0.00475,0.00475,0.0015,0.00225,0.00175,0.0025,0.00325,0.00125,0.00275,0.00225,0.0025,0.00225,0.00275,0.0015,0.00325,0.002,0.002,0.002,0.00275,0.00375,0.00325,0.002,0.00225,0.003,0.00225,0.00175,0.002,0.0025,0.0015,0.002,0.00175,0.00175,0.002,0.00125,0.00175,0.00275,0.0015,0.00225,0.00225,7.5e-4,0.0015,0.0015,0.00175,0.0015,0.00225,0.001,0.00175,0.0025,0.00125,0.003,0.0025,5e-4,0.00125,0.00125,0.00175,0.001,0.00125,0.001,0.0015,0.002,0.00225,5e-4,0.0015,0.001,0.0015,2.5e-4,2.5e-4,0.07575]},{\"_typename\":\"TH1D\",\"fUniqueID\":0,\"fBits\":520,\"fName\":\"h_pure\",\"fTitle\":\"\",\"fLineColor\":632,\"fLineStyle\":1,\"fLineWidth\":2,\"fFillColor\":0,\"fFillStyle\":1001,\"fMarkerColor\":1,\"fMarkerStyle\":1,\"fMarkerSize\":1,\"fNcells\":302,\"fXaxis\":{\"_typename\":\"TAxis\",\"fUniqueID\":0,\"fBits\":0,\"fName\":\"xaxis\",\"fTitle\":\"\",\"fNdivisions\":510,\"fAxisColor\":1,\"fLabelColor\":1,\"fLabelFont\":42,\"fLabelOffset\":0.005,\"fLabelSize\":0.035,\"fTickLength\":0.03,\"fTitleOffset\":1,\"fTitleSize\":0.035,\"fTitleColor\":1,\"fTitleFont\":42,\"fNbins\":300,\"fXmin\":70,\"fXmax\":190,\"fXbins\":[],\"fFirst\":0,\"fLast\":0,\"fBits2\":0,\"fTimeDisplay\":false,\"fTimeFormat\":\"\",\"fLabels\":null,\"fModLabs\":null},\"fYaxis\":{\"_typename\":\"TAxis\",\"fUniqueID\":0,\"fBits\":0,\"fName\":\"yaxis\",\"fTitle\":\"\",\"fNdivisions\":510,\"fAxisColor\":1,\"fLabelColor\":1,\"fLabelFont\":42,\"fLabelOffset\":0.005,\"fLabelSize\":0.035,\"fTickLength\":0.03,\"fTitleOffset\":0,\"fTitleSize\":0.035,\"fTitleColor\":1,\"fTitleFont\":42,\"fNbins\":1,\"fXmin\":0,\"fXmax\":1,\"fXbins\":[],\"fFirst\":0,\"fLast\":0,\"fBits2\":0,\"fTimeDisplay\":false,\"fTimeFormat\":\"\",\"fLabels\":null,\"fModLabs\":null},\"fZaxis\":{\"_typename\":\"TAxis\",\"fUniqueID\":0,\"fBits\":0,\"fName\":\"zaxis\",\"fTitle\":\"\",\"fNdivisions\":510,\"fAxisColor\":1,\"fLabelColor\":1,\"fLabelFont\":42,\"fLabelOffset\":0.005,\"fLabelSize\":0.035,\"fTickLength\":0.03,\"fTitleOffset\":1,\"fTitleSize\":0.035,\"fTitleColor\":1,\"fTitleFont\":42,\"fNbins\":1,\"fXmin\":0,\"fXmax\":1,\"fXbins\":[],\"fFirst\":0,\"fLast\":0,\"fBits2\":0,\"fTimeDisplay\":false,\"fTimeFormat\":\"\",\"fLabels\":null,\"fModLabs\":null},\"fBarOffset\":0,\"fBarWidth\":1000,\"fEntries\":10000,\"fTsumw\":9697,\"fTsumw2\":9697,\"fTsumwx\":1238928.63349121,\"fTsumwx2\":161024767.675555,\"fMaximum\":-1111,\"fMinimum\":-1111,\"fNormFactor\":0,\"fContour\":[],\"fSumw2\":[],\"fOption\":\"\",\"fFunctions\":{\"_typename\":\"TList\",\"name\":\"TList\",\"arr\":[],\"opt\":[]},\"fBufferSize\":0,\"fBuffer\":[],\"fBinStatErrOpt\":0,\"fStatOverflows\":2,\"fArray\":[0,0,0,0,0,0,0,0,0,0,0,0,0,0,0,0,0,0,0,0,0,0,0,0,0,0,0,0,0,0,0,0,0,0,0,0,0,0,0,0,0,0,0,0,0,0,0,0,0,0,0,0,0,0,0,0,0,0,0,0,0,0,0,0,0,0,0,0,0,0,0,0,0,0,0,0,0,0,0,0,0,0,0,0,0,0,0,0,0,0,0,0,0,0,0,0,0,0,0,0,0,0,0,131,240,240,252,260,245,212,260,191,212,218,164,177,153,170,150,179,170,136,122,140,145,135,115,123,105,111,94,104,116,86,110,98,96,109,76,93,81,88,93,95,95,81,83,75,64,68,64,63,49,59,71,47,55,58,55,46,49,35,38,52,37,50,30,49,34,40,46,40,43,35,39,36,46,38,46,28,38,41,36,33,37,39,26,27,32,26,29,31,32,28,29,24,32,22,25,22,25,26,25,25,28,14,22,25,19,22,20,25,16,14,20,22,13,14,19,15,12,15,12,16,14,17,11,18,20,22,7,19,16,15,19,19,6,9,7,10,13,5,11,9,10,9,11,6,13,8,8,8,11,15,13,8,9,12,9,7,8,10,6,8,7,7,8,5,7,11,6,9,9,3,6,6,7,6,9,4,7,10,5,12,10,2,5,5,7,4,5,4,6,8,9,2,6,4,6,1,1,303]},{\"_typename\":\"TLegend\",\"fUniqueID\":0,\"fBits\":8,\"fLineColor\":1,\"fLineStyle\":1,\"fLineWidth\":1,\"fFillColor\":0,\"fFillStyle\":1001,\"fX1\":130,\"fY1\":0.0543620142584116,\"fX2\":190.00000089407,\"fY2\":0.0724826858578949,\"fX1NDC\":0.5,\"fY1NDC\":0.7,\"fX2NDC\":0.9,\"fY2NDC\":0.9,\"fBorderSize\":1,\"fInit\":1,\"fShadowColor\":1,\"fCornerRadius\":0,\"fOption\":\"brNDC\",\"fName\":\"TPave\",\"fTextAngle\":0,\"fTextSize\":0,\"fTextAlign\":12,\"fTextColor\":1,\"fTextFont\":42,\"fPrimitives\":{\"_typename\":\"TList\",\"name\":\"TList\",\"arr\":[{\"_typename\":\"TLegendEntry\",\"fUniqueID\":0,\"fBits\":0,\"fTextAngle\":0,\"fTextSize\":0,\"fTextAlign\":0,\"fTextColor\":0,\"fTextFont\":42,\"fLineColor\":602,\"fLineStyle\":1,\"fLineWidth\":2,\"fFillColor\":0,\"fFillStyle\":1001,\"fMarkerColor\":1,\"fMarkerStyle\":1,\"fMarkerSize\":1,\"fObject\":{\"$ref\":3},\"fLabel\":\"#e^{-}e^{+} pairs fsr off\",\"fOption\":\"lpf\"},{\"_typename\":\"TLegendEntry\",\"fUniqueID\":0,\"fBits\":0,\"fTextAngle\":0,\"fTextSize\":0,\"fTextAlign\":0,\"fTextColor\":0,\"fTextFont\":42,\"fLineColor\":632,\"fLineStyle\":1,\"fLineWidth\":2,\"fFillColor\":0,\"fFillStyle\":1001,\"fMarkerColor\":1,\"fMarkerStyle\":1,\"fMarkerSize\":1,\"fObject\":{\"$ref\":8},\"fLabel\":\"#Z0\",\"fOption\":\"lpf\"}],\"opt\":[\"lpf\",\"lpf\"]},\"fEntrySeparation\":0.1,\"fMargin\":0.25,\"fNColumns\":1,\"fColumnSeparation\":0},{\"_typename\":\"TStyle\",\"fUniqueID\":0,\"fBits\":0,\"fName\":\"Modern\",\"fTitle\":\"Modern Style\",\"fLineColor\":1,\"fLineStyle\":1,\"fLineWidth\":1,\"fFillColor\":19,\"fFillStyle\":1001,\"fMarkerColor\":1,\"fMarkerStyle\":1,\"fMarkerSize\":1,\"fTextAngle\":0,\"fTextSize\":0.05,\"fTextAlign\":11,\"fTextColor\":1,\"fTextFont\":62,\"fXaxis\":{\"_typename\":\"TAttAxis\",\"fNdivisions\":510,\"fAxisColor\":1,\"fLabelColor\":1,\"fLabelFont\":42,\"fLabelOffset\":0.005,\"fLabelSize\":0.035,\"fTickLength\":0.03,\"fTitleOffset\":1,\"fTitleSize\":0.035,\"fTitleColor\":1,\"fTitleFont\":42},\"fYaxis\":{\"_typename\":\"TAttAxis\",\"fNdivisions\":510,\"fAxisColor\":1,\"fLabelColor\":1,\"fLabelFont\":42,\"fLabelOffset\":0.005,\"fLabelSize\":0.035,\"fTickLength\":0.03,\"fTitleOffset\":0,\"fTitleSize\":0.035,\"fTitleColor\":1,\"fTitleFont\":42},\"fZaxis\":{\"_typename\":\"TAttAxis\",\"fNdivisions\":510,\"fAxisColor\":1,\"fLabelColor\":1,\"fLabelFont\":42,\"fLabelOffset\":0.005,\"fLabelSize\":0.035,\"fTickLength\":0.03,\"fTitleOffset\":1,\"fTitleSize\":0.035,\"fTitleColor\":1,\"fTitleFont\":42},\"fBarWidth\":1,\"fBarOffset\":0,\"fColorModelPS\":0,\"fDrawBorder\":0,\"fOptLogx\":0,\"fOptLogy\":0,\"fOptLogz\":0,\"fOptDate\":0,\"fOptStat\":0,\"fOptTitle\":1,\"fOptFile\":0,\"fOptFit\":0,\"fShowEventStatus\":0,\"fShowEditor\":0,\"fShowToolBar\":0,\"fNumberContours\":20,\"fAttDate\":{\"_typename\":\"TAttText\",\"fTextAngle\":0,\"fTextSize\":0.025,\"fTextAlign\":11,\"fTextColor\":1,\"fTextFont\":62},\"fDateX\":0.01,\"fDateY\":0.01,\"fEndErrorSize\":2,\"fErrorX\":0.5,\"fFuncColor\":2,\"fFuncStyle\":1,\"fFuncWidth\":2,\"fGridColor\":0,\"fGridStyle\":3,\"fGridWidth\":1,\"fLegendBorderSize\":1,\"fLegendFillColor\":0,\"fLegendFont\":42,\"fLegendTextSize\":0,\"fHatchesLineWidth\":1,\"fHatchesSpacing\":1,\"fFrameFillColor\":0,\"fFrameLineColor\":1,\"fFrameFillStyle\":1001,\"fFrameLineStyle\":1,\"fFrameLineWidth\":1,\"fFrameBorderSize\":1,\"fFrameBorderMode\":0,\"fHistFillColor\":0,\"fHistLineColor\":602,\"fHistFillStyle\":1001,\"fHistLineStyle\":1,\"fHistLineWidth\":1,\"fHistMinimumZero\":false,\"fHistTopMargin\":0.05,\"fCanvasPreferGL\":false,\"fCanvasColor\":0,\"fCanvasBorderSize\":2,\"fCanvasBorderMode\":0,\"fCanvasDefH\":500,\"fCanvasDefW\":700,\"fCanvasDefX\":10,\"fCanvasDefY\":10,\"fPadColor\":0,\"fPadBorderSize\":2,\"fPadBorderMode\":0,\"fPadBottomMargin\":0.1,\"fPadTopMargin\":0.1,\"fPadLeftMargin\":0.1,\"fPadRightMargin\":0.1,\"fPadGridX\":false,\"fPadGridY\":false,\"fPadTickX\":0,\"fPadTickY\":0,\"fPaperSizeX\":20,\"fPaperSizeY\":26,\"fScreenFactor\":1,\"fStatColor\":0,\"fStatTextColor\":1,\"fStatBorderSize\":1,\"fStatFont\":42,\"fStatFontSize\":0,\"fStatStyle\":1001,\"fStatFormat\":\"6.4g\",\"fStatX\":0.98,\"fStatY\":0.935,\"fStatW\":0.2,\"fStatH\":0.16,\"fStripDecimals\":true,\"fTitleAlign\":23,\"fTitleColor\":0,\"fTitleTextColor\":1,\"fTitleBorderSize\":0,\"fTitleFont\":42,\"fTitleFontSize\":0.05,\"fTitleStyle\":0,\"fTitleX\":0.5,\"fTitleY\":0.995,\"fTitleW\":0,\"fTitleH\":0,\"fLegoInnerR\":0.5,\"fLineStyle\":[\"\",\"  \",\" 12 12\",\" 4 8\",\" 12 16 4 16\",\" 20 12 4 12\",\" 20 12 4 12 4 12 4 12\",\" 20 20\",\" 20 12 4 12 4 12\",\" 80 20\",\" 80 40 4 40\",\"  \",\"  \",\"  \",\"  \",\"  \",\"  \",\"  \",\"  \",\"  \",\"  \",\"  \",\"  \",\"  \",\"  \",\"  \",\"  \",\"  \",\"  \",\"  \"],\"fHeaderPS\":\"\",\"fTitlePS\":\"\",\"fFitFormat\":\"5.4g\",\"fPaintTextFormat\":\"g\",\"fLineScalePS\":3,\"fJoinLinePS\":0,\"fCapLinePS\":0,\"fTimeOffset\":788918400,\"fImageScaling\":1}],\"opt\":[\"\",\"\",\"same\",\"\",\"\"]},\"fExecs\":null,\"fName\":\"c\",\"fTitle\":\"\",\"fNumPaletteColor\":0,\"fNextPaletteColor\":0,\"fDISPLAY\":\"$DISPLAY\",\"fDoubleBuffer\":0,\"fRetained\":true,\"fXsizeUser\":0,\"fYsizeUser\":0,\"fXsizeReal\":20,\"fYsizeReal\":15,\"fWindowTopX\":0,\"fWindowTopY\":0,\"fWindowWidth\":0,\"fWindowHeight\":0,\"fCw\":796,\"fCh\":572,\"fCatt\":{\"_typename\":\"TAttCanvas\",\"fXBetween\":2,\"fYBetween\":2,\"fTitleFromTop\":1.2,\"fXdate\":0.2,\"fYdate\":0.3,\"fAdate\":1},\"kMoveOpaque\":true,\"kResizeOpaque\":true,\"fHighLightColor\":2,\"fBatch\":true,\"kShowEventStatus\":false,\"kAutoExec\":true,\"kMenuBar\":true});\n",
       "   Core.settings.HandleKeys = false;\n",
       "   Core.draw(\"root_plot_1649272115813\", obj, \"\");\n",
       "}\n",
       "\n",
       "function script_load_root_plot_1649272115813(src, on_error) {\n",
       "    let script = document.createElement('script');\n",
       "    script.src = src;\n",
       "    script.onload = function() { display_root_plot_1649272115813(JSROOT); };\n",
       "    script.onerror = function() { script.remove(); on_error(); };\n",
       "    document.head.appendChild(script);\n",
       "}\n",
       "\n",
       "if (typeof requirejs !== 'undefined') {\n",
       "\n",
       "    // We are in jupyter notebooks, use require.js which should be configured already\n",
       "    requirejs.config({\n",
       "       paths: { 'JSRootCore' : [ 'scripts/JSRoot.core', 'https://root.cern/js/6.1.1/scripts/JSRoot.core.min', 'https://jsroot.gsi.de/6.1.1/scripts/JSRoot.core.min' ] }\n",
       "    })(['JSRootCore'],  function(Core) {\n",
       "       display_root_plot_1649272115813(Core);\n",
       "    });\n",
       "\n",
       "} else if (typeof JSROOT !== 'undefined') {\n",
       "\n",
       "   // JSROOT already loaded, just use it\n",
       "   display_root_plot_1649272115813(JSROOT);\n",
       "\n",
       "} else {\n",
       "\n",
       "    // We are in jupyterlab without require.js, directly loading jsroot\n",
       "    // Jupyterlab might be installed in a different base_url so we need to know it.\n",
       "    try {\n",
       "        var base_url = JSON.parse(document.getElementById('jupyter-config-data').innerHTML).baseUrl;\n",
       "    } catch(_) {\n",
       "        var base_url = '/';\n",
       "    }\n",
       "\n",
       "    // Try loading a local version of requirejs and fallback to cdn if not possible.\n",
       "    script_load_root_plot_1649272115813(base_url + 'static/scripts/JSRoot.core.js', function(){\n",
       "        console.error('Fail to load JSROOT locally, please check your jupyter_notebook_config.py file');\n",
       "        script_load_root_plot_1649272115813('https://root.cern/js/6.1.1/scripts/JSRoot.core.min.js', function(){\n",
       "            document.getElementById(\"root_plot_1649272115813\").innerHTML = \"Failed to load JSROOT\";\n",
       "        });\n",
       "    });\n",
       "}\n",
       "\n",
       "</script>\n"
      ],
      "text/plain": [
       "<IPython.core.display.HTML object>"
      ]
     },
     "metadata": {},
     "output_type": "display_data"
    }
   ],
   "source": [
    "d_kstar = ROOT.TCanvas(\"c\",\"\",800,600)\n",
    "ROOT.gStyle.SetOptStat(0)\n",
    "h.GetXaxis().SetTitle(\"M_{#e^{-}e^{+}} [GeV/#it{c}^{2}]\")\n",
    "h.GetXaxis().SetTitleOffset(1.1)\n",
    "h.GetYaxis().SetTitle(\"Entries\")\n",
    "h.SetLineWidth(2)\n",
    "h.Draw()\n",
    "hpure.SetLineWidth(2)\n",
    "hpure.SetLineColor(ROOT.kRed)\n",
    "hpure.Draw(\"same\")\n",
    "leg=ROOT.TLegend(0.5,0.7,0.9,0.9)\n",
    "leg.AddEntry(h,\"#e^{-}e^{+} pairs fsr off\")\n",
    "leg.AddEntry(hpure,\"#Z0\")\n",
    "leg.Draw()\n",
    "d_kstar.Draw()"
   ]
  },
  {
   "cell_type": "code",
   "execution_count": null,
   "metadata": {},
   "outputs": [],
   "source": []
  }
 ],
 "metadata": {
  "interpreter": {
   "hash": "31f2aee4e71d21fbe5cf8b01ff0e069b9275f58929596ceb00d14d90e3e16cd6"
  },
  "kernelspec": {
   "display_name": "Python 3.9.7 64-bit",
   "language": "python",
   "name": "python3"
  },
  "language_info": {
   "codemirror_mode": {
    "name": "ipython",
    "version": 3
   },
   "file_extension": ".py",
   "mimetype": "text/x-python",
   "name": "python",
   "nbconvert_exporter": "python",
   "pygments_lexer": "ipython3",
   "version": "3.9.7"
  },
  "orig_nbformat": 4
 },
 "nbformat": 4,
 "nbformat_minor": 2
}
