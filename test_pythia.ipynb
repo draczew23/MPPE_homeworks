{
 "cells": [
  {
   "cell_type": "code",
   "execution_count": 2,
   "metadata": {},
   "outputs": [
    {
     "name": "stdout",
     "output_type": "stream",
     "text": [
      "Welcome to JupyROOT 6.24/04\n"
     ]
    }
   ],
   "source": [
    "import ROOT\n",
    "import os, sys, subprocess, time\n",
    "import py8settings as py8s\n",
    "from py8settings import PDF\n",
    "import itertools as it\n",
    "import ctypes\n",
    "\n",
    "%jsroot on"
   ]
  },
  {
   "cell_type": "code",
   "execution_count": 9,
   "metadata": {},
   "outputs": [
    {
     "name": "stdout",
     "output_type": "stream",
     "text": [
      " *** TDatabasePDG::AddParticle: particle with PDGcode=90 already defined\n",
      " *** TDatabasePDG::AddParticle: particle with PDGcode=9900110 already defined\n",
      " *** TDatabasePDG::AddParticle: particle with PDGcode=9900210 already defined\n",
      " *** TDatabasePDG::AddParticle: particle with PDGcode=9900220 already defined\n",
      " *** TDatabasePDG::AddParticle: particle with PDGcode=9900330 already defined\n",
      " *** TDatabasePDG::AddParticle: particle with PDGcode=9900440 already defined\n",
      " *** TDatabasePDG::AddParticle: particle with PDGcode=9902110 already defined\n",
      " *** TDatabasePDG::AddParticle: particle with PDGcode=9902210 already defined\n"
     ]
    }
   ],
   "source": [
    "def makePythiaSilent(pythia):\n",
    "    pythia.ReadString(\"Init:showMultipartonInteractions = off\")\n",
    "    pythia.ReadString(\"Init:showChangedParticleData = off\")\n",
    "    pythia.ReadString(\"Init:showProcesses = off\")\n",
    "    pythia.ReadString(\"Init:showChangedSettings = off\")\n",
    "    pythia.ReadString(\"Next:numberShowInfo = 0\")\n",
    "    pythia.ReadString(\"Next:numberShowProcess = 0\")\n",
    "    pythia.ReadString(\"Next:numberShowEvent = 0\")\n",
    "    pythia.ReadString(\"Next:numberCount = 0\")\n",
    "    pythia.ReadString(\"WeakSingleBoson:ffbar2gmZ = on\")\n",
    "    pythia.ReadString(\"HadronLevel:all = off\")      # maybe this is ok\n",
    "    pythia.ReadString(\"23:onMode = off\")    # disable decay of Z boson\n",
    "    pythia.ReadString(\"23:onIfAny = 11 -11\")    # enable decay of Z boson in channels containing electron and positon\n",
    "    pythia.ReadString(\"PhaseSpace:mHatMin = 111\")\n",
    "    pythia.ReadString(\"PhaseSpace:mHatMax = 71\")\n",
    "\n",
    "pythia = ROOT.TPythia8(False)   # suppress the banner message\n",
    "makePythiaSilent(pythia)\n",
    "# pythia.ReadString(\"HardQCD:all = on\")   # passing set of parameters, options in Pythia documentation; \n",
    "pythia.ReadString(\"Random:setSeed = on\")\n",
    "pythia.ReadString(\"Random:seed = 42\") # to ro randomize seed; while we give taahe same seed we will receive the same results\n",
    "pythia.Initialize(2212 , -2212 , 630)  # 2212 - proton in PDG codes, antiproton has a minus sign\n",
    "particles = ROOT.TClonesArray(\"TParticle\", 1000) #prepare space for generated particles\n",
    "\n",
    "# Warning about cross section violated is ok"
   ]
  },
  {
   "cell_type": "code",
   "execution_count": 10,
   "metadata": {},
   "outputs": [
    {
     "name": "stdout",
     "output_type": "stream",
     "text": [
      "\n",
      " --------  PYTHIA Event Listing  (complete event)  ---------------------------------------------------------------------------------\n",
      " \n",
      "    no         id  name            status     mothers   daughters     colours      p_x        p_y        p_z         e          m \n",
      "     0         90  (system)           -11     0     0     0     0     0     0      0.000      0.000      0.000    630.000    630.000\n",
      "     1       2212  (p+)               -12     0     0   105     0     0     0      0.000      0.000    314.999    315.000      0.938\n",
      "     2      -2212  (pbar-)            -12     0     0   106     0     0     0      0.000      0.000   -314.999    315.000      0.938\n",
      "     3          2  (u)                -21     6     6     5     0   101     0      0.000      0.000     86.680     86.680      0.000\n",
      "     4         -2  (ubar)             -21     7     0     5     0     0   101      0.000      0.000    -38.395     38.395      0.000\n",
      "     5         23  (Z0)               -22     3     4     8     8     0     0      0.000      0.000     48.284    125.075    115.379\n",
      "     6          2  (u)                -42    10     0     3     3   101     0     -0.000      0.000     86.680     86.680      0.000\n",
      "     7         -2  (ubar)             -41    11    11     9     4     0   102      0.000     -0.000    -55.592     55.592      0.000\n",
      "     8         23  (Z0)               -44     5     5    12    12     0     0     -3.465      6.523     46.942    124.781    115.379\n",
      "     9         21  (g)                -43     7     0    13    13   101   102      3.465     -6.523    -15.854     17.491      0.000\n",
      "    10          2  (u)                -41    18     0    14     6   103     0     -0.000      0.000    111.461    111.461      0.000\n",
      "    11         -2  (ubar)             -42    19    19     7     7     0   102     -0.000     -0.000    -55.592     55.592      0.000\n",
      "    12         23  (Z0)               -44     8     8    20    20     0     0     -2.203      9.944     47.198    125.074    115.379\n",
      "    13         21  (g)                -44     9     9    17    17   101   102      3.477     -6.490    -15.695     17.336      0.000\n",
      "    14         21  (g)                -43    10     0    15    16   103   101     -1.274     -3.453     24.367     24.643      0.000\n",
      "    15         21  (g)                -51    14     0    22    22   103   104     -4.020     -1.450     16.232     16.785      0.000\n",
      "    16         21  (g)                -51    14     0    23    23   104   101      2.861     -2.218      7.615      8.432      0.000\n",
      "    17         21  (g)                -52    13    13    21    21   101   102      3.362     -6.276    -15.175     16.762      0.000\n",
      "    18          2  (u)                -41    90    90    24    10   105     0      0.000     -0.000    136.427    136.427      0.000\n",
      "    19         -2  (ubar)             -42    69    69    11    11     0   102     -0.000      0.000    -55.592     55.592      0.000\n",
      "    20         23  (Z0)               -44    12    12   107   107     0     0     -0.148     11.199     47.405    125.240    115.379\n",
      "    21         21  (g)                -44    17    17    36    36   101   102      3.381     -6.264    -15.134     16.724      0.000\n",
      "    22         21  (g)                -44    15    15    49    50   103   104     -3.627     -1.209     16.323     16.765      0.000\n",
      "    23         21  (g)                -44    16    16    34    35   104   101      3.053     -2.101      7.614      8.468      0.000\n",
      "    24         21  (g)                -43    18     0    58    59   105   103     -2.659     -1.625     24.626     24.822      0.000\n",
      "    25         21  (g)                -31    29     0    27    28   106   107      0.000      0.000      0.123      0.123      0.000\n",
      "    26         21  (g)                -31    30    30    27    28   107   108      0.000      0.000    -95.355     95.355      0.000\n",
      "    27         21  (g)                -33    25    26    31    31   106   109     -0.789      2.779    -22.016     22.204      0.000\n",
      "    28         21  (g)                -33    25    26    32    32   109   108      0.789     -2.779    -73.216     73.273      0.000\n",
      "    29         21  (g)                -41    97    97    33    25   110   107      0.000      0.000      0.803      0.803      0.000\n",
      "    30         21  (g)                -42    98     0    26    26   107   108     -0.000     -0.000    -95.355     95.355      0.000\n",
      "    31         21  (g)                -44    27    27    46    47   106   109     -1.683      2.178    -19.012     19.210      0.000\n",
      "    32         21  (g)                -44    28    28    48    48   109   108      0.519     -2.961    -75.485     75.545      0.000\n",
      "    33         21  (g)                -43    29     0   101   101   110   106      1.163      0.783     -0.056      1.403      0.000\n",
      "    34         21  (g)                -51    23     0    51    51   104   111      1.610     -0.779      6.380      6.626      0.000\n",
      "    35         21  (g)                -51    23     0    54    54   111   101      1.534     -1.490      0.826      2.292      0.000\n",
      "    36         21  (g)                -52    21    21    61    62   101   102      3.290     -6.095    -14.726     16.273      0.000\n",
      "    37         21  (g)                -31    41    41    39    40   112   113      0.000      0.000     32.067     32.067      0.000\n",
      "    38         21  (g)                -31    42     0    39    40   114   115      0.000      0.000     -0.557      0.557      0.000\n",
      "    39         21  (g)                -33    37    38    43    43   112   115     -1.342      0.069      0.290      1.374      0.000\n",
      "    40         21  (g)                -33    37    38    44    44   114   113      1.342     -0.069     31.221     31.250      0.000\n",
      "    41         21  (g)                -42    78    78    37    37   112   113      0.000      0.000     32.067     32.067      0.000\n",
      "    42         21  (g)                -41    96    96    45    38   116   115     -0.000     -0.000     -3.823      3.823      0.000\n",
      "    43         21  (g)                -44    39    39    76    77   112   115     -2.015     -0.850      1.603      2.711      0.000\n",
      "    44         21  (g)                -44    40    40    64    65   114   113      1.324     -0.093     29.790     29.820      0.000\n",
      "    45         21  (g)                -43    42     0    66    66   116   114      0.691      0.944     -3.149      3.359      0.000\n",
      "    46         21  (g)                -51    31     0    75    75   106   117     -0.296      1.487     -7.689      7.837      0.000\n",
      "    47         21  (g)                -51    31     0    73    74   117   109     -1.342      0.431    -17.927     17.983      0.000\n",
      "    48         21  (g)                -52    32    32   100   100   109   108      0.474     -2.702    -68.880     68.935      0.000\n",
      "    49         21  (g)                -51    22     0    60    60   103   118     -2.053      0.174      7.841      8.107      0.000\n",
      "    50         21  (g)                -51    22     0    55    56   118   104     -1.337     -1.498      9.419      9.630      0.000\n",
      "    51         21  (g)                -52    34    34    52    53   104   111      1.374     -0.665      5.444      5.654      0.000\n",
      "    52         21  (g)                -51    51     0    57    57   104   119      1.736     -1.557      5.078      5.588      0.000\n",
      "    53         21  (g)                -51    51     0   114   114   119   111      0.105      0.438      0.617      0.764      0.000\n",
      "    54         21  (g)                -52    35    35    63    63   111   101      1.067     -1.036      0.574      1.594      0.000\n",
      "    55         21  (g)                -51    50     0    85    86   118   120     -0.862     -0.078      4.021      4.113      0.000\n",
      "    56         21  (g)                -51    50     0    87    87   120   104     -0.076     -1.778      6.567      6.804      0.000\n",
      "    57         21  (g)                -52    52    52    93    93   104   119      1.336     -1.198      3.909      4.301      0.000\n",
      "    58         21  (g)                -51    24     0    88    89   105   121     -1.538     -1.529     15.623     15.773      0.000\n",
      "    59         21  (g)                -51    24     0   116   116   121   103     -2.014     -0.020     12.414     12.576      0.000\n",
      "    60         21  (g)                -52    49    49   109   109   103   118     -1.160      0.098      4.431      4.581      0.000\n",
      "    61         21  (g)                -51    36     0    67    68   122   102      2.058     -5.290    -11.614     12.927      0.000\n",
      "    62         21  (g)                -51    36     0    72    72   101   122      1.301     -0.873     -3.075      3.451      0.000\n",
      "    63         21  (g)                -52    54    54    70    71   111   101      0.997     -0.969      0.537      1.490      0.000\n",
      "    64         21  (g)                -51    44     0   135   135   123   113      1.199     -0.441     29.431     29.458      0.000\n",
      "    65         21  (g)                -51    44     0    79    80   114   123      0.149      0.381      0.249      0.479      0.000\n",
      "    66         21  (g)                -52    45    45    81    81   116   114      0.667      0.911     -3.038      3.241      0.000\n",
      "    67         21  (g)                -51    61     0   108   108   122   124      0.916     -4.337     -8.992     10.026      0.000\n",
      "    68         21  (g)                -51    61     0   118   118   124   102      1.142     -0.953     -3.815      4.095      0.000\n",
      "    69         -2  (ubar)             -53   106   106    19    19     0   102     -0.000      0.000    -56.786     56.786      0.000\n",
      "    70         21  (g)                -51    63     0    82    83   111   125      0.434     -1.189     -0.091      1.269      0.000\n",
      "    71         21  (g)                -51    63     0    84    84   125   101      0.778      0.076      0.120      0.791      0.000\n",
      "    72         21  (g)                -52    62    62   117   117   101   122      1.086     -0.729     -2.567      2.881      0.000\n",
      "    73         21  (g)                -51    47     0   102   102   126   109     -1.599      0.553    -17.286     17.369      0.000\n",
      "    74         21  (g)                -51    47     0   103   103   117   126      0.134      0.502     -3.864      3.899      0.000\n",
      "    75         21  (g)                -52    46    46    99    99   106   117     -0.172      0.864     -4.466      4.552      0.000\n",
      "    76         21  (g)                -51    43     0    94    95   127   115     -1.288     -0.486      0.500      1.465      0.000\n",
      "    77         21  (g)                -51    43     0   138   138   112   127     -0.727     -0.364      2.230      2.373      0.000\n",
      "    78         21  (g)                -53   132   132    41    41   112   113      0.000      0.000     33.194     33.194      0.000\n",
      "    79         21  (g)                -51    65     0   137   137   128   123      0.161      0.988     -0.451      1.098      0.000\n",
      "    80         21  (g)                -51    65     0   139   139   114   128      0.221     -0.290     -0.360      0.512      0.000\n",
      "    81         21  (g)                -52    66    66   136   136   116   114      0.434      0.593     -1.978      2.110      0.000\n",
      "    82         21  (g)                -51    70     0   112   112   111   129     -0.160     -0.508      0.067      0.536      0.000\n",
      "    83         21  (g)                -51    70     0   120   120   129   125      1.224     -0.620     -0.061      1.373      0.000\n",
      "    84         21  (g)                -52    71    71   119   119   125   101      0.148      0.014      0.023      0.150      0.000\n",
      "    85         21  (g)                -51    55     0   113   113   118   130     -0.985     -1.032      5.770      5.944      0.000\n",
      "    86         21  (g)                -51    55     0   121   121   130   120      0.091      0.189      1.075      1.096      0.000\n",
      "    87         21  (g)                -52    56    56    91    92   120   104     -0.043     -1.013      3.742      3.877      0.000\n",
      "    88         21  (g)                -51    58     0   111   111   131   121     -1.299     -1.045     17.500     17.579      0.000\n",
      "    89         21  (g)                -51    58     0   122   122   105   131     -0.239     -0.484      2.030      2.101      0.000\n",
      "    90          2  (u)                -53   105   105    18    18   105     0      0.000     -0.000    140.334    140.334      0.000\n",
      "    91         21  (g)                -51    87     0   115   115   120   132      0.987     -0.886      3.709      3.939      0.000\n",
      "    92         21  (g)                -51    87     0   123   123   132   104     -0.163     -0.905      2.571      2.731      0.000\n",
      "    93         21  (g)                -52    57    57   110   110   104   119      0.469     -0.420      1.371      1.509      0.000\n",
      "    94         21  (g)                -51    76     0   134   134   127   133     -1.117      0.078     -0.005      1.120      0.000\n",
      "    95         21  (g)                -51    76     0   140   140   133   115     -0.171     -0.564      0.221      0.629      0.000\n",
      "    96         21  (g)                -53   133   133    42    42   116   115     -0.000     -0.000     -4.107      4.107      0.000\n",
      "    97         21  (g)                -42   124   124    29    29   110   107     -0.000     -0.000      0.803      0.803      0.000\n",
      "    98         21  (g)                -41   125   125   104    30   134   108      0.000      0.000    -97.764     97.764      0.000\n",
      "    99         21  (g)                -44    75    75   126   126   106   117     -0.166      0.872     -4.516      4.603      0.000\n",
      "   100         21  (g)                -44    48    48   127   127   109   108      0.564     -2.573    -69.653     69.703      0.000\n",
      "   101         21  (g)                -44    33    33   128   128   110   106      1.164      0.784     -0.070      1.406      0.000\n",
      "   102         21  (g)                -44    73    73   129   129   126   109     -1.577      0.586    -17.481     17.562      0.000\n",
      "   103         21  (g)                -44    74    74   130   130   117   126      0.139      0.509     -3.907      3.943      0.000\n",
      "   104         21  (g)                -43    98     0   131   131   134   107     -0.124     -0.178     -1.333      1.351      0.000\n",
      "   105          2  (u)                -61     1     0    90    90   107     0      0.600     -2.104    140.327    140.344      0.000\n",
      "   106         -2  (ubar)             -61     2     0    69    69     0   102     -0.218      0.776    -56.776     56.782      0.000\n",
      "   107         23  (Z0)               -62    20    20   143   144     0     0      0.072     10.436     47.568    125.235    115.379\n",
      "   108         21  g                   62    67    67     0     0   122   124      0.882     -4.215     -9.057     10.028      0.000\n",
      "   109         21  g                   62    60    60     0     0   103   112     -1.141      0.032      4.437      4.581      0.000\n",
      "   110         21  g                   62    93    93     0     0   104   119      0.475     -0.441      1.363      1.509      0.000\n",
      "   111         21  g                   62    88    88     0     0   131   121     -1.225     -1.307     17.489     17.581      0.000\n",
      "   112         21  g                   62    82    82     0     0   111   133     -0.159     -0.509      0.061      0.537      0.000\n",
      "   113         21  g                   62    85    85     0     0   118   130     -0.961     -1.118      5.759      5.945      0.000\n",
      "   114         21  g                   62    53    53     0     0   119   127      0.108      0.428      0.623      0.763      0.000\n",
      "   115         21  g                   62    91    91     0     0   120   132      1.003     -0.942      3.692      3.940      0.000\n",
      "   116         21  g                   62    59    59     0     0   121   103     -1.961     -0.207     12.421     12.576      0.000\n",
      "   117         21  g                   62    72    72     0     0   101   122      1.077     -0.694     -2.582      2.882      0.000\n",
      "   118         21  g                   62    68    68     0     0   124   102      1.127     -0.901     -3.832      4.095      0.000\n",
      "   119         21  g                   62    84    84     0     0   125   128      0.148      0.014      0.022      0.150      0.000\n",
      "   120         21  g                   62    83    83     0     0   129   125      1.224     -0.620     -0.074      1.374      0.000\n",
      "   121         21  g                   62    86    86     0     0   130   120      0.095      0.173      1.078      1.096      0.000\n",
      "   122         21  g                   62    89    89     0     0   105   131     -0.230     -0.515      2.024      2.101      0.000\n",
      "   123         21  g                   62    92    92     0     0   132   104     -0.152     -0.944      2.559      2.731      0.000\n",
      "   124         21  (g)                -61     1     0    97    97   110   107      1.050      0.741      0.279      1.315      0.000\n",
      "   125         21  (g)                -61     2     0    98    98   102   108     -1.284     -0.763    -97.249     97.260      0.000\n",
      "   126         21  g                   62    99    99     0     0   106   117     -0.173      0.874     -4.817      4.899      0.000\n",
      "   127         21  g                   62   100   100     0     0   109   108     -0.309     -3.088    -68.477     68.547      0.000\n",
      "   128         21  g                   62   101   101     0     0   110   106      2.013      1.386     -1.637      2.942      0.000\n",
      "   129         21  g                   62   102   102     0     0   126   109     -1.744      0.492    -16.645     16.744      0.000\n",
      "   130         21  g                   62   103   103     0     0   117   126      0.106      0.492     -4.227      4.257      0.000\n",
      "   131         21  g                   62   104   104     0     0   102   107     -0.128     -0.179     -1.167      1.188      0.000\n",
      "   132         21  (g)                -61     1     0    78    78   115   115     -2.360      0.779     33.106     33.200      0.000\n",
      "   133         21  (g)                -61     2     0    96    96   113   113      0.841     -1.068     -3.956      4.183      0.000\n",
      "   134         21  g                   62    94    94     0     0   127   111     -1.033     -0.060     -0.152      1.045      0.000\n",
      "   135         21  g                   62    64    64     0     0   107   105     -0.904      0.253     29.582     29.597      0.000\n",
      "   136         21  g                   62    81    81     0     0   116   101      0.849      0.063     -1.927      2.106      0.000\n",
      "   137         21  g                   62    79    79     0     0   128   116      0.303      0.792     -0.541      1.006      0.000\n",
      "   138         21  g                   62    77    77     0     0   112   118     -0.873     -0.331      2.178      2.369      0.000\n",
      "   139         21  g                   62    80    80     0     0   114   129      0.301     -0.399     -0.273      0.570      0.000\n",
      "   140         21  g                   62    95    95     0     0   133   114     -0.162     -0.606      0.283      0.689      0.000\n",
      "   141       2101  ud_0                63     1     0     0     0     0   110      0.711      0.584    140.587    140.591      0.579\n",
      "   142      -2101  ud_0bar             63     2     0     0     0   108     0      0.661      1.055   -156.319    156.325      0.579\n",
      "   143         11  (e-)               -23   107     0   147   147     0     0     34.809     47.797     44.730     74.141      0.001\n",
      "   144        -11  (e+)               -23   107     0   145   146     0     0    -34.737    -37.361      2.838     51.094      0.001\n",
      "   145        -11  (e+)               -51   144     0   150   150     0     0    -34.603    -37.207      2.863     50.892      0.001\n",
      "   146         22  gamma               51   144     0     0     0     0     0     -0.133     -0.153     -0.024      0.204      0.000\n",
      "   147         11  (e-)               -52   143   143   148   149     0     0     34.808     47.795     44.729     74.140      0.001\n",
      "   148         11  e-                  51   147     0     0     0     0     0     34.808     47.795     44.728     74.139      0.001\n",
      "   149         22  gamma               51   147     0     0     0     0     0      0.000      0.000      0.000      0.000      0.000\n",
      "   150        -11  e+                  52   145   145     0     0     0     0    -34.603    -37.207      2.863     50.892      0.001\n",
      "                                   Charge sum:  0.000           Momentum sum:     -0.000     -0.000      0.000    630.000    630.000\n",
      "\n",
      " --------  End PYTHIA Event Listing  -----------------------------------------------------------------------------------------------\n"
     ]
    }
   ],
   "source": [
    "pythia.GenerateEvent()\n",
    "pythia.EventListing()"
   ]
  },
  {
   "cell_type": "code",
   "execution_count": 11,
   "metadata": {},
   "outputs": [],
   "source": [
    "def isFinal(p,name=None):\n",
    "    if name==None:\n",
    "        return p.GetStatusCode()>0\n",
    "    else:\n",
    "        return p.GetStatusCode()>0 and p.GetName()==name\n",
    "\n",
    "\n",
    "def getMinv(pair):  # invariant mass of 2 particles\n",
    "    p4_1=ROOT.TLorentzVector()  # ROOT class to represent 4vectors\n",
    "    p4_2=ROOT.TLorentzVector()\n",
    "    pair[0].Momentum(p4_1)\n",
    "    pair[1].Momentum(p4_2)\n",
    "    p4=p4_1+p4_2\n",
    "    return p4.M()   # get mass of 4vector"
   ]
  },
  {
   "cell_type": "code",
   "execution_count": 12,
   "metadata": {},
   "outputs": [
    {
     "name": "stdout",
     "output_type": "stream",
     "text": [
      " PYTHIA Warning in JunctionSplitting::SplitJunPairs: parallel junction state not allowed.  \n",
      " PYTHIA Warning in JunctionSplitting::CheckColours: Not possible to split junctions; making new colours  \n",
      " PYTHIA Error in BeamRemnants::add: failed to find physical colour state after colour reconnection  \n",
      " PYTHIA Error in BeamRemnants::setKinematics: kinematics construction failed  \n",
      " PYTHIA Warning in MultipartonInteractions::pTnext: weight above unity  \n",
      " PYTHIA Error in SimpleSpaceShower::pT2nearThreshold: stuck in loop  \n"
     ]
    },
    {
     "name": "stderr",
     "output_type": "stream",
     "text": [
      "Warning in <TROOT::Append>: Replacing existing TH1: h_all (Potential memory leak).\n",
      "Warning in <TROOT::Append>: Replacing existing TH1: h_pure (Potential memory leak).\n",
      "Warning in <TCanvas::Constructor>: Deleting canvas with same name: c\n"
     ]
    },
    {
     "data": {
      "text/html": [
       "\n",
       "\n",
       "<div id=\"root_plot_1648717531607\"\n",
       "     style=\"width: 796px; height: 572px\">\n",
       "</div>\n",
       "<script>\n",
       "\n",
       "function display_root_plot_1648717531607(Core) {\n",
       "   let obj = Core.parse({\"_typename\":\"TCanvas\",\"fUniqueID\":0,\"fBits\":3342344,\"fLineColor\":1,\"fLineStyle\":1,\"fLineWidth\":1,\"fFillColor\":0,\"fFillStyle\":1001,\"fLeftMargin\":0.1,\"fRightMargin\":0.1,\"fBottomMargin\":0.1,\"fTopMargin\":0.1,\"fXfile\":2,\"fYfile\":2,\"fAfile\":1,\"fXstat\":0.99,\"fYstat\":0.99,\"fAstat\":2,\"fFrameFillColor\":0,\"fFrameLineColor\":1,\"fFrameFillStyle\":1001,\"fFrameLineStyle\":1,\"fFrameLineWidth\":1,\"fFrameBorderSize\":1,\"fFrameBorderMode\":0,\"fX1\":64.9999996274709,\"fY1\":-2.62500019557775,\"fX2\":115.000000372529,\"fY2\":23.6250001955778,\"fXtoAbsPixelk\":-1034.79992864961,\"fXtoPixelk\":-1034.79992864961,\"fXtoPixel\":15.9199997627735,\"fYtoAbsPixelk\":514.800046590614,\"fYtoPixelk\":514.800046590614,\"fYtoPixel\":-21.7904758657728,\"fUtoAbsPixelk\":5e-5,\"fUtoPixelk\":5e-5,\"fUtoPixel\":796,\"fVtoAbsPixelk\":572.00005,\"fVtoPixelk\":572,\"fVtoPixel\":-572,\"fAbsPixeltoXk\":64.9999996274709,\"fPixeltoXk\":64.9999996274709,\"fPixeltoX\":0.0628140712877615,\"fAbsPixeltoYk\":23.6250001955778,\"fPixeltoYk\":-2.62500019557775,\"fPixeltoY\":-0.0458916090754467,\"fXlowNDC\":0,\"fYlowNDC\":0,\"fXUpNDC\":1,\"fYUpNDC\":1,\"fWNDC\":1,\"fHNDC\":1,\"fAbsXlowNDC\":0,\"fAbsYlowNDC\":0,\"fAbsWNDC\":1,\"fAbsHNDC\":1,\"fUxmin\":70,\"fUymin\":0,\"fUxmax\":110,\"fUymax\":21,\"fTheta\":30,\"fPhi\":30,\"fAspectRatio\":0,\"fNumber\":0,\"fTickx\":0,\"fTicky\":0,\"fLogx\":0,\"fLogy\":0,\"fLogz\":0,\"fPadPaint\":0,\"fCrosshair\":0,\"fCrosshairPos\":0,\"fBorderSize\":2,\"fBorderMode\":0,\"fModified\":false,\"fGridx\":false,\"fGridy\":false,\"fAbsCoord\":false,\"fEditable\":true,\"fFixedAspectRatio\":false,\"fPrimitives\":{\"_typename\":\"TList\",\"name\":\"TList\",\"arr\":[{\"_typename\":\"TFrame\",\"fUniqueID\":0,\"fBits\":8,\"fLineColor\":1,\"fLineStyle\":1,\"fLineWidth\":1,\"fFillColor\":0,\"fFillStyle\":1001,\"fX1\":70,\"fY1\":0,\"fX2\":110,\"fY2\":21,\"fBorderSize\":1,\"fBorderMode\":0},{\"_typename\":\"TH1D\",\"fUniqueID\":0,\"fBits\":520,\"fName\":\"h_all\",\"fTitle\":\"\",\"fLineColor\":602,\"fLineStyle\":1,\"fLineWidth\":2,\"fFillColor\":0,\"fFillStyle\":1001,\"fMarkerColor\":1,\"fMarkerStyle\":1,\"fMarkerSize\":1,\"fNcells\":302,\"fXaxis\":{\"_typename\":\"TAxis\",\"fUniqueID\":0,\"fBits\":0,\"fName\":\"xaxis\",\"fTitle\":\"M_{#e^{-}e^{+}} [GeV\\/#it{c}^{2}]\",\"fNdivisions\":510,\"fAxisColor\":1,\"fLabelColor\":1,\"fLabelFont\":42,\"fLabelOffset\":0.005,\"fLabelSize\":0.035,\"fTickLength\":0.03,\"fTitleOffset\":1.1,\"fTitleSize\":0.035,\"fTitleColor\":1,\"fTitleFont\":42,\"fNbins\":300,\"fXmin\":70,\"fXmax\":110,\"fXbins\":[],\"fFirst\":0,\"fLast\":0,\"fBits2\":0,\"fTimeDisplay\":false,\"fTimeFormat\":\"\",\"fLabels\":null,\"fModLabs\":null},\"fYaxis\":{\"_typename\":\"TAxis\",\"fUniqueID\":0,\"fBits\":0,\"fName\":\"yaxis\",\"fTitle\":\"Entries\",\"fNdivisions\":510,\"fAxisColor\":1,\"fLabelColor\":1,\"fLabelFont\":42,\"fLabelOffset\":0.005,\"fLabelSize\":0.035,\"fTickLength\":0.03,\"fTitleOffset\":0,\"fTitleSize\":0.035,\"fTitleColor\":1,\"fTitleFont\":42,\"fNbins\":1,\"fXmin\":0,\"fXmax\":1,\"fXbins\":[],\"fFirst\":0,\"fLast\":0,\"fBits2\":0,\"fTimeDisplay\":false,\"fTimeFormat\":\"\",\"fLabels\":null,\"fModLabs\":null},\"fZaxis\":{\"_typename\":\"TAxis\",\"fUniqueID\":0,\"fBits\":0,\"fName\":\"zaxis\",\"fTitle\":\"\",\"fNdivisions\":510,\"fAxisColor\":1,\"fLabelColor\":1,\"fLabelFont\":42,\"fLabelOffset\":0.005,\"fLabelSize\":0.035,\"fTickLength\":0.03,\"fTitleOffset\":1,\"fTitleSize\":0.035,\"fTitleColor\":1,\"fTitleFont\":42,\"fNbins\":1,\"fXmin\":0,\"fXmax\":1,\"fXbins\":[],\"fFirst\":0,\"fLast\":0,\"fBits2\":0,\"fTimeDisplay\":false,\"fTimeFormat\":\"\",\"fLabels\":null,\"fModLabs\":null},\"fBarOffset\":0,\"fBarWidth\":1000,\"fEntries\":10129,\"fTsumw\":1070,\"fTsumw2\":1070,\"fTsumwx\":104567.395227785,\"fTsumwx2\":10340995.0418438,\"fMaximum\":-1111,\"fMinimum\":-1111,\"fNormFactor\":0,\"fContour\":[],\"fSumw2\":[],\"fOption\":\"\",\"fFunctions\":{\"_typename\":\"TList\",\"name\":\"TList\",\"arr\":[],\"opt\":[]},\"fBufferSize\":0,\"fBuffer\":[],\"fBinStatErrOpt\":0,\"fStatOverflows\":2,\"fArray\":[323,0,1,1,0,2,1,0,2,1,3,1,1,0,2,2,1,0,4,2,1,1,2,1,1,0,3,0,0,1,2,1,0,0,1,0,3,1,2,0,1,2,2,3,1,1,1,2,0,4,4,1,0,2,1,1,2,1,1,3,1,0,1,2,1,5,2,1,1,1,1,0,3,1,2,2,2,0,2,0,2,4,1,2,0,1,4,3,2,1,2,3,3,2,0,2,2,2,1,3,1,3,1,3,1,1,0,2,2,3,0,3,2,4,5,1,1,2,2,1,2,1,1,1,2,2,0,1,3,1,1,2,2,4,3,1,1,6,2,1,0,3,2,4,2,3,1,4,2,2,6,7,4,1,3,2,4,2,3,3,2,4,2,3,2,3,2,6,3,3,5,1,4,3,1,2,3,4,0,5,4,5,4,4,0,5,2,2,1,1,0,2,3,3,4,5,3,3,7,4,3,2,3,3,4,1,4,3,3,3,8,5,4,3,3,3,1,5,6,4,4,6,5,5,4,6,5,1,4,9,3,7,6,2,5,8,7,8,9,6,5,7,3,4,4,9,5,5,7,4,2,6,7,7,6,8,3,8,6,4,6,5,2,5,15,6,5,12,9,5,8,8,3,4,5,8,6,9,9,9,6,13,7,11,10,8,11,19,9,8,7,17,9,8,14,12,12,11,11,20,19,8736]},{\"_typename\":\"TStyle\",\"fUniqueID\":0,\"fBits\":0,\"fName\":\"Modern\",\"fTitle\":\"Modern Style\",\"fLineColor\":1,\"fLineStyle\":1,\"fLineWidth\":1,\"fFillColor\":19,\"fFillStyle\":1001,\"fMarkerColor\":1,\"fMarkerStyle\":1,\"fMarkerSize\":1,\"fTextAngle\":0,\"fTextSize\":0.05,\"fTextAlign\":11,\"fTextColor\":1,\"fTextFont\":62,\"fXaxis\":{\"_typename\":\"TAttAxis\",\"fNdivisions\":510,\"fAxisColor\":1,\"fLabelColor\":1,\"fLabelFont\":42,\"fLabelOffset\":0.005,\"fLabelSize\":0.035,\"fTickLength\":0.03,\"fTitleOffset\":1,\"fTitleSize\":0.035,\"fTitleColor\":1,\"fTitleFont\":42},\"fYaxis\":{\"_typename\":\"TAttAxis\",\"fNdivisions\":510,\"fAxisColor\":1,\"fLabelColor\":1,\"fLabelFont\":42,\"fLabelOffset\":0.005,\"fLabelSize\":0.035,\"fTickLength\":0.03,\"fTitleOffset\":0,\"fTitleSize\":0.035,\"fTitleColor\":1,\"fTitleFont\":42},\"fZaxis\":{\"_typename\":\"TAttAxis\",\"fNdivisions\":510,\"fAxisColor\":1,\"fLabelColor\":1,\"fLabelFont\":42,\"fLabelOffset\":0.005,\"fLabelSize\":0.035,\"fTickLength\":0.03,\"fTitleOffset\":1,\"fTitleSize\":0.035,\"fTitleColor\":1,\"fTitleFont\":42},\"fBarWidth\":1,\"fBarOffset\":0,\"fColorModelPS\":0,\"fDrawBorder\":0,\"fOptLogx\":0,\"fOptLogy\":0,\"fOptLogz\":0,\"fOptDate\":0,\"fOptStat\":0,\"fOptTitle\":1,\"fOptFile\":0,\"fOptFit\":0,\"fShowEventStatus\":0,\"fShowEditor\":0,\"fShowToolBar\":0,\"fNumberContours\":20,\"fAttDate\":{\"_typename\":\"TAttText\",\"fTextAngle\":0,\"fTextSize\":0.025,\"fTextAlign\":11,\"fTextColor\":1,\"fTextFont\":62},\"fDateX\":0.01,\"fDateY\":0.01,\"fEndErrorSize\":2,\"fErrorX\":0.5,\"fFuncColor\":2,\"fFuncStyle\":1,\"fFuncWidth\":2,\"fGridColor\":0,\"fGridStyle\":3,\"fGridWidth\":1,\"fLegendBorderSize\":1,\"fLegendFillColor\":0,\"fLegendFont\":42,\"fLegendTextSize\":0,\"fHatchesLineWidth\":1,\"fHatchesSpacing\":1,\"fFrameFillColor\":0,\"fFrameLineColor\":1,\"fFrameFillStyle\":1001,\"fFrameLineStyle\":1,\"fFrameLineWidth\":1,\"fFrameBorderSize\":1,\"fFrameBorderMode\":0,\"fHistFillColor\":0,\"fHistLineColor\":602,\"fHistFillStyle\":1001,\"fHistLineStyle\":1,\"fHistLineWidth\":1,\"fHistMinimumZero\":false,\"fHistTopMargin\":0.05,\"fCanvasPreferGL\":false,\"fCanvasColor\":0,\"fCanvasBorderSize\":2,\"fCanvasBorderMode\":0,\"fCanvasDefH\":500,\"fCanvasDefW\":700,\"fCanvasDefX\":10,\"fCanvasDefY\":10,\"fPadColor\":0,\"fPadBorderSize\":2,\"fPadBorderMode\":0,\"fPadBottomMargin\":0.1,\"fPadTopMargin\":0.1,\"fPadLeftMargin\":0.1,\"fPadRightMargin\":0.1,\"fPadGridX\":false,\"fPadGridY\":false,\"fPadTickX\":0,\"fPadTickY\":0,\"fPaperSizeX\":20,\"fPaperSizeY\":26,\"fScreenFactor\":1,\"fStatColor\":0,\"fStatTextColor\":1,\"fStatBorderSize\":1,\"fStatFont\":42,\"fStatFontSize\":0,\"fStatStyle\":1001,\"fStatFormat\":\"6.4g\",\"fStatX\":0.98,\"fStatY\":0.935,\"fStatW\":0.2,\"fStatH\":0.16,\"fStripDecimals\":true,\"fTitleAlign\":23,\"fTitleColor\":0,\"fTitleTextColor\":1,\"fTitleBorderSize\":0,\"fTitleFont\":42,\"fTitleFontSize\":0.05,\"fTitleStyle\":0,\"fTitleX\":0.5,\"fTitleY\":0.995,\"fTitleW\":0,\"fTitleH\":0,\"fLegoInnerR\":0.5,\"fLineStyle\":[\"\",\"  \",\" 12 12\",\" 4 8\",\" 12 16 4 16\",\" 20 12 4 12\",\" 20 12 4 12 4 12 4 12\",\" 20 20\",\" 20 12 4 12 4 12\",\" 80 20\",\" 80 40 4 40\",\"  \",\"  \",\"  \",\"  \",\"  \",\"  \",\"  \",\"  \",\"  \",\"  \",\"  \",\"  \",\"  \",\"  \",\"  \",\"  \",\"  \",\"  \",\"  \"],\"fHeaderPS\":\"\",\"fTitlePS\":\"\",\"fFitFormat\":\"5.4g\",\"fPaintTextFormat\":\"g\",\"fLineScalePS\":3,\"fJoinLinePS\":0,\"fCapLinePS\":0,\"fTimeOffset\":788918400,\"fImageScaling\":1}],\"opt\":[\"\",\"\",\"\"]},\"fExecs\":null,\"fName\":\"c\",\"fTitle\":\"\",\"fNumPaletteColor\":0,\"fNextPaletteColor\":0,\"fDISPLAY\":\"$DISPLAY\",\"fDoubleBuffer\":0,\"fRetained\":true,\"fXsizeUser\":0,\"fYsizeUser\":0,\"fXsizeReal\":20,\"fYsizeReal\":15,\"fWindowTopX\":0,\"fWindowTopY\":0,\"fWindowWidth\":0,\"fWindowHeight\":0,\"fCw\":796,\"fCh\":572,\"fCatt\":{\"_typename\":\"TAttCanvas\",\"fXBetween\":2,\"fYBetween\":2,\"fTitleFromTop\":1.2,\"fXdate\":0.2,\"fYdate\":0.3,\"fAdate\":1},\"kMoveOpaque\":true,\"kResizeOpaque\":true,\"fHighLightColor\":2,\"fBatch\":true,\"kShowEventStatus\":false,\"kAutoExec\":true,\"kMenuBar\":true});\n",
       "   Core.settings.HandleKeys = false;\n",
       "   Core.draw(\"root_plot_1648717531607\", obj, \"\");\n",
       "}\n",
       "\n",
       "function script_load_root_plot_1648717531607(src, on_error) {\n",
       "    let script = document.createElement('script');\n",
       "    script.src = src;\n",
       "    script.onload = function() { display_root_plot_1648717531607(JSROOT); };\n",
       "    script.onerror = function() { script.remove(); on_error(); };\n",
       "    document.head.appendChild(script);\n",
       "}\n",
       "\n",
       "if (typeof requirejs !== 'undefined') {\n",
       "\n",
       "    // We are in jupyter notebooks, use require.js which should be configured already\n",
       "    requirejs.config({\n",
       "       paths: { 'JSRootCore' : [ 'scripts/JSRoot.core', 'https://root.cern/js/6.1.1/scripts/JSRoot.core.min', 'https://jsroot.gsi.de/6.1.1/scripts/JSRoot.core.min' ] }\n",
       "    })(['JSRootCore'],  function(Core) {\n",
       "       display_root_plot_1648717531607(Core);\n",
       "    });\n",
       "\n",
       "} else if (typeof JSROOT !== 'undefined') {\n",
       "\n",
       "   // JSROOT already loaded, just use it\n",
       "   display_root_plot_1648717531607(JSROOT);\n",
       "\n",
       "} else {\n",
       "\n",
       "    // We are in jupyterlab without require.js, directly loading jsroot\n",
       "    // Jupyterlab might be installed in a different base_url so we need to know it.\n",
       "    try {\n",
       "        var base_url = JSON.parse(document.getElementById('jupyter-config-data').innerHTML).baseUrl;\n",
       "    } catch(_) {\n",
       "        var base_url = '/';\n",
       "    }\n",
       "\n",
       "    // Try loading a local version of requirejs and fallback to cdn if not possible.\n",
       "    script_load_root_plot_1648717531607(base_url + 'static/scripts/JSRoot.core.js', function(){\n",
       "        console.error('Fail to load JSROOT locally, please check your jupyter_notebook_config.py file');\n",
       "        script_load_root_plot_1648717531607('https://root.cern/js/6.1.1/scripts/JSRoot.core.min.js', function(){\n",
       "            document.getElementById(\"root_plot_1648717531607\").innerHTML = \"Failed to load JSROOT\";\n",
       "        });\n",
       "    });\n",
       "}\n",
       "\n",
       "</script>\n"
      ],
      "text/plain": [
       "<IPython.core.display.HTML object>"
      ]
     },
     "metadata": {},
     "output_type": "display_data"
    }
   ],
   "source": [
    "nEvents=10000\n",
    "parts=[\"electron\", \"antielectron\", \"gamma\"]     # our particles\n",
    "labels={\"electron\": \"e-\", \"antielectron\": \"e+\", \"gamma\" : \"#gamma\"}\n",
    "colors={\"proton\": ROOT.kBlack, \"antielectron\": ROOT.kBlue, \"gamma\": ROOT.kMagenta}\n",
    "heta={}\n",
    "hpt={}\n",
    "\n",
    "h=ROOT.TH1D(\"h_all\",\"\",300, 70, 110)    # histograms start\n",
    "hpure=ROOT.TH1D(\"h_pure\",\"\",300, 70, 110)\n",
    "\n",
    "\n",
    "def getZcandidates(parts):\n",
    "    eminus = [p for p in parts if isFinal(p,\"e-\")]    # creates list\n",
    "    eplus = [p for p in parts if isFinal(p,\"e+\")]\n",
    "    return list(it.product(eminus,eplus))   # pair of electron and positon\n",
    "\n",
    "pythia.GenerateEvent()\n",
    "\n",
    "for i in range(nEvents):\n",
    "    pythia.GenerateEvent()\n",
    "    pythia.ImportParticles(particles,\"All\")\n",
    "    #for all possible e- e+ pairs we fill invariant mass histogram\n",
    "    for pair in getZcandidates(particles):\n",
    "        # print(\"works\")\n",
    "        h.Fill(getMinv(pair))\n",
    "    #now we look for actual Z's that decayed:\n",
    "    for p in particles:\n",
    "        if p.GetName()==\"Z0\":\n",
    "            #we accept Z0 only if it decayed to electron and positon\n",
    "            d0=particles[p.GetDaughter(0)].GetName()\n",
    "            d1=particles[p.GetDaughter(1)].GetName()\n",
    "            if {d0,d1} != {\"e-\",\"e+\"}:     # curly braces represent set datatype in python\n",
    "                continue\n",
    "            p4=ROOT.TLorentzVector()\n",
    "            p.Momentum(p4)\n",
    "            hpure.Fill(p4.M())\n",
    "\n",
    "\n",
    "c_kstar = ROOT.TCanvas(\"c\",\"\",800,600)\n",
    "ROOT.gStyle.SetOptStat(0)\n",
    "h.GetXaxis().SetTitle(\"M_{#e^{-}e^{+}} [GeV/#it{c}^{2}]\")\n",
    "h.GetXaxis().SetTitleOffset(1.1)\n",
    "h.GetYaxis().SetTitle(\"Entries\")\n",
    "h.SetLineWidth(2)\n",
    "h.Draw()\n",
    "# hpure.SetLineWidth(2)\n",
    "# hpure.SetLineColor(ROOT.kRed)\n",
    "# hpure.Draw(\"same\")\n",
    "# leg=ROOT.TLegend(0.5,0.7,0.9,0.9)\n",
    "# leg.AddEntry(h,\"all #pi^{-}K^{+} pairs\")\n",
    "# leg.AddEntry(hpure,\"#pi^{-}K^{+} pairs from K^{*} decay\")\n",
    "# leg.Draw()\n",
    "c_kstar.Draw()\n",
    "\n",
    "# Warnings are ok"
   ]
  },
  {
   "cell_type": "code",
   "execution_count": 7,
   "metadata": {},
   "outputs": [
    {
     "ename": "NameError",
     "evalue": "name 'getKstarCandidates' is not defined",
     "output_type": "error",
     "traceback": [
      "\u001b[0;31m---------------------------------------------------------------------------\u001b[0m",
      "\u001b[0;31mNameError\u001b[0m                                 Traceback (most recent call last)",
      "\u001b[0;32m<ipython-input-7-431ce95dc9d0>\u001b[0m in \u001b[0;36m<module>\u001b[0;34m\u001b[0m\n\u001b[0;32m----> 1\u001b[0;31m \u001b[0mgetKstarCandidates\u001b[0m\u001b[0;34m(\u001b[0m\u001b[0mparticles\u001b[0m\u001b[0;34m)\u001b[0m\u001b[0;34m\u001b[0m\u001b[0;34m\u001b[0m\u001b[0m\n\u001b[0m\u001b[1;32m      2\u001b[0m \u001b[0;31m# isFinal(\"electron\", \"e\")\u001b[0m\u001b[0;34m\u001b[0m\u001b[0;34m\u001b[0m\u001b[0m\n",
      "\u001b[0;31mNameError\u001b[0m: name 'getKstarCandidates' is not defined"
     ]
    }
   ],
   "source": [
    "getKstarCandidates(particles)\n",
    "# isFinal(\"electron\", \"e\")"
   ]
  },
  {
   "cell_type": "code",
   "execution_count": null,
   "metadata": {},
   "outputs": [
    {
     "data": {
      "text/plain": [
       "<cppyy.gbl.TClonesArray object at 0x560ed2e23da0>"
      ]
     },
     "execution_count": 71,
     "metadata": {},
     "output_type": "execute_result"
    }
   ],
   "source": [
    "particles"
   ]
  },
  {
   "cell_type": "code",
   "execution_count": null,
   "metadata": {},
   "outputs": [
    {
     "data": {
      "text/plain": [
       "['electron', 'antielectron', 'gamma']"
      ]
     },
     "execution_count": 72,
     "metadata": {},
     "output_type": "execute_result"
    }
   ],
   "source": [
    "parts"
   ]
  },
  {
   "cell_type": "code",
   "execution_count": null,
   "metadata": {},
   "outputs": [],
   "source": []
  }
 ],
 "metadata": {
  "interpreter": {
   "hash": "31f2aee4e71d21fbe5cf8b01ff0e069b9275f58929596ceb00d14d90e3e16cd6"
  },
  "kernelspec": {
   "display_name": "Python 3.9.7 64-bit",
   "language": "python",
   "name": "python3"
  },
  "language_info": {
   "codemirror_mode": {
    "name": "ipython",
    "version": 3
   },
   "file_extension": ".py",
   "mimetype": "text/x-python",
   "name": "python",
   "nbconvert_exporter": "python",
   "pygments_lexer": "ipython3",
   "version": "3.9.7"
  },
  "orig_nbformat": 4
 },
 "nbformat": 4,
 "nbformat_minor": 2
}
