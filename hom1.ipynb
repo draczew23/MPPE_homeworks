{
 "cells": [
  {
   "cell_type": "markdown",
   "metadata": {},
   "source": [
    "## Homework\n",
    "\n",
    "Write a generator for electron - positron pairs from the Z boson decay. Assume the Z boson is at rest, and its mass is ditributed according to the \n",
    "Breit-Wigner (BW) distribution with $m_{Z} = 92.1876$, $\\Gamma = 2.4952$.\n",
    "\n",
    "* generate events with the pair energy in range [50,200]\n",
    "* assume the decay is isotropic (is this fully correct?)\n",
    "* generate at least 500k events. How long it takes? What is the generation effciency?\n",
    "* plot histogram of the pair invariant mass with linear and log Y scales. Overlay with probability distribution for invariant mass\n",
    "* plot histogram of  $cos(\\theta)$ of electrons moementum\n",
    "* plot histogram of transverse electron momentum $p_{T}$. Overlay with probability distribution for transverse momentum.\n",
    "\n",
    "**Hints:** \n",
    "* the probability distibution for the $p_{T}$ can be obtained from the chain rule:\n",
    "\n",
    "\\begin{equation}\n",
    "\\frac{d\\sigma}{dp_{T}} =  \\frac{d\\sigma}{d\\cos(\\theta)} \\frac{d\\cos(\\theta)}{dp_{T}}\n",
    "\\end{equation}\n",
    "\n",
    "* use the nominal Z boson mass while calculating the $\\frac{d\\sigma}{dp_{T}}$."
   ]
  },
  {
   "cell_type": "markdown",
   "metadata": {},
   "source": [
    "Setup of our environment"
   ]
  },
  {
   "cell_type": "code",
   "execution_count": 2,
   "metadata": {},
   "outputs": [],
   "source": [
    "#import ROOT\n",
    "\n",
    "#Color printing\n",
    "from termcolor import colored\n",
    "\n",
    "#General data operations library\n",
    "import math\n",
    "import numpy as np\n",
    "\n",
    "#HEP specific tools\n",
    "import scipy.constants as scipy_constants\n",
    "\n",
    "#Plotting libraries\n",
    "import matplotlib.pyplot as plt\n",
    "\n",
    "#Increase plots font size\n",
    "params = {'legend.fontsize': 'xx-large',\n",
    "          'figure.figsize': (10, 7),\n",
    "         'axes.labelsize': 'xx-large',\n",
    "         'axes.titlesize':'xx-large',\n",
    "         'xtick.labelsize':'xx-large',\n",
    "         'ytick.labelsize':'xx-large'}\n",
    "plt.rcParams.update(params)"
   ]
  },
  {
   "cell_type": "code",
   "execution_count": 3,
   "metadata": {},
   "outputs": [
    {
     "name": "stdout",
     "output_type": "stream",
     "text": [
      "Fermi constant: 1.1663787e-05 +- 6e-12 GeV^-2\n",
      "muon mass: \t105.6583755 +- 2.3e-06 MeV\n",
      "electron mass: \t0.51099895 +- 1.5e-10 MeV\n"
     ]
    }
   ],
   "source": [
    "G_F = scipy_constants.physical_constants[\"Fermi coupling constant\"]\n",
    "m_e = scipy_constants.physical_constants[\"electron mass energy equivalent in MeV\"]\n",
    "m_mu = scipy_constants.physical_constants[\"muon mass energy equivalent in MeV\"]\n",
    "\n",
    "print(\"Fermi constant: {} +- {} {}\".format(G_F[0], G_F[2], G_F[1]))\n",
    "print(\"muon mass: \\t{} +- {} {}\".format(m_mu[0], m_mu[2], m_mu[1]))\n",
    "print(\"electron mass: \\t{} +- {} {}\".format(m_e[0], m_e[2], m_e[1]))\n",
    "\n",
    "G_F = G_F[0]\n",
    "m_e = m_e[0]\n",
    "m_mu = m_mu[0]"
   ]
  },
  {
   "cell_type": "markdown",
   "metadata": {},
   "source": [
    "## Our homework functions"
   ]
  },
  {
   "cell_type": "code",
   "execution_count": 4,
   "metadata": {},
   "outputs": [],
   "source": [
    "minS = 50\n",
    "maxS = 200\n",
    "\n",
    "m_Z = 92.1876\n",
    "gamma_Z = 2.4952\n",
    "\n",
    "def BreitWigner(s, m, gamma):\n",
    "    gamma_small = np.sqrt(m ** 2 * (m ** 2 + gamma ** 2))\n",
    "    k = (2 * np.sqrt(2) * m * gamma * gamma_small) / (np.pi * np.sqrt(m ** 2 + gamma_small))\n",
    "    \n",
    "    distr = k / ((s ** 2 - m ** 2) ** 2 + m ** 2 * gamma ** 2)\n",
    "    return distr\n",
    "\n",
    "def generateCandidateEnergy(nPoints):\n",
    "    gamma = gamma_Z\n",
    "    s = (maxS-minS)*np.random.random(nPoints) + minS\n",
    "    print(s)\n",
    "    x = np.random.random_sample(nPoints)\n",
    "    bw_values = BreitWigner(s, m_Z, gamma)  # it is equivalent to p\n",
    "    bw_values = bw_values / np.max(bw_values)\n",
    "    accepted = x < bw_values\n",
    "    return s[accepted]/2.0\n",
    "\n",
    "def generateCandidateMomenta(energy):\n",
    "    howmany = len(energy)\n",
    "    \n",
    "    c = np.random.random_sample([howmany, 3]) \n",
    "    csum = np.sum(c, axis=1)  # we need to generate shoots so that their sum equals energy\n",
    "    cdiv = np.asanyarray(1 / csum)  # vector we multiply our matrix\n",
    "    cdivT = np.vstack(cdiv)  # transposed vector\n",
    "\n",
    "    result = np.multiply(c, cdivt)  # matrix multiplied  by sum\n",
    "    energyT = np.vstack(energy)  # transposed vector of energies\n",
    "    \n",
    "    p = np.multiply(result, energyT)\n",
    "    print(p)\n",
    "       \n",
    "    p4_electron = np.column_stack([energy, px,py,pz])\n",
    "    p4_positron = np.column_stack([energy, -px,-py,-pz])\n",
    "    return  p4_electron, p4_positron\n",
    "\n",
    "def generateEvents(nPoints):\n",
    "    energy = generateCandidateEnergy(nPoints)\n",
    "    data = generateCandidateMomenta(energy)\n",
    "    return data\n",
    "\n",
    "def invMass(p4):\n",
    "    metric = np.array([1,-1,-1,-1])\n",
    "    p4_square = p4*(metric*p4)\n",
    "    m = np.sqrt(np.sum(p4_square, axis=1))\n",
    "    return m"
   ]
  },
  {
   "cell_type": "markdown",
   "metadata": {},
   "source": [
    "## I have done here multiplication of two arrays; each row is multiplied by different value; thanks to this now we can generate N rows (for each energies) consisting of 3 momentum values\n"
   ]
  },
  {
   "cell_type": "code",
   "execution_count": 5,
   "metadata": {},
   "outputs": [
    {
     "name": "stdout",
     "output_type": "stream",
     "text": [
      "[[0.7858976  0.4014081  0.26992839]\n",
      " [0.07467526 0.10604936 0.72553995]\n",
      " [0.62994019 0.56251426 0.68507149]\n",
      " [0.05640179 0.55865698 0.15418465]\n",
      " [0.65544372 0.53027935 0.9893821 ]]\n"
     ]
    }
   ],
   "source": [
    "energy = np.array([1,2,3,4,5])\n",
    "howmany = 5\n",
    "\n",
    "c = np.random.random_sample([howmany, 3]) \n",
    "csum = np.sum(c, axis=1)  # we need to generate shoots so that their sum equals energy\n",
    "cdiv = np.asanyarray(1 / csum)  # vector we multiply our matrix\n",
    "cdivT = np.vstack(cdiv)  # transposed vector\n",
    "\n",
    "result = np.multiply(c, cdivT)  # matrix multiplied  by sum\n",
    "energyT = np.vstack(energy)  # transposed vector of energies\n",
    "\n",
    "p = np.multiply(result, energyT)\n",
    "\n",
    "a = np.array([[1, 1, 1, 1], [2, 2, 2, 2]])\n",
    "b = np.array([[2, 2, 2 ,2], [2, 2, 2 ,2]])\n",
    "\n",
    "\n",
    "\n",
    "d = np.column_stack((a))\n",
    "\n",
    "print(c)\n",
    "# hellos a"
   ]
  },
  {
   "cell_type": "code",
   "execution_count": 6,
   "metadata": {},
   "outputs": [
    {
     "name": "stdout",
     "output_type": "stream",
     "text": [
      "\n",
      "Matrix c : \n",
      " [[0.76516363 0.76546357 0.8258116 ]\n",
      " [0.36670747 0.79994341 0.55293624]\n",
      " [0.34495911 0.50473095 0.60484639]\n",
      " [0.30899205 0.48361058 0.4702391 ]\n",
      " [0.67031036 0.7537014  0.24333733]]\n",
      "[2.3564388  1.71958711 1.45453646 1.26284174 1.66734909]\n",
      "[[0.42436918]\n",
      " [0.58153495]\n",
      " [0.68750425]\n",
      " [0.79186486]\n",
      " [0.59975443]]\n"
     ]
    }
   ],
   "source": [
    "c = np.random.random_sample([5, 3]) \n",
    "\n",
    "csum = np.sum(c, axis=1)\n",
    "print(\"\\nMatrix c : \\n\", c)\n",
    "print(csum)\n",
    "\n",
    "cdiv = np.asanyarray(1 / csum)\n",
    "cdivt = np.vstack(cdiv)\n",
    "print(cdivt)\n",
    "\n",
    "r = np.multiply(c, cdivt)\n"
   ]
  },
  {
   "cell_type": "markdown",
   "metadata": {},
   "source": [
    "## Here are energies generated"
   ]
  },
  {
   "cell_type": "code",
   "execution_count": 7,
   "metadata": {},
   "outputs": [
    {
     "name": "stdout",
     "output_type": "stream",
     "text": [
      "[124.67720003  98.55320551 127.34431158 ... 187.45563644  81.2122681\n",
      " 189.03600296]\n",
      "Number of accepted events:\t 1324\n",
      "Accepted events fraction:\t 0.02648\n"
     ]
    },
    {
     "data": {
      "text/plain": [
       "array([43.05915604, 45.78658891, 45.54566874, ..., 43.64373894,\n",
       "       47.11139561, 45.34167   ])"
      ]
     },
     "execution_count": 7,
     "metadata": {},
     "output_type": "execute_result"
    }
   ],
   "source": [
    "nPoints = 50000\n",
    "\n",
    "e_min = 50\n",
    "e_max = 200\n",
    "\n",
    "energies = generateCandidateEnergy(nPoints)\n",
    "print(\"Number of accepted events:\\t\",energies.shape[0])\n",
    "print(\"Accepted events fraction:\\t\",energies.shape[0]/nPoints)\n",
    "\n",
    "energies \n"
   ]
  },
  {
   "cell_type": "markdown",
   "metadata": {},
   "source": [
    "## Here is working generating momenta\n"
   ]
  },
  {
   "cell_type": "code",
   "execution_count": 8,
   "metadata": {},
   "outputs": [
    {
     "ename": "ValueError",
     "evalue": "operands could not be broadcast together with shapes (1324,3) (5,1) ",
     "output_type": "error",
     "traceback": [
      "\u001b[0;31m---------------------------------------------------------------------------\u001b[0m",
      "\u001b[0;31mValueError\u001b[0m                                Traceback (most recent call last)",
      "\u001b[0;32m<ipython-input-8-6a343006f2e2>\u001b[0m in \u001b[0;36m<module>\u001b[0;34m\u001b[0m\n\u001b[0;32m----> 1\u001b[0;31m \u001b[0mb\u001b[0m \u001b[0;34m=\u001b[0m \u001b[0mgenerateCandidateMomenta\u001b[0m\u001b[0;34m(\u001b[0m\u001b[0menergies\u001b[0m\u001b[0;34m)\u001b[0m\u001b[0;34m\u001b[0m\u001b[0;34m\u001b[0m\u001b[0m\n\u001b[0m\u001b[1;32m      2\u001b[0m \u001b[0mb\u001b[0m\u001b[0;34m\u001b[0m\u001b[0;34m\u001b[0m\u001b[0m\n",
      "\u001b[0;32m<ipython-input-4-843e0556689e>\u001b[0m in \u001b[0;36mgenerateCandidateMomenta\u001b[0;34m(energy)\u001b[0m\n\u001b[1;32m     30\u001b[0m     \u001b[0mcdivT\u001b[0m \u001b[0;34m=\u001b[0m \u001b[0mnp\u001b[0m\u001b[0;34m.\u001b[0m\u001b[0mvstack\u001b[0m\u001b[0;34m(\u001b[0m\u001b[0mcdiv\u001b[0m\u001b[0;34m)\u001b[0m  \u001b[0;31m# transposed vector\u001b[0m\u001b[0;34m\u001b[0m\u001b[0;34m\u001b[0m\u001b[0m\n\u001b[1;32m     31\u001b[0m \u001b[0;34m\u001b[0m\u001b[0m\n\u001b[0;32m---> 32\u001b[0;31m     \u001b[0mresult\u001b[0m \u001b[0;34m=\u001b[0m \u001b[0mnp\u001b[0m\u001b[0;34m.\u001b[0m\u001b[0mmultiply\u001b[0m\u001b[0;34m(\u001b[0m\u001b[0mc\u001b[0m\u001b[0;34m,\u001b[0m \u001b[0mcdivt\u001b[0m\u001b[0;34m)\u001b[0m  \u001b[0;31m# matrix multiplied  by sum\u001b[0m\u001b[0;34m\u001b[0m\u001b[0;34m\u001b[0m\u001b[0m\n\u001b[0m\u001b[1;32m     33\u001b[0m     \u001b[0menergyT\u001b[0m \u001b[0;34m=\u001b[0m \u001b[0mnp\u001b[0m\u001b[0;34m.\u001b[0m\u001b[0mvstack\u001b[0m\u001b[0;34m(\u001b[0m\u001b[0menergy\u001b[0m\u001b[0;34m)\u001b[0m  \u001b[0;31m# transposed vector of energies\u001b[0m\u001b[0;34m\u001b[0m\u001b[0;34m\u001b[0m\u001b[0m\n\u001b[1;32m     34\u001b[0m \u001b[0;34m\u001b[0m\u001b[0m\n",
      "\u001b[0;31mValueError\u001b[0m: operands could not be broadcast together with shapes (1324,3) (5,1) "
     ]
    }
   ],
   "source": [
    "b = generateCandidateMomenta(energies)\n",
    "b"
   ]
  },
  {
   "cell_type": "markdown",
   "metadata": {},
   "source": [
    "## First test plots"
   ]
  },
  {
   "cell_type": "code",
   "execution_count": null,
   "metadata": {},
   "outputs": [],
   "source": [
    "%%time\n",
    "\n",
    "nPoints = 1000000\n",
    "p4_electron, p4_positron = generateEvents(nPoints)\n",
    "m = invMass(p4_electron + p4_positron)\n",
    "#print(\"Generated {} events for {} tries. \\nEfficiency: {:3.2f}\".format(m.shape[0], nPoints, float(m.shape[0])/nPoints))\n",
    "\n",
    "#fig, axes = plt.subplots(2,2, figsize=(12, 12))\n",
    "#axes[0,0].plot(m, BreitWigner(m, m_Z, gamma_Z), \"o\",label=\"Breit-wigner\");\n",
    "#axes[0,0].hist(..., label=r\"$e^{+}e^{-}$ MC data\");\n",
    "#axes[0,0].set_xlabel(r\"invariant mass [GeV/$c^{2}$]\")\n",
    "#axes[0,0].set_ylabel(\"probability density\")\n",
    "#axes[0,0].legend(loc=\"upper right\");"
   ]
  },
  {
   "cell_type": "code",
   "execution_count": null,
   "metadata": {},
   "outputs": [],
   "source": []
  },
  {
   "cell_type": "code",
   "execution_count": null,
   "metadata": {},
   "outputs": [],
   "source": []
  }
 ],
 "metadata": {
  "interpreter": {
   "hash": "916dbcbb3f70747c44a77c7bcd40155683ae19c65e1c03b4aa3499c5328201f1"
  },
  "kernelspec": {
   "display_name": "ROOT C++ (Python 3)",
   "language": "python",
   "name": "python3"
  },
  "language_info": {
   "codemirror_mode": {
    "name": "ipython",
    "version": 3
   },
   "file_extension": ".py",
   "mimetype": "text/x-python",
   "name": "python",
   "nbconvert_exporter": "python",
   "pygments_lexer": "ipython3",
   "version": "3.9.7"
  }
 },
 "nbformat": 4,
 "nbformat_minor": 4
}
