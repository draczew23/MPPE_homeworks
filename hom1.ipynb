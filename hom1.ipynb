{
 "cells": [
  {
   "cell_type": "markdown",
   "metadata": {},
   "source": [
    "Setup of our environment"
   ]
  },
  {
   "cell_type": "code",
   "execution_count": 1,
   "metadata": {},
   "outputs": [],
   "source": [
    "#import ROOT\n",
    "\n",
    "#Color printing\n",
    "from termcolor import colored\n",
    "\n",
    "#General data operations library\n",
    "import math\n",
    "import numpy as np\n",
    "\n",
    "#HEP specific tools\n",
    "import scipy.constants as scipy_constants\n",
    "\n",
    "#Plotting libraries\n",
    "import matplotlib.pyplot as plt\n",
    "\n",
    "#Increase plots font size\n",
    "params = {'legend.fontsize': 'xx-large',\n",
    "          'figure.figsize': (10, 7),\n",
    "         'axes.labelsize': 'xx-large',\n",
    "         'axes.titlesize':'xx-large',\n",
    "         'xtick.labelsize':'xx-large',\n",
    "         'ytick.labelsize':'xx-large'}\n",
    "plt.rcParams.update(params)"
   ]
  },
  {
   "cell_type": "code",
   "execution_count": 2,
   "metadata": {},
   "outputs": [
    {
     "name": "stdout",
     "output_type": "stream",
     "text": [
      "Fermi constant: 1.1663787e-05 +- 6e-12 GeV^-2\n",
      "muon mass: \t105.6583755 +- 2.3e-06 MeV\n",
      "electron mass: \t0.51099895 +- 1.5e-10 MeV\n"
     ]
    }
   ],
   "source": [
    "G_F = scipy_constants.physical_constants[\"Fermi coupling constant\"]\n",
    "m_e = scipy_constants.physical_constants[\"electron mass energy equivalent in MeV\"]\n",
    "m_mu = scipy_constants.physical_constants[\"muon mass energy equivalent in MeV\"]\n",
    "\n",
    "print(\"Fermi constant: {} +- {} {}\".format(G_F[0], G_F[2], G_F[1]))\n",
    "print(\"muon mass: \\t{} +- {} {}\".format(m_mu[0], m_mu[2], m_mu[1]))\n",
    "print(\"electron mass: \\t{} +- {} {}\".format(m_e[0], m_e[2], m_e[1]))\n",
    "\n",
    "G_F = G_F[0]\n",
    "m_e = m_e[0]\n",
    "m_mu = m_mu[0]"
   ]
  },
  {
   "cell_type": "code",
   "execution_count": null,
   "metadata": {},
   "outputs": [],
   "source": []
  }
 ],
 "metadata": {
  "kernelspec": {
   "display_name": "Python 3",
   "language": "python",
   "name": "python3"
  },
  "language_info": {
   "codemirror_mode": {
    "name": "ipython",
    "version": 3
   },
   "file_extension": ".py",
   "mimetype": "text/x-python",
   "name": "python",
   "nbconvert_exporter": "python",
   "pygments_lexer": "ipython3",
   "version": "3.9.7"
  }
 },
 "nbformat": 4,
 "nbformat_minor": 4
}
