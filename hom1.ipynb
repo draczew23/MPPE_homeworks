{
 "cells": [
  {
   "cell_type": "markdown",
   "metadata": {},
   "source": [
    "Setup of our environment"
   ]
  },
  {
   "cell_type": "code",
   "execution_count": 8,
   "metadata": {},
   "outputs": [],
   "source": [
    "#import ROOT\n",
    "\n",
    "#Color printing\n",
    "from termcolor import colored\n",
    "\n",
    "#General data operations library\n",
    "import math\n",
    "import numpy as np\n",
    "\n",
    "#HEP specific tools\n",
    "import scipy.constants as scipy_constants\n",
    "\n",
    "#Plotting libraries\n",
    "import matplotlib.pyplot as plt\n",
    "\n",
    "#Increase plots font size\n",
    "params = {'legend.fontsize': 'xx-large',\n",
    "          'figure.figsize': (10, 7),\n",
    "         'axes.labelsize': 'xx-large',\n",
    "         'axes.titlesize':'xx-large',\n",
    "         'xtick.labelsize':'xx-large',\n",
    "         'ytick.labelsize':'xx-large'}\n",
    "plt.rcParams.update(params)"
   ]
  },
  {
   "cell_type": "code",
   "execution_count": 9,
   "metadata": {},
   "outputs": [
    {
     "name": "stdout",
     "output_type": "stream",
     "text": [
      "Fermi constant: 1.1663787e-05 +- 6e-12 GeV^-2\n",
      "muon mass: \t105.6583755 +- 2.3e-06 MeV\n",
      "electron mass: \t0.51099895 +- 1.5e-10 MeV\n"
     ]
    }
   ],
   "source": [
    "G_F = scipy_constants.physical_constants[\"Fermi coupling constant\"]\n",
    "m_e = scipy_constants.physical_constants[\"electron mass energy equivalent in MeV\"]\n",
    "m_mu = scipy_constants.physical_constants[\"muon mass energy equivalent in MeV\"]\n",
    "\n",
    "print(\"Fermi constant: {} +- {} {}\".format(G_F[0], G_F[2], G_F[1]))\n",
    "print(\"muon mass: \\t{} +- {} {}\".format(m_mu[0], m_mu[2], m_mu[1]))\n",
    "print(\"electron mass: \\t{} +- {} {}\".format(m_e[0], m_e[2], m_e[1]))\n",
    "\n",
    "G_F = G_F[0]\n",
    "m_e = m_e[0]\n",
    "m_mu = m_mu[0]"
   ]
  },
  {
   "cell_type": "markdown",
   "metadata": {},
   "source": [
    "Events generation"
   ]
  },
  {
   "cell_type": "code",
   "execution_count": 13,
   "metadata": {},
   "outputs": [],
   "source": [
    "minS = 50\n",
    "maxS = 200\n",
    "\n",
    "m_Z = 92.1876\n",
    "gamma_Z = 2.4952\n",
    "\n",
    "def BreitWigner(s, m, gamma):\n",
    "    gamma_small = np.sqrt(m ** 2 * (m ** 2 + gamma ** 2))\n",
    "    k = (2 * np.sqrt(2) * m * gamma * gamma_small) / (np.pi * np.sqrt(m ** 2 + gamma_small))\n",
    "    \n",
    "    distr = k / ((s ** 2 - m ** 2) ** 2 + m ** 2 * gamma ** 2)\n",
    "    return distr\n",
    "\n",
    "def generateCandidateEnergy(nPoints):\n",
    "    s = (maxS-minS)*np.random.random(nPoints) + minS\n",
    "    bw_values = ...\n",
    "    accepted = ...\n",
    "    return s[accepted]/2.0\n",
    "\n",
    "def generateCandidateMomenta(energy):\n",
    "    ...\n",
    "    ...\n",
    "    p4_electron = np.column_stack([energy, px,py,pz])\n",
    "    p4_positron = np.column_stack([energy, -px,-py,-pz])\n",
    "    return  p4_electron, p4_positron\n",
    "\n",
    "def generateEvents(nPoints):\n",
    "    energy = generateCandidateEnergy(nPoints)\n",
    "    data = generateCandidateMomenta(energy)\n",
    "    return data\n",
    "\n",
    "def invMass(p4):\n",
    "    metric = np.array([1,-1,-1,-1])\n",
    "    p4_square = p4*(metric*p4)\n",
    "    m = np.sqrt(np.sum(p4_square, axis=1))\n",
    "    return m"
   ]
  },
  {
   "cell_type": "code",
   "execution_count": 10,
   "metadata": {},
   "outputs": [
    {
     "ename": "NameError",
     "evalue": "name 'ax' is not defined",
     "output_type": "error",
     "traceback": [
      "\u001b[0;31m---------------------------------------------------------------------------\u001b[0m",
      "\u001b[0;31mNameError\u001b[0m                                 Traceback (most recent call last)",
      "\u001b[0;32m<ipython-input-10-2d7dce2005f4>\u001b[0m in \u001b[0;36m<module>\u001b[0;34m\u001b[0m\n\u001b[1;32m     12\u001b[0m \u001b[0;31m#fig, ax = pt.subplots(figsize=(6, 6))\u001b[0m\u001b[0;34m\u001b[0m\u001b[0;34m\u001b[0m\u001b[0m\n\u001b[1;32m     13\u001b[0m \u001b[0;34m\u001b[0m\u001b[0m\n\u001b[0;32m---> 14\u001b[0;31m \u001b[0max\u001b[0m\u001b[0;34m.\u001b[0m\u001b[0mplot\u001b[0m\u001b[0;34m(\u001b[0m\u001b[0me\u001b[0m\u001b[0;34m,\u001b[0m\u001b[0mp\u001b[0m\u001b[0;34m,\u001b[0m \u001b[0mlabel\u001b[0m\u001b[0;34m=\u001b[0m\u001b[0;34m\"p(E)\"\u001b[0m\u001b[0;34m)\u001b[0m\u001b[0;34m;\u001b[0m\u001b[0;34m\u001b[0m\u001b[0;34m\u001b[0m\u001b[0m\n\u001b[0m\u001b[1;32m     15\u001b[0m \u001b[0max\u001b[0m\u001b[0;34m.\u001b[0m\u001b[0mset_xlabel\u001b[0m\u001b[0;34m(\u001b[0m\u001b[0;34m\"E [MeV]\"\u001b[0m\u001b[0;34m)\u001b[0m\u001b[0;34m\u001b[0m\u001b[0;34m\u001b[0m\u001b[0m\n\u001b[1;32m     16\u001b[0m \u001b[0max\u001b[0m\u001b[0;34m.\u001b[0m\u001b[0mset_ylabel\u001b[0m\u001b[0;34m(\u001b[0m\u001b[0;34mr\"$\\frac{1}{\\Gamma} \\frac{d\\Gamma}{dE}$\"\u001b[0m\u001b[0;34m)\u001b[0m\u001b[0;34m\u001b[0m\u001b[0;34m\u001b[0m\u001b[0m\n",
      "\u001b[0;31mNameError\u001b[0m: name 'ax' is not defined"
     ]
    }
   ],
   "source": [
    "nPoints = 100\n",
    "\n",
    "e_min = 50\n",
    "e_max = 200\n",
    "\n",
    "e = np.linspace(0.0, e_max, nPoints)\n",
    "#p = dGamma_dE(e)/Gamma_tot\n",
    "\n",
    "#print(\"Integral of p(E) is: {:1.5f}\".format(np.sum(p)*e_max/nPoints))\n",
    "\n",
    "#fig, ax = pt.subplots(figsize=(6, 6))\n",
    "\n",
    "#ax.plot(e,p, label=\"p(E)\");\n",
    "#ax.set_xlabel(\"E [MeV]\")\n",
    "#ax.set_ylabel(r\"$\\frac{1}{\\Gamma} \\frac{d\\Gamma}{dE}$\")\n",
    "#ax.legend();"
   ]
  },
  {
   "cell_type": "code",
   "execution_count": null,
   "metadata": {},
   "outputs": [],
   "source": []
  },
  {
   "cell_type": "code",
   "execution_count": null,
   "metadata": {},
   "outputs": [],
   "source": []
  }
 ],
 "metadata": {
  "kernelspec": {
   "display_name": "Python 3",
   "language": "python",
   "name": "python3"
  },
  "language_info": {
   "codemirror_mode": {
    "name": "ipython",
    "version": 3
   },
   "file_extension": ".py",
   "mimetype": "text/x-python",
   "name": "python",
   "nbconvert_exporter": "python",
   "pygments_lexer": "ipython3",
   "version": "3.9.7"
  }
 },
 "nbformat": 4,
 "nbformat_minor": 4
}
