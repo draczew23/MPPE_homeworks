{
 "cells": [
  {
   "cell_type": "markdown",
   "metadata": {},
   "source": [
    "Setup of our environment"
   ]
  },
  {
   "cell_type": "code",
   "execution_count": 2,
   "metadata": {},
   "outputs": [],
   "source": [
    "#import ROOT\n",
    "\n",
    "#Color printing\n",
    "from termcolor import colored\n",
    "\n",
    "#General data operations library\n",
    "import math\n",
    "import numpy as np\n",
    "\n",
    "#HEP specific tools\n",
    "import scipy.constants as scipy_constants\n",
    "\n",
    "#Plotting libraries\n",
    "import matplotlib.pyplot as plt\n",
    "\n",
    "#Increase plots font size\n",
    "params = {'legend.fontsize': 'xx-large',\n",
    "          'figure.figsize': (10, 7),\n",
    "         'axes.labelsize': 'xx-large',\n",
    "         'axes.titlesize':'xx-large',\n",
    "         'xtick.labelsize':'xx-large',\n",
    "         'ytick.labelsize':'xx-large'}\n",
    "plt.rcParams.update(params)"
   ]
  },
  {
   "cell_type": "code",
   "execution_count": 3,
   "metadata": {},
   "outputs": [
    {
     "name": "stdout",
     "output_type": "stream",
     "text": [
      "Fermi constant: 1.1663787e-05 +- 6e-12 GeV^-2\n",
      "muon mass: \t105.6583755 +- 2.3e-06 MeV\n",
      "electron mass: \t0.51099895 +- 1.5e-10 MeV\n"
     ]
    }
   ],
   "source": [
    "G_F = scipy_constants.physical_constants[\"Fermi coupling constant\"]\n",
    "m_e = scipy_constants.physical_constants[\"electron mass energy equivalent in MeV\"]\n",
    "m_mu = scipy_constants.physical_constants[\"muon mass energy equivalent in MeV\"]\n",
    "\n",
    "print(\"Fermi constant: {} +- {} {}\".format(G_F[0], G_F[2], G_F[1]))\n",
    "print(\"muon mass: \\t{} +- {} {}\".format(m_mu[0], m_mu[2], m_mu[1]))\n",
    "print(\"electron mass: \\t{} +- {} {}\".format(m_e[0], m_e[2], m_e[1]))\n",
    "\n",
    "G_F = G_F[0]\n",
    "m_e = m_e[0]\n",
    "m_mu = m_mu[0]"
   ]
  },
  {
   "cell_type": "markdown",
   "metadata": {},
   "source": [
    "## Our homework functions"
   ]
  },
  {
   "cell_type": "code",
   "execution_count": 8,
   "metadata": {},
   "outputs": [],
   "source": [
    "minS = 50\n",
    "maxS = 200\n",
    "\n",
    "m_Z = 92.1876\n",
    "gamma_Z = 2.4952\n",
    "\n",
    "def BreitWigner(s, m, gamma):\n",
    "    gamma_small = np.sqrt(m ** 2 * (m ** 2 + gamma ** 2))\n",
    "    k = (2 * np.sqrt(2) * m * gamma * gamma_small) / (np.pi * np.sqrt(m ** 2 + gamma_small))\n",
    "    \n",
    "    distr = k / ((s ** 2 - m ** 2) ** 2 + m ** 2 * gamma ** 2)\n",
    "    return distr\n",
    "\n",
    "def generateCandidateEnergy(nPoints):\n",
    "    gamma = gamma_Z\n",
    "    s = (maxS-minS)*np.random.random(nPoints) + minS\n",
    "    x = np.random.random_sample(nPoints)\n",
    "    bw_values = BreitWigner(s, m_Z, gamma)  # it is equivalent to p\n",
    "    bw_values = bw_values / np.max(bw_values)\n",
    "    accepted = x < bw_values\n",
    "    return s[accepted]/2.0\n",
    "\n",
    "def generateCandidateMomenta(energy):\n",
    "    howmany = len(energy)\n",
    "    \n",
    "    c = np.random.random_sample([howmany, 3]) \n",
    "    csum = np.sum(c, axis=1)  # we need to generate shoots so that their sum equals energy\n",
    "    cdiv = np.asanyarray(1 / csum)  # vector we multiply our matrix\n",
    "    cdivT = np.vstack(cdiv)  # transposed vector\n",
    "\n",
    "    result = np.multiply(c, cdivt)  # matrix multiplied  by sum\n",
    "    energyT = np.vstack(energy)  # transposed vector of energies\n",
    "    \n",
    "    p = np.multiply(resutl, energyT)\n",
    "       \n",
    "    p4_electron = np.column_stack([energy, px,py,pz])\n",
    "    p4_positron = np.column_stack([energy, -px,-py,-pz])\n",
    "    return  p4_electron, p4_positron\n",
    "\n",
    "def generateEvents(nPoints):\n",
    "    energy = generateCandidateEnergy(nPoints)\n",
    "    data = generateCandidateMomenta(energy)\n",
    "    return data\n",
    "\n",
    "def invMass(p4):\n",
    "    metric = np.array([1,-1,-1,-1])\n",
    "    p4_square = p4*(metric*p4)\n",
    "    m = np.sqrt(np.sum(p4_square, axis=1))\n",
    "    return m"
   ]
  },
  {
   "cell_type": "markdown",
   "metadata": {},
   "source": [
    "## I have done here multiplication of two arrays; each row is multiplied by different value; thanks to this now we can generate N rows (for each energies) consisting of 3 momentum values\n"
   ]
  },
  {
   "cell_type": "code",
   "execution_count": 19,
   "metadata": {},
   "outputs": [
    {
     "name": "stdout",
     "output_type": "stream",
     "text": [
      "[[0.40670701 0.34788422 0.18820276]\n",
      " [0.84768055 0.40226377 0.11402732]\n",
      " [0.18500198 0.41133474 1.27574014]\n",
      " [1.5301057  1.32460447 1.00478835]\n",
      " [1.61799918 2.00757568 2.45256827]]\n"
     ]
    }
   ],
   "source": [
    "energy = np.array([1,2,3,4,5])\n",
    "howmany = 5\n",
    "\n",
    "c = np.random.random_sample([howmany, 3]) \n",
    "csum = np.sum(c, axis=1)  # we need to generate shoots so that their sum equals energy\n",
    "cdiv = np.asanyarray(1 / csum)  # vector we multiply our matrix\n",
    "cdivT = np.vstack(cdiv)  # transposed vector\n",
    "\n",
    "result = np.multiply(c, cdivt)  # matrix multiplied  by sum\n",
    "energyT = np.vstack(energy)  # transposed vector of energies\n",
    "\n",
    "p = np.multiply(result, energyT)\n",
    "\n",
    "print(p)"
   ]
  },
  {
   "cell_type": "code",
   "execution_count": 7,
   "metadata": {},
   "outputs": [
    {
     "name": "stdout",
     "output_type": "stream",
     "text": [
      "\n",
      "Matrix c : \n",
      " [[0.99991737 0.93969807 0.21736444]\n",
      " [0.71235959 0.27024185 0.06701959]\n",
      " [0.27398376 0.21862753 0.99059015]\n",
      " [0.47586836 0.82286162 0.88425836]\n",
      " [0.49572079 0.85832295 0.28924667]]\n",
      "[2.15697988 1.04962103 1.48320144 2.18298834 1.64329041]\n",
      "[[0.46361119]\n",
      " [0.95272481]\n",
      " [0.67421725]\n",
      " [0.45808765]\n",
      " [0.60853516]]\n",
      "[1. 1. 1. 1. 1.]\n"
     ]
    }
   ],
   "source": [
    "c = np.random.random_sample([5, 3]) \n",
    "\n",
    "csum = np.sum(c, axis=1)\n",
    "print(\"\\nMatrix c : \\n\", c)\n",
    "print(csum)\n",
    "\n",
    "cdiv = np.asanyarray(1 / csum)\n",
    "cdivt = np.vstack(cdiv)\n",
    "print(cdivt)\n",
    "\n",
    "r = np.multiply(c, cdivt)\n"
   ]
  },
  {
   "cell_type": "markdown",
   "metadata": {},
   "source": [
    "## Here are energies generated"
   ]
  },
  {
   "cell_type": "code",
   "execution_count": null,
   "metadata": {},
   "outputs": [],
   "source": [
    "nPoints = 5\n",
    "\n",
    "e_min = 50\n",
    "e_max = 200\n",
    "\n",
    "energies = generateCandidateEnergy(nPoints)\n",
    "print(\"Number of accepted events:\\t\",energies.shape[0])\n",
    "print(\"Accepted events fraction:\\t\",energies.shape[0]/nPoints)\n"
   ]
  },
  {
   "cell_type": "markdown",
   "metadata": {},
   "source": [
    "## Here is working generating momenta\n"
   ]
  },
  {
   "cell_type": "code",
   "execution_count": null,
   "metadata": {},
   "outputs": [],
   "source": [
    "b = generateCandidateMomenta(energies)\n",
    "b"
   ]
  },
  {
   "cell_type": "markdown",
   "metadata": {},
   "source": [
    "## First test plots"
   ]
  },
  {
   "cell_type": "code",
   "execution_count": null,
   "metadata": {},
   "outputs": [],
   "source": [
    "%%time\n",
    "\n",
    "nPoints = 1000000\n",
    "p4_electron, p4_positron = generateEvents(nPoints)\n",
    "m = invMass(p4_electron + p4_positron)\n",
    "#print(\"Generated {} events for {} tries. \\nEfficiency: {:3.2f}\".format(m.shape[0], nPoints, float(m.shape[0])/nPoints))\n",
    "\n",
    "#fig, axes = plt.subplots(2,2, figsize=(12, 12))\n",
    "#axes[0,0].plot(m, BreitWigner(m, m_Z, gamma_Z), \"o\",label=\"Breit-wigner\");\n",
    "#axes[0,0].hist(..., label=r\"$e^{+}e^{-}$ MC data\");\n",
    "#axes[0,0].set_xlabel(r\"invariant mass [GeV/$c^{2}$]\")\n",
    "#axes[0,0].set_ylabel(\"probability density\")\n",
    "#axes[0,0].legend(loc=\"upper right\");"
   ]
  },
  {
   "cell_type": "code",
   "execution_count": null,
   "metadata": {},
   "outputs": [],
   "source": []
  }
 ],
 "metadata": {
  "kernelspec": {
   "display_name": "Python 3",
   "language": "python",
   "name": "python3"
  },
  "language_info": {
   "codemirror_mode": {
    "name": "ipython",
    "version": 3
   },
   "file_extension": ".py",
   "mimetype": "text/x-python",
   "name": "python",
   "nbconvert_exporter": "python",
   "pygments_lexer": "ipython3",
   "version": "3.9.7"
  }
 },
 "nbformat": 4,
 "nbformat_minor": 4
}
