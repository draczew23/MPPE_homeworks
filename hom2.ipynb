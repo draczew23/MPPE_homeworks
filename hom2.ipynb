{
 "cells": [
  {
   "cell_type": "markdown",
   "metadata": {},
   "source": [
    "## Jakub Wiechnik"
   ]
  },
  {
   "cell_type": "markdown",
   "metadata": {},
   "source": [
    "## HOMEWORK: $Z$ boson production in $p+\\bar{p}$ collisions\n",
    "### Generate 10000 $p+\\bar{p}$ events at 630 GeV of $Z$ boson production ($Z$ discovery at CERN SPS). (in the center of mass)"
   ]
  },
  {
   "cell_type": "markdown",
   "metadata": {},
   "source": [
    "Setup:\n",
    "* in order to look at $Z$ boson production we limit physics list of Pythia8 to include only hard $f\\bar{f}\\to Z \\to f\\bar{f}$ processes\n",
    "  * `WeakSingleBoson:ffbar2gmZ`\n",
    "* moreover, we will disable all $Z$ decay modes other than $Z\\to e^+e^-$, in which the particle was discovered\n",
    "  * `id:onMode = off` disables all decay channels of particle with given id (`id` should be an integer equal to PDG code of the particle)\n",
    "  * `id:onIfAny = prod` enables decay of particle `id` in channels containing `prod` - see pythia documentation if more info is necessary\n",
    "* to speed up the simulation we disable hadronisation (we are interested only in leptonic final states)\n",
    "* we also limit phase space to $\\pm 20$ GeV around the $Z$ rest mass\n",
    "  * use `PhaseSpace:mHatMin = XX` and `PhaseSpace:mHatMax = XX` options, values are in GeV\n",
    "\n",
    "To do:\n",
    "* select candidates for products of $Z$ decay in each event and plot their invariant mass distribution in range 70-110 GeV\n",
    "* check influence of final state radiation on the spectrum - generate additional 10000 events with FSR turned off\n",
    "* normalize histograms so that their maxima are at $1$\n",
    "* draw both distributions (as a histograms, option `\"hist\"`) on the same plot with axis labels and a legend, how does FSR influence invariant mass spectrum?\n",
    "* draw $\\frac{1}{p_T}\\frac{\\mathrm{d}N}{\\mathrm{d}p_T}$ and $\\frac{\\mathrm{d}N}{\\mathrm{d}\\eta}$ spectra of produced $Z$ bosons (only for one dataset, with FSR on), with axis labels and proper normalisation, pick the $x$ axis ranges so that the whole distribution fits inside the plot\n",
    "  * **hint:** $Z$ boson will occur multiple times in the event listing (why?), it will never be a final particle, pick only $Z$'s that appear *last* in each event\n",
    "* NOT COMPULSORY what is the *mean* number $\\langle N_Z\\rangle$ of $Z$ bosons produced in an event, with what error? is this result surprising? \n",
    "  * **hint:** $\\langle N \\rangle = \\int\\limits_0^\\infty \\frac{\\mathrm{d}N}{\\mathrm{d}p_T}\\cdot \\mathrm{d}p_T = \\int\\limits_{-\\infty}^\\infty \\frac{\\mathrm{d}N}{\\mathrm{d}\\eta}\\cdot \\mathrm{d}\\eta$, see `TH1::Integral`, and `TH1::IntegralAndError` methods and make sure, that *\"width\"* option is used so that bin contents are multiplied by bin widths during computation of the integral"
   ]
  },
  {
   "cell_type": "code",
   "execution_count": 1,
   "metadata": {},
   "outputs": [
    {
     "name": "stdout",
     "output_type": "stream",
     "text": [
      "Welcome to JupyROOT 6.24/04\n"
     ]
    }
   ],
   "source": [
    "# Imported librareis\n",
    "import ROOT\n",
    "import os, sys, subprocess, time\n",
    "import py8settings as py8s\n",
    "from py8settings import PDF\n",
    "import itertools as it\n",
    "import ctypes\n",
    "%jsroot on"
   ]
  },
  {
   "cell_type": "markdown",
   "metadata": {},
   "source": [
    "Settings"
   ]
  },
  {
   "cell_type": "code",
   "execution_count": 2,
   "metadata": {},
   "outputs": [],
   "source": [
    "def makePythiaSilent(pythia):\n",
    "    pythia.ReadString(\"Init:showMultipartonInteractions = off\")\n",
    "    pythia.ReadString(\"Init:showChangedParticleData = off\")\n",
    "    pythia.ReadString(\"Init:showProcesses = off\")\n",
    "    pythia.ReadString(\"Init:showChangedSettings = off\")\n",
    "    pythia.ReadString(\"Next:numberShowInfo = 0\")\n",
    "    pythia.ReadString(\"Next:numberShowProcess = 0\")\n",
    "    pythia.ReadString(\"Next:numberShowEvent = 0\")\n",
    "    pythia.ReadString(\"Next:numberCount = 0\")\n",
    "    \n",
    "pythia = ROOT.TPythia8(False)\n",
    "makePythiaSilent(pythia)\n",
    "pythia.ReadString(\"WeakSingleBoson:ffbar2gmZ = on\")\n",
    "pythia.ReadString(\"Random:setSeed = on\")\n",
    "pythia.ReadString(\"Random:seed = 42\")\n",
    "pythia.ReadString(\"23:onMode = off\")\n",
    "pythia.ReadString(\"23:onIfAny = 11\")\n",
    "pythia.ReadString(\"HadronLevel:Hadronize = off\")\n",
    "pythia.ReadString(\"PhaseSpace:mHatMin = 70\")\n",
    "pythia.ReadString(\"PhaseSpace:mHatMax = 110\")\n",
    "\n",
    "# Warning about cross section violated is ok"
   ]
  },
  {
   "cell_type": "markdown",
   "metadata": {},
   "source": [
    "Initialize our simulation"
   ]
  },
  {
   "cell_type": "code",
   "execution_count": 3,
   "metadata": {},
   "outputs": [],
   "source": [
    "# FSR on\n",
    "pythia.ReadString(\"PartonLevel:FSR = on\")\n",
    "particles = ROOT.TClonesArray(\"TParticle\", 10000)\n",
    "pythia.Initialize(2212 , -2212 , 630)\n",
    "pythia.GenerateEvent()"
   ]
  },
  {
   "cell_type": "markdown",
   "metadata": {},
   "source": [
    "Useful functions"
   ]
  },
  {
   "cell_type": "code",
   "execution_count": 4,
   "metadata": {},
   "outputs": [],
   "source": [
    "def isFinal(p,name=None):\n",
    "    if name==None:\n",
    "        return p.GetStatusCode()>0\n",
    "    else:\n",
    "        return p.GetStatusCode()>0 and p.GetName()==name\n",
    "\n",
    "\n",
    "def getMinv(pair):  # invariant mass of 2 particles\n",
    "    p4_1=ROOT.TLorentzVector()  # ROOT class to represent 4vectors\n",
    "    p4_2=ROOT.TLorentzVector()\n",
    "    pair[0].Momentum(p4_1)\n",
    "    pair[1].Momentum(p4_2)\n",
    "    p4=p4_1+p4_2\n",
    "    return p4.M()   # get mass of 4vector"
   ]
  },
  {
   "cell_type": "markdown",
   "metadata": {},
   "source": [
    "## 1. FSR on "
   ]
  },
  {
   "cell_type": "code",
   "execution_count": 5,
   "metadata": {},
   "outputs": [
    {
     "name": "stdout",
     "output_type": "stream",
     "text": [
      " PYTHIA Warning in JunctionSplitting::SplitJunPairs: parallel junction state not allowed.  \n",
      " PYTHIA Warning in JunctionSplitting::CheckColours: Not possible to split junctions; making new colours  \n",
      " PYTHIA Error in BeamRemnants::add: failed to find physical colour state after colour reconnection  \n",
      " PYTHIA Warning in MultipartonInteractions::pTnext: weight above unity  \n"
     ]
    },
    {
     "name": "stderr",
     "output_type": "stream",
     "text": [
      "Warning in <TParticle::SetPdgCode>: PDG code 9942003 unknown from TDatabasePDG\n",
      "Warning in <TParticle::SetPdgCode>: PDG code 9942003 unknown from TDatabasePDG\n",
      "Warning in <TParticle::SetPdgCode>: PDG code 9942003 unknown from TDatabasePDG\n",
      "Warning in <TParticle::SetPdgCode>: PDG code 9942003 unknown from TDatabasePDG\n",
      "Warning in <TParticle::SetPdgCode>: PDG code 30443 unknown from TDatabasePDG\n",
      "Warning in <TParticle::SetPdgCode>: PDG code 30443 unknown from TDatabasePDG\n",
      "Warning in <TParticle::SetPdgCode>: PDG code 30443 unknown from TDatabasePDG\n",
      "Warning in <TParticle::SetPdgCode>: PDG code 30443 unknown from TDatabasePDG\n",
      "Warning in <TParticle::SetPdgCode>: PDG code 30443 unknown from TDatabasePDG\n",
      "Warning in <TParticle::SetPdgCode>: PDG code 30443 unknown from TDatabasePDG\n"
     ]
    }
   ],
   "source": [
    "#plotting invariant mass distribution of product of decay of Z boson (e+ and e-)\n",
    "c1_kstar = ROOT.TCanvas(\"c1\",\"\",800,600)\n",
    "\n",
    "nEvents=10000\n",
    "h=ROOT.TH1D(\"h\",\"\",300,70,110)\n",
    "parts=[\"e-\", \"e+\"]\n",
    "labels={\"e-\": \"#e^{-}\", \"e+\": \"#e^{+}\"}\n",
    "colors={\"e-\": ROOT.kBlack, \"e+\": ROOT.kBlue}\n",
    "\n",
    "\n",
    "def getZbosondecayCandidates(parts):\n",
    "    electron = [p for p in parts if isFinal(p,\"e-\")]\n",
    "    positron = [p for p in parts if isFinal(p,\"e+\")]\n",
    "    return list(it.product(electron,positron))\n",
    "\n",
    "for i in range(nEvents):\n",
    "    pythia.GenerateEvent()\n",
    "    pythia.ImportParticles(particles,\"All\")\n",
    "    #for all possible e- e+ pairs we fill invariant mass histogram\n",
    "    for pair in getZbosondecayCandidates(particles):\n",
    "        h.Fill(getMinv(pair))\n",
    "        \n",
    "# Normalization\n",
    "h.Scale(1/h.GetMaximum())"
   ]
  },
  {
   "cell_type": "markdown",
   "metadata": {},
   "source": [
    "Make plot with fsr on"
   ]
  },
  {
   "cell_type": "code",
   "execution_count": 6,
   "metadata": {},
   "outputs": [
    {
     "data": {
      "text/plain": [
       "<cppyy.gbl.TH1D object at 0x55a23f13df30>"
      ]
     },
     "execution_count": 6,
     "metadata": {},
     "output_type": "execute_result"
    }
   ],
   "source": [
    "h.GetXaxis().SetTitle(\"M_{#e^{-}e^{+}}[GeV/#it{c}^{2}]\")\n",
    "h.GetXaxis().SetTitleOffset(1.1)\n",
    "h.GetYaxis().SetTitle(\"Entries\")\n",
    "h.SetLineColor(ROOT.kBlue)\n",
    "h.SetLineWidth(2)\n",
    "h.DrawCopy()\n"
   ]
  },
  {
   "cell_type": "markdown",
   "metadata": {},
   "source": [
    "## 2. FSR off"
   ]
  },
  {
   "cell_type": "markdown",
   "metadata": {},
   "source": [
    "Settings"
   ]
  },
  {
   "cell_type": "code",
   "execution_count": 7,
   "metadata": {},
   "outputs": [],
   "source": [
    "def makePythiaSilent(pythia):\n",
    "    pythia.ReadString(\"Init:showMultipartonInteractions = off\")\n",
    "    pythia.ReadString(\"Init:showChangedParticleData = off\")\n",
    "    pythia.ReadString(\"Init:showProcesses = off\")\n",
    "    pythia.ReadString(\"Init:showChangedSettings = off\")\n",
    "    pythia.ReadString(\"Next:numberShowInfo = 0\")\n",
    "    pythia.ReadString(\"Next:numberShowProcess = 0\")\n",
    "    pythia.ReadString(\"Next:numberShowEvent = 0\")\n",
    "    pythia.ReadString(\"Next:numberCount = 0\")\n",
    "    \n",
    "pythia = ROOT.TPythia8(False)\n",
    "makePythiaSilent(pythia)\n",
    "pythia.ReadString(\"WeakSingleBoson:ffbar2gmZ = on\")\n",
    "pythia.ReadString(\"Random:setSeed = on\")\n",
    "pythia.ReadString(\"Random:seed = 42\")\n",
    "pythia.ReadString(\"23:onMode = off\")\n",
    "pythia.ReadString(\"23:onIfAny = 11\")\n",
    "pythia.ReadString(\"HadronLevel:Hadronize = off\")\n",
    "pythia.ReadString(\"PhaseSpace:mHatMin = 70\")\n",
    "pythia.ReadString(\"PhaseSpace:mHatMax = 110\")\n",
    "\n",
    "# Warning about cross section violated is ok"
   ]
  },
  {
   "cell_type": "markdown",
   "metadata": {},
   "source": [
    "Initialization"
   ]
  },
  {
   "cell_type": "code",
   "execution_count": 8,
   "metadata": {},
   "outputs": [
    {
     "name": "stdout",
     "output_type": "stream",
     "text": [
      " *** TDatabasePDG::AddParticle: particle with PDGcode=90 already defined\n",
      " *** TDatabasePDG::AddParticle: particle with PDGcode=9900110 already defined\n",
      " *** TDatabasePDG::AddParticle: particle with PDGcode=9900210 already defined\n",
      " *** TDatabasePDG::AddParticle: particle with PDGcode=9900220 already defined\n",
      " *** TDatabasePDG::AddParticle: particle with PDGcode=9900330 already defined\n",
      " *** TDatabasePDG::AddParticle: particle with PDGcode=9900440 already defined\n",
      " *** TDatabasePDG::AddParticle: particle with PDGcode=9902110 already defined\n",
      " *** TDatabasePDG::AddParticle: particle with PDGcode=9902210 already defined\n"
     ]
    }
   ],
   "source": [
    "# FSR off\n",
    "pythia.ReadString(\"PartonLevel:FSR = off\")\n",
    "particles = ROOT.TClonesArray(\"TParticle\", 10000)\n",
    "pythia.Initialize(2212 , -2212 , 630)\n",
    "pythia.GenerateEvent()"
   ]
  },
  {
   "cell_type": "code",
   "execution_count": 9,
   "metadata": {},
   "outputs": [
    {
     "name": "stdout",
     "output_type": "stream",
     "text": [
      " PYTHIA Warning in JunctionSplitting::SplitJunPairs: parallel junction state not allowed.  \n",
      " PYTHIA Warning in JunctionSplitting::CheckColours: Not possible to split junctions; making new colours  \n",
      " PYTHIA Error in BeamRemnants::add: failed to find physical colour state after colour reconnection  \n",
      " PYTHIA Warning in SimpleSpaceShower::pT2nextQCD: weight above unity  \n",
      " PYTHIA Warning in MultipartonInteractions::pTnext: weight above unity  \n",
      " PYTHIA Error in SimpleSpaceShower::pT2nearThreshold: stuck in loop  \n"
     ]
    }
   ],
   "source": [
    "#plotting invariant mass distribution of product of decay of Z boson (e+ and e-)\n",
    "nEvents=10000\n",
    "hfsr=ROOT.TH1D(\"hfsr\",\"\",300,70,110)\n",
    "parts=[\"e-\", \"e+\"]\n",
    "labels={\"e-\": \"#e^{-}\", \"e+\": \"#e^{+}\"}\n",
    "\n",
    "def getZbosondecayCandidates(parts):\n",
    "    electron = [p for p in parts if isFinal(p,\"e-\")]\n",
    "    positron = [p for p in parts if isFinal(p,\"e+\")]\n",
    "    return list(it.product(electron,positron))\n",
    "\n",
    "for i in range(nEvents):\n",
    "    pythia.GenerateEvent()\n",
    "    pythia.ImportParticles(particles,\"All\")\n",
    "    #for all possible e- e+ pairs we fill invariant mass histogram\n",
    "    for pair in getZbosondecayCandidates(particles):\n",
    "        hfsr.Fill(getMinv(pair))\n",
    "        \n",
    "# Normalization\n",
    "hfsr.Scale(1/hfsr.GetMaximum())"
   ]
  },
  {
   "cell_type": "markdown",
   "metadata": {},
   "source": [
    "Plotting final"
   ]
  },
  {
   "cell_type": "code",
   "execution_count": 10,
   "metadata": {},
   "outputs": [
    {
     "data": {
      "text/html": [
       "\n",
       "\n",
       "<div id=\"root_plot_1649447279691\"\n",
       "     style=\"width: 796px; height: 572px\">\n",
       "</div>\n",
       "<script>\n",
       "\n",
       "function display_root_plot_1649447279691(Core) {\n",
       "   let obj = Core.parse({\"_typename\":\"TCanvas\",\"fUniqueID\":0,\"fBits\":3342344,\"fLineColor\":1,\"fLineStyle\":1,\"fLineWidth\":1,\"fFillColor\":0,\"fFillStyle\":1001,\"fLeftMargin\":0.1,\"fRightMargin\":0.1,\"fBottomMargin\":0.1,\"fTopMargin\":0.1,\"fXfile\":2,\"fYfile\":2,\"fAfile\":1,\"fXstat\":0.99,\"fYstat\":0.99,\"fAstat\":2,\"fFrameFillColor\":0,\"fFrameLineColor\":1,\"fFrameFillStyle\":1001,\"fFrameLineStyle\":1,\"fFrameLineWidth\":1,\"fFrameBorderSize\":1,\"fFrameBorderMode\":0,\"fX1\":64.9999996274709,\"fY1\":-0.139267380162111,\"fX2\":115.000000372529,\"fY2\":1.25340633844917,\"fXtoAbsPixelk\":-1034.79992864961,\"fXtoPixelk\":-1034.79992864961,\"fXtoPixel\":15.9199997627735,\"fYtoAbsPixelk\":514.800046590614,\"fYtoPixelk\":514.800046590614,\"fYtoPixel\":-410.720754155091,\"fUtoAbsPixelk\":5e-5,\"fUtoPixelk\":5e-5,\"fUtoPixel\":796,\"fVtoAbsPixelk\":572.00005,\"fVtoPixelk\":572,\"fVtoPixel\":-572,\"fAbsPixeltoXk\":64.9999996274709,\"fPixeltoXk\":64.9999996274709,\"fPixeltoX\":0.0628140712877615,\"fAbsPixeltoYk\":1.25340633844917,\"fPixeltoYk\":-0.139267380162111,\"fPixeltoY\":-0.00243474426330644,\"fXlowNDC\":0,\"fYlowNDC\":0,\"fXUpNDC\":1,\"fYUpNDC\":1,\"fWNDC\":1,\"fHNDC\":1,\"fAbsXlowNDC\":0,\"fAbsYlowNDC\":0,\"fAbsWNDC\":1,\"fAbsHNDC\":1,\"fUxmin\":70,\"fUymin\":0,\"fUxmax\":110,\"fUymax\":1.11413895828706,\"fTheta\":30,\"fPhi\":30,\"fAspectRatio\":0,\"fNumber\":0,\"fTickx\":0,\"fTicky\":0,\"fLogx\":0,\"fLogy\":0,\"fLogz\":0,\"fPadPaint\":0,\"fCrosshair\":0,\"fCrosshairPos\":0,\"fBorderSize\":2,\"fBorderMode\":0,\"fModified\":false,\"fGridx\":false,\"fGridy\":false,\"fAbsCoord\":false,\"fEditable\":true,\"fFixedAspectRatio\":false,\"fPrimitives\":{\"_typename\":\"TList\",\"name\":\"TList\",\"arr\":[{\"_typename\":\"TFrame\",\"fUniqueID\":0,\"fBits\":8,\"fLineColor\":1,\"fLineStyle\":1,\"fLineWidth\":1,\"fFillColor\":0,\"fFillStyle\":1001,\"fX1\":70,\"fY1\":0,\"fX2\":110,\"fY2\":1.11413895828706,\"fBorderSize\":1,\"fBorderMode\":0},{\"_typename\":\"TH1D\",\"fUniqueID\":0,\"fBits\":9,\"fName\":\"h_copy\",\"fTitle\":\"\",\"fLineColor\":600,\"fLineStyle\":1,\"fLineWidth\":2,\"fFillColor\":0,\"fFillStyle\":1001,\"fMarkerColor\":1,\"fMarkerStyle\":1,\"fMarkerSize\":1,\"fNcells\":302,\"fXaxis\":{\"_typename\":\"TAxis\",\"fUniqueID\":0,\"fBits\":0,\"fName\":\"xaxis\",\"fTitle\":\"M_{#e^{-}e^{+}}[GeV\\/#it{c}^{2}]\",\"fNdivisions\":510,\"fAxisColor\":1,\"fLabelColor\":1,\"fLabelFont\":42,\"fLabelOffset\":0.005,\"fLabelSize\":0.035,\"fTickLength\":0.03,\"fTitleOffset\":1.1,\"fTitleSize\":0.035,\"fTitleColor\":1,\"fTitleFont\":42,\"fNbins\":300,\"fXmin\":70,\"fXmax\":110,\"fXbins\":[],\"fFirst\":0,\"fLast\":0,\"fBits2\":0,\"fTimeDisplay\":false,\"fTimeFormat\":\"\",\"fLabels\":null,\"fModLabs\":null},\"fYaxis\":{\"_typename\":\"TAxis\",\"fUniqueID\":0,\"fBits\":0,\"fName\":\"yaxis\",\"fTitle\":\"Entries\",\"fNdivisions\":510,\"fAxisColor\":1,\"fLabelColor\":1,\"fLabelFont\":42,\"fLabelOffset\":0.005,\"fLabelSize\":0.035,\"fTickLength\":0.03,\"fTitleOffset\":0,\"fTitleSize\":0.035,\"fTitleColor\":1,\"fTitleFont\":42,\"fNbins\":1,\"fXmin\":0,\"fXmax\":1,\"fXbins\":[],\"fFirst\":0,\"fLast\":0,\"fBits2\":0,\"fTimeDisplay\":false,\"fTimeFormat\":\"\",\"fLabels\":null,\"fModLabs\":null},\"fZaxis\":{\"_typename\":\"TAxis\",\"fUniqueID\":0,\"fBits\":0,\"fName\":\"zaxis\",\"fTitle\":\"\",\"fNdivisions\":510,\"fAxisColor\":1,\"fLabelColor\":1,\"fLabelFont\":42,\"fLabelOffset\":0.005,\"fLabelSize\":0.035,\"fTickLength\":0.03,\"fTitleOffset\":1,\"fTitleSize\":0.035,\"fTitleColor\":1,\"fTitleFont\":42,\"fNbins\":1,\"fXmin\":0,\"fXmax\":1,\"fXbins\":[],\"fFirst\":0,\"fLast\":0,\"fBits2\":0,\"fTimeDisplay\":false,\"fTimeFormat\":\"\",\"fLabels\":null,\"fModLabs\":null},\"fBarOffset\":0,\"fBarWidth\":1000,\"fEntries\":10111,\"fTsumw\":35.044776119403,\"fTsumw2\":0.130764089997772,\"fTsumwx\":3125.34913220852,\"fTsumwx2\":279762.387898982,\"fMaximum\":-1111,\"fMinimum\":-1111,\"fNormFactor\":0,\"fContour\":[],\"fSumw2\":[0.0100105814212519,1.25306304299399e-4,1.11383381599465e-4,9.74604588995322e-5,8.3537536199599e-5,5.56916907997327e-5,1.80997995099131e-4,1.11383381599465e-4,9.74604588995322e-5,6.96146134996659e-5,8.3537536199599e-5,8.3537536199599e-5,1.67075072399198e-4,1.11383381599465e-4,5.56916907997327e-5,8.3537536199599e-5,8.3537536199599e-5,1.67075072399198e-4,1.25306304299399e-4,1.25306304299399e-4,1.25306304299399e-4,2.78458453998663e-5,1.11383381599465e-4,8.3537536199599e-5,6.96146134996659e-5,1.11383381599465e-4,8.3537536199599e-5,1.39229226999332e-4,5.56916907997327e-5,1.53152149699265e-4,1.94920917799064e-4,1.53152149699265e-4,1.53152149699265e-4,1.53152149699265e-4,1.39229226999332e-4,1.67075072399198e-4,1.53152149699265e-4,1.94920917799064e-4,2.08843840498998e-4,1.11383381599465e-4,1.67075072399198e-4,5.56916907997327e-5,6.96146134996659e-5,6.96146134996659e-5,2.08843840498998e-4,1.53152149699265e-4,5.56916907997327e-5,1.80997995099131e-4,1.39229226999332e-4,1.80997995099131e-4,1.39229226999332e-4,1.53152149699265e-4,9.74604588995322e-5,2.22766763198931e-4,1.25306304299399e-4,1.67075072399198e-4,1.39229226999332e-4,9.74604588995322e-5,2.22766763198931e-4,2.22766763198931e-4,9.74604588995322e-5,1.67075072399198e-4,1.25306304299399e-4,1.25306304299399e-4,1.80997995099131e-4,2.22766763198931e-4,2.36689685898864e-4,1.80997995099131e-4,1.25306304299399e-4,1.94920917799064e-4,2.78458453998663e-4,2.78458453998663e-4,2.78458453998663e-4,1.80997995099131e-4,1.11383381599465e-4,1.80997995099131e-4,2.36689685898864e-4,2.92381376698597e-4,2.08843840498998e-4,1.67075072399198e-4,2.22766763198931e-4,2.36689685898864e-4,2.08843840498998e-4,2.22766763198931e-4,1.94920917799064e-4,3.48073067498329e-4,2.50612608598797e-4,1.11383381599465e-4,2.08843840498998e-4,2.08843840498998e-4,2.92381376698597e-4,2.36689685898864e-4,2.92381376698597e-4,4.17687680997995e-4,1.25306304299399e-4,2.50612608598797e-4,1.94920917799064e-4,3.20227222098463e-4,2.92381376698597e-4,2.08843840498998e-4,3.48073067498329e-4,2.6453553129873e-4,3.48073067498329e-4,2.92381376698597e-4,3.61995990198262e-4,4.17687680997995e-4,2.50612608598797e-4,3.34150144798396e-4,3.75918912898196e-4,4.87302294497661e-4,2.92381376698597e-4,3.75918912898196e-4,4.59456449097795e-4,5.15148139897527e-4,3.48073067498329e-4,4.45533526397861e-4,5.84762753397193e-4,5.42993985297394e-4,5.15148139897527e-4,4.73379371797728e-4,5.98685676097126e-4,4.59456449097795e-4,4.31610603697928e-4,4.59456449097795e-4,6.68300289596792e-4,5.56916907997327e-4,4.31610603697928e-4,5.98685676097126e-4,6.40454444196926e-4,5.56916907997327e-4,6.12608598797059e-4,8.07529516596124e-4,7.10069057696592e-4,7.79683671196257e-4,6.26531521496993e-4,9.60681666295389e-4,9.04989975495656e-4,7.23991980396525e-4,0.00100245043439519,0.00118344842949432,9.18912898195589e-4,0.00132267765649365,0.00104421920249499,0.00132267765649365,0.00164290487859211,0.00146190688349298,0.00174036533749165,0.00171251949209178,0.00219982178658944,0.00222766763198931,0.00193528625529071,0.00231120516818891,0.0029795054577857,0.00267320115838717,0.00290989084428603,0.00303519714858543,0.00325796391178436,0.00373134328358209,0.00353642236578302,0.00366172867008242,0.00313265760748496,0.00336934729338383,0.00292381376698597,0.00279850746268657,0.00295165961238583,0.00238081978168857,0.00221374470928937,0.00201882379149031,0.00211628425038984,0.00169859656939185,0.00155936734239251,0.00119737135219425,0.00126698596569392,9.60681666295389e-4,8.7714413009579e-4,7.37914903096458e-4,8.91067052795723e-4,7.79683671196257e-4,6.54377366896859e-4,6.82223212296725e-4,5.42993985297394e-4,5.15148139897527e-4,5.98685676097126e-4,4.17687680997995e-4,4.31610603697928e-4,3.48073067498329e-4,4.03764758298062e-4,3.75918912898196e-4,3.20227222098463e-4,3.20227222098463e-4,2.92381376698597e-4,3.0630429939853e-4,4.45533526397861e-4,2.50612608598797e-4,2.6453553129873e-4,2.36689685898864e-4,1.94920917799064e-4,2.08843840498998e-4,1.94920917799064e-4,1.80997995099131e-4,2.08843840498998e-4,1.67075072399198e-4,1.53152149699265e-4,1.53152149699265e-4,2.78458453998663e-4,1.39229226999332e-4,4.17687680997995e-5,1.80997995099131e-4,1.11383381599465e-4,1.25306304299399e-4,1.39229226999332e-4,8.3537536199599e-5,1.39229226999332e-4,5.56916907997327e-5,1.39229226999332e-4,1.11383381599465e-4,1.11383381599465e-4,5.56916907997327e-5,5.56916907997327e-5,8.3537536199599e-5,9.74604588995322e-5,1.11383381599465e-4,8.3537536199599e-5,5.56916907997327e-5,9.74604588995322e-5,6.96146134996659e-5,2.78458453998663e-5,6.96146134996659e-5,6.96146134996659e-5,5.56916907997327e-5,8.3537536199599e-5,2.78458453998663e-5,6.96146134996659e-5,1.39229226999332e-5,0,2.78458453998663e-5,5.56916907997327e-5,2.78458453998663e-5,5.56916907997327e-5,6.96146134996659e-5,5.56916907997327e-5,5.56916907997327e-5,2.78458453998663e-5,4.17687680997995e-5,5.56916907997327e-5,2.78458453998663e-5,0,5.56916907997327e-5,2.78458453998663e-5,2.78458453998663e-5,4.17687680997995e-5,4.17687680997995e-5,2.78458453998663e-5,1.39229226999332e-5,4.17687680997995e-5,1.39229226999332e-5,1.39229226999332e-5,4.17687680997995e-5,0,2.78458453998663e-5,8.3537536199599e-5,5.56916907997327e-5,1.39229226999332e-5,0,1.39229226999332e-5,1.39229226999332e-5,5.56916907997327e-5,0,1.39229226999332e-5,2.78458453998663e-5,0,1.39229226999332e-5,5.56916907997327e-5,4.17687680997995e-5,4.17687680997995e-5,1.39229226999332e-5,1.39229226999332e-5,2.78458453998663e-5,0,1.39229226999332e-5,0,4.17687680997995e-5,1.39229226999332e-5,4.17687680997995e-5,1.39229226999332e-5,1.39229226999332e-5,1.39229226999332e-5,0,1.39229226999332e-5,0,0,0,2.78458453998663e-5,2.78458453998663e-5,2.78458453998663e-5,1.39229226999332e-5,1.39229226999332e-5,1.39229226999332e-5,0,1.39229226999332e-5,0,0],\"fOption\":\"\",\"fFunctions\":{\"_typename\":\"TList\",\"name\":\"TList\",\"arr\":[{\"_typename\":\"TPaveStats\",\"fUniqueID\":0,\"fBits\":9,\"fLineColor\":1,\"fLineStyle\":1,\"fLineWidth\":1,\"fFillColor\":0,\"fFillStyle\":1001,\"fX1\":104.000001013279,\"fY1\":0.940054760062615,\"fX2\":114.000001311302,\"fY2\":1.16288255005983,\"fX1NDC\":0.780000016093254,\"fY1NDC\":0.775000005960464,\"fX2NDC\":0.980000019073486,\"fY2NDC\":0.935000002384186,\"fBorderSize\":1,\"fInit\":1,\"fShadowColor\":1,\"fCornerRadius\":0,\"fOption\":\"brNDC\",\"fName\":\"stats\",\"fTextAngle\":0,\"fTextSize\":0,\"fTextAlign\":12,\"fTextColor\":1,\"fTextFont\":42,\"fLabel\":\"\",\"fLongest\":18,\"fMargin\":0.05,\"fLines\":{\"_typename\":\"TList\",\"name\":\"TList\",\"arr\":[{\"_typename\":\"TLatex\",\"fUniqueID\":0,\"fBits\":0,\"fName\":\"\",\"fTitle\":\"h_copy\",\"fTextAngle\":0,\"fTextSize\":0.0368,\"fTextAlign\":0,\"fTextColor\":0,\"fTextFont\":0,\"fX\":0,\"fY\":0,\"fLineColor\":1,\"fLineStyle\":1,\"fLineWidth\":2,\"fLimitFactorSize\":3,\"fOriginSize\":0.0368000008165836},{\"_typename\":\"TLatex\",\"fUniqueID\":0,\"fBits\":0,\"fName\":\"\",\"fTitle\":\"Entries = 10111  \",\"fTextAngle\":0,\"fTextSize\":0,\"fTextAlign\":0,\"fTextColor\":0,\"fTextFont\":0,\"fX\":0,\"fY\":0,\"fLineColor\":1,\"fLineStyle\":1,\"fLineWidth\":2,\"fLimitFactorSize\":3,\"fOriginSize\":0.04},{\"_typename\":\"TLatex\",\"fUniqueID\":0,\"fBits\":0,\"fName\":\"\",\"fTitle\":\"Mean  =  89.18\",\"fTextAngle\":0,\"fTextSize\":0,\"fTextAlign\":0,\"fTextColor\":0,\"fTextFont\":0,\"fX\":0,\"fY\":0,\"fLineColor\":1,\"fLineStyle\":1,\"fLineWidth\":2,\"fLimitFactorSize\":3,\"fOriginSize\":0.04},{\"_typename\":\"TLatex\",\"fUniqueID\":0,\"fBits\":0,\"fName\":\"\",\"fTitle\":\"Std Dev   =  5.444\",\"fTextAngle\":0,\"fTextSize\":0,\"fTextAlign\":0,\"fTextColor\":0,\"fTextFont\":0,\"fX\":0,\"fY\":0,\"fLineColor\":1,\"fLineStyle\":1,\"fLineWidth\":2,\"fLimitFactorSize\":3,\"fOriginSize\":0.04}],\"opt\":[\"\",\"\",\"\",\"\"]},\"fOptFit\":0,\"fOptStat\":1111,\"fFitFormat\":\"5.4g\",\"fStatFormat\":\"6.4g\",\"fParent\":{\"$ref\":3}}],\"opt\":[\"brNDC\"]},\"fBufferSize\":0,\"fBuffer\":[],\"fBinStatErrOpt\":0,\"fStatOverflows\":2,\"fArray\":[2.68283582089552,0.0335820895522388,0.0298507462686567,0.0261194029850746,0.0223880597014925,0.0149253731343284,0.0485074626865672,0.0298507462686567,0.0261194029850746,0.0186567164179104,0.0223880597014925,0.0223880597014925,0.0447761194029851,0.0298507462686567,0.0149253731343284,0.0223880597014925,0.0223880597014925,0.0447761194029851,0.0335820895522388,0.0335820895522388,0.0335820895522388,0.00746268656716418,0.0298507462686567,0.0223880597014925,0.0186567164179104,0.0298507462686567,0.0223880597014925,0.0373134328358209,0.0149253731343284,0.041044776119403,0.0522388059701493,0.041044776119403,0.041044776119403,0.041044776119403,0.0373134328358209,0.0447761194029851,0.041044776119403,0.0522388059701493,0.0559701492537313,0.0298507462686567,0.0447761194029851,0.0149253731343284,0.0186567164179104,0.0186567164179104,0.0559701492537313,0.041044776119403,0.0149253731343284,0.0485074626865672,0.0373134328358209,0.0485074626865672,0.0373134328358209,0.041044776119403,0.0261194029850746,0.0597014925373134,0.0335820895522388,0.0447761194029851,0.0373134328358209,0.0261194029850746,0.0597014925373134,0.0597014925373134,0.0261194029850746,0.0447761194029851,0.0335820895522388,0.0335820895522388,0.0485074626865672,0.0597014925373134,0.0634328358208955,0.0485074626865672,0.0335820895522388,0.0522388059701493,0.0746268656716418,0.0746268656716418,0.0746268656716418,0.0485074626865672,0.0298507462686567,0.0485074626865672,0.0634328358208955,0.0783582089552239,0.0559701492537313,0.0447761194029851,0.0597014925373134,0.0634328358208955,0.0559701492537313,0.0597014925373134,0.0522388059701493,0.0932835820895522,0.0671641791044776,0.0298507462686567,0.0559701492537313,0.0559701492537313,0.0783582089552239,0.0634328358208955,0.0783582089552239,0.111940298507463,0.0335820895522388,0.0671641791044776,0.0522388059701493,0.0858208955223881,0.0783582089552239,0.0559701492537313,0.0932835820895522,0.0708955223880597,0.0932835820895522,0.0783582089552239,0.0970149253731343,0.111940298507463,0.0671641791044776,0.0895522388059701,0.100746268656716,0.130597014925373,0.0783582089552239,0.100746268656716,0.123134328358209,0.138059701492537,0.0932835820895522,0.119402985074627,0.156716417910448,0.145522388059701,0.138059701492537,0.126865671641791,0.16044776119403,0.123134328358209,0.115671641791045,0.123134328358209,0.17910447761194,0.149253731343284,0.115671641791045,0.16044776119403,0.171641791044776,0.149253731343284,0.164179104477612,0.216417910447761,0.190298507462687,0.208955223880597,0.167910447761194,0.257462686567164,0.242537313432836,0.194029850746269,0.26865671641791,0.317164179104478,0.246268656716418,0.354477611940298,0.279850746268657,0.354477611940298,0.440298507462687,0.391791044776119,0.466417910447761,0.458955223880597,0.58955223880597,0.597014925373134,0.51865671641791,0.619402985074627,0.798507462686567,0.716417910447761,0.779850746268657,0.813432835820896,0.873134328358209,1,0.947761194029851,0.98134328358209,0.83955223880597,0.902985074626866,0.783582089552239,0.75,0.791044776119403,0.638059701492537,0.593283582089552,0.541044776119403,0.567164179104478,0.455223880597015,0.417910447761194,0.32089552238806,0.33955223880597,0.257462686567164,0.235074626865672,0.197761194029851,0.238805970149254,0.208955223880597,0.175373134328358,0.182835820895522,0.145522388059701,0.138059701492537,0.16044776119403,0.111940298507463,0.115671641791045,0.0932835820895522,0.108208955223881,0.100746268656716,0.0858208955223881,0.0858208955223881,0.0783582089552239,0.082089552238806,0.119402985074627,0.0671641791044776,0.0708955223880597,0.0634328358208955,0.0522388059701493,0.0559701492537313,0.0522388059701493,0.0485074626865672,0.0559701492537313,0.0447761194029851,0.041044776119403,0.041044776119403,0.0746268656716418,0.0373134328358209,0.0111940298507463,0.0485074626865672,0.0298507462686567,0.0335820895522388,0.0373134328358209,0.0223880597014925,0.0373134328358209,0.0149253731343284,0.0373134328358209,0.0298507462686567,0.0298507462686567,0.0149253731343284,0.0149253731343284,0.0223880597014925,0.0261194029850746,0.0298507462686567,0.0223880597014925,0.0149253731343284,0.0261194029850746,0.0186567164179104,0.00746268656716418,0.0186567164179104,0.0186567164179104,0.0149253731343284,0.0223880597014925,0.00746268656716418,0.0186567164179104,0.00373134328358209,0,0.00746268656716418,0.0149253731343284,0.00746268656716418,0.0149253731343284,0.0186567164179104,0.0149253731343284,0.0149253731343284,0.00746268656716418,0.0111940298507463,0.0149253731343284,0.00746268656716418,0,0.0149253731343284,0.00746268656716418,0.00746268656716418,0.0111940298507463,0.0111940298507463,0.00746268656716418,0.00373134328358209,0.0111940298507463,0.00373134328358209,0.00373134328358209,0.0111940298507463,0,0.00746268656716418,0.0223880597014925,0.0149253731343284,0.00373134328358209,0,0.00373134328358209,0.00373134328358209,0.0149253731343284,0,0.00373134328358209,0.00746268656716418,0,0.00373134328358209,0.0149253731343284,0.0111940298507463,0.0111940298507463,0.00373134328358209,0.00373134328358209,0.00746268656716418,0,0.00373134328358209,0,0.0111940298507463,0.00373134328358209,0.0111940298507463,0.00373134328358209,0.00373134328358209,0.00373134328358209,0,0.00373134328358209,0,0,0,0.00746268656716418,0.00746268656716418,0.00746268656716418,0.00373134328358209,0.00373134328358209,0.00373134328358209,0,0.00373134328358209,0,0]},{\"_typename\":\"TH1D\",\"fUniqueID\":0,\"fBits\":9,\"fName\":\"hfsr_copy\",\"fTitle\":\"\",\"fLineColor\":416,\"fLineStyle\":1,\"fLineWidth\":2,\"fFillColor\":0,\"fFillStyle\":1001,\"fMarkerColor\":1,\"fMarkerStyle\":1,\"fMarkerSize\":1,\"fNcells\":302,\"fXaxis\":{\"_typename\":\"TAxis\",\"fUniqueID\":0,\"fBits\":0,\"fName\":\"xaxis\",\"fTitle\":\"M_{#e^{-}e^{+}}[GeV\\/#it{c}^{2}]\",\"fNdivisions\":510,\"fAxisColor\":1,\"fLabelColor\":1,\"fLabelFont\":42,\"fLabelOffset\":0.005,\"fLabelSize\":0.035,\"fTickLength\":0.03,\"fTitleOffset\":1.1,\"fTitleSize\":0.035,\"fTitleColor\":1,\"fTitleFont\":42,\"fNbins\":300,\"fXmin\":70,\"fXmax\":110,\"fXbins\":[],\"fFirst\":0,\"fLast\":0,\"fBits2\":0,\"fTimeDisplay\":false,\"fTimeFormat\":\"\",\"fLabels\":null,\"fModLabs\":null},\"fYaxis\":{\"_typename\":\"TAxis\",\"fUniqueID\":0,\"fBits\":0,\"fName\":\"yaxis\",\"fTitle\":\"Entries\",\"fNdivisions\":510,\"fAxisColor\":1,\"fLabelColor\":1,\"fLabelFont\":42,\"fLabelOffset\":0.005,\"fLabelSize\":0.035,\"fTickLength\":0.03,\"fTitleOffset\":0,\"fTitleSize\":0.035,\"fTitleColor\":1,\"fTitleFont\":42,\"fNbins\":1,\"fXmin\":0,\"fXmax\":1,\"fXbins\":[],\"fFirst\":0,\"fLast\":0,\"fBits2\":0,\"fTimeDisplay\":false,\"fTimeFormat\":\"\",\"fLabels\":null,\"fModLabs\":null},\"fZaxis\":{\"_typename\":\"TAxis\",\"fUniqueID\":0,\"fBits\":0,\"fName\":\"zaxis\",\"fTitle\":\"\",\"fNdivisions\":510,\"fAxisColor\":1,\"fLabelColor\":1,\"fLabelFont\":42,\"fLabelOffset\":0.005,\"fLabelSize\":0.035,\"fTickLength\":0.03,\"fTitleOffset\":1,\"fTitleSize\":0.035,\"fTitleColor\":1,\"fTitleFont\":42,\"fNbins\":1,\"fXmin\":0,\"fXmax\":1,\"fXbins\":[],\"fFirst\":0,\"fLast\":0,\"fBits2\":0,\"fTimeDisplay\":false,\"fTimeFormat\":\"\",\"fLabels\":null,\"fModLabs\":null},\"fBarOffset\":0,\"fBarWidth\":1000,\"fEntries\":10003,\"fTsumw\":26.246719160105,\"fTsumw2\":0.0688890266669422,\"fTsumwx\":2380.55965476576,\"fTsumwx2\":216421.287635444,\"fMaximum\":-1111,\"fMinimum\":-1111,\"fNormFactor\":0,\"fContour\":[],\"fSumw2\":[2.06667080000827e-5,2.06667080000827e-5,4.13334160001653e-5,6.88890266669422e-6,2.06667080000827e-5,4.82223186668596e-5,2.06667080000827e-5,3.44445133334711e-5,3.44445133334711e-5,3.44445133334711e-5,2.75556106667769e-5,2.75556106667769e-5,2.75556106667769e-5,4.13334160001653e-5,1.37778053333884e-5,2.75556106667769e-5,2.75556106667769e-5,4.13334160001653e-5,3.44445133334711e-5,5.51112213335538e-5,2.06667080000827e-5,3.44445133334711e-5,4.13334160001653e-5,4.13334160001653e-5,2.75556106667769e-5,2.06667080000827e-5,2.75556106667769e-5,1.37778053333884e-5,2.75556106667769e-5,1.37778053333884e-5,1.37778053333884e-5,4.82223186668596e-5,4.13334160001653e-5,2.75556106667769e-5,4.13334160001653e-5,2.06667080000827e-5,2.75556106667769e-5,4.13334160001653e-5,2.75556106667769e-5,2.75556106667769e-5,1.37778053333884e-5,4.13334160001653e-5,2.75556106667769e-5,3.44445133334711e-5,2.06667080000827e-5,2.06667080000827e-5,2.06667080000827e-5,2.06667080000827e-5,2.06667080000827e-5,4.13334160001653e-5,1.37778053333884e-5,1.37778053333884e-5,4.13334160001653e-5,1.37778053333884e-5,2.75556106667769e-5,2.06667080000827e-5,6.2000124000248e-5,4.13334160001653e-5,2.75556106667769e-5,2.75556106667769e-5,2.06667080000827e-5,2.75556106667769e-5,4.13334160001653e-5,3.44445133334711e-5,3.44445133334711e-5,3.44445133334711e-5,2.75556106667769e-5,2.75556106667769e-5,3.44445133334711e-5,4.13334160001653e-5,2.75556106667769e-5,3.44445133334711e-5,6.2000124000248e-5,3.44445133334711e-5,3.44445133334711e-5,4.82223186668596e-5,2.75556106667769e-5,6.2000124000248e-5,4.82223186668596e-5,4.82223186668596e-5,5.51112213335538e-5,5.51112213335538e-5,6.2000124000248e-5,5.51112213335538e-5,6.2000124000248e-5,8.26668320003307e-5,4.13334160001653e-5,9.64446373337191e-5,3.44445133334711e-5,4.82223186668596e-5,2.75556106667769e-5,8.26668320003307e-5,3.44445133334711e-5,5.51112213335538e-5,3.44445133334711e-5,6.2000124000248e-5,9.64446373337191e-5,8.95557346670249e-5,1.17111345333802e-4,7.57779293336364e-5,6.2000124000248e-5,7.57779293336364e-5,9.64446373337191e-5,2.75556106667769e-5,4.13334160001653e-5,1.24000248000496e-4,6.88890266669422e-5,1.03333540000413e-4,1.03333540000413e-4,4.13334160001653e-5,5.51112213335538e-5,8.95557346670249e-5,8.26668320003307e-5,8.95557346670249e-5,9.64446373337191e-5,1.44666956000579e-4,5.51112213335538e-5,8.95557346670249e-5,1.03333540000413e-4,1.58444761333967e-4,1.58444761333967e-4,1.7911146933405e-4,1.37778053333884e-4,1.24000248000496e-4,1.24000248000496e-4,2.20444885334215e-4,1.37778053333884e-4,2.06667080000827e-4,2.27333788000909e-4,2.82445009334463e-4,2.34222690667604e-4,2.06667080000827e-4,2.13555982667521e-4,2.68667204001075e-4,3.85778549334876e-4,2.41111593334298e-4,2.96222814667852e-4,3.582229386681e-4,4.20223062668348e-4,4.54667576001819e-4,4.61556478668513e-4,5.58001116002232e-4,4.20223062668348e-4,5.51112213335538e-4,5.44223310668844e-4,8.61112833336778e-4,8.19779417336612e-4,7.92223806669836e-4,9.92001984003968e-4,0.00115044674533794,0.00132955821467198,0.0013157804093386,0.0015500031000062,0.00170155895867347,0.0017842257906738,0.0021493376320086,0.00217000434000868,0.00223200446400893,0.0026246719160105,0.00236978251734281,0.00232156019867595,0.00228711568534248,0.0020253373840081,0.00199089287067463,0.00185311481734075,0.00177044798534042,0.00157066980800628,0.00146733626800587,0.0013088915066719,0.00126066918800504,0.00105400210800422,9.50668568003803e-4,8.8177954133686e-4,6.47556850669257e-4,6.88890266669422e-4,5.30445505335455e-4,5.44223310668844e-4,4.34000868001736e-4,5.09778797335372e-4,3.99556354668265e-4,4.27111965335042e-4,3.03111717334546e-4,3.37556230668017e-4,3.03111717334546e-4,2.96222814667852e-4,2.41111593334298e-4,2.41111593334298e-4,2.82445009334463e-4,2.82445009334463e-4,2.27333788000909e-4,2.13555982667521e-4,1.24000248000496e-4,1.65333664000661e-4,1.10222442667108e-4,2.20444885334215e-4,2.06667080000827e-4,1.44666956000579e-4,1.37778053333884e-4,1.10222442667108e-4,1.17111345333802e-4,9.64446373337191e-5,1.24000248000496e-4,1.17111345333802e-4,9.64446373337191e-5,1.03333540000413e-4,5.51112213335538e-5,1.37778053333884e-4,6.2000124000248e-5,6.88890266669422e-5,5.51112213335538e-5,6.2000124000248e-5,5.51112213335538e-5,8.95557346670249e-5,7.57779293336364e-5,6.2000124000248e-5,7.57779293336364e-5,3.44445133334711e-5,4.13334160001653e-5,5.51112213335538e-5,2.75556106667769e-5,3.44445133334711e-5,4.13334160001653e-5,3.44445133334711e-5,3.44445133334711e-5,1.37778053333884e-5,3.44445133334711e-5,5.51112213335538e-5,4.13334160001653e-5,2.75556106667769e-5,5.51112213335538e-5,2.75556106667769e-5,4.82223186668596e-5,6.88890266669422e-5,2.06667080000827e-5,4.13334160001653e-5,2.75556106667769e-5,3.44445133334711e-5,1.37778053333884e-5,2.75556106667769e-5,4.13334160001653e-5,1.37778053333884e-5,2.06667080000827e-5,1.37778053333884e-5,1.37778053333884e-5,3.44445133334711e-5,1.37778053333884e-5,2.06667080000827e-5,2.75556106667769e-5,2.75556106667769e-5,2.06667080000827e-5,2.06667080000827e-5,2.75556106667769e-5,1.37778053333884e-5,2.75556106667769e-5,2.06667080000827e-5,2.75556106667769e-5,2.75556106667769e-5,3.44445133334711e-5,3.44445133334711e-5,2.06667080000827e-5,2.06667080000827e-5,1.37778053333884e-5,1.37778053333884e-5,6.88890266669422e-6,0,0,2.75556106667769e-5,1.37778053333884e-5,2.06667080000827e-5,2.06667080000827e-5,1.37778053333884e-5,6.88890266669422e-6,2.06667080000827e-5,2.06667080000827e-5,2.75556106667769e-5,1.37778053333884e-5,6.88890266669422e-6,6.88890266669422e-6,1.37778053333884e-5,1.37778053333884e-5,2.06667080000827e-5,0,0,0,6.88890266669422e-6,2.75556106667769e-5,2.75556106667769e-5,6.88890266669422e-6,1.37778053333884e-5,0,6.88890266669422e-6,6.88890266669422e-6,2.75556106667769e-5,1.37778053333884e-5,1.37778053333884e-5,6.88890266669422e-6,6.88890266669422e-6,0,1.37778053333884e-5,6.88890266669422e-6,2.75556106667769e-5,0],\"fOption\":\"\",\"fFunctions\":{\"_typename\":\"TList\",\"name\":\"TList\",\"arr\":[],\"opt\":[]},\"fBufferSize\":0,\"fBuffer\":[],\"fBinStatErrOpt\":0,\"fStatOverflows\":2,\"fArray\":[0.0078740157480315,0.0078740157480315,0.015748031496063,0.0026246719160105,0.0078740157480315,0.0183727034120735,0.0078740157480315,0.0131233595800525,0.0131233595800525,0.0131233595800525,0.010498687664042,0.010498687664042,0.010498687664042,0.015748031496063,0.005249343832021,0.010498687664042,0.010498687664042,0.015748031496063,0.0131233595800525,0.020997375328084,0.0078740157480315,0.0131233595800525,0.015748031496063,0.015748031496063,0.010498687664042,0.0078740157480315,0.010498687664042,0.005249343832021,0.010498687664042,0.005249343832021,0.005249343832021,0.0183727034120735,0.015748031496063,0.010498687664042,0.015748031496063,0.0078740157480315,0.010498687664042,0.015748031496063,0.010498687664042,0.010498687664042,0.005249343832021,0.015748031496063,0.010498687664042,0.0131233595800525,0.0078740157480315,0.0078740157480315,0.0078740157480315,0.0078740157480315,0.0078740157480315,0.015748031496063,0.005249343832021,0.005249343832021,0.015748031496063,0.005249343832021,0.010498687664042,0.0078740157480315,0.0236220472440945,0.015748031496063,0.010498687664042,0.010498687664042,0.0078740157480315,0.010498687664042,0.015748031496063,0.0131233595800525,0.0131233595800525,0.0131233595800525,0.010498687664042,0.010498687664042,0.0131233595800525,0.015748031496063,0.010498687664042,0.0131233595800525,0.0236220472440945,0.0131233595800525,0.0131233595800525,0.0183727034120735,0.010498687664042,0.0236220472440945,0.0183727034120735,0.0183727034120735,0.020997375328084,0.020997375328084,0.0236220472440945,0.020997375328084,0.0236220472440945,0.031496062992126,0.015748031496063,0.036745406824147,0.0131233595800525,0.0183727034120735,0.010498687664042,0.031496062992126,0.0131233595800525,0.020997375328084,0.0131233595800525,0.0236220472440945,0.036745406824147,0.0341207349081365,0.0446194225721785,0.0288713910761155,0.0236220472440945,0.0288713910761155,0.036745406824147,0.010498687664042,0.015748031496063,0.047244094488189,0.026246719160105,0.0393700787401575,0.0393700787401575,0.015748031496063,0.020997375328084,0.0341207349081365,0.031496062992126,0.0341207349081365,0.036745406824147,0.0551181102362205,0.020997375328084,0.0341207349081365,0.0393700787401575,0.0603674540682415,0.0603674540682415,0.068241469816273,0.05249343832021,0.047244094488189,0.047244094488189,0.083989501312336,0.05249343832021,0.078740157480315,0.0866141732283465,0.10761154855643,0.089238845144357,0.078740157480315,0.0813648293963255,0.102362204724409,0.146981627296588,0.0918635170603675,0.112860892388451,0.136482939632546,0.16010498687664,0.173228346456693,0.175853018372703,0.21259842519685,0.16010498687664,0.20997375328084,0.207349081364829,0.328083989501312,0.312335958005249,0.301837270341207,0.377952755905512,0.438320209973753,0.506561679790026,0.501312335958005,0.590551181102362,0.648293963254593,0.679790026246719,0.818897637795276,0.826771653543307,0.850393700787402,1,0.902887139107612,0.884514435695538,0.871391076115485,0.771653543307087,0.758530183727034,0.706036745406824,0.674540682414698,0.598425196850394,0.559055118110236,0.498687664041995,0.480314960629921,0.401574803149606,0.362204724409449,0.335958005249344,0.246719160104987,0.26246719160105,0.202099737532808,0.207349081364829,0.165354330708661,0.194225721784777,0.152230971128609,0.162729658792651,0.115485564304462,0.128608923884514,0.115485564304462,0.112860892388451,0.0918635170603675,0.0918635170603675,0.10761154855643,0.10761154855643,0.0866141732283465,0.0813648293963255,0.047244094488189,0.062992125984252,0.041994750656168,0.083989501312336,0.078740157480315,0.0551181102362205,0.05249343832021,0.041994750656168,0.0446194225721785,0.036745406824147,0.047244094488189,0.0446194225721785,0.036745406824147,0.0393700787401575,0.020997375328084,0.05249343832021,0.0236220472440945,0.026246719160105,0.020997375328084,0.0236220472440945,0.020997375328084,0.0341207349081365,0.0288713910761155,0.0236220472440945,0.0288713910761155,0.0131233595800525,0.015748031496063,0.020997375328084,0.010498687664042,0.0131233595800525,0.015748031496063,0.0131233595800525,0.0131233595800525,0.005249343832021,0.0131233595800525,0.020997375328084,0.015748031496063,0.010498687664042,0.020997375328084,0.010498687664042,0.0183727034120735,0.026246719160105,0.0078740157480315,0.015748031496063,0.010498687664042,0.0131233595800525,0.005249343832021,0.010498687664042,0.015748031496063,0.005249343832021,0.0078740157480315,0.005249343832021,0.005249343832021,0.0131233595800525,0.005249343832021,0.0078740157480315,0.010498687664042,0.010498687664042,0.0078740157480315,0.0078740157480315,0.010498687664042,0.005249343832021,0.010498687664042,0.0078740157480315,0.010498687664042,0.010498687664042,0.0131233595800525,0.0131233595800525,0.0078740157480315,0.0078740157480315,0.005249343832021,0.005249343832021,0.0026246719160105,0,0,0.010498687664042,0.005249343832021,0.0078740157480315,0.0078740157480315,0.005249343832021,0.0026246719160105,0.0078740157480315,0.0078740157480315,0.010498687664042,0.005249343832021,0.0026246719160105,0.0026246719160105,0.005249343832021,0.005249343832021,0.0078740157480315,0,0,0,0.0026246719160105,0.010498687664042,0.010498687664042,0.0026246719160105,0.005249343832021,0,0.0026246719160105,0.0026246719160105,0.010498687664042,0.005249343832021,0.005249343832021,0.0026246719160105,0.0026246719160105,0,0.005249343832021,0.0026246719160105,0.010498687664042,0]},{\"_typename\":\"TLegend\",\"fUniqueID\":0,\"fBits\":8,\"fLineColor\":1,\"fLineStyle\":1,\"fLineWidth\":1,\"fFillColor\":0,\"fFillStyle\":1001,\"fX1\":95.0000000745058,\"fY1\":0.974871594726915,\"fX2\":110.000000298023,\"fY2\":1.11413896658804,\"fX1NDC\":0.6,\"fY1NDC\":0.8,\"fX2NDC\":0.9,\"fY2NDC\":0.9,\"fBorderSize\":1,\"fInit\":1,\"fShadowColor\":1,\"fCornerRadius\":0,\"fOption\":\"brNDC\",\"fName\":\"TPave\",\"fTextAngle\":0,\"fTextSize\":0,\"fTextAlign\":12,\"fTextColor\":1,\"fTextFont\":42,\"fPrimitives\":{\"_typename\":\"TList\",\"name\":\"TList\",\"arr\":[{\"_typename\":\"TLegendEntry\",\"fUniqueID\":0,\"fBits\":0,\"fTextAngle\":0,\"fTextSize\":0,\"fTextAlign\":0,\"fTextColor\":0,\"fTextFont\":42,\"fLineColor\":600,\"fLineStyle\":1,\"fLineWidth\":2,\"fFillColor\":0,\"fFillStyle\":1001,\"fMarkerColor\":1,\"fMarkerStyle\":1,\"fMarkerSize\":1,\"fObject\":{\"_typename\":\"TH1D\",\"fUniqueID\":0,\"fBits\":8,\"fName\":\"h\",\"fTitle\":\"\",\"fLineColor\":600,\"fLineStyle\":1,\"fLineWidth\":2,\"fFillColor\":0,\"fFillStyle\":1001,\"fMarkerColor\":1,\"fMarkerStyle\":1,\"fMarkerSize\":1,\"fNcells\":302,\"fXaxis\":{\"_typename\":\"TAxis\",\"fUniqueID\":0,\"fBits\":0,\"fName\":\"xaxis\",\"fTitle\":\"M_{#e^{-}e^{+}}[GeV\\/#it{c}^{2}]\",\"fNdivisions\":510,\"fAxisColor\":1,\"fLabelColor\":1,\"fLabelFont\":42,\"fLabelOffset\":0.005,\"fLabelSize\":0.035,\"fTickLength\":0.03,\"fTitleOffset\":1.1,\"fTitleSize\":0.035,\"fTitleColor\":1,\"fTitleFont\":42,\"fNbins\":300,\"fXmin\":70,\"fXmax\":110,\"fXbins\":[],\"fFirst\":0,\"fLast\":0,\"fBits2\":0,\"fTimeDisplay\":false,\"fTimeFormat\":\"\",\"fLabels\":null,\"fModLabs\":null},\"fYaxis\":{\"_typename\":\"TAxis\",\"fUniqueID\":0,\"fBits\":0,\"fName\":\"yaxis\",\"fTitle\":\"Entries\",\"fNdivisions\":510,\"fAxisColor\":1,\"fLabelColor\":1,\"fLabelFont\":42,\"fLabelOffset\":0.005,\"fLabelSize\":0.035,\"fTickLength\":0.03,\"fTitleOffset\":0,\"fTitleSize\":0.035,\"fTitleColor\":1,\"fTitleFont\":42,\"fNbins\":1,\"fXmin\":0,\"fXmax\":1,\"fXbins\":[],\"fFirst\":0,\"fLast\":0,\"fBits2\":0,\"fTimeDisplay\":false,\"fTimeFormat\":\"\",\"fLabels\":null,\"fModLabs\":null},\"fZaxis\":{\"_typename\":\"TAxis\",\"fUniqueID\":0,\"fBits\":0,\"fName\":\"zaxis\",\"fTitle\":\"\",\"fNdivisions\":510,\"fAxisColor\":1,\"fLabelColor\":1,\"fLabelFont\":42,\"fLabelOffset\":0.005,\"fLabelSize\":0.035,\"fTickLength\":0.03,\"fTitleOffset\":1,\"fTitleSize\":0.035,\"fTitleColor\":1,\"fTitleFont\":42,\"fNbins\":1,\"fXmin\":0,\"fXmax\":1,\"fXbins\":[],\"fFirst\":0,\"fLast\":0,\"fBits2\":0,\"fTimeDisplay\":false,\"fTimeFormat\":\"\",\"fLabels\":null,\"fModLabs\":null},\"fBarOffset\":0,\"fBarWidth\":1000,\"fEntries\":10111,\"fTsumw\":35.044776119403,\"fTsumw2\":0.130764089997772,\"fTsumwx\":3125.34913220852,\"fTsumwx2\":279762.387898982,\"fMaximum\":-1111,\"fMinimum\":-1111,\"fNormFactor\":0,\"fContour\":[],\"fSumw2\":[0.0100105814212519,1.25306304299399e-4,1.11383381599465e-4,9.74604588995322e-5,8.3537536199599e-5,5.56916907997327e-5,1.80997995099131e-4,1.11383381599465e-4,9.74604588995322e-5,6.96146134996659e-5,8.3537536199599e-5,8.3537536199599e-5,1.67075072399198e-4,1.11383381599465e-4,5.56916907997327e-5,8.3537536199599e-5,8.3537536199599e-5,1.67075072399198e-4,1.25306304299399e-4,1.25306304299399e-4,1.25306304299399e-4,2.78458453998663e-5,1.11383381599465e-4,8.3537536199599e-5,6.96146134996659e-5,1.11383381599465e-4,8.3537536199599e-5,1.39229226999332e-4,5.56916907997327e-5,1.53152149699265e-4,1.94920917799064e-4,1.53152149699265e-4,1.53152149699265e-4,1.53152149699265e-4,1.39229226999332e-4,1.67075072399198e-4,1.53152149699265e-4,1.94920917799064e-4,2.08843840498998e-4,1.11383381599465e-4,1.67075072399198e-4,5.56916907997327e-5,6.96146134996659e-5,6.96146134996659e-5,2.08843840498998e-4,1.53152149699265e-4,5.56916907997327e-5,1.80997995099131e-4,1.39229226999332e-4,1.80997995099131e-4,1.39229226999332e-4,1.53152149699265e-4,9.74604588995322e-5,2.22766763198931e-4,1.25306304299399e-4,1.67075072399198e-4,1.39229226999332e-4,9.74604588995322e-5,2.22766763198931e-4,2.22766763198931e-4,9.74604588995322e-5,1.67075072399198e-4,1.25306304299399e-4,1.25306304299399e-4,1.80997995099131e-4,2.22766763198931e-4,2.36689685898864e-4,1.80997995099131e-4,1.25306304299399e-4,1.94920917799064e-4,2.78458453998663e-4,2.78458453998663e-4,2.78458453998663e-4,1.80997995099131e-4,1.11383381599465e-4,1.80997995099131e-4,2.36689685898864e-4,2.92381376698597e-4,2.08843840498998e-4,1.67075072399198e-4,2.22766763198931e-4,2.36689685898864e-4,2.08843840498998e-4,2.22766763198931e-4,1.94920917799064e-4,3.48073067498329e-4,2.50612608598797e-4,1.11383381599465e-4,2.08843840498998e-4,2.08843840498998e-4,2.92381376698597e-4,2.36689685898864e-4,2.92381376698597e-4,4.17687680997995e-4,1.25306304299399e-4,2.50612608598797e-4,1.94920917799064e-4,3.20227222098463e-4,2.92381376698597e-4,2.08843840498998e-4,3.48073067498329e-4,2.6453553129873e-4,3.48073067498329e-4,2.92381376698597e-4,3.61995990198262e-4,4.17687680997995e-4,2.50612608598797e-4,3.34150144798396e-4,3.75918912898196e-4,4.87302294497661e-4,2.92381376698597e-4,3.75918912898196e-4,4.59456449097795e-4,5.15148139897527e-4,3.48073067498329e-4,4.45533526397861e-4,5.84762753397193e-4,5.42993985297394e-4,5.15148139897527e-4,4.73379371797728e-4,5.98685676097126e-4,4.59456449097795e-4,4.31610603697928e-4,4.59456449097795e-4,6.68300289596792e-4,5.56916907997327e-4,4.31610603697928e-4,5.98685676097126e-4,6.40454444196926e-4,5.56916907997327e-4,6.12608598797059e-4,8.07529516596124e-4,7.10069057696592e-4,7.79683671196257e-4,6.26531521496993e-4,9.60681666295389e-4,9.04989975495656e-4,7.23991980396525e-4,0.00100245043439519,0.00118344842949432,9.18912898195589e-4,0.00132267765649365,0.00104421920249499,0.00132267765649365,0.00164290487859211,0.00146190688349298,0.00174036533749165,0.00171251949209178,0.00219982178658944,0.00222766763198931,0.00193528625529071,0.00231120516818891,0.0029795054577857,0.00267320115838717,0.00290989084428603,0.00303519714858543,0.00325796391178436,0.00373134328358209,0.00353642236578302,0.00366172867008242,0.00313265760748496,0.00336934729338383,0.00292381376698597,0.00279850746268657,0.00295165961238583,0.00238081978168857,0.00221374470928937,0.00201882379149031,0.00211628425038984,0.00169859656939185,0.00155936734239251,0.00119737135219425,0.00126698596569392,9.60681666295389e-4,8.7714413009579e-4,7.37914903096458e-4,8.91067052795723e-4,7.79683671196257e-4,6.54377366896859e-4,6.82223212296725e-4,5.42993985297394e-4,5.15148139897527e-4,5.98685676097126e-4,4.17687680997995e-4,4.31610603697928e-4,3.48073067498329e-4,4.03764758298062e-4,3.75918912898196e-4,3.20227222098463e-4,3.20227222098463e-4,2.92381376698597e-4,3.0630429939853e-4,4.45533526397861e-4,2.50612608598797e-4,2.6453553129873e-4,2.36689685898864e-4,1.94920917799064e-4,2.08843840498998e-4,1.94920917799064e-4,1.80997995099131e-4,2.08843840498998e-4,1.67075072399198e-4,1.53152149699265e-4,1.53152149699265e-4,2.78458453998663e-4,1.39229226999332e-4,4.17687680997995e-5,1.80997995099131e-4,1.11383381599465e-4,1.25306304299399e-4,1.39229226999332e-4,8.3537536199599e-5,1.39229226999332e-4,5.56916907997327e-5,1.39229226999332e-4,1.11383381599465e-4,1.11383381599465e-4,5.56916907997327e-5,5.56916907997327e-5,8.3537536199599e-5,9.74604588995322e-5,1.11383381599465e-4,8.3537536199599e-5,5.56916907997327e-5,9.74604588995322e-5,6.96146134996659e-5,2.78458453998663e-5,6.96146134996659e-5,6.96146134996659e-5,5.56916907997327e-5,8.3537536199599e-5,2.78458453998663e-5,6.96146134996659e-5,1.39229226999332e-5,0,2.78458453998663e-5,5.56916907997327e-5,2.78458453998663e-5,5.56916907997327e-5,6.96146134996659e-5,5.56916907997327e-5,5.56916907997327e-5,2.78458453998663e-5,4.17687680997995e-5,5.56916907997327e-5,2.78458453998663e-5,0,5.56916907997327e-5,2.78458453998663e-5,2.78458453998663e-5,4.17687680997995e-5,4.17687680997995e-5,2.78458453998663e-5,1.39229226999332e-5,4.17687680997995e-5,1.39229226999332e-5,1.39229226999332e-5,4.17687680997995e-5,0,2.78458453998663e-5,8.3537536199599e-5,5.56916907997327e-5,1.39229226999332e-5,0,1.39229226999332e-5,1.39229226999332e-5,5.56916907997327e-5,0,1.39229226999332e-5,2.78458453998663e-5,0,1.39229226999332e-5,5.56916907997327e-5,4.17687680997995e-5,4.17687680997995e-5,1.39229226999332e-5,1.39229226999332e-5,2.78458453998663e-5,0,1.39229226999332e-5,0,4.17687680997995e-5,1.39229226999332e-5,4.17687680997995e-5,1.39229226999332e-5,1.39229226999332e-5,1.39229226999332e-5,0,1.39229226999332e-5,0,0,0,2.78458453998663e-5,2.78458453998663e-5,2.78458453998663e-5,1.39229226999332e-5,1.39229226999332e-5,1.39229226999332e-5,0,1.39229226999332e-5,0,0],\"fOption\":\"\",\"fFunctions\":{\"_typename\":\"TList\",\"name\":\"TList\",\"arr\":[],\"opt\":[]},\"fBufferSize\":0,\"fBuffer\":[],\"fBinStatErrOpt\":0,\"fStatOverflows\":2,\"fArray\":[2.68283582089552,0.0335820895522388,0.0298507462686567,0.0261194029850746,0.0223880597014925,0.0149253731343284,0.0485074626865672,0.0298507462686567,0.0261194029850746,0.0186567164179104,0.0223880597014925,0.0223880597014925,0.0447761194029851,0.0298507462686567,0.0149253731343284,0.0223880597014925,0.0223880597014925,0.0447761194029851,0.0335820895522388,0.0335820895522388,0.0335820895522388,0.00746268656716418,0.0298507462686567,0.0223880597014925,0.0186567164179104,0.0298507462686567,0.0223880597014925,0.0373134328358209,0.0149253731343284,0.041044776119403,0.0522388059701493,0.041044776119403,0.041044776119403,0.041044776119403,0.0373134328358209,0.0447761194029851,0.041044776119403,0.0522388059701493,0.0559701492537313,0.0298507462686567,0.0447761194029851,0.0149253731343284,0.0186567164179104,0.0186567164179104,0.0559701492537313,0.041044776119403,0.0149253731343284,0.0485074626865672,0.0373134328358209,0.0485074626865672,0.0373134328358209,0.041044776119403,0.0261194029850746,0.0597014925373134,0.0335820895522388,0.0447761194029851,0.0373134328358209,0.0261194029850746,0.0597014925373134,0.0597014925373134,0.0261194029850746,0.0447761194029851,0.0335820895522388,0.0335820895522388,0.0485074626865672,0.0597014925373134,0.0634328358208955,0.0485074626865672,0.0335820895522388,0.0522388059701493,0.0746268656716418,0.0746268656716418,0.0746268656716418,0.0485074626865672,0.0298507462686567,0.0485074626865672,0.0634328358208955,0.0783582089552239,0.0559701492537313,0.0447761194029851,0.0597014925373134,0.0634328358208955,0.0559701492537313,0.0597014925373134,0.0522388059701493,0.0932835820895522,0.0671641791044776,0.0298507462686567,0.0559701492537313,0.0559701492537313,0.0783582089552239,0.0634328358208955,0.0783582089552239,0.111940298507463,0.0335820895522388,0.0671641791044776,0.0522388059701493,0.0858208955223881,0.0783582089552239,0.0559701492537313,0.0932835820895522,0.0708955223880597,0.0932835820895522,0.0783582089552239,0.0970149253731343,0.111940298507463,0.0671641791044776,0.0895522388059701,0.100746268656716,0.130597014925373,0.0783582089552239,0.100746268656716,0.123134328358209,0.138059701492537,0.0932835820895522,0.119402985074627,0.156716417910448,0.145522388059701,0.138059701492537,0.126865671641791,0.16044776119403,0.123134328358209,0.115671641791045,0.123134328358209,0.17910447761194,0.149253731343284,0.115671641791045,0.16044776119403,0.171641791044776,0.149253731343284,0.164179104477612,0.216417910447761,0.190298507462687,0.208955223880597,0.167910447761194,0.257462686567164,0.242537313432836,0.194029850746269,0.26865671641791,0.317164179104478,0.246268656716418,0.354477611940298,0.279850746268657,0.354477611940298,0.440298507462687,0.391791044776119,0.466417910447761,0.458955223880597,0.58955223880597,0.597014925373134,0.51865671641791,0.619402985074627,0.798507462686567,0.716417910447761,0.779850746268657,0.813432835820896,0.873134328358209,1,0.947761194029851,0.98134328358209,0.83955223880597,0.902985074626866,0.783582089552239,0.75,0.791044776119403,0.638059701492537,0.593283582089552,0.541044776119403,0.567164179104478,0.455223880597015,0.417910447761194,0.32089552238806,0.33955223880597,0.257462686567164,0.235074626865672,0.197761194029851,0.238805970149254,0.208955223880597,0.175373134328358,0.182835820895522,0.145522388059701,0.138059701492537,0.16044776119403,0.111940298507463,0.115671641791045,0.0932835820895522,0.108208955223881,0.100746268656716,0.0858208955223881,0.0858208955223881,0.0783582089552239,0.082089552238806,0.119402985074627,0.0671641791044776,0.0708955223880597,0.0634328358208955,0.0522388059701493,0.0559701492537313,0.0522388059701493,0.0485074626865672,0.0559701492537313,0.0447761194029851,0.041044776119403,0.041044776119403,0.0746268656716418,0.0373134328358209,0.0111940298507463,0.0485074626865672,0.0298507462686567,0.0335820895522388,0.0373134328358209,0.0223880597014925,0.0373134328358209,0.0149253731343284,0.0373134328358209,0.0298507462686567,0.0298507462686567,0.0149253731343284,0.0149253731343284,0.0223880597014925,0.0261194029850746,0.0298507462686567,0.0223880597014925,0.0149253731343284,0.0261194029850746,0.0186567164179104,0.00746268656716418,0.0186567164179104,0.0186567164179104,0.0149253731343284,0.0223880597014925,0.00746268656716418,0.0186567164179104,0.00373134328358209,0,0.00746268656716418,0.0149253731343284,0.00746268656716418,0.0149253731343284,0.0186567164179104,0.0149253731343284,0.0149253731343284,0.00746268656716418,0.0111940298507463,0.0149253731343284,0.00746268656716418,0,0.0149253731343284,0.00746268656716418,0.00746268656716418,0.0111940298507463,0.0111940298507463,0.00746268656716418,0.00373134328358209,0.0111940298507463,0.00373134328358209,0.00373134328358209,0.0111940298507463,0,0.00746268656716418,0.0223880597014925,0.0149253731343284,0.00373134328358209,0,0.00373134328358209,0.00373134328358209,0.0149253731343284,0,0.00373134328358209,0.00746268656716418,0,0.00373134328358209,0.0149253731343284,0.0111940298507463,0.0111940298507463,0.00373134328358209,0.00373134328358209,0.00746268656716418,0,0.00373134328358209,0,0.0111940298507463,0.00373134328358209,0.0111940298507463,0.00373134328358209,0.00373134328358209,0.00373134328358209,0,0.00373134328358209,0,0,0,0.00746268656716418,0.00746268656716418,0.00746268656716418,0.00373134328358209,0.00373134328358209,0.00373134328358209,0,0.00373134328358209,0,0]},\"fLabel\":\"FSR on e^{-}e^{+} pairs\",\"fOption\":\"lpf\"},{\"_typename\":\"TLegendEntry\",\"fUniqueID\":0,\"fBits\":0,\"fTextAngle\":0,\"fTextSize\":0,\"fTextAlign\":0,\"fTextColor\":0,\"fTextFont\":42,\"fLineColor\":416,\"fLineStyle\":1,\"fLineWidth\":2,\"fFillColor\":0,\"fFillStyle\":1001,\"fMarkerColor\":1,\"fMarkerStyle\":1,\"fMarkerSize\":1,\"fObject\":{\"_typename\":\"TH1D\",\"fUniqueID\":0,\"fBits\":8,\"fName\":\"hfsr\",\"fTitle\":\"\",\"fLineColor\":416,\"fLineStyle\":1,\"fLineWidth\":2,\"fFillColor\":0,\"fFillStyle\":1001,\"fMarkerColor\":1,\"fMarkerStyle\":1,\"fMarkerSize\":1,\"fNcells\":302,\"fXaxis\":{\"_typename\":\"TAxis\",\"fUniqueID\":0,\"fBits\":0,\"fName\":\"xaxis\",\"fTitle\":\"M_{#e^{-}e^{+}}[GeV\\/#it{c}^{2}]\",\"fNdivisions\":510,\"fAxisColor\":1,\"fLabelColor\":1,\"fLabelFont\":42,\"fLabelOffset\":0.005,\"fLabelSize\":0.035,\"fTickLength\":0.03,\"fTitleOffset\":1.1,\"fTitleSize\":0.035,\"fTitleColor\":1,\"fTitleFont\":42,\"fNbins\":300,\"fXmin\":70,\"fXmax\":110,\"fXbins\":[],\"fFirst\":0,\"fLast\":0,\"fBits2\":0,\"fTimeDisplay\":false,\"fTimeFormat\":\"\",\"fLabels\":null,\"fModLabs\":null},\"fYaxis\":{\"_typename\":\"TAxis\",\"fUniqueID\":0,\"fBits\":0,\"fName\":\"yaxis\",\"fTitle\":\"Entries\",\"fNdivisions\":510,\"fAxisColor\":1,\"fLabelColor\":1,\"fLabelFont\":42,\"fLabelOffset\":0.005,\"fLabelSize\":0.035,\"fTickLength\":0.03,\"fTitleOffset\":0,\"fTitleSize\":0.035,\"fTitleColor\":1,\"fTitleFont\":42,\"fNbins\":1,\"fXmin\":0,\"fXmax\":1,\"fXbins\":[],\"fFirst\":0,\"fLast\":0,\"fBits2\":0,\"fTimeDisplay\":false,\"fTimeFormat\":\"\",\"fLabels\":null,\"fModLabs\":null},\"fZaxis\":{\"_typename\":\"TAxis\",\"fUniqueID\":0,\"fBits\":0,\"fName\":\"zaxis\",\"fTitle\":\"\",\"fNdivisions\":510,\"fAxisColor\":1,\"fLabelColor\":1,\"fLabelFont\":42,\"fLabelOffset\":0.005,\"fLabelSize\":0.035,\"fTickLength\":0.03,\"fTitleOffset\":1,\"fTitleSize\":0.035,\"fTitleColor\":1,\"fTitleFont\":42,\"fNbins\":1,\"fXmin\":0,\"fXmax\":1,\"fXbins\":[],\"fFirst\":0,\"fLast\":0,\"fBits2\":0,\"fTimeDisplay\":false,\"fTimeFormat\":\"\",\"fLabels\":null,\"fModLabs\":null},\"fBarOffset\":0,\"fBarWidth\":1000,\"fEntries\":10003,\"fTsumw\":26.246719160105,\"fTsumw2\":0.0688890266669422,\"fTsumwx\":2380.55965476576,\"fTsumwx2\":216421.287635444,\"fMaximum\":-1111,\"fMinimum\":-1111,\"fNormFactor\":0,\"fContour\":[],\"fSumw2\":[2.06667080000827e-5,2.06667080000827e-5,4.13334160001653e-5,6.88890266669422e-6,2.06667080000827e-5,4.82223186668596e-5,2.06667080000827e-5,3.44445133334711e-5,3.44445133334711e-5,3.44445133334711e-5,2.75556106667769e-5,2.75556106667769e-5,2.75556106667769e-5,4.13334160001653e-5,1.37778053333884e-5,2.75556106667769e-5,2.75556106667769e-5,4.13334160001653e-5,3.44445133334711e-5,5.51112213335538e-5,2.06667080000827e-5,3.44445133334711e-5,4.13334160001653e-5,4.13334160001653e-5,2.75556106667769e-5,2.06667080000827e-5,2.75556106667769e-5,1.37778053333884e-5,2.75556106667769e-5,1.37778053333884e-5,1.37778053333884e-5,4.82223186668596e-5,4.13334160001653e-5,2.75556106667769e-5,4.13334160001653e-5,2.06667080000827e-5,2.75556106667769e-5,4.13334160001653e-5,2.75556106667769e-5,2.75556106667769e-5,1.37778053333884e-5,4.13334160001653e-5,2.75556106667769e-5,3.44445133334711e-5,2.06667080000827e-5,2.06667080000827e-5,2.06667080000827e-5,2.06667080000827e-5,2.06667080000827e-5,4.13334160001653e-5,1.37778053333884e-5,1.37778053333884e-5,4.13334160001653e-5,1.37778053333884e-5,2.75556106667769e-5,2.06667080000827e-5,6.2000124000248e-5,4.13334160001653e-5,2.75556106667769e-5,2.75556106667769e-5,2.06667080000827e-5,2.75556106667769e-5,4.13334160001653e-5,3.44445133334711e-5,3.44445133334711e-5,3.44445133334711e-5,2.75556106667769e-5,2.75556106667769e-5,3.44445133334711e-5,4.13334160001653e-5,2.75556106667769e-5,3.44445133334711e-5,6.2000124000248e-5,3.44445133334711e-5,3.44445133334711e-5,4.82223186668596e-5,2.75556106667769e-5,6.2000124000248e-5,4.82223186668596e-5,4.82223186668596e-5,5.51112213335538e-5,5.51112213335538e-5,6.2000124000248e-5,5.51112213335538e-5,6.2000124000248e-5,8.26668320003307e-5,4.13334160001653e-5,9.64446373337191e-5,3.44445133334711e-5,4.82223186668596e-5,2.75556106667769e-5,8.26668320003307e-5,3.44445133334711e-5,5.51112213335538e-5,3.44445133334711e-5,6.2000124000248e-5,9.64446373337191e-5,8.95557346670249e-5,1.17111345333802e-4,7.57779293336364e-5,6.2000124000248e-5,7.57779293336364e-5,9.64446373337191e-5,2.75556106667769e-5,4.13334160001653e-5,1.24000248000496e-4,6.88890266669422e-5,1.03333540000413e-4,1.03333540000413e-4,4.13334160001653e-5,5.51112213335538e-5,8.95557346670249e-5,8.26668320003307e-5,8.95557346670249e-5,9.64446373337191e-5,1.44666956000579e-4,5.51112213335538e-5,8.95557346670249e-5,1.03333540000413e-4,1.58444761333967e-4,1.58444761333967e-4,1.7911146933405e-4,1.37778053333884e-4,1.24000248000496e-4,1.24000248000496e-4,2.20444885334215e-4,1.37778053333884e-4,2.06667080000827e-4,2.27333788000909e-4,2.82445009334463e-4,2.34222690667604e-4,2.06667080000827e-4,2.13555982667521e-4,2.68667204001075e-4,3.85778549334876e-4,2.41111593334298e-4,2.96222814667852e-4,3.582229386681e-4,4.20223062668348e-4,4.54667576001819e-4,4.61556478668513e-4,5.58001116002232e-4,4.20223062668348e-4,5.51112213335538e-4,5.44223310668844e-4,8.61112833336778e-4,8.19779417336612e-4,7.92223806669836e-4,9.92001984003968e-4,0.00115044674533794,0.00132955821467198,0.0013157804093386,0.0015500031000062,0.00170155895867347,0.0017842257906738,0.0021493376320086,0.00217000434000868,0.00223200446400893,0.0026246719160105,0.00236978251734281,0.00232156019867595,0.00228711568534248,0.0020253373840081,0.00199089287067463,0.00185311481734075,0.00177044798534042,0.00157066980800628,0.00146733626800587,0.0013088915066719,0.00126066918800504,0.00105400210800422,9.50668568003803e-4,8.8177954133686e-4,6.47556850669257e-4,6.88890266669422e-4,5.30445505335455e-4,5.44223310668844e-4,4.34000868001736e-4,5.09778797335372e-4,3.99556354668265e-4,4.27111965335042e-4,3.03111717334546e-4,3.37556230668017e-4,3.03111717334546e-4,2.96222814667852e-4,2.41111593334298e-4,2.41111593334298e-4,2.82445009334463e-4,2.82445009334463e-4,2.27333788000909e-4,2.13555982667521e-4,1.24000248000496e-4,1.65333664000661e-4,1.10222442667108e-4,2.20444885334215e-4,2.06667080000827e-4,1.44666956000579e-4,1.37778053333884e-4,1.10222442667108e-4,1.17111345333802e-4,9.64446373337191e-5,1.24000248000496e-4,1.17111345333802e-4,9.64446373337191e-5,1.03333540000413e-4,5.51112213335538e-5,1.37778053333884e-4,6.2000124000248e-5,6.88890266669422e-5,5.51112213335538e-5,6.2000124000248e-5,5.51112213335538e-5,8.95557346670249e-5,7.57779293336364e-5,6.2000124000248e-5,7.57779293336364e-5,3.44445133334711e-5,4.13334160001653e-5,5.51112213335538e-5,2.75556106667769e-5,3.44445133334711e-5,4.13334160001653e-5,3.44445133334711e-5,3.44445133334711e-5,1.37778053333884e-5,3.44445133334711e-5,5.51112213335538e-5,4.13334160001653e-5,2.75556106667769e-5,5.51112213335538e-5,2.75556106667769e-5,4.82223186668596e-5,6.88890266669422e-5,2.06667080000827e-5,4.13334160001653e-5,2.75556106667769e-5,3.44445133334711e-5,1.37778053333884e-5,2.75556106667769e-5,4.13334160001653e-5,1.37778053333884e-5,2.06667080000827e-5,1.37778053333884e-5,1.37778053333884e-5,3.44445133334711e-5,1.37778053333884e-5,2.06667080000827e-5,2.75556106667769e-5,2.75556106667769e-5,2.06667080000827e-5,2.06667080000827e-5,2.75556106667769e-5,1.37778053333884e-5,2.75556106667769e-5,2.06667080000827e-5,2.75556106667769e-5,2.75556106667769e-5,3.44445133334711e-5,3.44445133334711e-5,2.06667080000827e-5,2.06667080000827e-5,1.37778053333884e-5,1.37778053333884e-5,6.88890266669422e-6,0,0,2.75556106667769e-5,1.37778053333884e-5,2.06667080000827e-5,2.06667080000827e-5,1.37778053333884e-5,6.88890266669422e-6,2.06667080000827e-5,2.06667080000827e-5,2.75556106667769e-5,1.37778053333884e-5,6.88890266669422e-6,6.88890266669422e-6,1.37778053333884e-5,1.37778053333884e-5,2.06667080000827e-5,0,0,0,6.88890266669422e-6,2.75556106667769e-5,2.75556106667769e-5,6.88890266669422e-6,1.37778053333884e-5,0,6.88890266669422e-6,6.88890266669422e-6,2.75556106667769e-5,1.37778053333884e-5,1.37778053333884e-5,6.88890266669422e-6,6.88890266669422e-6,0,1.37778053333884e-5,6.88890266669422e-6,2.75556106667769e-5,0],\"fOption\":\"\",\"fFunctions\":{\"_typename\":\"TList\",\"name\":\"TList\",\"arr\":[],\"opt\":[]},\"fBufferSize\":0,\"fBuffer\":[],\"fBinStatErrOpt\":0,\"fStatOverflows\":2,\"fArray\":[0.0078740157480315,0.0078740157480315,0.015748031496063,0.0026246719160105,0.0078740157480315,0.0183727034120735,0.0078740157480315,0.0131233595800525,0.0131233595800525,0.0131233595800525,0.010498687664042,0.010498687664042,0.010498687664042,0.015748031496063,0.005249343832021,0.010498687664042,0.010498687664042,0.015748031496063,0.0131233595800525,0.020997375328084,0.0078740157480315,0.0131233595800525,0.015748031496063,0.015748031496063,0.010498687664042,0.0078740157480315,0.010498687664042,0.005249343832021,0.010498687664042,0.005249343832021,0.005249343832021,0.0183727034120735,0.015748031496063,0.010498687664042,0.015748031496063,0.0078740157480315,0.010498687664042,0.015748031496063,0.010498687664042,0.010498687664042,0.005249343832021,0.015748031496063,0.010498687664042,0.0131233595800525,0.0078740157480315,0.0078740157480315,0.0078740157480315,0.0078740157480315,0.0078740157480315,0.015748031496063,0.005249343832021,0.005249343832021,0.015748031496063,0.005249343832021,0.010498687664042,0.0078740157480315,0.0236220472440945,0.015748031496063,0.010498687664042,0.010498687664042,0.0078740157480315,0.010498687664042,0.015748031496063,0.0131233595800525,0.0131233595800525,0.0131233595800525,0.010498687664042,0.010498687664042,0.0131233595800525,0.015748031496063,0.010498687664042,0.0131233595800525,0.0236220472440945,0.0131233595800525,0.0131233595800525,0.0183727034120735,0.010498687664042,0.0236220472440945,0.0183727034120735,0.0183727034120735,0.020997375328084,0.020997375328084,0.0236220472440945,0.020997375328084,0.0236220472440945,0.031496062992126,0.015748031496063,0.036745406824147,0.0131233595800525,0.0183727034120735,0.010498687664042,0.031496062992126,0.0131233595800525,0.020997375328084,0.0131233595800525,0.0236220472440945,0.036745406824147,0.0341207349081365,0.0446194225721785,0.0288713910761155,0.0236220472440945,0.0288713910761155,0.036745406824147,0.010498687664042,0.015748031496063,0.047244094488189,0.026246719160105,0.0393700787401575,0.0393700787401575,0.015748031496063,0.020997375328084,0.0341207349081365,0.031496062992126,0.0341207349081365,0.036745406824147,0.0551181102362205,0.020997375328084,0.0341207349081365,0.0393700787401575,0.0603674540682415,0.0603674540682415,0.068241469816273,0.05249343832021,0.047244094488189,0.047244094488189,0.083989501312336,0.05249343832021,0.078740157480315,0.0866141732283465,0.10761154855643,0.089238845144357,0.078740157480315,0.0813648293963255,0.102362204724409,0.146981627296588,0.0918635170603675,0.112860892388451,0.136482939632546,0.16010498687664,0.173228346456693,0.175853018372703,0.21259842519685,0.16010498687664,0.20997375328084,0.207349081364829,0.328083989501312,0.312335958005249,0.301837270341207,0.377952755905512,0.438320209973753,0.506561679790026,0.501312335958005,0.590551181102362,0.648293963254593,0.679790026246719,0.818897637795276,0.826771653543307,0.850393700787402,1,0.902887139107612,0.884514435695538,0.871391076115485,0.771653543307087,0.758530183727034,0.706036745406824,0.674540682414698,0.598425196850394,0.559055118110236,0.498687664041995,0.480314960629921,0.401574803149606,0.362204724409449,0.335958005249344,0.246719160104987,0.26246719160105,0.202099737532808,0.207349081364829,0.165354330708661,0.194225721784777,0.152230971128609,0.162729658792651,0.115485564304462,0.128608923884514,0.115485564304462,0.112860892388451,0.0918635170603675,0.0918635170603675,0.10761154855643,0.10761154855643,0.0866141732283465,0.0813648293963255,0.047244094488189,0.062992125984252,0.041994750656168,0.083989501312336,0.078740157480315,0.0551181102362205,0.05249343832021,0.041994750656168,0.0446194225721785,0.036745406824147,0.047244094488189,0.0446194225721785,0.036745406824147,0.0393700787401575,0.020997375328084,0.05249343832021,0.0236220472440945,0.026246719160105,0.020997375328084,0.0236220472440945,0.020997375328084,0.0341207349081365,0.0288713910761155,0.0236220472440945,0.0288713910761155,0.0131233595800525,0.015748031496063,0.020997375328084,0.010498687664042,0.0131233595800525,0.015748031496063,0.0131233595800525,0.0131233595800525,0.005249343832021,0.0131233595800525,0.020997375328084,0.015748031496063,0.010498687664042,0.020997375328084,0.010498687664042,0.0183727034120735,0.026246719160105,0.0078740157480315,0.015748031496063,0.010498687664042,0.0131233595800525,0.005249343832021,0.010498687664042,0.015748031496063,0.005249343832021,0.0078740157480315,0.005249343832021,0.005249343832021,0.0131233595800525,0.005249343832021,0.0078740157480315,0.010498687664042,0.010498687664042,0.0078740157480315,0.0078740157480315,0.010498687664042,0.005249343832021,0.010498687664042,0.0078740157480315,0.010498687664042,0.010498687664042,0.0131233595800525,0.0131233595800525,0.0078740157480315,0.0078740157480315,0.005249343832021,0.005249343832021,0.0026246719160105,0,0,0.010498687664042,0.005249343832021,0.0078740157480315,0.0078740157480315,0.005249343832021,0.0026246719160105,0.0078740157480315,0.0078740157480315,0.010498687664042,0.005249343832021,0.0026246719160105,0.0026246719160105,0.005249343832021,0.005249343832021,0.0078740157480315,0,0,0,0.0026246719160105,0.010498687664042,0.010498687664042,0.0026246719160105,0.005249343832021,0,0.0026246719160105,0.0026246719160105,0.010498687664042,0.005249343832021,0.005249343832021,0.0026246719160105,0.0026246719160105,0,0.005249343832021,0.0026246719160105,0.010498687664042,0]},\"fLabel\":\"FSR off e^{-}e^{+} pairs\",\"fOption\":\"lpf\"}],\"opt\":[\"lpf\",\"lpf\"]},\"fEntrySeparation\":0.1,\"fMargin\":0.25,\"fNColumns\":1,\"fColumnSeparation\":0},{\"_typename\":\"TStyle\",\"fUniqueID\":0,\"fBits\":0,\"fName\":\"Modern\",\"fTitle\":\"Modern Style\",\"fLineColor\":1,\"fLineStyle\":1,\"fLineWidth\":1,\"fFillColor\":19,\"fFillStyle\":1001,\"fMarkerColor\":1,\"fMarkerStyle\":1,\"fMarkerSize\":1,\"fTextAngle\":0,\"fTextSize\":0.05,\"fTextAlign\":11,\"fTextColor\":1,\"fTextFont\":62,\"fXaxis\":{\"_typename\":\"TAttAxis\",\"fNdivisions\":510,\"fAxisColor\":1,\"fLabelColor\":1,\"fLabelFont\":42,\"fLabelOffset\":0.005,\"fLabelSize\":0.035,\"fTickLength\":0.03,\"fTitleOffset\":1,\"fTitleSize\":0.035,\"fTitleColor\":1,\"fTitleFont\":42},\"fYaxis\":{\"_typename\":\"TAttAxis\",\"fNdivisions\":510,\"fAxisColor\":1,\"fLabelColor\":1,\"fLabelFont\":42,\"fLabelOffset\":0.005,\"fLabelSize\":0.035,\"fTickLength\":0.03,\"fTitleOffset\":0,\"fTitleSize\":0.035,\"fTitleColor\":1,\"fTitleFont\":42},\"fZaxis\":{\"_typename\":\"TAttAxis\",\"fNdivisions\":510,\"fAxisColor\":1,\"fLabelColor\":1,\"fLabelFont\":42,\"fLabelOffset\":0.005,\"fLabelSize\":0.035,\"fTickLength\":0.03,\"fTitleOffset\":1,\"fTitleSize\":0.035,\"fTitleColor\":1,\"fTitleFont\":42},\"fBarWidth\":1,\"fBarOffset\":0,\"fColorModelPS\":0,\"fDrawBorder\":0,\"fOptLogx\":0,\"fOptLogy\":0,\"fOptLogz\":0,\"fOptDate\":0,\"fOptStat\":1111,\"fOptTitle\":1,\"fOptFile\":0,\"fOptFit\":0,\"fShowEventStatus\":0,\"fShowEditor\":0,\"fShowToolBar\":0,\"fNumberContours\":20,\"fAttDate\":{\"_typename\":\"TAttText\",\"fTextAngle\":0,\"fTextSize\":0.025,\"fTextAlign\":11,\"fTextColor\":1,\"fTextFont\":62},\"fDateX\":0.01,\"fDateY\":0.01,\"fEndErrorSize\":2,\"fErrorX\":0.5,\"fFuncColor\":2,\"fFuncStyle\":1,\"fFuncWidth\":2,\"fGridColor\":0,\"fGridStyle\":3,\"fGridWidth\":1,\"fLegendBorderSize\":1,\"fLegendFillColor\":0,\"fLegendFont\":42,\"fLegendTextSize\":0,\"fHatchesLineWidth\":1,\"fHatchesSpacing\":1,\"fFrameFillColor\":0,\"fFrameLineColor\":1,\"fFrameFillStyle\":1001,\"fFrameLineStyle\":1,\"fFrameLineWidth\":1,\"fFrameBorderSize\":1,\"fFrameBorderMode\":0,\"fHistFillColor\":0,\"fHistLineColor\":602,\"fHistFillStyle\":1001,\"fHistLineStyle\":1,\"fHistLineWidth\":1,\"fHistMinimumZero\":false,\"fHistTopMargin\":0.05,\"fCanvasPreferGL\":false,\"fCanvasColor\":0,\"fCanvasBorderSize\":2,\"fCanvasBorderMode\":0,\"fCanvasDefH\":500,\"fCanvasDefW\":700,\"fCanvasDefX\":10,\"fCanvasDefY\":10,\"fPadColor\":0,\"fPadBorderSize\":2,\"fPadBorderMode\":0,\"fPadBottomMargin\":0.1,\"fPadTopMargin\":0.1,\"fPadLeftMargin\":0.1,\"fPadRightMargin\":0.1,\"fPadGridX\":false,\"fPadGridY\":false,\"fPadTickX\":0,\"fPadTickY\":0,\"fPaperSizeX\":20,\"fPaperSizeY\":26,\"fScreenFactor\":1,\"fStatColor\":0,\"fStatTextColor\":1,\"fStatBorderSize\":1,\"fStatFont\":42,\"fStatFontSize\":0,\"fStatStyle\":1001,\"fStatFormat\":\"6.4g\",\"fStatX\":0.98,\"fStatY\":0.935,\"fStatW\":0.2,\"fStatH\":0.16,\"fStripDecimals\":true,\"fTitleAlign\":23,\"fTitleColor\":0,\"fTitleTextColor\":1,\"fTitleBorderSize\":0,\"fTitleFont\":42,\"fTitleFontSize\":0.05,\"fTitleStyle\":0,\"fTitleX\":0.5,\"fTitleY\":0.995,\"fTitleW\":0,\"fTitleH\":0,\"fLegoInnerR\":0.5,\"fLineStyle\":[\"\",\"  \",\" 12 12\",\" 4 8\",\" 12 16 4 16\",\" 20 12 4 12\",\" 20 12 4 12 4 12 4 12\",\" 20 20\",\" 20 12 4 12 4 12\",\" 80 20\",\" 80 40 4 40\",\"  \",\"  \",\"  \",\"  \",\"  \",\"  \",\"  \",\"  \",\"  \",\"  \",\"  \",\"  \",\"  \",\"  \",\"  \",\"  \",\"  \",\"  \",\"  \"],\"fHeaderPS\":\"\",\"fTitlePS\":\"\",\"fFitFormat\":\"5.4g\",\"fPaintTextFormat\":\"g\",\"fLineScalePS\":3,\"fJoinLinePS\":0,\"fCapLinePS\":0,\"fTimeOffset\":788918400,\"fImageScaling\":1}],\"opt\":[\"\",\"\",\"same\",\"\",\"\"]},\"fExecs\":null,\"fName\":\"c1\",\"fTitle\":\"\",\"fNumPaletteColor\":0,\"fNextPaletteColor\":0,\"fDISPLAY\":\"$DISPLAY\",\"fDoubleBuffer\":0,\"fRetained\":true,\"fXsizeUser\":0,\"fYsizeUser\":0,\"fXsizeReal\":20,\"fYsizeReal\":15,\"fWindowTopX\":0,\"fWindowTopY\":0,\"fWindowWidth\":0,\"fWindowHeight\":0,\"fCw\":796,\"fCh\":572,\"fCatt\":{\"_typename\":\"TAttCanvas\",\"fXBetween\":2,\"fYBetween\":2,\"fTitleFromTop\":1.2,\"fXdate\":0.2,\"fYdate\":0.3,\"fAdate\":1},\"kMoveOpaque\":true,\"kResizeOpaque\":true,\"fHighLightColor\":2,\"fBatch\":true,\"kShowEventStatus\":false,\"kAutoExec\":true,\"kMenuBar\":true});\n",
       "   Core.settings.HandleKeys = false;\n",
       "   Core.draw(\"root_plot_1649447279691\", obj, \"\");\n",
       "}\n",
       "\n",
       "function script_load_root_plot_1649447279691(src, on_error) {\n",
       "    let script = document.createElement('script');\n",
       "    script.src = src;\n",
       "    script.onload = function() { display_root_plot_1649447279691(JSROOT); };\n",
       "    script.onerror = function() { script.remove(); on_error(); };\n",
       "    document.head.appendChild(script);\n",
       "}\n",
       "\n",
       "if (typeof requirejs !== 'undefined') {\n",
       "\n",
       "    // We are in jupyter notebooks, use require.js which should be configured already\n",
       "    requirejs.config({\n",
       "       paths: { 'JSRootCore' : [ 'scripts/JSRoot.core', 'https://root.cern/js/6.1.1/scripts/JSRoot.core.min', 'https://jsroot.gsi.de/6.1.1/scripts/JSRoot.core.min' ] }\n",
       "    })(['JSRootCore'],  function(Core) {\n",
       "       display_root_plot_1649447279691(Core);\n",
       "    });\n",
       "\n",
       "} else if (typeof JSROOT !== 'undefined') {\n",
       "\n",
       "   // JSROOT already loaded, just use it\n",
       "   display_root_plot_1649447279691(JSROOT);\n",
       "\n",
       "} else {\n",
       "\n",
       "    // We are in jupyterlab without require.js, directly loading jsroot\n",
       "    // Jupyterlab might be installed in a different base_url so we need to know it.\n",
       "    try {\n",
       "        var base_url = JSON.parse(document.getElementById('jupyter-config-data').innerHTML).baseUrl;\n",
       "    } catch(_) {\n",
       "        var base_url = '/';\n",
       "    }\n",
       "\n",
       "    // Try loading a local version of requirejs and fallback to cdn if not possible.\n",
       "    script_load_root_plot_1649447279691(base_url + 'static/scripts/JSRoot.core.js', function(){\n",
       "        console.error('Fail to load JSROOT locally, please check your jupyter_notebook_config.py file');\n",
       "        script_load_root_plot_1649447279691('https://root.cern/js/6.1.1/scripts/JSRoot.core.min.js', function(){\n",
       "            document.getElementById(\"root_plot_1649447279691\").innerHTML = \"Failed to load JSROOT\";\n",
       "        });\n",
       "    });\n",
       "}\n",
       "\n",
       "</script>\n"
      ],
      "text/plain": [
       "<IPython.core.display.HTML object>"
      ]
     },
     "metadata": {},
     "output_type": "display_data"
    }
   ],
   "source": [
    "hfsr.GetXaxis().SetTitle(\"M_{#e^{-}e^{+}}[GeV/#it{c}^{2}]\")\n",
    "hfsr.GetXaxis().SetTitleOffset(1.1)\n",
    "hfsr.GetYaxis().SetTitle(\"Entries\")\n",
    "hfsr.SetLineColor(ROOT.kGreen)\n",
    "hfsr.SetLineWidth(2)\n",
    "hfsr.DrawCopy(\"same\")\n",
    "\n",
    "# Draw final plot and\n",
    "\n",
    "leg=ROOT.TLegend(0.6,0.8,0.9,0.9)\n",
    "leg.AddEntry(h,\"FSR on e^{-}e^{+} pairs\")\n",
    "leg.AddEntry(hfsr,\"FSR off e^{-}e^{+} pairs\")\n",
    "leg.Draw()\n",
    "\n",
    "c1_kstar.Update()\n",
    "c1_kstar.Draw()"
   ]
  },
  {
   "cell_type": "markdown",
   "metadata": {},
   "source": [
    "## Spectra for fsr on"
   ]
  },
  {
   "cell_type": "code",
   "execution_count": 11,
   "metadata": {},
   "outputs": [],
   "source": [
    "def makePythiaSilent(pythia):\n",
    "    pythia.ReadString(\"Init:showMultipartonInteractions = off\")\n",
    "    pythia.ReadString(\"Init:showChangedParticleData = off\")\n",
    "    pythia.ReadString(\"Init:showProcesses = off\")\n",
    "    pythia.ReadString(\"Init:showChangedSettings = off\")\n",
    "    pythia.ReadString(\"Next:numberShowInfo = 0\")\n",
    "    pythia.ReadString(\"Next:numberShowProcess = 0\")\n",
    "    pythia.ReadString(\"Next:numberShowEvent = 0\")\n",
    "    pythia.ReadString(\"Next:numberCount = 0\")\n",
    "    \n",
    "pythia = ROOT.TPythia8(False)\n",
    "makePythiaSilent(pythia)\n",
    "pythia.ReadString(\"WeakSingleBoson:ffbar2gmZ = on\")\n",
    "pythia.ReadString(\"Random:setSeed = on\")\n",
    "pythia.ReadString(\"Random:seed = 42\")\n",
    "pythia.ReadString(\"23:onMode = off\")\n",
    "pythia.ReadString(\"23:onIfAny = 11\")\n",
    "pythia.ReadString(\"HadronLevel:Hadronize = off\")\n",
    "pythia.ReadString(\"PhaseSpace:mHatMin = 70\")\n",
    "pythia.ReadString(\"PhaseSpace:mHatMax = 110\")\n",
    "\n",
    "# Warning about cross section violated is ok"
   ]
  },
  {
   "cell_type": "code",
   "execution_count": 12,
   "metadata": {},
   "outputs": [
    {
     "name": "stdout",
     "output_type": "stream",
     "text": [
      " *** TDatabasePDG::AddParticle: particle with PDGcode=90 already defined\n",
      " *** TDatabasePDG::AddParticle: particle with PDGcode=9900110 already defined\n",
      " *** TDatabasePDG::AddParticle: particle with PDGcode=9900210 already defined\n",
      " *** TDatabasePDG::AddParticle: particle with PDGcode=9900220 already defined\n",
      " *** TDatabasePDG::AddParticle: particle with PDGcode=9900330 already defined\n",
      " *** TDatabasePDG::AddParticle: particle with PDGcode=9900440 already defined\n",
      " *** TDatabasePDG::AddParticle: particle with PDGcode=9902110 already defined\n",
      " *** TDatabasePDG::AddParticle: particle with PDGcode=9902210 already defined\n"
     ]
    }
   ],
   "source": [
    "# FSR on\n",
    "pythia.ReadString(\"PartonLevel:FSR = on\")\n",
    "particles = ROOT.TClonesArray(\"TParticle\", 10000)\n",
    "pythia.Initialize(2212 , -2212 , 630)\n",
    "pythia.GenerateEvent()"
   ]
  },
  {
   "cell_type": "code",
   "execution_count": 13,
   "metadata": {},
   "outputs": [
    {
     "name": "stdout",
     "output_type": "stream",
     "text": [
      " PYTHIA Warning in JunctionSplitting::SplitJunPairs: parallel junction state not allowed.  \n",
      " PYTHIA Warning in JunctionSplitting::CheckColours: Not possible to split junctions; making new colours  \n",
      " PYTHIA Error in BeamRemnants::add: failed to find physical colour state after colour reconnection  \n",
      " PYTHIA Warning in MultipartonInteractions::pTnext: weight above unity  \n"
     ]
    }
   ],
   "source": [
    "nEvents=10000\n",
    "parts=[\"e-\", \"e+\"]\n",
    "labels={\"e-\": \"#e^{-}\", \"e+\": \"#e^{+}\"}\n",
    "colors={\"e-\": ROOT.kBlack, \"e+\": ROOT.kBlue}\n",
    "\n",
    "heta={}\n",
    "hpt={}\n",
    "\n",
    "for p in parts:\n",
    "    heta[p]=ROOT.TH1D(\"eta\"+p,\"\",120,-12,12)\n",
    "    heta[p].Sumw2()\n",
    "    hpt[p]=ROOT.TH1D(\"pt\"+p,\"\",50,0,10)\n",
    "    hpt[p].Sumw2()\n",
    "\n",
    "def fillHistos(p):\n",
    "    name=p.GetName()\n",
    "    if name in parts:\n",
    "        heta[name].Fill(p.Eta())\n",
    "        hpt[name].Fill(p.Pt(),1/(p.Pt()))\n",
    "\n",
    "#generate events\n",
    "for i in range(nEvents):\n",
    "    pythia.GenerateEvent()\n",
    "    pythia.ImportParticles(particles,\"All\")\n",
    "    for p in particles:\n",
    "        if isFinal(p):\n",
    "            fillHistos(p)\n",
    "#format and normalize histograms, find ranges on y axes\n",
    "maxeta=0\n",
    "maxpt=0\n",
    "for p in parts:\n",
    "    heta[p].SetMarkerStyle(ROOT.kFullCircle)\n",
    "    heta[p].SetMarkerColor(colors[p])\n",
    "    bw=heta[p].GetBinWidth(1)\n",
    "    heta[p].Scale(1./(bw*nEvents))\n",
    "    maxeta=max(maxeta,heta[p].GetMaximum())\n",
    "    \n",
    "    hpt[p].SetMarkerStyle(ROOT.kFullCircle)\n",
    "    hpt[p].SetMarkerColor(colors[p])\n",
    "    bw=hpt[p].GetBinWidth(1)\n",
    "    hpt[p].Scale(1./(bw*nEvents))\n",
    "    maxpt=max(maxpt,hpt[p].GetMaximum())"
   ]
  },
  {
   "cell_type": "code",
   "execution_count": 14,
   "metadata": {},
   "outputs": [
    {
     "data": {
      "text/html": [
       "\n",
       "\n",
       "<div id=\"root_plot_1649447291477\"\n",
       "     style=\"width: 1596px; height: 572px\">\n",
       "</div>\n",
       "<script>\n",
       "\n",
       "function display_root_plot_1649447291477(Core) {\n",
       "   let obj = Core.parse({\"_typename\":\"TCanvas\",\"fUniqueID\":0,\"fBits\":3342344,\"fLineColor\":1,\"fLineStyle\":1,\"fLineWidth\":1,\"fFillColor\":0,\"fFillStyle\":1001,\"fLeftMargin\":0.1,\"fRightMargin\":0.1,\"fBottomMargin\":0.1,\"fTopMargin\":0.1,\"fXfile\":2,\"fYfile\":2,\"fAfile\":1,\"fXstat\":0.99,\"fYstat\":0.99,\"fAstat\":2,\"fFrameFillColor\":0,\"fFrameLineColor\":1,\"fFrameFillStyle\":1001,\"fFrameLineStyle\":1,\"fFrameLineWidth\":1,\"fFrameBorderSize\":1,\"fFrameBorderMode\":0,\"fX1\":0,\"fY1\":0,\"fX2\":1,\"fY2\":1,\"fXtoAbsPixelk\":5e-5,\"fXtoPixelk\":5e-5,\"fXtoPixel\":1596,\"fYtoAbsPixelk\":572.00005,\"fYtoPixelk\":572.00005,\"fYtoPixel\":-572,\"fUtoAbsPixelk\":5e-5,\"fUtoPixelk\":5e-5,\"fUtoPixel\":1596,\"fVtoAbsPixelk\":572.00005,\"fVtoPixelk\":572,\"fVtoPixel\":-572,\"fAbsPixeltoXk\":0,\"fPixeltoXk\":0,\"fPixeltoX\":6.265664160401e-4,\"fAbsPixeltoYk\":1,\"fPixeltoYk\":0,\"fPixeltoY\":-0.00174825174825175,\"fXlowNDC\":0,\"fYlowNDC\":0,\"fXUpNDC\":1,\"fYUpNDC\":1,\"fWNDC\":1,\"fHNDC\":1,\"fAbsXlowNDC\":0,\"fAbsYlowNDC\":0,\"fAbsWNDC\":1,\"fAbsHNDC\":1,\"fUxmin\":0,\"fUymin\":0,\"fUxmax\":1,\"fUymax\":1,\"fTheta\":30,\"fPhi\":30,\"fAspectRatio\":0,\"fNumber\":0,\"fTickx\":0,\"fTicky\":0,\"fLogx\":0,\"fLogy\":0,\"fLogz\":0,\"fPadPaint\":0,\"fCrosshair\":0,\"fCrosshairPos\":0,\"fBorderSize\":2,\"fBorderMode\":0,\"fModified\":false,\"fGridx\":false,\"fGridy\":false,\"fAbsCoord\":false,\"fEditable\":true,\"fFixedAspectRatio\":false,\"fPrimitives\":{\"_typename\":\"TList\",\"name\":\"TList\",\"arr\":[{\"_typename\":\"TPad\",\"fUniqueID\":0,\"fBits\":9,\"fLineColor\":1,\"fLineStyle\":1,\"fLineWidth\":1,\"fFillColor\":0,\"fFillStyle\":1001,\"fLeftMargin\":0.1,\"fRightMargin\":0.1,\"fBottomMargin\":0.1,\"fTopMargin\":0.1,\"fXfile\":2,\"fYfile\":2,\"fAfile\":1,\"fXstat\":0.99,\"fYstat\":0.99,\"fAstat\":2,\"fFrameFillColor\":0,\"fFrameLineColor\":1,\"fFrameFillStyle\":1001,\"fFrameLineStyle\":1,\"fFrameLineWidth\":1,\"fFrameBorderSize\":1,\"fFrameBorderMode\":0,\"fX1\":-1.25000009313226,\"fY1\":-9.9339804235967,\"fX2\":11.2500000931323,\"fY2\":1.31601974404138,\"fXtoAbsPixelk\":92.5680542808058,\"fXtoPixelk\":76.6080546375396,\"fXtoPixel\":61.2863991438388,\"fYtoAbsPixelk\":71.2940958333604,\"fYtoPixelk\":65.5740959612123,\"fYtoPixel\":-49.8275548357963,\"fUtoAbsPixelk\":15.9600496432662,\"fUtoPixelk\":5e-5,\"fUtoPixel\":766.080000713468,\"fVtoAbsPixelk\":566.280050127852,\"fVtoPixelk\":560.560000255704,\"fVtoPixel\":-560.560000255704,\"fAbsPixeltoXk\":-1.51041675761614,\"fPixeltoXk\":-1.25000009313226,\"fPixeltoX\":0.0163168339789878,\"fAbsPixeltoYk\":1.43081566150106,\"fPixeltoYk\":-9.9339804235967,\"fPixeltoY\":-0.0200692167876878,\"fXlowNDC\":0.00999999977648258,\"fYlowNDC\":0.00999999977648258,\"fXUpNDC\":0.490000000223517,\"fYUpNDC\":0.990000000223517,\"fWNDC\":0.480000000447035,\"fHNDC\":0.980000000447035,\"fAbsXlowNDC\":0.00999999977648258,\"fAbsYlowNDC\":0.00999999977648258,\"fAbsWNDC\":0.480000000447035,\"fAbsHNDC\":0.980000000447035,\"fUxmin\":0,\"fUymin\":-8.80898033977766,\"fUxmax\":10,\"fUymax\":0.19101966022234,\"fTheta\":30,\"fPhi\":30,\"fAspectRatio\":0,\"fNumber\":1,\"fTickx\":0,\"fTicky\":0,\"fLogx\":0,\"fLogy\":1,\"fLogz\":0,\"fPadPaint\":0,\"fCrosshair\":0,\"fCrosshairPos\":0,\"fBorderSize\":2,\"fBorderMode\":0,\"fModified\":false,\"fGridx\":false,\"fGridy\":false,\"fAbsCoord\":false,\"fEditable\":true,\"fFixedAspectRatio\":false,\"fPrimitives\":{\"_typename\":\"TList\",\"name\":\"TList\",\"arr\":[{\"_typename\":\"TFrame\",\"fUniqueID\":0,\"fBits\":8,\"fLineColor\":1,\"fLineStyle\":1,\"fLineWidth\":1,\"fFillColor\":0,\"fFillStyle\":1001,\"fX1\":0,\"fY1\":-8.80898033977766,\"fX2\":10,\"fY2\":0.19101966022234,\"fBorderSize\":1,\"fBorderMode\":0},{\"_typename\":\"TH1F\",\"fUniqueID\":0,\"fBits\":521,\"fName\":\"hframe\",\"fTitle\":\"\",\"fLineColor\":602,\"fLineStyle\":1,\"fLineWidth\":1,\"fFillColor\":0,\"fFillStyle\":1001,\"fMarkerColor\":1,\"fMarkerStyle\":1,\"fMarkerSize\":1,\"fNcells\":1002,\"fXaxis\":{\"_typename\":\"TAxis\",\"fUniqueID\":0,\"fBits\":0,\"fName\":\"xaxis\",\"fTitle\":\"p_{T} [GeV\\/c]\",\"fNdivisions\":510,\"fAxisColor\":1,\"fLabelColor\":1,\"fLabelFont\":42,\"fLabelOffset\":0.005,\"fLabelSize\":0.035,\"fTickLength\":0.03,\"fTitleOffset\":1.5,\"fTitleSize\":0.035,\"fTitleColor\":1,\"fTitleFont\":42,\"fNbins\":1000,\"fXmin\":0,\"fXmax\":10,\"fXbins\":[],\"fFirst\":0,\"fLast\":0,\"fBits2\":0,\"fTimeDisplay\":false,\"fTimeFormat\":\"\",\"fLabels\":null,\"fModLabs\":null},\"fYaxis\":{\"_typename\":\"TAxis\",\"fUniqueID\":0,\"fBits\":0,\"fName\":\"yaxis\",\"fTitle\":\"#frac{1}{p_{T}}#frac{dN}{dp_{T}} [GeV\\/c]^{-2}\",\"fNdivisions\":510,\"fAxisColor\":1,\"fLabelColor\":1,\"fLabelFont\":42,\"fLabelOffset\":0.005,\"fLabelSize\":0.035,\"fTickLength\":0.03,\"fTitleOffset\":0,\"fTitleSize\":15,\"fTitleColor\":1,\"fTitleFont\":42,\"fNbins\":1,\"fXmin\":1.5524572870762e-9,\"fXmax\":1.5524572870762,\"fXbins\":[],\"fFirst\":0,\"fLast\":0,\"fBits2\":0,\"fTimeDisplay\":false,\"fTimeFormat\":\"\",\"fLabels\":null,\"fModLabs\":null},\"fZaxis\":{\"_typename\":\"TAxis\",\"fUniqueID\":0,\"fBits\":0,\"fName\":\"zaxis\",\"fTitle\":\"\",\"fNdivisions\":510,\"fAxisColor\":1,\"fLabelColor\":1,\"fLabelFont\":42,\"fLabelOffset\":0.005,\"fLabelSize\":0.035,\"fTickLength\":0.03,\"fTitleOffset\":1,\"fTitleSize\":0.035,\"fTitleColor\":1,\"fTitleFont\":42,\"fNbins\":1,\"fXmin\":0,\"fXmax\":1,\"fXbins\":[],\"fFirst\":0,\"fLast\":0,\"fBits2\":0,\"fTimeDisplay\":false,\"fTimeFormat\":\"\",\"fLabels\":null,\"fModLabs\":null},\"fBarOffset\":0,\"fBarWidth\":1000,\"fEntries\":0,\"fTsumw\":0,\"fTsumw2\":0,\"fTsumwx\":0,\"fTsumwx2\":0,\"fMaximum\":1.5524572870762,\"fMinimum\":1.5524572870762e-9,\"fNormFactor\":0,\"fContour\":[],\"fSumw2\":[],\"fOption\":\"\",\"fFunctions\":{\"_typename\":\"TList\",\"name\":\"TList\",\"arr\":[],\"opt\":[]},\"fBufferSize\":0,\"fBuffer\":[],\"fBinStatErrOpt\":0,\"fStatOverflows\":2,\"fArray\":[0,0,0,0,0,0,0,0,0,0,0,0,0,0,0,0,0,0,0,0,0,0,0,0,0,0,0,0,0,0,0,0,0,0,0,0,0,0,0,0,0,0,0,0,0,0,0,0,0,0,0,0,0,0,0,0,0,0,0,0,0,0,0,0,0,0,0,0,0,0,0,0,0,0,0,0,0,0,0,0,0,0,0,0,0,0,0,0,0,0,0,0,0,0,0,0,0,0,0,0,0,0,0,0,0,0,0,0,0,0,0,0,0,0,0,0,0,0,0,0,0,0,0,0,0,0,0,0,0,0,0,0,0,0,0,0,0,0,0,0,0,0,0,0,0,0,0,0,0,0,0,0,0,0,0,0,0,0,0,0,0,0,0,0,0,0,0,0,0,0,0,0,0,0,0,0,0,0,0,0,0,0,0,0,0,0,0,0,0,0,0,0,0,0,0,0,0,0,0,0,0,0,0,0,0,0,0,0,0,0,0,0,0,0,0,0,0,0,0,0,0,0,0,0,0,0,0,0,0,0,0,0,0,0,0,0,0,0,0,0,0,0,0,0,0,0,0,0,0,0,0,0,0,0,0,0,0,0,0,0,0,0,0,0,0,0,0,0,0,0,0,0,0,0,0,0,0,0,0,0,0,0,0,0,0,0,0,0,0,0,0,0,0,0,0,0,0,0,0,0,0,0,0,0,0,0,0,0,0,0,0,0,0,0,0,0,0,0,0,0,0,0,0,0,0,0,0,0,0,0,0,0,0,0,0,0,0,0,0,0,0,0,0,0,0,0,0,0,0,0,0,0,0,0,0,0,0,0,0,0,0,0,0,0,0,0,0,0,0,0,0,0,0,0,0,0,0,0,0,0,0,0,0,0,0,0,0,0,0,0,0,0,0,0,0,0,0,0,0,0,0,0,0,0,0,0,0,0,0,0,0,0,0,0,0,0,0,0,0,0,0,0,0,0,0,0,0,0,0,0,0,0,0,0,0,0,0,0,0,0,0,0,0,0,0,0,0,0,0,0,0,0,0,0,0,0,0,0,0,0,0,0,0,0,0,0,0,0,0,0,0,0,0,0,0,0,0,0,0,0,0,0,0,0,0,0,0,0,0,0,0,0,0,0,0,0,0,0,0,0,0,0,0,0,0,0,0,0,0,0,0,0,0,0,0,0,0,0,0,0,0,0,0,0,0,0,0,0,0,0,0,0,0,0,0,0,0,0,0,0,0,0,0,0,0,0,0,0,0,0,0,0,0,0,0,0,0,0,0,0,0,0,0,0,0,0,0,0,0,0,0,0,0,0,0,0,0,0,0,0,0,0,0,0,0,0,0,0,0,0,0,0,0,0,0,0,0,0,0,0,0,0,0,0,0,0,0,0,0,0,0,0,0,0,0,0,0,0,0,0,0,0,0,0,0,0,0,0,0,0,0,0,0,0,0,0,0,0,0,0,0,0,0,0,0,0,0,0,0,0,0,0,0,0,0,0,0,0,0,0,0,0,0,0,0,0,0,0,0,0,0,0,0,0,0,0,0,0,0,0,0,0,0,0,0,0,0,0,0,0,0,0,0,0,0,0,0,0,0,0,0,0,0,0,0,0,0,0,0,0,0,0,0,0,0,0,0,0,0,0,0,0,0,0,0,0,0,0,0,0,0,0,0,0,0,0,0,0,0,0,0,0,0,0,0,0,0,0,0,0,0,0,0,0,0,0,0,0,0,0,0,0,0,0,0,0,0,0,0,0,0,0,0,0,0,0,0,0,0,0,0,0,0,0,0,0,0,0,0,0,0,0,0,0,0,0,0,0,0,0,0,0,0,0,0,0,0,0,0,0,0,0,0,0,0,0,0,0,0,0,0,0,0,0,0,0,0,0,0,0,0,0,0,0,0,0,0,0,0,0,0,0,0,0,0,0,0,0,0,0,0,0,0,0,0,0,0,0,0,0,0,0,0,0,0,0,0,0,0,0,0,0,0,0,0,0,0,0,0,0,0,0,0,0,0,0,0,0,0,0,0,0,0,0,0,0,0,0,0,0,0,0,0,0,0,0,0,0,0,0,0,0,0,0,0,0,0,0,0,0,0,0,0,0,0,0,0,0,0,0,0,0,0,0,0,0,0,0,0,0,0,0,0,0,0,0,0,0,0,0,0,0,0,0,0,0,0,0,0,0,0,0,0,0,0,0,0,0,0,0,0,0,0,0,0,0,0,0,0,0,0,0,0,0,0,0,0,0,0,0,0,0,0,0,0,0,0,0,0,0,0,0]},{\"_typename\":\"TH1D\",\"fUniqueID\":0,\"fBits\":8,\"fName\":\"pte-\",\"fTitle\":\"\",\"fLineColor\":602,\"fLineStyle\":1,\"fLineWidth\":1,\"fFillColor\":0,\"fFillStyle\":1001,\"fMarkerColor\":1,\"fMarkerStyle\":20,\"fMarkerSize\":1,\"fNcells\":52,\"fXaxis\":{\"_typename\":\"TAxis\",\"fUniqueID\":0,\"fBits\":0,\"fName\":\"xaxis\",\"fTitle\":\"\",\"fNdivisions\":510,\"fAxisColor\":1,\"fLabelColor\":1,\"fLabelFont\":42,\"fLabelOffset\":0.005,\"fLabelSize\":0.035,\"fTickLength\":0.03,\"fTitleOffset\":1,\"fTitleSize\":0.035,\"fTitleColor\":1,\"fTitleFont\":42,\"fNbins\":50,\"fXmin\":0,\"fXmax\":10,\"fXbins\":[],\"fFirst\":0,\"fLast\":0,\"fBits2\":0,\"fTimeDisplay\":false,\"fTimeFormat\":\"\",\"fLabels\":null,\"fModLabs\":null},\"fYaxis\":{\"_typename\":\"TAxis\",\"fUniqueID\":0,\"fBits\":0,\"fName\":\"yaxis\",\"fTitle\":\"\",\"fNdivisions\":510,\"fAxisColor\":1,\"fLabelColor\":1,\"fLabelFont\":42,\"fLabelOffset\":0.005,\"fLabelSize\":0.035,\"fTickLength\":0.03,\"fTitleOffset\":0,\"fTitleSize\":0.035,\"fTitleColor\":1,\"fTitleFont\":42,\"fNbins\":1,\"fXmin\":0,\"fXmax\":1,\"fXbins\":[],\"fFirst\":0,\"fLast\":0,\"fBits2\":0,\"fTimeDisplay\":false,\"fTimeFormat\":\"\",\"fLabels\":null,\"fModLabs\":null},\"fZaxis\":{\"_typename\":\"TAxis\",\"fUniqueID\":0,\"fBits\":0,\"fName\":\"zaxis\",\"fTitle\":\"\",\"fNdivisions\":510,\"fAxisColor\":1,\"fLabelColor\":1,\"fLabelFont\":42,\"fLabelOffset\":0.005,\"fLabelSize\":0.035,\"fTickLength\":0.03,\"fTitleOffset\":1,\"fTitleSize\":0.035,\"fTitleColor\":1,\"fTitleFont\":42,\"fNbins\":1,\"fXmin\":0,\"fXmax\":1,\"fXbins\":[],\"fFirst\":0,\"fLast\":0,\"fBits2\":0,\"fTimeDisplay\":false,\"fTimeFormat\":\"\",\"fLabels\":null,\"fModLabs\":null},\"fBarOffset\":0,\"fBarWidth\":1000,\"fEntries\":10037,\"fTsumw\":0.199061198633165,\"fTsumw2\":0.00219937950281094,\"fTsumwx\":0.2685,\"fTsumwx2\":1.63885067403572,\"fMaximum\":-1111,\"fMinimum\":-1111,\"fNormFactor\":0,\"fContour\":[],\"fSumw2\":[0,0.00215230769043401,2.91372218356632e-5,5.72445081345286e-6,3.27517452988217e-6,1.30207901465926e-6,7.87364769957728e-7,1.0136774707854e-6,7.97215871546656e-7,6.31860271619338e-7,1.40142715665946e-7,4.58306341519991e-7,2.44815251114405e-7,3.6159355532505e-7,6.97060527977207e-8,2.11828159867528e-7,1.28935833734589e-7,2.30898006778908e-7,1.00351453852509e-7,1.45992027061721e-7,6.64167336242736e-8,1.16855398202735e-7,1.0772408080636e-7,1.74990036635611e-7,1.2433217284259e-7,7.23329588742246e-8,9.67887822285955e-8,8.0090246862817e-8,7.3891179813177e-8,5.48457244557639e-8,1.08004321506286e-7,8.65673327137938e-8,6.93621548435698e-8,4.74714612114728e-8,6.17843950292844e-8,8.93397938590976e-8,4.93004782716616e-8,7.96428556674535e-8,5.80077347952271e-8,6.35839781504369e-8,8.36755047982435e-8,6.09658344882969e-8,7.58658518737927e-8,5.89296868830902e-8,4.92680265968085e-8,5.37016300028354e-8,6.04949118046599e-8,4.03427899334978e-8,4.17415693900953e-8,4.2489223009895e-8,6.1391552469946e-8,3.2386873320556e-6],\"fOption\":\"\",\"fFunctions\":{\"_typename\":\"TList\",\"name\":\"TList\",\"arr\":[],\"opt\":[]},\"fBufferSize\":0,\"fBuffer\":[],\"fBinStatErrOpt\":0,\"fStatOverflows\":2,\"fArray\":[0,0.120777386877383,0.0160168243075275,0.00583955096666205,0.00440964843880039,0.00227932983849227,0.00177413244520777,0.00266116909997256,0.00235973171052668,0.00210180234146412,5.29184995712769e-4,0.00191426294226634,0.00110602560270137,0.0018033776035601,3.73239791041491e-4,0.00121753331151081,8.02785973521431e-4,0.00151920985163612,7.08254474163425e-4,0.00108050442852518,5.15376250859897e-4,9.66798784861563e-4,9.28272797131702e-4,0.00156509607812484,0.00116936290348487,7.11543606418258e-4,9.83754538270858e-4,8.48961190003987e-4,8.15448338528665e-4,6.19604017228755e-4,0.00127277636946254,0.00106077765374431,8.7345563134039e-4,6.1622760710668e-4,8.24369357910023e-4,0.00123234296682322,7.02135079117668e-4,0.00116355645004057,8.68368527047181e-4,9.76588178447482e-4,0.00132556472586285,9.8762815855569e-4,0.00126219358765227,0.00100087972653,8.59654402827106e-4,9.55458388994131e-4,0.00109993933032258,7.5152090761929e-4,7.91267991299693e-4,8.24506148608757e-4,0.00121381393826384,0.159898492237352]},{\"_typename\":\"TH1D\",\"fUniqueID\":0,\"fBits\":8,\"fName\":\"pte+\",\"fTitle\":\"\",\"fLineColor\":602,\"fLineStyle\":1,\"fLineWidth\":1,\"fFillColor\":0,\"fFillStyle\":1001,\"fMarkerColor\":600,\"fMarkerStyle\":20,\"fMarkerSize\":1,\"fNcells\":52,\"fXaxis\":{\"_typename\":\"TAxis\",\"fUniqueID\":0,\"fBits\":0,\"fName\":\"xaxis\",\"fTitle\":\"\",\"fNdivisions\":510,\"fAxisColor\":1,\"fLabelColor\":1,\"fLabelFont\":42,\"fLabelOffset\":0.005,\"fLabelSize\":0.035,\"fTickLength\":0.03,\"fTitleOffset\":1,\"fTitleSize\":0.035,\"fTitleColor\":1,\"fTitleFont\":42,\"fNbins\":50,\"fXmin\":0,\"fXmax\":10,\"fXbins\":[],\"fFirst\":0,\"fLast\":0,\"fBits2\":0,\"fTimeDisplay\":false,\"fTimeFormat\":\"\",\"fLabels\":null,\"fModLabs\":null},\"fYaxis\":{\"_typename\":\"TAxis\",\"fUniqueID\":0,\"fBits\":0,\"fName\":\"yaxis\",\"fTitle\":\"\",\"fNdivisions\":510,\"fAxisColor\":1,\"fLabelColor\":1,\"fLabelFont\":42,\"fLabelOffset\":0.005,\"fLabelSize\":0.035,\"fTickLength\":0.03,\"fTitleOffset\":0,\"fTitleSize\":0.035,\"fTitleColor\":1,\"fTitleFont\":42,\"fNbins\":1,\"fXmin\":0,\"fXmax\":1,\"fXbins\":[],\"fFirst\":0,\"fLast\":0,\"fBits2\":0,\"fTimeDisplay\":false,\"fTimeFormat\":\"\",\"fLabels\":null,\"fModLabs\":null},\"fZaxis\":{\"_typename\":\"TAxis\",\"fUniqueID\":0,\"fBits\":0,\"fName\":\"zaxis\",\"fTitle\":\"\",\"fNdivisions\":510,\"fAxisColor\":1,\"fLabelColor\":1,\"fLabelFont\":42,\"fLabelOffset\":0.005,\"fLabelSize\":0.035,\"fTickLength\":0.03,\"fTitleOffset\":1,\"fTitleSize\":0.035,\"fTitleColor\":1,\"fTitleFont\":42,\"fNbins\":1,\"fXmin\":0,\"fXmax\":1,\"fXbins\":[],\"fFirst\":0,\"fLast\":0,\"fBits2\":0,\"fTimeDisplay\":false,\"fTimeFormat\":\"\",\"fLabels\":null,\"fModLabs\":null},\"fBarOffset\":0,\"fBarWidth\":1000,\"fEntries\":10037,\"fTsumw\":0.219303053845529,\"fTsumw2\":0.00355997635397138,\"fTsumwx\":0.247,\"fTsumwx2\":1.51362110143254,\"fMaximum\":-1111,\"fMinimum\":-1111,\"fNormFactor\":0,\"fContour\":[],\"fSumw2\":[0,0.00352339969529668,2.53048771281819e-5,3.315175283104e-6,4.43684285374001e-7,5.96243037076739e-7,1.01607236778926e-6,7.11251967661551e-7,3.30896323891518e-7,6.04495552441055e-7,2.07489776376974e-7,2.91469832465836e-7,1.46636520536878e-7,1.60301019571757e-7,2.78010790756371e-7,2.67189859502534e-7,1.53228716499459e-7,1.84782246060369e-7,1.42195372477844e-7,1.46394123497134e-7,1.16157671372865e-7,1.45818306778997e-7,1.34243513153421e-7,8.56796045448129e-8,1.00443239355272e-7,1.44566844021173e-7,1.15801422941688e-7,8.02371482014798e-8,9.05432796869682e-8,1.00134640073749e-7,3.59463840941399e-8,6.64118903869197e-8,5.65664214717041e-8,5.87094915718427e-8,8.31443099011637e-8,5.29814571297016e-8,7.95622235844386e-8,6.58739449010972e-8,4.02449907678102e-8,7.15388239678859e-8,8.80289053540943e-8,3.43759408808938e-8,6.93855474033312e-8,4.47960997202092e-8,3.28850569928135e-8,7.55797221119103e-8,4.22546810870227e-8,5.22243604577178e-8,4.98962039546536e-8,2.38354017673308e-8,3.83969437985562e-8,3.25204110267442e-6],\"fOption\":\"\",\"fFunctions\":{\"_typename\":\"TList\",\"name\":\"TList\",\"arr\":[],\"opt\":[]},\"fBufferSize\":0,\"fBuffer\":[],\"fBinStatErrOpt\":0,\"fStatOverflows\":2,\"fArray\":[0,0.15524572870762,0.012096068345755,0.0036367850540398,6.66096303378124e-4,0.00109003908070656,0.0022499069188251,0.00188538651130216,9.95608333279913e-4,0.00205574136036713,7.8879932972132e-4,0.00120694235681583,6.63141367600835e-4,8.00693274204308e-4,0.0014910683818883,0.00155048387780366,9.58712865885268e-4,0.0012157408497123,9.97534854576049e-4,0.00108209344840894,9.01581001525885e-4,0.00120750159518581,0.00115851258676209,7.74380316897818e-4,9.50749360698964e-4,0.00142258512414398,0.00117871908022273,8.4976021326636e-4,9.97921264207983e-4,0.00114086172344414,4.23937853952775e-4,8.14899457700363e-4,7.13488471397785e-4,7.66189705124702e-4,0.00111672236977534,7.27866908327046e-4,0.00112824149191388,9.60292578806417e-4,6.01824163192411e-4,0.00110277114384595,0.00139160777040152,5.5619917195715e-4,0.00114815647522298,7.63104568529713e-4,5.73441204270278e-4,0.00134678399529275,7.69117019425007e-4,9.69531653090457e-4,9.47681910615452e-4,4.6315079471376e-4,7.58901649727722e-4,0.160396744679787]},{\"_typename\":\"TLegend\",\"fUniqueID\":0,\"fBits\":8,\"fLineColor\":1,\"fLineStyle\":1,\"fLineWidth\":1,\"fFillColor\":0,\"fFillStyle\":1001,\"fX1\":9.00000013411046,\"fY1\":0.30655625175694,\"fX2\":12.0000001788139,\"fY2\":0.377300002811104,\"fX1NDC\":0.8,\"fY1NDC\":0.75,\"fX2NDC\":0.9,\"fY2NDC\":0.9,\"fBorderSize\":1,\"fInit\":1,\"fShadowColor\":1,\"fCornerRadius\":0,\"fOption\":\"brNDC\",\"fName\":\"TPave\",\"fTextAngle\":0,\"fTextSize\":0,\"fTextAlign\":12,\"fTextColor\":1,\"fTextFont\":42,\"fPrimitives\":{\"_typename\":\"TList\",\"name\":\"TList\",\"arr\":[{\"_typename\":\"TLegendEntry\",\"fUniqueID\":0,\"fBits\":0,\"fTextAngle\":0,\"fTextSize\":0,\"fTextAlign\":0,\"fTextColor\":0,\"fTextFont\":42,\"fLineColor\":602,\"fLineStyle\":1,\"fLineWidth\":1,\"fFillColor\":0,\"fFillStyle\":1001,\"fMarkerColor\":1,\"fMarkerStyle\":20,\"fMarkerSize\":1,\"fObject\":{\"$ref\":10},\"fLabel\":\"#e^{-}\",\"fOption\":\"lpf\"},{\"_typename\":\"TLegendEntry\",\"fUniqueID\":0,\"fBits\":0,\"fTextAngle\":0,\"fTextSize\":0,\"fTextAlign\":0,\"fTextColor\":0,\"fTextFont\":42,\"fLineColor\":602,\"fLineStyle\":1,\"fLineWidth\":1,\"fFillColor\":0,\"fFillStyle\":1001,\"fMarkerColor\":600,\"fMarkerStyle\":20,\"fMarkerSize\":1,\"fObject\":{\"$ref\":15},\"fLabel\":\"#e^{+}\",\"fOption\":\"lpf\"}],\"opt\":[\"lpf\",\"lpf\"]},\"fEntrySeparation\":0.1,\"fMargin\":0.25,\"fNColumns\":1,\"fColumnSeparation\":0}],\"opt\":[\"\",\"\",\"p same\",\"p same\",\"\"]},\"fExecs\":{\"_typename\":\"TList\",\"name\":\"TList\",\"arr\":[],\"opt\":[]},\"fName\":\"c_etapt_1\",\"fTitle\":\"c_etapt_1\",\"fNumPaletteColor\":0,\"fNextPaletteColor\":0},{\"_typename\":\"TPad\",\"fUniqueID\":0,\"fBits\":9,\"fLineColor\":1,\"fLineStyle\":1,\"fLineWidth\":1,\"fFillColor\":0,\"fFillStyle\":1001,\"fLeftMargin\":0.1,\"fRightMargin\":0.1,\"fBottomMargin\":0.1,\"fTopMargin\":0.1,\"fXfile\":2,\"fYfile\":2,\"fAfile\":1,\"fXstat\":0.99,\"fYstat\":0.99,\"fAstat\":2,\"fFrameFillColor\":0,\"fFrameLineColor\":1,\"fFrameFillStyle\":1001,\"fFrameLineStyle\":1,\"fFrameLineWidth\":1,\"fFrameBorderSize\":1,\"fFrameBorderMode\":0,\"fX1\":-15.0000002235174,\"fY1\":-0.0471625035138803,\"fX2\":15.0000002235174,\"fY2\":0.42446250351388,\"fXtoAbsPixelk\":1197.00005,\"fXtoPixelk\":383.040050356734,\"fXtoPixel\":25.5359996432662,\"fYtoAbsPixelk\":510.224046761083,\"fYtoPixelk\":504.504046888935,\"fYtoPixel\":-1188.57141140251,\"fUtoAbsPixelk\":813.960049643266,\"fUtoPixelk\":5e-5,\"fUtoPixel\":766.080000713468,\"fVtoAbsPixelk\":566.280050127852,\"fVtoPixelk\":560.560000255704,\"fVtoPixel\":-560.560000255704,\"fAbsPixeltoXk\":-46.8750006548362,\"fPixeltoXk\":-15.0000002235174,\"fPixeltoX\":0.0391604015495708,\"fAbsPixeltoYk\":0.429275003475829,\"fPixeltoYk\":-0.0471625035138803,\"fPixeltoY\":-8.41346165999403e-4,\"fXlowNDC\":0.509999999776483,\"fYlowNDC\":0.00999999977648258,\"fXUpNDC\":0.990000000223517,\"fYUpNDC\":0.990000000223517,\"fWNDC\":0.480000000447035,\"fHNDC\":0.980000000447035,\"fAbsXlowNDC\":0.509999999776483,\"fAbsYlowNDC\":0.00999999977648258,\"fAbsWNDC\":0.480000000447035,\"fAbsHNDC\":0.980000000447035,\"fUxmin\":-12,\"fUymin\":0,\"fUxmax\":12,\"fUymax\":0.3773,\"fTheta\":30,\"fPhi\":30,\"fAspectRatio\":0,\"fNumber\":2,\"fTickx\":0,\"fTicky\":0,\"fLogx\":0,\"fLogy\":0,\"fLogz\":0,\"fPadPaint\":0,\"fCrosshair\":0,\"fCrosshairPos\":0,\"fBorderSize\":2,\"fBorderMode\":0,\"fModified\":false,\"fGridx\":false,\"fGridy\":false,\"fAbsCoord\":false,\"fEditable\":true,\"fFixedAspectRatio\":false,\"fPrimitives\":{\"_typename\":\"TList\",\"name\":\"TList\",\"arr\":[{\"_typename\":\"TFrame\",\"fUniqueID\":0,\"fBits\":8,\"fLineColor\":1,\"fLineStyle\":1,\"fLineWidth\":1,\"fFillColor\":0,\"fFillStyle\":1001,\"fX1\":-12,\"fY1\":0,\"fX2\":12,\"fY2\":0.3773,\"fBorderSize\":1,\"fBorderMode\":0},{\"_typename\":\"TH1F\",\"fUniqueID\":0,\"fBits\":521,\"fName\":\"hframe\",\"fTitle\":\"\",\"fLineColor\":602,\"fLineStyle\":1,\"fLineWidth\":1,\"fFillColor\":0,\"fFillStyle\":1001,\"fMarkerColor\":1,\"fMarkerStyle\":1,\"fMarkerSize\":1,\"fNcells\":1002,\"fXaxis\":{\"_typename\":\"TAxis\",\"fUniqueID\":0,\"fBits\":0,\"fName\":\"xaxis\",\"fTitle\":\"#eta\",\"fNdivisions\":510,\"fAxisColor\":1,\"fLabelColor\":1,\"fLabelFont\":42,\"fLabelOffset\":0.005,\"fLabelSize\":0.035,\"fTickLength\":0.03,\"fTitleOffset\":1,\"fTitleSize\":0.035,\"fTitleColor\":1,\"fTitleFont\":42,\"fNbins\":1000,\"fXmin\":-12,\"fXmax\":12,\"fXbins\":[],\"fFirst\":0,\"fLast\":0,\"fBits2\":0,\"fTimeDisplay\":false,\"fTimeFormat\":\"\",\"fLabels\":null,\"fModLabs\":null},\"fYaxis\":{\"_typename\":\"TAxis\",\"fUniqueID\":0,\"fBits\":0,\"fName\":\"yaxis\",\"fTitle\":\"#frac{dN}{d#eta} \",\"fNdivisions\":510,\"fAxisColor\":1,\"fLabelColor\":1,\"fLabelFont\":42,\"fLabelOffset\":0.005,\"fLabelSize\":0.035,\"fTickLength\":0.03,\"fTitleOffset\":0,\"fTitleSize\":15,\"fTitleColor\":1,\"fTitleFont\":42,\"fNbins\":1,\"fXmin\":0,\"fXmax\":0.3773,\"fXbins\":[],\"fFirst\":0,\"fLast\":0,\"fBits2\":0,\"fTimeDisplay\":false,\"fTimeFormat\":\"\",\"fLabels\":null,\"fModLabs\":null},\"fZaxis\":{\"_typename\":\"TAxis\",\"fUniqueID\":0,\"fBits\":0,\"fName\":\"zaxis\",\"fTitle\":\"\",\"fNdivisions\":510,\"fAxisColor\":1,\"fLabelColor\":1,\"fLabelFont\":42,\"fLabelOffset\":0.005,\"fLabelSize\":0.035,\"fTickLength\":0.03,\"fTitleOffset\":1,\"fTitleSize\":0.035,\"fTitleColor\":1,\"fTitleFont\":42,\"fNbins\":1,\"fXmin\":0,\"fXmax\":1,\"fXbins\":[],\"fFirst\":0,\"fLast\":0,\"fBits2\":0,\"fTimeDisplay\":false,\"fTimeFormat\":\"\",\"fLabels\":null,\"fModLabs\":null},\"fBarOffset\":0,\"fBarWidth\":1000,\"fEntries\":0,\"fTsumw\":0,\"fTsumw2\":0,\"fTsumwx\":0,\"fTsumwx2\":0,\"fMaximum\":0.3773,\"fMinimum\":0,\"fNormFactor\":0,\"fContour\":[],\"fSumw2\":[],\"fOption\":\"\",\"fFunctions\":{\"_typename\":\"TList\",\"name\":\"TList\",\"arr\":[],\"opt\":[]},\"fBufferSize\":0,\"fBuffer\":[],\"fBinStatErrOpt\":0,\"fStatOverflows\":2,\"fArray\":[0,0,0,0,0,0,0,0,0,0,0,0,0,0,0,0,0,0,0,0,0,0,0,0,0,0,0,0,0,0,0,0,0,0,0,0,0,0,0,0,0,0,0,0,0,0,0,0,0,0,0,0,0,0,0,0,0,0,0,0,0,0,0,0,0,0,0,0,0,0,0,0,0,0,0,0,0,0,0,0,0,0,0,0,0,0,0,0,0,0,0,0,0,0,0,0,0,0,0,0,0,0,0,0,0,0,0,0,0,0,0,0,0,0,0,0,0,0,0,0,0,0,0,0,0,0,0,0,0,0,0,0,0,0,0,0,0,0,0,0,0,0,0,0,0,0,0,0,0,0,0,0,0,0,0,0,0,0,0,0,0,0,0,0,0,0,0,0,0,0,0,0,0,0,0,0,0,0,0,0,0,0,0,0,0,0,0,0,0,0,0,0,0,0,0,0,0,0,0,0,0,0,0,0,0,0,0,0,0,0,0,0,0,0,0,0,0,0,0,0,0,0,0,0,0,0,0,0,0,0,0,0,0,0,0,0,0,0,0,0,0,0,0,0,0,0,0,0,0,0,0,0,0,0,0,0,0,0,0,0,0,0,0,0,0,0,0,0,0,0,0,0,0,0,0,0,0,0,0,0,0,0,0,0,0,0,0,0,0,0,0,0,0,0,0,0,0,0,0,0,0,0,0,0,0,0,0,0,0,0,0,0,0,0,0,0,0,0,0,0,0,0,0,0,0,0,0,0,0,0,0,0,0,0,0,0,0,0,0,0,0,0,0,0,0,0,0,0,0,0,0,0,0,0,0,0,0,0,0,0,0,0,0,0,0,0,0,0,0,0,0,0,0,0,0,0,0,0,0,0,0,0,0,0,0,0,0,0,0,0,0,0,0,0,0,0,0,0,0,0,0,0,0,0,0,0,0,0,0,0,0,0,0,0,0,0,0,0,0,0,0,0,0,0,0,0,0,0,0,0,0,0,0,0,0,0,0,0,0,0,0,0,0,0,0,0,0,0,0,0,0,0,0,0,0,0,0,0,0,0,0,0,0,0,0,0,0,0,0,0,0,0,0,0,0,0,0,0,0,0,0,0,0,0,0,0,0,0,0,0,0,0,0,0,0,0,0,0,0,0,0,0,0,0,0,0,0,0,0,0,0,0,0,0,0,0,0,0,0,0,0,0,0,0,0,0,0,0,0,0,0,0,0,0,0,0,0,0,0,0,0,0,0,0,0,0,0,0,0,0,0,0,0,0,0,0,0,0,0,0,0,0,0,0,0,0,0,0,0,0,0,0,0,0,0,0,0,0,0,0,0,0,0,0,0,0,0,0,0,0,0,0,0,0,0,0,0,0,0,0,0,0,0,0,0,0,0,0,0,0,0,0,0,0,0,0,0,0,0,0,0,0,0,0,0,0,0,0,0,0,0,0,0,0,0,0,0,0,0,0,0,0,0,0,0,0,0,0,0,0,0,0,0,0,0,0,0,0,0,0,0,0,0,0,0,0,0,0,0,0,0,0,0,0,0,0,0,0,0,0,0,0,0,0,0,0,0,0,0,0,0,0,0,0,0,0,0,0,0,0,0,0,0,0,0,0,0,0,0,0,0,0,0,0,0,0,0,0,0,0,0,0,0,0,0,0,0,0,0,0,0,0,0,0,0,0,0,0,0,0,0,0,0,0,0,0,0,0,0,0,0,0,0,0,0,0,0,0,0,0,0,0,0,0,0,0,0,0,0,0,0,0,0,0,0,0,0,0,0,0,0,0,0,0,0,0,0,0,0,0,0,0,0,0,0,0,0,0,0,0,0,0,0,0,0,0,0,0,0,0,0,0,0,0,0,0,0,0,0,0,0,0,0,0,0,0,0,0,0,0,0,0,0,0,0,0,0,0,0,0,0,0,0,0,0,0,0,0,0,0,0,0,0,0,0,0,0,0,0,0,0,0,0,0,0,0,0,0,0,0,0,0,0,0,0,0,0,0,0,0,0,0,0,0,0,0,0,0,0,0,0,0,0,0,0,0,0,0,0,0,0,0,0,0,0,0,0,0,0,0,0,0,0,0,0,0,0,0,0,0,0,0,0,0,0,0,0,0,0,0,0,0,0,0,0,0,0,0,0,0,0,0,0,0,0,0,0,0,0,0,0,0,0,0,0,0,0,0,0,0,0,0,0,0,0,0,0,0,0,0,0,0,0,0,0,0,0,0,0,0,0,0,0,0,0,0,0,0,0,0,0,0,0,0,0,0,0,0,0,0,0,0]},{\"_typename\":\"TH1D\",\"fUniqueID\":0,\"fBits\":8,\"fName\":\"etae-\",\"fTitle\":\"\",\"fLineColor\":602,\"fLineStyle\":1,\"fLineWidth\":1,\"fFillColor\":0,\"fFillStyle\":1001,\"fMarkerColor\":1,\"fMarkerStyle\":20,\"fMarkerSize\":1,\"fNcells\":122,\"fXaxis\":{\"_typename\":\"TAxis\",\"fUniqueID\":0,\"fBits\":0,\"fName\":\"xaxis\",\"fTitle\":\"\",\"fNdivisions\":510,\"fAxisColor\":1,\"fLabelColor\":1,\"fLabelFont\":42,\"fLabelOffset\":0.005,\"fLabelSize\":0.035,\"fTickLength\":0.03,\"fTitleOffset\":1,\"fTitleSize\":0.035,\"fTitleColor\":1,\"fTitleFont\":42,\"fNbins\":120,\"fXmin\":-12,\"fXmax\":12,\"fXbins\":[],\"fFirst\":0,\"fLast\":0,\"fBits2\":0,\"fTimeDisplay\":false,\"fTimeFormat\":\"\",\"fLabels\":null,\"fModLabs\":null},\"fYaxis\":{\"_typename\":\"TAxis\",\"fUniqueID\":0,\"fBits\":0,\"fName\":\"yaxis\",\"fTitle\":\"\",\"fNdivisions\":510,\"fAxisColor\":1,\"fLabelColor\":1,\"fLabelFont\":42,\"fLabelOffset\":0.005,\"fLabelSize\":0.035,\"fTickLength\":0.03,\"fTitleOffset\":0,\"fTitleSize\":0.035,\"fTitleColor\":1,\"fTitleFont\":42,\"fNbins\":1,\"fXmin\":0,\"fXmax\":1,\"fXbins\":[],\"fFirst\":0,\"fLast\":0,\"fBits2\":0,\"fTimeDisplay\":false,\"fTimeFormat\":\"\",\"fLabels\":null,\"fModLabs\":null},\"fZaxis\":{\"_typename\":\"TAxis\",\"fUniqueID\":0,\"fBits\":0,\"fName\":\"zaxis\",\"fTitle\":\"\",\"fNdivisions\":510,\"fAxisColor\":1,\"fLabelColor\":1,\"fLabelFont\":42,\"fLabelOffset\":0.005,\"fLabelSize\":0.035,\"fTickLength\":0.03,\"fTitleOffset\":1,\"fTitleSize\":0.035,\"fTitleColor\":1,\"fTitleFont\":42,\"fNbins\":1,\"fXmin\":0,\"fXmax\":1,\"fXbins\":[],\"fFirst\":0,\"fLast\":0,\"fBits2\":0,\"fTimeDisplay\":false,\"fTimeFormat\":\"\",\"fLabels\":null,\"fModLabs\":null},\"fBarOffset\":0,\"fBarWidth\":1000,\"fEntries\":10037,\"fTsumw\":5.0185,\"fTsumw2\":0.00250925,\"fTsumwx\":0.172913849834594,\"fTsumwx2\":7.16763767070509,\"fMaximum\":-1111,\"fMinimum\":-1111,\"fNormFactor\":0,\"fContour\":[],\"fSumw2\":[0,0,0,0,0,0,0,0,0,0,0,0,0,0,0,0,0,0,0,0,0,0,0,0,0,0,0,0,0,2.5e-7,0,0,0,0,2.5e-7,0,2.5e-7,0,7.5e-7,5e-7,1.25e-6,1.25e-6,1.75e-6,2e-6,3e-6,5.25e-6,6.75e-6,1.275e-5,1.775e-5,2.4e-5,3.125e-5,4e-5,5.375e-5,7.1e-5,9.2e-5,1.02e-4,1.375e-4,1.43e-4,1.4625e-4,1.63e-4,1.715e-4,1.6725e-4,1.625e-4,1.545e-4,1.4325e-4,1.285e-4,1.2075e-4,1.01e-4,7.625e-5,5.875e-5,4.55e-5,3.35e-5,2.7e-5,2.25e-5,1e-5,1.025e-5,7.25e-6,3.75e-6,3e-6,1.5e-6,1e-6,2.5e-7,7.5e-7,5e-7,7.5e-7,0,0,0,0,0,0,0,0,0,0,0,0,0,0,0,0,0,0,0,0,0,0,0,0,0,0,0,0,0,0,0,0,0,0,0,0,0],\"fOption\":\"\",\"fFunctions\":{\"_typename\":\"TList\",\"name\":\"TList\",\"arr\":[],\"opt\":[]},\"fBufferSize\":0,\"fBuffer\":[],\"fBinStatErrOpt\":0,\"fStatOverflows\":2,\"fArray\":[0,0,0,0,0,0,0,0,0,0,0,0,0,0,0,0,0,0,0,0,0,0,0,0,0,0,0,0,0,5e-4,0,0,0,0,5e-4,0,5e-4,0,0.0015,0.001,0.0025,0.0025,0.0035,0.004,0.006,0.0105,0.0135,0.0255,0.0355,0.048,0.0625,0.08,0.1075,0.142,0.184,0.204,0.275,0.286,0.2925,0.326,0.343,0.3345,0.325,0.309,0.2865,0.257,0.2415,0.202,0.1525,0.1175,0.091,0.067,0.054,0.045,0.02,0.0205,0.0145,0.0075,0.006,0.003,0.002,5e-4,0.0015,0.001,0.0015,0,0,0,0,0,0,0,0,0,0,0,0,0,0,0,0,0,0,0,0,0,0,0,0,0,0,0,0,0,0,0,0,0,0,0,0,0]},{\"_typename\":\"TH1D\",\"fUniqueID\":0,\"fBits\":8,\"fName\":\"etae+\",\"fTitle\":\"\",\"fLineColor\":602,\"fLineStyle\":1,\"fLineWidth\":1,\"fFillColor\":0,\"fFillStyle\":1001,\"fMarkerColor\":600,\"fMarkerStyle\":20,\"fMarkerSize\":1,\"fNcells\":122,\"fXaxis\":{\"_typename\":\"TAxis\",\"fUniqueID\":0,\"fBits\":0,\"fName\":\"xaxis\",\"fTitle\":\"\",\"fNdivisions\":510,\"fAxisColor\":1,\"fLabelColor\":1,\"fLabelFont\":42,\"fLabelOffset\":0.005,\"fLabelSize\":0.035,\"fTickLength\":0.03,\"fTitleOffset\":1,\"fTitleSize\":0.035,\"fTitleColor\":1,\"fTitleFont\":42,\"fNbins\":120,\"fXmin\":-12,\"fXmax\":12,\"fXbins\":[],\"fFirst\":0,\"fLast\":0,\"fBits2\":0,\"fTimeDisplay\":false,\"fTimeFormat\":\"\",\"fLabels\":null,\"fModLabs\":null},\"fYaxis\":{\"_typename\":\"TAxis\",\"fUniqueID\":0,\"fBits\":0,\"fName\":\"yaxis\",\"fTitle\":\"\",\"fNdivisions\":510,\"fAxisColor\":1,\"fLabelColor\":1,\"fLabelFont\":42,\"fLabelOffset\":0.005,\"fLabelSize\":0.035,\"fTickLength\":0.03,\"fTitleOffset\":0,\"fTitleSize\":0.035,\"fTitleColor\":1,\"fTitleFont\":42,\"fNbins\":1,\"fXmin\":0,\"fXmax\":1,\"fXbins\":[],\"fFirst\":0,\"fLast\":0,\"fBits2\":0,\"fTimeDisplay\":false,\"fTimeFormat\":\"\",\"fLabels\":null,\"fModLabs\":null},\"fZaxis\":{\"_typename\":\"TAxis\",\"fUniqueID\":0,\"fBits\":0,\"fName\":\"zaxis\",\"fTitle\":\"\",\"fNdivisions\":510,\"fAxisColor\":1,\"fLabelColor\":1,\"fLabelFont\":42,\"fLabelOffset\":0.005,\"fLabelSize\":0.035,\"fTickLength\":0.03,\"fTitleOffset\":1,\"fTitleSize\":0.035,\"fTitleColor\":1,\"fTitleFont\":42,\"fNbins\":1,\"fXmin\":0,\"fXmax\":1,\"fXbins\":[],\"fFirst\":0,\"fLast\":0,\"fBits2\":0,\"fTimeDisplay\":false,\"fTimeFormat\":\"\",\"fLabels\":null,\"fModLabs\":null},\"fBarOffset\":0,\"fBarWidth\":1000,\"fEntries\":10037,\"fTsumw\":5.0185,\"fTsumw2\":0.00250925,\"fTsumwx\":-0.243953976392625,\"fTsumwx2\":7.32733670925927,\"fMaximum\":-1111,\"fMinimum\":-1111,\"fNormFactor\":0,\"fContour\":[],\"fSumw2\":[0,0,0,0,0,0,0,0,0,0,0,0,0,0,0,0,0,0,0,0,0,0,0,0,0,0,0,0,0,0,0,0,0,0,2.5e-7,1e-6,0,0,2.5e-7,2.5e-7,7.5e-7,1.25e-6,5e-7,2.75e-6,5e-6,7.5e-6,8.25e-6,1.125e-5,1.975e-5,2.625e-5,3.625e-5,4.55e-5,6.65e-5,7.85e-5,1.045e-4,1.2525e-4,1.2875e-4,1.5775e-4,1.5875e-4,1.5825e-4,1.665e-4,1.6275e-4,1.6e-4,1.4125e-4,1.3425e-4,1.15e-4,1.075e-4,9.8e-5,6.9e-5,4.975e-5,4.55e-5,3.175e-5,2.275e-5,1.975e-5,1.325e-5,9e-6,4.5e-6,5.75e-6,2e-6,1.75e-6,1.25e-6,1.25e-6,2.5e-7,5e-7,7.5e-7,2.5e-7,0,0,0,0,0,0,0,0,0,0,0,0,0,0,0,0,0,0,0,0,0,0,0,0,0,0,0,0,0,0,0,0,0,0,0,0],\"fOption\":\"\",\"fFunctions\":{\"_typename\":\"TList\",\"name\":\"TList\",\"arr\":[],\"opt\":[]},\"fBufferSize\":0,\"fBuffer\":[],\"fBinStatErrOpt\":0,\"fStatOverflows\":2,\"fArray\":[0,0,0,0,0,0,0,0,0,0,0,0,0,0,0,0,0,0,0,0,0,0,0,0,0,0,0,0,0,0,0,0,0,0,5e-4,0.002,0,0,5e-4,5e-4,0.0015,0.0025,0.001,0.0055,0.01,0.015,0.0165,0.0225,0.0395,0.0525,0.0725,0.091,0.133,0.157,0.209,0.2505,0.2575,0.3155,0.3175,0.3165,0.333,0.3255,0.32,0.2825,0.2685,0.23,0.215,0.196,0.138,0.0995,0.091,0.0635,0.0455,0.0395,0.0265,0.018,0.009,0.0115,0.004,0.0035,0.0025,0.0025,5e-4,0.001,0.0015,5e-4,0,0,0,0,0,0,0,0,0,0,0,0,0,0,0,0,0,0,0,0,0,0,0,0,0,0,0,0,0,0,0,0,0,0,0,0]},{\"$ref\":20}],\"opt\":[\"\",\"\",\"p same\",\"p same\",\"\"]},\"fExecs\":{\"_typename\":\"TList\",\"name\":\"TList\",\"arr\":[],\"opt\":[]},\"fName\":\"c_etapt_2\",\"fTitle\":\"c_etapt_2\",\"fNumPaletteColor\":0,\"fNextPaletteColor\":0},{\"_typename\":\"TStyle\",\"fUniqueID\":0,\"fBits\":0,\"fName\":\"Modern\",\"fTitle\":\"Modern Style\",\"fLineColor\":1,\"fLineStyle\":1,\"fLineWidth\":1,\"fFillColor\":19,\"fFillStyle\":1001,\"fMarkerColor\":1,\"fMarkerStyle\":1,\"fMarkerSize\":1,\"fTextAngle\":0,\"fTextSize\":0.05,\"fTextAlign\":11,\"fTextColor\":1,\"fTextFont\":62,\"fXaxis\":{\"_typename\":\"TAttAxis\",\"fNdivisions\":510,\"fAxisColor\":1,\"fLabelColor\":1,\"fLabelFont\":42,\"fLabelOffset\":0.005,\"fLabelSize\":0.035,\"fTickLength\":0.03,\"fTitleOffset\":1,\"fTitleSize\":0.035,\"fTitleColor\":1,\"fTitleFont\":42},\"fYaxis\":{\"_typename\":\"TAttAxis\",\"fNdivisions\":510,\"fAxisColor\":1,\"fLabelColor\":1,\"fLabelFont\":42,\"fLabelOffset\":0.005,\"fLabelSize\":0.035,\"fTickLength\":0.03,\"fTitleOffset\":0,\"fTitleSize\":0.035,\"fTitleColor\":1,\"fTitleFont\":42},\"fZaxis\":{\"_typename\":\"TAttAxis\",\"fNdivisions\":510,\"fAxisColor\":1,\"fLabelColor\":1,\"fLabelFont\":42,\"fLabelOffset\":0.005,\"fLabelSize\":0.035,\"fTickLength\":0.03,\"fTitleOffset\":1,\"fTitleSize\":0.035,\"fTitleColor\":1,\"fTitleFont\":42},\"fBarWidth\":1,\"fBarOffset\":0,\"fColorModelPS\":0,\"fDrawBorder\":0,\"fOptLogx\":0,\"fOptLogy\":0,\"fOptLogz\":0,\"fOptDate\":0,\"fOptStat\":1111,\"fOptTitle\":1,\"fOptFile\":0,\"fOptFit\":0,\"fShowEventStatus\":0,\"fShowEditor\":0,\"fShowToolBar\":0,\"fNumberContours\":20,\"fAttDate\":{\"_typename\":\"TAttText\",\"fTextAngle\":0,\"fTextSize\":0.025,\"fTextAlign\":11,\"fTextColor\":1,\"fTextFont\":62},\"fDateX\":0.01,\"fDateY\":0.01,\"fEndErrorSize\":2,\"fErrorX\":0.5,\"fFuncColor\":2,\"fFuncStyle\":1,\"fFuncWidth\":2,\"fGridColor\":0,\"fGridStyle\":3,\"fGridWidth\":1,\"fLegendBorderSize\":1,\"fLegendFillColor\":0,\"fLegendFont\":42,\"fLegendTextSize\":0,\"fHatchesLineWidth\":1,\"fHatchesSpacing\":1,\"fFrameFillColor\":0,\"fFrameLineColor\":1,\"fFrameFillStyle\":1001,\"fFrameLineStyle\":1,\"fFrameLineWidth\":1,\"fFrameBorderSize\":1,\"fFrameBorderMode\":0,\"fHistFillColor\":0,\"fHistLineColor\":602,\"fHistFillStyle\":1001,\"fHistLineStyle\":1,\"fHistLineWidth\":1,\"fHistMinimumZero\":false,\"fHistTopMargin\":0.05,\"fCanvasPreferGL\":false,\"fCanvasColor\":0,\"fCanvasBorderSize\":2,\"fCanvasBorderMode\":0,\"fCanvasDefH\":500,\"fCanvasDefW\":700,\"fCanvasDefX\":10,\"fCanvasDefY\":10,\"fPadColor\":0,\"fPadBorderSize\":2,\"fPadBorderMode\":0,\"fPadBottomMargin\":0.1,\"fPadTopMargin\":0.1,\"fPadLeftMargin\":0.1,\"fPadRightMargin\":0.1,\"fPadGridX\":false,\"fPadGridY\":false,\"fPadTickX\":0,\"fPadTickY\":0,\"fPaperSizeX\":20,\"fPaperSizeY\":26,\"fScreenFactor\":1,\"fStatColor\":0,\"fStatTextColor\":1,\"fStatBorderSize\":1,\"fStatFont\":42,\"fStatFontSize\":0,\"fStatStyle\":1001,\"fStatFormat\":\"6.4g\",\"fStatX\":0.98,\"fStatY\":0.935,\"fStatW\":0.2,\"fStatH\":0.16,\"fStripDecimals\":true,\"fTitleAlign\":23,\"fTitleColor\":0,\"fTitleTextColor\":1,\"fTitleBorderSize\":0,\"fTitleFont\":42,\"fTitleFontSize\":0.05,\"fTitleStyle\":0,\"fTitleX\":0.5,\"fTitleY\":0.995,\"fTitleW\":0,\"fTitleH\":0,\"fLegoInnerR\":0.5,\"fLineStyle\":[\"\",\"  \",\" 12 12\",\" 4 8\",\" 12 16 4 16\",\" 20 12 4 12\",\" 20 12 4 12 4 12 4 12\",\" 20 20\",\" 20 12 4 12 4 12\",\" 80 20\",\" 80 40 4 40\",\"  \",\"  \",\"  \",\"  \",\"  \",\"  \",\"  \",\"  \",\"  \",\"  \",\"  \",\"  \",\"  \",\"  \",\"  \",\"  \",\"  \",\"  \",\"  \"],\"fHeaderPS\":\"\",\"fTitlePS\":\"\",\"fFitFormat\":\"5.4g\",\"fPaintTextFormat\":\"g\",\"fLineScalePS\":3,\"fJoinLinePS\":0,\"fCapLinePS\":0,\"fTimeOffset\":788918400,\"fImageScaling\":1}],\"opt\":[\"\",\"\",\"\"]},\"fExecs\":null,\"fName\":\"c_etapt\",\"fTitle\":\"\",\"fNumPaletteColor\":0,\"fNextPaletteColor\":0,\"fDISPLAY\":\"$DISPLAY\",\"fDoubleBuffer\":0,\"fRetained\":true,\"fXsizeUser\":0,\"fYsizeUser\":0,\"fXsizeReal\":20,\"fYsizeReal\":7.5,\"fWindowTopX\":0,\"fWindowTopY\":0,\"fWindowWidth\":0,\"fWindowHeight\":0,\"fCw\":1596,\"fCh\":572,\"fCatt\":{\"_typename\":\"TAttCanvas\",\"fXBetween\":2,\"fYBetween\":2,\"fTitleFromTop\":1.2,\"fXdate\":0.2,\"fYdate\":0.3,\"fAdate\":1},\"kMoveOpaque\":true,\"kResizeOpaque\":true,\"fHighLightColor\":2,\"fBatch\":true,\"kShowEventStatus\":false,\"kAutoExec\":true,\"kMenuBar\":true});\n",
       "   Core.settings.HandleKeys = false;\n",
       "   Core.draw(\"root_plot_1649447291477\", obj, \"\");\n",
       "}\n",
       "\n",
       "function script_load_root_plot_1649447291477(src, on_error) {\n",
       "    let script = document.createElement('script');\n",
       "    script.src = src;\n",
       "    script.onload = function() { display_root_plot_1649447291477(JSROOT); };\n",
       "    script.onerror = function() { script.remove(); on_error(); };\n",
       "    document.head.appendChild(script);\n",
       "}\n",
       "\n",
       "if (typeof requirejs !== 'undefined') {\n",
       "\n",
       "    // We are in jupyter notebooks, use require.js which should be configured already\n",
       "    requirejs.config({\n",
       "       paths: { 'JSRootCore' : [ 'scripts/JSRoot.core', 'https://root.cern/js/6.1.1/scripts/JSRoot.core.min', 'https://jsroot.gsi.de/6.1.1/scripts/JSRoot.core.min' ] }\n",
       "    })(['JSRootCore'],  function(Core) {\n",
       "       display_root_plot_1649447291477(Core);\n",
       "    });\n",
       "\n",
       "} else if (typeof JSROOT !== 'undefined') {\n",
       "\n",
       "   // JSROOT already loaded, just use it\n",
       "   display_root_plot_1649447291477(JSROOT);\n",
       "\n",
       "} else {\n",
       "\n",
       "    // We are in jupyterlab without require.js, directly loading jsroot\n",
       "    // Jupyterlab might be installed in a different base_url so we need to know it.\n",
       "    try {\n",
       "        var base_url = JSON.parse(document.getElementById('jupyter-config-data').innerHTML).baseUrl;\n",
       "    } catch(_) {\n",
       "        var base_url = '/';\n",
       "    }\n",
       "\n",
       "    // Try loading a local version of requirejs and fallback to cdn if not possible.\n",
       "    script_load_root_plot_1649447291477(base_url + 'static/scripts/JSRoot.core.js', function(){\n",
       "        console.error('Fail to load JSROOT locally, please check your jupyter_notebook_config.py file');\n",
       "        script_load_root_plot_1649447291477('https://root.cern/js/6.1.1/scripts/JSRoot.core.min.js', function(){\n",
       "            document.getElementById(\"root_plot_1649447291477\").innerHTML = \"Failed to load JSROOT\";\n",
       "        });\n",
       "    });\n",
       "}\n",
       "\n",
       "</script>\n"
      ],
      "text/plain": [
       "<IPython.core.display.HTML object>"
      ]
     },
     "metadata": {},
     "output_type": "display_data"
    }
   ],
   "source": [
    "c_etapt = ROOT.TCanvas(\"c_etapt\",\"\",1600,600)\n",
    "c_etapt.Divide(2,1)\n",
    "\n",
    "legend=ROOT.TLegend(0.8,0.75,0.9,0.9)\n",
    "for p in parts:\n",
    "    legend.AddEntry(hpt[p], labels[p])\n",
    "\n",
    "c_etapt.cd(1).SetLogy()\n",
    "frame_pt=c_etapt.cd(1).DrawFrame(0,maxpt*1e-8,10,10*maxpt)\n",
    "frame_pt.GetXaxis().SetTitle(\"p_{T} [GeV/c]\")\n",
    "frame_pt.GetXaxis().SetTitleOffset(1.5)\n",
    "frame_pt.GetYaxis().SetTitleSize(15)\n",
    "frame_pt.GetYaxis().SetTitle(\"#frac{1}{p_{T}}#frac{dN}{dp_{T}} [GeV/c]^{-2}\")\n",
    "frame_pt.Draw()\n",
    "for p in parts:\n",
    "    hpt[p].Draw(\"p same\")\n",
    "legend.Draw()\n",
    "\n",
    "c_etapt.cd(2)\n",
    "frame_eta=c_etapt.cd(2).DrawFrame(-12,0,12,1.1*maxeta)\n",
    "frame_eta.GetXaxis().SetTitle(\"#eta\")\n",
    "frame_eta.GetYaxis().SetTitleSize(15)\n",
    "frame_eta.GetYaxis().SetTitle(\"#frac{dN}{d#eta} \")\n",
    "frame_eta.Draw()\n",
    "for p in parts:\n",
    "    heta[p].Draw(\"p same\")\n",
    "    \n",
    "legend.Draw()\n",
    "\n",
    "c_etapt.Draw()"
   ]
  }
 ],
 "metadata": {
  "interpreter": {
   "hash": "31f2aee4e71d21fbe5cf8b01ff0e069b9275f58929596ceb00d14d90e3e16cd6"
  },
  "kernelspec": {
   "display_name": "Python 3.9.7 64-bit",
   "language": "python",
   "name": "python3"
  },
  "language_info": {
   "codemirror_mode": {
    "name": "ipython",
    "version": 3
   },
   "file_extension": ".py",
   "mimetype": "text/x-python",
   "name": "python",
   "nbconvert_exporter": "python",
   "pygments_lexer": "ipython3",
   "version": "3.9.7"
  },
  "orig_nbformat": 4
 },
 "nbformat": 4,
 "nbformat_minor": 2
}
