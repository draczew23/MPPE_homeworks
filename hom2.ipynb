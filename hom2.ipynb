{
 "cells": [
  {
   "cell_type": "markdown",
   "metadata": {},
   "source": [
    "## HOMEWORK: $Z$ boson production in $p+\\bar{p}$ collisions\n",
    "### Generate 10000 $p+\\bar{p}$ events at 630 GeV of $Z$ boson production ($Z$ discovery at CERN SPS). (in the center of mass)"
   ]
  },
  {
   "cell_type": "markdown",
   "metadata": {},
   "source": [
    "Setup:\n",
    "* in order to look at $Z$ boson production we limit physics list of Pythia8 to include only hard $f\\bar{f}\\to Z \\to f\\bar{f}$ processes\n",
    "  * `WeakSingleBoson:ffbar2gmZ`\n",
    "* moreover, we will disable all $Z$ decay modes other than $Z\\to e^+e^-$, in which the particle was discovered\n",
    "  * `id:onMode = off` disables all decay channels of particle with given id (`id` should be an integer equal to PDG code of the particle)\n",
    "  * `id:onIfAny = prod` enables decay of particle `id` in channels containing `prod` - see pythia documentation if more info is necessary\n",
    "* to speed up the simulation we disable hadronisation (we are interested only in leptonic final states)\n",
    "* we also limit phase space to $\\pm 20$ GeV around the $Z$ rest mass\n",
    "  * use `PhaseSpace:mHatMin = XX` and `PhaseSpace:mHatMax = XX` options, values are in GeV\n",
    "\n",
    "To do:\n",
    "* select candidates for products of $Z$ decay in each event and plot their invariant mass distribution in range 70-110 GeV\n",
    "* check influence of final state radiation on the spectrum - generate additional 10000 events with FSR turned off\n",
    "* normalize histograms so that their maxima are at $1$\n",
    "* draw both distributions (as a histograms, option `\"hist\"`) on the same plot with axis labels and a legend, how does FSR influence invariant mass spectrum?\n",
    "* draw $\\frac{1}{p_T}\\frac{\\mathrm{d}N}{\\mathrm{d}p_T}$ and $\\frac{\\mathrm{d}N}{\\mathrm{d}\\eta}$ spectra of produced $Z$ bosons (only for one dataset, with FSR on), with axis labels and proper normalisation, pick the $x$ axis ranges so that the whole distribution fits inside the plot\n",
    "  * **hint:** $Z$ boson will occur multiple times in the event listing (why?), it will never be a final particle, pick only $Z$'s that appear *last* in each event\n",
    "* NOT COMPULSORY what is the *mean* number $\\langle N_Z\\rangle$ of $Z$ bosons produced in an event, with what error? is this result surprising? \n",
    "  * **hint:** $\\langle N \\rangle = \\int\\limits_0^\\infty \\frac{\\mathrm{d}N}{\\mathrm{d}p_T}\\cdot \\mathrm{d}p_T = \\int\\limits_{-\\infty}^\\infty \\frac{\\mathrm{d}N}{\\mathrm{d}\\eta}\\cdot \\mathrm{d}\\eta$, see `TH1::Integral`, and `TH1::IntegralAndError` methods and make sure, that *\"width\"* option is used so that bin contents are multiplied by bin widths during computation of the integral"
   ]
  },
  {
   "cell_type": "markdown",
   "metadata": {},
   "source": [
    "### Root and necessary packages"
   ]
  },
  {
   "cell_type": "code",
   "execution_count": 1,
   "metadata": {},
   "outputs": [
    {
     "name": "stdout",
     "output_type": "stream",
     "text": [
      "Welcome to JupyROOT 6.24/04\n"
     ]
    }
   ],
   "source": [
    "import ROOT\n",
    "import os, sys, subprocess, time\n",
    "import py8settings as py8s\n",
    "from py8settings import PDF\n",
    "import itertools as it\n",
    "import ctypes\n",
    "\n",
    "%jsroot on"
   ]
  },
  {
   "cell_type": "markdown",
   "metadata": {},
   "source": [
    "#### Compile pythia code"
   ]
  },
  {
   "cell_type": "code",
   "execution_count": 2,
   "metadata": {},
   "outputs": [
    {
     "name": "stdout",
     "output_type": "stream",
     "text": [
      "make: 'main300' is up to date.\n",
      "/scratch/home/asus/MPPE/a/Modern_Particle_Physics_Experiments/Homeworks\n"
     ]
    }
   ],
   "source": [
    "!cd pythia-examples; make main300; cd -"
   ]
  },
  {
   "cell_type": "markdown",
   "metadata": {},
   "source": [
    "### Pythia8 view settings and view events; PARAMETERS FOR INCOMING BEAMS"
   ]
  },
  {
   "cell_type": "code",
   "execution_count": 3,
   "metadata": {},
   "outputs": [
    {
     "name": "stdout",
     "output_type": "stream",
     "text": [
      "You can now set the parameters for the incoming beams:\n"
     ]
    },
    {
     "data": {
      "application/vnd.jupyter.widget-view+json": {
       "model_id": "d49d9b76028e449ca3903e2c2cb84efc",
       "version_major": 2,
       "version_minor": 0
      },
      "text/plain": [
       "interactive(children=(Dropdown(description='beam A id  [Beams:idA]', index=9, layout=Layout(width='750px'), op…"
      ]
     },
     "metadata": {},
     "output_type": "display_data"
    }
   ],
   "source": [
    "cmnd_file = \"settings.cmnd\"\n",
    "\n",
    "#we start fresh\n",
    "if os.path.exists(cmnd_file):\n",
    "    os.remove(cmnd_file)\n",
    "os.system(\"touch \"+cmnd_file)\n",
    "\n",
    "#beam settings:\n",
    "py8s.beam_settings(cmnd_file)\n",
    "\n",
    "# beam energies are in Gev"
   ]
  },
  {
   "cell_type": "markdown",
   "metadata": {},
   "source": [
    "### Select the number of events, settings for the random seed, and processes"
   ]
  },
  {
   "cell_type": "code",
   "execution_count": 4,
   "metadata": {},
   "outputs": [
    {
     "name": "stdout",
     "output_type": "stream",
     "text": [
      "You can now select the number of events, settings for the random seed, and processes:\n"
     ]
    },
    {
     "data": {
      "application/vnd.jupyter.widget-view+json": {
       "model_id": "05fb793404ca47e3a786e3fb6268c243",
       "version_major": 2,
       "version_minor": 0
      },
      "text/plain": [
       "interactive(children=(IntText(value=100, description='# of events  [Main:numberOfEvents]', layout=Layout(width…"
      ]
     },
     "metadata": {},
     "output_type": "display_data"
    }
   ],
   "source": [
    "py8s.basic_settings(cmnd_file)\n",
    "\n",
    "# we can choose what bosons are in our final state"
   ]
  },
  {
   "cell_type": "code",
   "execution_count": 5,
   "metadata": {},
   "outputs": [
    {
     "name": "stdout",
     "output_type": "stream",
     "text": [
      "You can switch on/off different parts of the simulation:\n"
     ]
    },
    {
     "data": {
      "application/vnd.jupyter.widget-view+json": {
       "model_id": "5e6e186e4f79425780a9d57bf4d0d3b2",
       "version_major": 2,
       "version_minor": 0
      },
      "text/plain": [
       "interactive(children=(Checkbox(value=True, description='multi-parton interactions  [PartonLevel:MPI]', layout=…"
      ]
     },
     "metadata": {},
     "output_type": "display_data"
    }
   ],
   "source": [
    "py8s.onoff_settings(cmnd_file)\n",
    "\n",
    "# HERE IS NEEDED FSR"
   ]
  },
  {
   "cell_type": "code",
   "execution_count": 6,
   "metadata": {},
   "outputs": [
    {
     "name": "stdout",
     "output_type": "stream",
     "text": [
      "You can now select the phase-space cuts for 2 final-state particles:\n"
     ]
    },
    {
     "data": {
      "application/vnd.jupyter.widget-view+json": {
       "model_id": "df05f88951044993b86cc70097c0f966",
       "version_major": 2,
       "version_minor": 0
      },
      "text/plain": [
       "interactive(children=(FloatText(value=4.0, description='minimum invariant mass in GeV  [PhaseSpace:mHatMin]', …"
      ]
     },
     "metadata": {},
     "output_type": "display_data"
    }
   ],
   "source": [
    "# Write settings for phase-space cuts to file.\n",
    "py8s.pscuts_settings(cmnd_file, 2)"
   ]
  },
  {
   "cell_type": "code",
   "execution_count": 7,
   "metadata": {},
   "outputs": [],
   "source": [
    "# Write additional settings if needed.\n",
    "py8s.more_settings(cmnd_file, [\"23:onMode = off\", \"23:onIfAny = 11 -11\"])"
   ]
  },
  {
   "cell_type": "code",
   "execution_count": 8,
   "metadata": {},
   "outputs": [
    {
     "name": "stdout",
     "output_type": "stream",
     "text": [
      "\n",
      " *------------------------------------------------------------------------------------* \n",
      " |                                                                                    | \n",
      " |  *------------------------------------------------------------------------------*  | \n",
      " |  |                                                                              |  | \n",
      " |  |                                                                              |  | \n",
      " |  |   PPP   Y   Y  TTTTT  H   H  III    A      Welcome to the Lund Monte Carlo!  |  | \n",
      " |  |   P  P   Y Y     T    H   H   I    A A     This is PYTHIA version 8.306      |  | \n",
      " |  |   PPP     Y      T    HHHHH   I   AAAAA    Last date of change: 28 Jun 2021  |  | \n",
      " |  |   P       Y      T    H   H   I   A   A                                      |  | \n",
      " |  |   P       Y      T    H   H  III  A   A    Now is 29 Mar 2022 at 12:30:24    |  | \n",
      " |  |                                                                              |  | \n",
      " |  |   Program documentation and an archive of historic versions is found on:     |  | \n",
      " |  |                                                                              |  | \n",
      " |  |                               https://pythia.org/                            |  | \n",
      " |  |                                                                              |  | \n",
      " |  |   PYTHIA is authored by a collaboration consisting of:                       |  | \n",
      " |  |                                                                              |  | \n",
      " |  |   Christian Bierlich, Nishita Desai, Leif Gellersen, Ilkka Helenius, Philip  |  | \n",
      " |  |   Ilten, Leif Lönnblad, Stephen Mrenna, Stefan Prestel, Christian Preuss,    |  | \n",
      " |  |   Torbjörn Sjöstrand, Peter Skands, Marius Utheim and Rob Verheyen.          |  | \n",
      " |  |                                                                              |  | \n",
      " |  |   The complete list of authors, including contact information and            |  | \n",
      " |  |   affiliations, can be found on https://pythia.org/.                         |  | \n",
      " |  |   Problems or bugs should be reported on email at authors@pythia.org.        |  | \n",
      " |  |                                                                              |  | \n",
      " |  |   The main program reference is 'An Introduction to PYTHIA 8.2',             |  | \n",
      " |  |   T. Sjöstrand et al, Comput. Phys. Commun. 191 (2015) 159                   |  | \n",
      " |  |   [arXiv:1410.3012 [hep-ph]]                                                 |  | \n",
      " |  |                                                                              |  | \n",
      " |  |   The main physics reference is the 'PYTHIA 6.4 Physics and Manual',         |  | \n",
      " |  |   T. Sjöstrand, S. Mrenna and P. Skands, JHEP05 (2006) 026 [hep-ph/0603175]  |  | \n",
      " |  |                                                                              |  | \n",
      " |  |   PYTHIA is released under the GNU General Public Licence version 2 or later.|  | \n",
      " |  |   Please respect the MCnet Guidelines for Event Generator Authors and Users. |  | \n",
      " |  |                                                                              |  | \n",
      " |  |   Disclaimer: this program comes without any guarantees.                     |  | \n",
      " |  |   Beware of errors and use common sense when interpreting results.           |  | \n",
      " |  |                                                                              |  | \n",
      " |  |   Copyright (C) 2021 Torbjörn Sjöstrand                                      |  | \n",
      " |  |                                                                              |  | \n",
      " |  |                                                                              |  | \n",
      " |  *------------------------------------------------------------------------------*  | \n",
      " |                                                                                    | \n",
      " *------------------------------------------------------------------------------------* \n",
      "\n",
      "\n",
      "INFORMATION:\n",
      "   Forcing PhaseSpace:pTHatMinDiverge to very small\n",
      "   value 0.05 GeV to prevent aggressive phase-space\n",
      "   restriction of deep-inelastic scattering configurations.\n",
      "   Default minimum value of 0.5 GeV may be reinstated from command\n",
      "   line or input file settings.\n",
      "\n",
      "NOTE THAT\n",
      "   2->2 processes in pp collisions require setting PhaseSpace:pTHatMin\n",
      "   2->2 processes in DIS collisions require setting PhaseSpace:Q2min\n",
      "   (see details in the ''Phase Space Cuts'' section of the online manual)\n",
      "\n",
      " *-------  PYTHIA Process Initialization  --------------------------*\n",
      " |                                                                  |\n",
      " | We collide pbar- with p+ at a CM energy of 3.003e+02 GeV         |\n",
      " |                                                                  |\n",
      " |------------------------------------------------------------------|\n",
      " |                                                    |             |\n",
      " | Subprocess                                    Code |   Estimated |\n",
      " |                                                    |    max (mb) |\n",
      " |                                                    |             |\n",
      " |------------------------------------------------------------------|\n",
      " |                                                    |             |\n",
      " | f fbar -> gamma*/Z0                            221 |   2.232e-07 |\n",
      " |                                                                  |\n",
      " *-------  End PYTHIA Process Initialization -----------------------*\n",
      "\n",
      " *-------  PYTHIA Multiparton Interactions Initialization  ---------* \n",
      " |                                                                  | \n",
      " |                   sigmaNonDiffractive =    30.31 mb              | \n",
      " |                                                                  | \n",
      " |    pT0 =  1.16 gives sigmaInteraction =    86.76 mb: accepted    | \n",
      " |                                                                  | \n",
      " *-------  End PYTHIA Multiparton Interactions Initialization  -----* \n",
      "\n",
      " *-------  PYTHIA Flag + Mode + Parm + Word + FVec + MVec + PVec + WVec Settings (changes only)  ------------------* \n",
      " |                                                                                                                 | \n",
      " | Name                                          |                      Now |      Default         Min         Max | \n",
      " |                                               |                          |                                      | \n",
      " | Beams:eA                                      |                 27.50000 |     7000.000         0.0             | \n",
      " | Beams:eB                                      |                820.00000 |     7000.000         0.0             | \n",
      " | Beams:eCM                                     |                630.00000 |    14000.000         0.0             | \n",
      " | Beams:frameType                               |                        2 |            1           1           5 | \n",
      " | Beams:idA                                     |                    -2212 |         2212                         | \n",
      " | HadronLevel:all                               |                      off |           on                         | \n",
      " | Main:numberOfEvents                           |                      100 |         1000           0             | \n",
      " | PhaseSpace:mHatMax                            |                -20.00000 |     -1.00000                         | \n",
      " | PhaseSpace:mHatMin                            |                 20.00000 |      4.00000         0.0             | \n",
      " | PhaseSpace:pTHatMin                           |                  1.00000 |          0.0         0.0             | \n",
      " | PhaseSpace:pTHatMinDiverge                    |                0.0500000 |      1.00000     0.50000             | \n",
      " | PhaseSpace:Q2Min                              |                  1.00000 |          0.0         0.0             | \n",
      " | WeakSingleBoson:ffbar2gmZ                     |                       on |          off                         | \n",
      " |                                                                                                                 | \n",
      " *-------  End PYTHIA Flag + Mode + Parm + Word + FVec + MVec + PVec + WVec Settings  -----------------------------* \n",
      "\n",
      " --------  PYTHIA Particle Data Table (changed only)  ------------------------------------------------------------------------------\n",
      " \n",
      "      id   name            antiName         spn chg col      m0        mWidth      mMin       mMax       tau0    res dec ext vis wid\n",
      "             no onMode   bRatio   meMode     products \n",
      "\n",
      "      23  Z0                                  3   0   0   91.18760    2.50419   10.00000    0.00000  7.87987e-14   1   1   0   0   0\n",
      "              0     0   0.1540492    0        1       -1 \n",
      "              1     0   0.1194935    0        2       -2 \n",
      "              2     0   0.1540386    0        3       -3 \n",
      "              3     0   0.1193325    0        4       -4 \n",
      "              4     0   0.1523269    0        5       -5 \n",
      "              5     1   0.0335480    0       11      -11 \n",
      "              6     0   0.0667305    0       12      -12 \n",
      "              7     0   0.0335477    0       13      -13 \n",
      "              8     0   0.0667305    0       14      -14 \n",
      "              9     0   0.0334720    0       15      -15 \n",
      "             10     0   0.0667305    0       16      -16 \n",
      "\n",
      " --------  End PYTHIA Particle Data Table  -----------------------------------------------------------------------------------------\n",
      "\n",
      " PYTHIA Info from Pythia::init: be aware that successive calls to init() do not clear previous settings.  \n",
      "\n",
      " *-------  PYTHIA Process Initialization  --------------------------*\n",
      " |                                                                  |\n",
      " | We collide pbar- with p+ at a CM energy of 3.003e+02 GeV         |\n",
      " |                                                                  |\n",
      " |------------------------------------------------------------------|\n",
      " |                                                    |             |\n",
      " | Subprocess                                    Code |   Estimated |\n",
      " |                                                    |    max (mb) |\n",
      " |                                                    |             |\n",
      " |------------------------------------------------------------------|\n",
      " |                                                    |             |\n",
      " | f fbar -> gamma*/Z0                            221 |   2.232e-07 |\n",
      " |                                                                  |\n",
      " *-------  End PYTHIA Process Initialization -----------------------*\n",
      "\n",
      " *-------  PYTHIA Multiparton Interactions Initialization  ---------* \n",
      " |                                                                  | \n",
      " |                   sigmaNonDiffractive =    30.31 mb              | \n",
      " |                                                                  | \n",
      " |    pT0 =  1.16 gives sigmaInteraction =    87.38 mb: accepted    | \n",
      " |                                                                  | \n",
      " *-------  End PYTHIA Multiparton Interactions Initialization  -----* \n",
      "\n",
      " *-------  PYTHIA Flag + Mode + Parm + Word + FVec + MVec + PVec + WVec Settings (changes only)  ------------------* \n",
      " |                                                                                                                 | \n",
      " | Name                                          |                      Now |      Default         Min         Max | \n",
      " |                                               |                          |                                      | \n",
      " | Beams:eA                                      |                 27.50000 |     7000.000         0.0             | \n",
      " | Beams:eB                                      |                820.00000 |     7000.000         0.0             | \n",
      " | Beams:eCM                                     |                630.00000 |    14000.000         0.0             | \n",
      " | Beams:frameType                               |                        2 |            1           1           5 | \n",
      " | Beams:idA                                     |                    -2212 |         2212                         | \n",
      " | HadronLevel:all                               |                      off |           on                         | \n",
      " | Main:numberOfEvents                           |                      100 |         1000           0             | \n",
      " | PhaseSpace:mHatMax                            |                -20.00000 |     -1.00000                         | \n",
      " | PhaseSpace:mHatMin                            |                 20.00000 |      4.00000         0.0             | \n",
      " | PhaseSpace:pTHatMin                           |                  1.00000 |          0.0         0.0             | \n",
      " | PhaseSpace:pTHatMinDiverge                    |                0.0500000 |      1.00000     0.50000             | \n",
      " | PhaseSpace:Q2Min                              |                  1.00000 |          0.0         0.0             | \n",
      " | WeakSingleBoson:ffbar2gmZ                     |                       on |          off                         | \n",
      " |                                                                                                                 | \n",
      " *-------  End PYTHIA Flag + Mode + Parm + Word + FVec + MVec + PVec + WVec Settings  -----------------------------* \n",
      "\n",
      " --------  PYTHIA Particle Data Table (changed only)  ------------------------------------------------------------------------------\n",
      " \n",
      "      id   name            antiName         spn chg col      m0        mWidth      mMin       mMax       tau0    res dec ext vis wid\n",
      "             no onMode   bRatio   meMode     products \n",
      "\n",
      "      23  Z0                                  3   0   0   91.18760    2.50419   10.00000    0.00000  7.87987e-14   1   1   0   0   0\n",
      "              0     0   0.1540492    0        1       -1 \n",
      "              1     0   0.1194935    0        2       -2 \n",
      "              2     0   0.1540386    0        3       -3 \n",
      "              3     0   0.1193325    0        4       -4 \n",
      "              4     0   0.1523269    0        5       -5 \n",
      "              5     1   0.0335480    0       11      -11 \n",
      "              6     0   0.0667305    0       12      -12 \n",
      "              7     0   0.0335477    0       13      -13 \n",
      "              8     0   0.0667305    0       14      -14 \n",
      "              9     0   0.0334720    0       15      -15 \n",
      "             10     0   0.0667305    0       16      -16 \n",
      "\n",
      " --------  End PYTHIA Particle Data Table  -----------------------------------------------------------------------------------------\n",
      "\n",
      "\n",
      " --------  PYTHIA Info Listing  ---------------------------------------- \n",
      " \n",
      " Beam A: id =  -2212, pz =  1.501e+02, e =  1.501e+02, m =  9.383e-01.\n",
      " Beam B: id =   2212, pz = -1.501e+02, e =  1.501e+02, m =  9.383e-01.\n",
      "\n",
      " In 1: id =   -1, x =  2.977e-01, pdf =  1.382e-01 at Q2 =  8.174e+03.\n",
      " In 2: id =    1, x =  3.045e-01, pdf =  1.326e-01 at same Q2.\n",
      "\n",
      " Subprocess f fbar -> gamma*/Z0 with code 221 is 2 -> 1.\n",
      " It has sHat =  8.174e+03.\n",
      "     alphaEM =  7.817e-03,  alphaS =  1.302e-01    at Q2 =  8.174e+03.\n",
      "\n",
      " Impact parameter b =  3.234e-01 gives enhancement factor =  2.710e+00.\n",
      " Max pT scale for MPI =  3.003e+02, ISR =  3.003e+02, FSR =  3.003e+02.\n",
      " Number of MPI =     5, ISR =     3, FSRproc =    11, FSRreson =     0.\n",
      "\n",
      " --------  End PYTHIA Info Listing  ------------------------------------\n",
      "\n",
      " --------  PYTHIA Event Listing  (hard process)  -----------------------------------------------------------------------------------\n",
      " \n",
      "    no         id  name            status     mothers   daughters     colours      p_x        p_y        p_z         e          m \n",
      "     0         90  (system)           -11     0     0     0     0     0     0      0.000      0.000   -792.515    847.500    300.292\n",
      "     1      -2212  (pbar-)            -12     0     0     3     0     0     0      0.000      0.000     27.484     27.500      0.938\n",
      "     2       2212  (p+)               -12     0     0     4     0     0     0      0.000      0.000   -819.999    820.000      0.938\n",
      "     3         -1  (dbar)             -21     1     0     5     0     0   101      0.000      0.000      8.184      8.184      0.000\n",
      "     4          1  (d)                -21     2     0     5     0   101     0      0.000      0.000   -249.720    249.720      0.000\n",
      "     5         23  (Z0)               -22     3     4     6     7     0     0      0.000      0.000   -241.536    257.904     90.413\n",
      "     6         11  e-                  23     5     0     0     0     0     0    -43.091    -13.267   -111.401    120.179      0.001\n",
      "     7        -11  e+                  23     5     0     0     0     0     0     43.091     13.267   -130.136    137.725      0.001\n",
      "                                   Charge sum:  0.000           Momentum sum:      0.000      0.000   -241.536    257.904     90.413\n",
      "\n",
      " --------  End PYTHIA Event Listing  -----------------------------------------------------------------------------------------------\n",
      "\n",
      " --------  PYTHIA Event Listing  (complete event)  ---------------------------------------------------------------------------------\n",
      " \n",
      "    no         id  name            status     mothers   daughters     colours      p_x        p_y        p_z         e          m \n",
      "     0         90  (system)           -11     0     0     0     0     0     0      0.000      0.000   -792.515    847.500    300.292\n",
      "     1      -2212  (pbar-)            -12     0     0    70     0     0     0      0.000      0.000     27.484     27.500      0.938\n",
      "     2       2212  (p+)               -12     0     0    71     0     0     0      0.000      0.000   -819.999    820.000      0.938\n",
      "     3         -1  (dbar)             -21    10     0     5     0     0   101      0.000      0.000      8.184      8.184      0.000\n",
      "     4          1  (d)                -21    11    11     5     0   101     0      0.000      0.000   -249.720    249.720      0.000\n",
      "     5         23  (Z0)               -22     3     4    12    12     0     0      0.000      0.000   -241.536    257.904     90.413\n",
      "     6         21  (g)                -31    14     0     8     9   103   104      0.000      0.000      0.094      0.094      0.000\n",
      "     7          2  (u)                -31    15    15     8     9   102     0      0.000      0.000   -308.628    308.628      0.000\n",
      "     8         21  (g)                -33     6     7    16    16   102   104      1.765      3.669    -53.009     53.165      0.000\n",
      "     9          2  (u)                -33     6     7    17    17   103     0     -1.765     -3.669   -255.524    255.557      0.330\n",
      "    10         -1  (dbar)             -41    70    70    13     3     0   105      0.000     -0.000     12.324     12.324      0.000\n",
      "    11          1  (d)                -42    71    71     4     4   101     0      0.000      0.000   -249.720    249.720      0.000\n",
      "    12         23  (Z0)               -44     5     5    72    72     0     0      3.132      0.382   -240.901    257.328     90.413\n",
      "    13         21  (g)                -43    10     0    73    73   101   105     -3.132     -0.382      3.505      4.716      0.000\n",
      "    14         21  (g)                -41    47    47    18     6   103   106      0.000      0.000      1.227      1.227      0.000\n",
      "    15          2  (u)                -42    41    41     7     7   102     0     -0.000     -0.000   -308.628    308.628      0.000\n",
      "    16         21  (g)                -44     8     8    19    20   102   104      3.997      4.541   -108.545    108.713      0.000\n",
      "    17          2  (u)                -44     9     9    77    77   103     0     -1.298     -3.487   -198.116    198.151      0.330\n",
      "    18         21  (g)                -43    14     0    21    21   104   106     -2.698     -1.053     -0.740      2.990      0.000\n",
      "    19         21  (g)                -51    16     0    39    40   102   107      2.790      4.914    -56.966     57.246      0.000\n",
      "    20         21  (g)                -51    16     0    42    43   107   104      1.058     -0.431    -51.619     51.632      0.000\n",
      "    21         21  (g)                -52    18    18    44    44   104   106     -2.550     -0.995     -0.699      2.825      0.000\n",
      "    22         21  (g)                -31    85    85    24    25   108   109      0.000      0.000      8.120      8.120      0.000\n",
      "    23         21  (g)                -31    86    86    24    25   110   108      0.000      0.000     -1.346      1.346      0.000\n",
      "    24         21  (g)                -33    22    23    87    87   110   111      1.105      0.888     -0.889      1.673      0.000\n",
      "    25         21  (g)                -33    22    23    88    88   111   109     -1.105     -0.888      7.663      7.793      0.000\n",
      "    26         21  (g)                -31    33    33    28    29   112   113      0.000      0.000      3.005      3.005      0.000\n",
      "    27         21  (g)                -31    34     0    28    29   113   114      0.000      0.000     -1.970      1.970      0.000\n",
      "    28         21  (g)                -33    26    27    32    32   112   115      1.373     -0.284      2.551      2.911      0.000\n",
      "    29         21  (g)                -33    26    27    30    31   115   114     -1.373      0.284     -1.515      2.064      0.000\n",
      "    30         21  (g)                -51    29     0    36    36   116   114     -1.046     -0.263      0.430      1.161      0.000\n",
      "    31         21  (g)                -51    29     0    37    37   115   116     -0.044      0.488     -1.420      1.503      0.000\n",
      "    32         21  (g)                -52    28    28    35    35   112   115      1.090     -0.226      2.025      2.311      0.000\n",
      "    33         21  (g)                -42    66    66    26    26   112   113      0.000     -0.000      3.005      3.005      0.000\n",
      "    34         21  (g)                -41    54    54    38    27   117   114      0.000     -0.000    -60.163     60.163      0.000\n",
      "    35         21  (g)                -44    32    32    61    62   112   115      1.154     -0.267      2.191      2.491      0.000\n",
      "    36         21  (g)                -44    30    30    52    53   116   114     -0.884     -0.369      0.217      0.983      0.000\n",
      "    37         21  (g)                -44    31    31    63    63   115   116      0.603      0.062     -1.471      1.591      0.000\n",
      "    38         21  (g)                -43    34     0    64    65   117   113     -0.872      0.575    -58.095     58.104      0.000\n",
      "    39         21  (g)                -51    19     0    76    76   118   107      1.632      4.733    -51.847     52.088      0.000\n",
      "    40         21  (g)                -51    19     0    80    80   102   118      1.158      0.180    -17.881     17.920      0.000\n",
      "    41          2  (u)                -53    75    75    15    15   102     0      0.000     -0.000   -321.390    321.390      0.000\n",
      "    42         21  (g)                -51    20     0    57    57   107   119      1.665     -0.209    -40.899     40.933      0.000\n",
      "    43         21  (g)                -51    20     0    55    56   119   104     -0.661     -0.243    -10.735     10.758      0.000\n",
      "    44         21  (g)                -52    21    21    45    46   104   106     -2.496     -0.974     -0.685      2.766      0.000\n",
      "    45         21  (g)                -51    44     0    58    59   104   120     -1.161     -0.237     -0.939      1.512      0.000\n",
      "    46         21  (g)                -51    44     0    82    82   120   106     -1.335     -0.738      0.664      1.663      0.000\n",
      "    47         21  (g)                -53    74    74    14    14   103   106      0.000      0.000      1.637      1.637      0.000\n",
      "    48         -1  (dbar)             -31    99    99    50    51     0   121      0.000      0.000      0.142      0.142      0.000\n",
      "    49         21  (g)                -31   100   100    50    51   123   122      0.000      0.000     -8.741      8.741      0.000\n",
      "    50         -1  (dbar)             -33    48    49   101   101     0   122     -0.712      0.315     -7.435      7.483      0.330\n",
      "    51         21  (g)                -33    48    49   102   102   123   121      0.712     -0.315     -1.163      1.400      0.000\n",
      "    52         21  (g)                -51    36     0    69    69   116   124     -0.179     -0.866     -0.292      0.932      0.000\n",
      "    53         21  (g)                -51    36     0    95    95   124   114     -0.705      0.497     -0.384      0.944      0.000\n",
      "    54         21  (g)                -53    90    90    34    34   117   114      0.000     -0.000    -61.057     61.057      0.000\n",
      "    55         21  (g)                -51    43     0    60    60   125   104     -0.488     -0.538     -8.988      9.017      0.000\n",
      "    56         21  (g)                -51    43     0    83    83   119   125      0.581      0.200    -20.251     20.260      0.000\n",
      "    57         21  (g)                -52    42    42    79    79   107   119      0.912     -0.114    -22.396     22.414      0.000\n",
      "    58         21  (g)                -51    45     0    78    78   126   120     -1.048     -0.314     -0.768      1.337      0.000\n",
      "    59         21  (g)                -51    45     0    84    84   104   126     -0.255     -0.080     -2.790      2.802      0.000\n",
      "    60         21  (g)                -52    55    55    81    81   125   104     -0.346     -0.381     -6.370      6.390      0.000\n",
      "    61         21  (g)                -51    35     0    91    91   112   127      0.957      0.367      1.771      2.046      0.000\n",
      "    62         21  (g)                -51    35     0    96    96   127   115      0.298     -0.624      0.173      0.713      0.000\n",
      "    63         21  (g)                -52    37    37    67    68   115   116      0.501      0.051     -1.223      1.323      0.000\n",
      "    64         21  (g)                -51    38     0    94    94   117   128     -0.932      0.019    -55.147     55.155      0.000\n",
      "    65         21  (g)                -51    38     0    97    97   128   113      0.060      0.557     -2.922      2.975      0.000\n",
      "    66         21  (g)                -53    89    89    33    33   112   113      0.000     -0.000      3.031      3.031      0.000\n",
      "    67         21  (g)                -51    63     0    93    93   115   129      0.196      0.289     -0.106      0.364      0.000\n",
      "    68         21  (g)                -51    63     0    98    98   129   116      0.202     -0.738     -1.287      1.497      0.000\n",
      "    69         21  (g)                -52    52    52    92    92   116   124     -0.076     -0.366     -0.124      0.394      0.000\n",
      "    70         -1  (dbar)             -61     1     0    10    10     0   105     -0.012     -1.061     12.292     12.338      0.000\n",
      "    71          1  (d)                -61     2     0    11    11   101     0     -4.262     -2.279   -249.972    250.019      0.000\n",
      "    72         23  (Z0)               -62    12    12   106   107     0     0     -1.127     -2.597   -241.184    257.589     90.413\n",
      "    73         21  g                   62    13    13     0     0   101   105     -3.147     -0.743      3.504      4.768      0.000\n",
      "    74         21  (g)                -61     1     0    47    47   105   106     -0.659     -0.518      1.523      1.739      0.000\n",
      "    75          2  (u)                -61     2     0    41    41   102     0      3.190      0.642   -321.764    321.781      0.000\n",
      "    76         21  g                   62    39    39     0     0   118   107      2.090      4.796    -50.823     51.092      0.000\n",
      "    77          2  u                   62    17    17     0     0   103     0      0.669     -3.095   -199.173    199.199      0.330\n",
      "    78         21  g                   62    58    58     0     0   126   120     -1.150     -0.401     -1.055      1.611      0.000\n",
      "    79         21  g                   62    57    57     0     0   107   119      1.129     -0.073    -22.252     22.281      0.000\n",
      "    80         21  g                   62    40    40     0     0   102   118      1.325      0.209    -17.635     17.686      0.000\n",
      "    81         21  g                   62    60    60     0     0   125   104     -0.286     -0.371     -6.510      6.527      0.000\n",
      "    82         21  g                   62    46    46     0     0   120   106     -1.795     -1.104      0.189      2.116      0.000\n",
      "    83         21  g                   62    56    56     0     0   119   125      0.779      0.239    -20.123     20.139      0.000\n",
      "    84         21  g                   62    59    59     0     0   104   126     -0.230     -0.076     -2.859      2.869      0.000\n",
      "    85         21  (g)                -61     1     0    22    22   106   109      1.410      0.227      8.369      8.490      0.000\n",
      "    86         21  (g)                -61     2     0    23    23   122   106      0.600      0.172     -1.276      1.420      0.000\n",
      "    87         21  g                   62    24    24     0     0   110   112      1.795      1.071     -0.608      2.177      0.000\n",
      "    88         21  g                   62    25    25     0     0   111   109      0.215     -0.672      7.701      7.733      0.000\n",
      "    89         21  (g)                -61     1     0    66    66   114   114     -1.853      1.616      2.550      3.543      0.000\n",
      "    90         21  (g)                -61     2     0    54    54   113   113      0.222      1.999    -61.190     61.223      0.000\n",
      "    91         21  g                   62    61    61     0     0   112   116     -0.212      1.388      1.670      2.182      0.000\n",
      "    92         21  g                   62    69    69     0     0   116   127     -0.155     -0.288     -0.077      0.337      0.000\n",
      "    93         21  g                   62    67    67     0     0   115   110      0.116      0.367     -0.139      0.409      0.000\n",
      "    94         21  g                   62    64    64     0     0   117   128     -0.733      1.830    -55.558     55.593      0.000\n",
      "    95         21  g                   62    53    53     0     0   124   115     -0.876      0.675     -0.771      1.348      0.000\n",
      "    96         21  g                   62    62    62     0     0   127   111      0.031     -0.386      0.349      0.521      0.000\n",
      "    97         21  g                   62    65    65     0     0   128   124      0.052      0.672     -3.053      3.127      0.000\n",
      "    98         21  g                   62    68    68     0     0   122   117      0.146     -0.643     -1.060      1.248      0.000\n",
      "    99         -1  (dbar)             -61     1     0    48    48     0   121      0.493     -1.111     -1.962      2.307      0.000\n",
      "   100         21  (g)                -61     2     0    49    49   121   122      0.559     -0.488     -9.366      9.396      0.000\n",
      "   101         -1  dbar                62    50    50     0     0     0   122     -0.270     -0.129     -6.064      6.080      0.330\n",
      "   102         21  g                   62    51    51     0     0   105   103      1.322     -1.469     -5.264      5.623      0.000\n",
      "   103      -2203  uu_1bar             63     1     0     0     0   121     0      0.216      0.587      1.284      1.623      0.771\n",
      "   104          1  d                   63     1     0     0     0   109     0      0.405      0.260      0.033      0.584      0.330\n",
      "   105          2  u                   63     2     0     0     0   106     0     -0.309     -0.046   -173.037    173.038      0.330\n",
      "   106         11  e-                  23    72     0     0     0     0     0    -43.660    -14.578   -113.661    122.628      0.001\n",
      "   107        -11  e+                  23    72     0     0     0     0     0     42.532     11.981   -127.522    134.961      0.001\n",
      "                                   Charge sum:  0.000           Momentum sum:     -0.000     -0.000   -792.515    847.500    300.292\n",
      "\n",
      " --------  End PYTHIA Event Listing  -----------------------------------------------------------------------------------------------\n",
      "\n",
      "\n",
      "Printed one event to output file event-settings.cmnd.dot\n",
      "Producing .ps figure by using the 'dot' command.\n",
      "Stored event visualization in file event-settings.cmnd.ps\n",
      "\n",
      "Created event visualization. Exiting event generation.\n",
      "\n"
     ]
    }
   ],
   "source": [
    "# Start pythia+dire.\n",
    "command = \"./pythia-examples/main300 --visualize_event --input \"+cmnd_file  #+ \">> /dev/null\"\n",
    "subprocess.call([\"bash\",\"-c\",command]);"
   ]
  },
  {
   "cell_type": "markdown",
   "metadata": {},
   "source": [
    "### Our pythia configuration"
   ]
  },
  {
   "cell_type": "code",
   "execution_count": 9,
   "metadata": {},
   "outputs": [],
   "source": [
    "def makePythiaSilent(pythia):\n",
    "    pythia.ReadString(\"Init:showMultipartonInteractions = off\")\n",
    "    pythia.ReadString(\"Init:showChangedParticleData = off\")\n",
    "    pythia.ReadString(\"Init:showProcesses = off\")\n",
    "    pythia.ReadString(\"Init:showChangedSettings = off\")\n",
    "    pythia.ReadString(\"Next:numberShowInfo = 0\")\n",
    "    pythia.ReadString(\"Next:numberShowProcess = 0\")\n",
    "    pythia.ReadString(\"Next:numberShowEvent = 0\")\n",
    "    pythia.ReadString(\"Next:numberCount = 0\")\n",
    "    pythia.ReadString(\"23:onMode = off\")    # disable decay of Z boson\n",
    "    pythia.ReadString(\"23:onIfAny = 11 -11\")    # enable decay of Z boson in channels containing electron and positon\n",
    "    \n",
    "\n",
    "pythia = ROOT.TPythia8(False)   # suppress the banner message\n",
    "makePythiaSilent(pythia)\n",
    "pythia.ReadString(\"HardQCD:all = on\")   # passing set of parameters, options in Pythia documentation; \n",
    "pythia.ReadString(\"Random:setSeed = on\")\n",
    "pythia.ReadString(\"Random:seed = 42\") # to ro randomize seed; while we give the same seed we will receive the same results\n",
    "pythia.Initialize(2212 , -2212 , 630)  # 2212 - proton in PDG codes, antiproton has a minus sign\n",
    "particles = ROOT.TClonesArray(\"TParticle\", 1000) #prepare space for generated particles\n",
    "\n",
    "# Warning about cross section violated is ok"
   ]
  },
  {
   "cell_type": "code",
   "execution_count": 10,
   "metadata": {},
   "outputs": [],
   "source": [
    "def isFinal(p,name=None):\n",
    "    if name==None:\n",
    "        return p.GetStatusCode()>0\n",
    "    else:\n",
    "        return p.GetStatusCode()>0 and p.GetName()==name\n",
    "\n",
    "\n",
    "def getMinv(pair):  # invariant mass of 2 particles\n",
    "    p4_1=ROOT.TLorentzVector()  # ROOT class to represent 4vectors\n",
    "    p4_2=ROOT.TLorentzVector()\n",
    "    pair[0].Momentum(p4_1)\n",
    "    pair[1].Momentum(p4_2)\n",
    "    p4=p4_1+p4_2\n",
    "    return p4.M()   # get mass of 4vector"
   ]
  },
  {
   "cell_type": "markdown",
   "metadata": {},
   "source": [
    "### My solution"
   ]
  },
  {
   "cell_type": "code",
   "execution_count": 11,
   "metadata": {},
   "outputs": [],
   "source": [
    "nEvents=10000\n",
    "pythia = ROOT.TPythia8(False)                       # false to suppress banner\n",
    "makePythiaSilent(pythia)                            # suppress most of pythia console output\n",
    "#pythia setup and initialization goes here\n",
    "particles = ROOT.TClonesArray(\"TParticle\", 1000)    # prepare space for generated particles\n",
    "\n",
    "#your solution goes here"
   ]
  },
  {
   "cell_type": "markdown",
   "metadata": {},
   "source": [
    "## First point"
   ]
  },
  {
   "cell_type": "code",
   "execution_count": 12,
   "metadata": {},
   "outputs": [
    {
     "ename": "out_of_range",
     "evalue": "void TPythia8::GenerateEvent() =>\n    out_of_range: vector::_M_range_check: __n (which is 0) >= this->size() (which is 0)",
     "output_type": "error",
     "traceback": [
      "\u001b[0;31m---------------------------------------------------------------------------\u001b[0m",
      "\u001b[0;31mout_of_range\u001b[0m                              Traceback (most recent call last)",
      "\u001b[0;32m<ipython-input-12-56dfb13ea818>\u001b[0m in \u001b[0;36m<module>\u001b[0;34m\u001b[0m\n\u001b[1;32m     15\u001b[0m     \u001b[0;32mreturn\u001b[0m \u001b[0mlist\u001b[0m\u001b[0;34m(\u001b[0m\u001b[0mit\u001b[0m\u001b[0;34m.\u001b[0m\u001b[0mproduct\u001b[0m\u001b[0;34m(\u001b[0m\u001b[0meminus\u001b[0m\u001b[0;34m,\u001b[0m\u001b[0meplus\u001b[0m\u001b[0;34m)\u001b[0m\u001b[0;34m)\u001b[0m   \u001b[0;31m# pair of electron and positon\u001b[0m\u001b[0;34m\u001b[0m\u001b[0;34m\u001b[0m\u001b[0m\n\u001b[1;32m     16\u001b[0m \u001b[0;34m\u001b[0m\u001b[0m\n\u001b[0;32m---> 17\u001b[0;31m \u001b[0mpythia\u001b[0m\u001b[0;34m.\u001b[0m\u001b[0mGenerateEvent\u001b[0m\u001b[0;34m(\u001b[0m\u001b[0;34m)\u001b[0m\u001b[0;34m\u001b[0m\u001b[0;34m\u001b[0m\u001b[0m\n\u001b[0m\u001b[1;32m     18\u001b[0m \u001b[0;34m\u001b[0m\u001b[0m\n\u001b[1;32m     19\u001b[0m \u001b[0;32mfor\u001b[0m \u001b[0mi\u001b[0m \u001b[0;32min\u001b[0m \u001b[0mrange\u001b[0m\u001b[0;34m(\u001b[0m\u001b[0mnEvents\u001b[0m\u001b[0;34m)\u001b[0m\u001b[0;34m:\u001b[0m\u001b[0;34m\u001b[0m\u001b[0;34m\u001b[0m\u001b[0m\n",
      "\u001b[0;31mout_of_range\u001b[0m: void TPythia8::GenerateEvent() =>\n    out_of_range: vector::_M_range_check: __n (which is 0) >= this->size() (which is 0)"
     ]
    }
   ],
   "source": [
    "nEvents=10000\n",
    "parts=[\"electron\", \"antielectron\", \"gamma\"]     # our particles\n",
    "labels={\"electron\": \"#e\", \"antielectron\": \"#e^{+}\", \"gamma\" : \"#gamma\"}\n",
    "colors={\"proton\": ROOT.kBlack, \"antielectron\": ROOT.kBlue, \"gamma\": ROOT.kMagenta}\n",
    "heta={}\n",
    "hpt={}\n",
    "\n",
    "h=ROOT.TH1D(\"h_all\",\"\",300, 70, 110)    # histograms start\n",
    "hpure=ROOT.TH1D(\"h_pure\",\"\",300, 70, 110)\n",
    "\n",
    "\n",
    "def getKstarCandidates(parts):\n",
    "    eminus = [p for p in parts if isFinal(p,\"e\")]    # creates list\n",
    "    eplus = [p for p in parts if isFinal(p,\"e^{+}\")]\n",
    "    return list(it.product(eminus,eplus))   # pair of electron and positon\n",
    "\n",
    "pythia.GenerateEvent()\n",
    "\n",
    "for i in range(nEvents):\n",
    "    pythia.GenerateEvent()\n",
    "    pythia.ImportParticles(particles,\"All\")\n",
    "    #for all possible pi- K+ pairs we fill invariant mass histogram\n",
    "    for pair in getKstarCandidates(particles):\n",
    "        h.Fill(getMinv(pair))\n",
    "    #now we look for actual K*'s that decayed:\n",
    "    for p in particles:\n",
    "        if p.GetName()==\"Z0\":\n",
    "            #we accept K* only if it decayed to pion and kaon\n",
    "            d0=particles[p.GetDaughter(0)].GetName()\n",
    "            d1=particles[p.GetDaughter(1)].GetName()\n",
    "            if {d0,d1} != {\"e\",\"e^{+}\"}:     # curly braces represent set datatype in python\n",
    "                continue\n",
    "            p4=ROOT.TLorentzVector()\n",
    "            p.Momentum(p4)\n",
    "            hpure.Fill(p4.M())\n",
    "\n",
    "\n",
    "# Warnings are ok"
   ]
  },
  {
   "cell_type": "code",
   "execution_count": 44,
   "metadata": {},
   "outputs": [
    {
     "ename": "out_of_range",
     "evalue": "void TPythia8::GenerateEvent() =>\n    out_of_range: vector::_M_range_check: __n (which is 0) >= this->size() (which is 0)",
     "output_type": "error",
     "traceback": [
      "\u001b[0;31m---------------------------------------------------------------------------\u001b[0m",
      "\u001b[0;31mout_of_range\u001b[0m                              Traceback (most recent call last)",
      "\u001b[0;32m<ipython-input-44-928bf08607fa>\u001b[0m in \u001b[0;36m<module>\u001b[0;34m\u001b[0m\n\u001b[1;32m     13\u001b[0m \u001b[0;31m#generate events\u001b[0m\u001b[0;34m\u001b[0m\u001b[0;34m\u001b[0m\u001b[0m\n\u001b[1;32m     14\u001b[0m \u001b[0;32mfor\u001b[0m \u001b[0mi\u001b[0m \u001b[0;32min\u001b[0m \u001b[0mrange\u001b[0m\u001b[0;34m(\u001b[0m\u001b[0mnEvents\u001b[0m\u001b[0;34m)\u001b[0m\u001b[0;34m:\u001b[0m\u001b[0;34m\u001b[0m\u001b[0;34m\u001b[0m\u001b[0m\n\u001b[0;32m---> 15\u001b[0;31m     \u001b[0mpythia\u001b[0m\u001b[0;34m.\u001b[0m\u001b[0mGenerateEvent\u001b[0m\u001b[0;34m(\u001b[0m\u001b[0;34m)\u001b[0m\u001b[0;34m\u001b[0m\u001b[0;34m\u001b[0m\u001b[0m\n\u001b[0m\u001b[1;32m     16\u001b[0m     \u001b[0mpythia\u001b[0m\u001b[0;34m.\u001b[0m\u001b[0mImportParticles\u001b[0m\u001b[0;34m(\u001b[0m\u001b[0mparticles\u001b[0m\u001b[0;34m,\u001b[0m\u001b[0;34m\"All\"\u001b[0m\u001b[0;34m)\u001b[0m\u001b[0;34m\u001b[0m\u001b[0;34m\u001b[0m\u001b[0m\n\u001b[1;32m     17\u001b[0m     \u001b[0;32mfor\u001b[0m \u001b[0mp\u001b[0m \u001b[0;32min\u001b[0m \u001b[0mparticles\u001b[0m\u001b[0;34m:\u001b[0m\u001b[0;34m\u001b[0m\u001b[0;34m\u001b[0m\u001b[0m\n",
      "\u001b[0;31mout_of_range\u001b[0m: void TPythia8::GenerateEvent() =>\n    out_of_range: vector::_M_range_check: __n (which is 0) >= this->size() (which is 0)"
     ]
    }
   ],
   "source": [
    "for p in parts:\n",
    "    heta[p]=ROOT.TH1D(\"eta\"+p,\"\",120,-12,12)\n",
    "    heta[p].Sumw2()\n",
    "    hpt[p]=ROOT.TH1D(\"pt\"+p,\"\",50,0,10)\n",
    "    hpt[p].Sumw2()\n",
    "\n",
    "def fillHistos(p):\n",
    "    name=p.GetName()\n",
    "    if name in parts:\n",
    "        heta[name].Fill(p.Eta())\n",
    "        hpt[name].Fill(p.Pt(),1/(p.Pt()))   # weighted histograms\n",
    "\n",
    "#generate events\n",
    "for i in range(nEvents):\n",
    "    pythia.GenerateEvent()\n",
    "    pythia.ImportParticles(particles,\"All\")\n",
    "    for p in particles:\n",
    "        if isFinal(p):\n",
    "            fillHistos(p)\n",
    "#format and normalize histograms, find ranges on y axes\n",
    "maxeta=0\n",
    "maxpt=0\n",
    "# decoration\n",
    "for p in parts:\n",
    "    heta[p].SetMarkerStyle(ROOT.kFullCircle)\n",
    "    heta[p].SetMarkerColor(colors[p])\n",
    "    bw=heta[p].GetBinWidth(1)       # bin width\n",
    "    heta[p].Scale(1./(bw*nEvents))\n",
    "    maxeta=max(maxeta,heta[p].GetMaximum())\n",
    "    \n",
    "    hpt[p].SetMarkerStyle(ROOT.kFullCircle)\n",
    "    hpt[p].SetMarkerColor(colors[p])\n",
    "    bw=hpt[p].GetBinWidth(1)\n",
    "    hpt[p].Scale(1./(bw*nEvents))\n",
    "    maxpt=max(maxpt,hpt[p].GetMaximum())\n",
    "    \n",
    "# Warnings are ok"
   ]
  }
 ],
 "metadata": {
  "interpreter": {
   "hash": "31f2aee4e71d21fbe5cf8b01ff0e069b9275f58929596ceb00d14d90e3e16cd6"
  },
  "kernelspec": {
   "display_name": "Python 3.9.7 64-bit",
   "language": "python",
   "name": "python3"
  },
  "language_info": {
   "codemirror_mode": {
    "name": "ipython",
    "version": 3
   },
   "file_extension": ".py",
   "mimetype": "text/x-python",
   "name": "python",
   "nbconvert_exporter": "python",
   "pygments_lexer": "ipython3",
   "version": "3.9.7"
  },
  "orig_nbformat": 4
 },
 "nbformat": 4,
 "nbformat_minor": 2
}
