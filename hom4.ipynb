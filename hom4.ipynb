{
 "cells": [
  {
   "cell_type": "markdown",
   "metadata": {},
   "source": [
    "## Homework"
   ]
  },
  {
   "cell_type": "code",
   "execution_count": 1,
   "metadata": {},
   "outputs": [
    {
     "name": "stdout",
     "output_type": "stream",
     "text": [
      "Welcome to JupyROOT 6.24/04\n"
     ]
    }
   ],
   "source": [
    "import math\n",
    "from ROOT import *\n",
    "import numpy as np\n",
    "\n",
    "# For inline image display\n",
    "from IPython.display import Image"
   ]
  },
  {
   "cell_type": "code",
   "execution_count": 2,
   "metadata": {},
   "outputs": [],
   "source": [
    "# Set ROOT graphics options\n",
    "\n",
    "gROOT.SetStyle(\"Plain\")\n",
    "\n",
    "# Default canvas  size\n",
    "\n",
    "gStyle.SetCanvasDefW(600)\n",
    "gStyle.SetCanvasDefH(400)\n",
    " \n",
    "# set the margins\n",
    "  \n",
    "gStyle.SetPadBottomMargin(0.18)\n",
    "gStyle.SetPadTopMargin(0.08)\n",
    "gStyle.SetPadRightMargin(0.08)\n",
    "gStyle.SetPadLeftMargin(0.17)\n",
    "\n",
    "# set the number of divisions to show\n",
    "\n",
    "gStyle.SetNdivisions(510, \"xy\")\n",
    "\n",
    "# show grid\n",
    "\n",
    "gStyle.SetPadGridX(1)\n",
    "gStyle.SetPadGridY(1)\n",
    "\n",
    "# border ploted only around statistics\n",
    "\n",
    "gStyle.SetPadBorderMode(0)\n",
    "gStyle.SetFrameBorderMode(0)\n",
    "gStyle.SetLegendBorderSize(0)\n",
    "gStyle.SetTitleBorderSize(0)\n",
    "gStyle.SetStatBorderSize(1)\n",
    "\n",
    "# Text sizes\n",
    "\n",
    "gStyle.SetTextSize(0.05)\n",
    "gStyle.SetTitleSize(0.06,\"xyz\")\n",
    "gStyle.SetLabelSize(0.05,\"xyz\")\n",
    "\n",
    "gStyle.SetLabelOffset(0.015,\"xyz\")\n",
    "gStyle.SetTitleOffset(1.2,\"yz\")\n",
    "gStyle.SetTitleOffset(1.0,\"x\")\n",
    "\n",
    "# Font settings\n",
    "\n",
    "font = 42\n",
    "gStyle.SetTitleFont(font)\n",
    "gStyle.SetTitleFontSize(0.05)\n",
    "gStyle.SetStatFont(font)\n",
    "gStyle.SetStatFontSize(0.06)\n",
    "gStyle.SetTextFont(font)\n",
    "gStyle.SetLabelFont(font,\"xyz\")\n",
    "gStyle.SetTitleFont(font,\"xyz\")\n",
    "gStyle.SetLegendFont(font)\n",
    "\n",
    "# Line settings\n",
    "\n",
    "gStyle.SetHistLineWidth(2)\n",
    "gStyle.SetFrameLineWidth(2)\n",
    "gStyle.SetFuncWidth(2)\n",
    "gStyle.SetHistLineColor(kBlue)\n",
    "gStyle.SetFuncColor(kRed)\n",
    "\n",
    "# Log scale\n",
    "gStyle.SetOptLogy(0)    # 0 no log y scale, 1 log y scale\n",
    "\n",
    "# Histogram title\n",
    "gStyle.SetOptTitle(1)  \n",
    "\n",
    "# Histogram statistics\n",
    "gStyle.SetOptStat(1100)\n",
    "\n",
    "# Fit results\n",
    "gStyle.SetOptFit(0) \n"
   ]
  },
  {
   "cell_type": "code",
   "execution_count": 3,
   "metadata": {},
   "outputs": [],
   "source": [
    "# Class for single shower particle\n",
    "\n",
    "class shParticle:\n",
    "    'Particle of the EM shower (in 1D)'\n",
    "    E = 0.0     # initial energy\n",
    "    q = 0       # charge\n",
    "    xmin = 0.0\n",
    "    xmax = 0.0\n",
    "    \n",
    "    def __init__(self,E,q,xmin):\n",
    "        self.E = E\n",
    "        self.q = q\n",
    "        self.xmin = xmin\n",
    "        self.xmax = xmin\n",
    "        \n",
    "    def __str__(self):\n",
    "        if self.xmin == self.xmax :\n",
    "            return 'E = %g   q = % g    created at X = %g [X0]' % (self.E, self.q, self.xmin)\n",
    "        else :\n",
    "            return 'E = %g   q = % g    propagated from X = %g to %g  [X0]' % (self.E, self.q, self.xmin, self.xmax)\n",
    "        \n",
    "    def setlen(self,shlen):     # define endpoint of the particle; length after it decays\n",
    "        self.xmax = self.xmin + shlen\n",
    " \n",
    "    def getlen(self):       # define start of the particle\n",
    "        return self.xmax - self.xmin\n",
    "    \n",
    "    def getsamp(self,dX):   # tells how long the track of the particle is in quantized manner\n",
    "        i1 = int(self.xmin/dX)\n",
    "        i2 = int(self.xmax/dX)\n",
    "        return i2-i1\n"
   ]
  },
  {
   "cell_type": "code",
   "execution_count": 4,
   "metadata": {},
   "outputs": [],
   "source": [
    "# EM shower class\n",
    "\n",
    "class emShower:\n",
    "    'Model of EM shower development'\n",
    "\n",
    "    def __init__(self,E0,q0,x0):\n",
    "        # initialize with input particle\n",
    "        self.shower = []    # collection of particles\n",
    "        self.shower.append(shParticle(E0,q0,x0))\n",
    "        # only propagated particles are counted\n",
    "        # so set counters to zero at that point\n",
    "        self.npar = 0  \n",
    "        self.nch = 0    # number of charged particles\n",
    "        self.chlen = 0.0\n",
    "        self.eloss = 0.0\n",
    "\n",
    "    def __str__(self):\n",
    "        return 'Shower with %d particles, %d charged, total track lenght %g X0, energy loss %g GeV' % (self.npar, self.nch, self.chlen, self.eloss)\n",
    "    \n",
    "    def develope(self,Ec,dEdx=0.0):\n",
    "        # consider increasing number of particles in the shower\n",
    "        for par in self.shower :\n",
    "            # conversion/radiation length [X0]\n",
    "            if par.q == 0 :     # check if it is charged\n",
    "                intlen = 9.0/7.0\n",
    "            else :  \n",
    "                intlen = 1.0    # electron positron\n",
    "               \n",
    "            # generate conversion/radiation point\n",
    "            \n",
    "            shlen = np.random.exponential(intlen)\n",
    "            \n",
    "            # check energy loss of particle\n",
    "            \n",
    "            elen = 0\n",
    "            \n",
    "            if par.q != 0 and dEdx > 0 :\n",
    "                elen = shlen * dEdx\n",
    "                if elen > par.E :\n",
    "                    shlen = par.E/dEdx\n",
    "                    elen = par.E\n",
    "            \n",
    "            # propagate particle to this point\n",
    "            \n",
    "            par.setlen(shlen)\n",
    "            self.npar+=1\n",
    "            if par.q != 0 :\n",
    "                self.nch+=1\n",
    "                self.chlen+=shlen\n",
    "                self.eloss+=elen\n",
    "\n",
    "            # Energy at the final point\n",
    "            \n",
    "            Eleft = par.E - elen\n",
    "            \n",
    "            # Final point - origin for new particles\n",
    "            \n",
    "            xnew = par.xmax \n",
    "           \n",
    "            # If above critical energy:\n",
    "            #   convert gamma to two photons or radiate photon\n",
    "            if Eleft > Ec :\n",
    "                E1 = Eleft * np.random.random(1)    #  Very siplified energy splitting\n",
    "                E2 = Eleft - E1\n",
    "                if par.q == 0 :     # if it is photons\n",
    "                    self.shower.append(shParticle(E1,+1,xnew))\n",
    "                    self.shower.append(shParticle(E2,-1,xnew))\n",
    "                else:       # electron positron\n",
    "                    self.shower.append(shParticle(E1,par.q,xnew))\n",
    "                    self.shower.append(shParticle(E2,0,xnew))\n",
    "                    \n",
    "    def sample(self,Xsamp):     # calculate how many samples are from the shower\n",
    "        nsamp = 0\n",
    "        for par in self.shower:\n",
    "            if par.q != 0 :\n",
    "                nsamp += par.getsamp(Xsamp)\n",
    "        return nsamp\n",
    "\n",
    "    def profile(self,Nbin,Xmax):        # shape of the shower as the histogram\n",
    "        hprof = TH1D(\"hprof\",\"Shower profile\",Nbin, 0, Xmax)\n",
    "        hprof.GetXaxis().SetTitle(\"x [X0]\")\n",
    "        hprof.GetYaxis().SetTitle(\"Particles\")\n",
    "        dX=Xmax/Nbin\n",
    "        for par in self.shower:\n",
    "            if par.q != 0 :\n",
    "                nx = par.getsamp(dX)\n",
    "                for ix in range(nx):\n",
    "                    hprof.Fill(par.xmin+ix*dX)\n",
    "        return hprof\n",
    "    \n",
    "    def dump(self,Nprt):\n",
    "        for iprt in range(Nprt):\n",
    "            print(self.shower[iprt])\n",
    "            "
   ]
  },
  {
   "cell_type": "code",
   "execution_count": 5,
   "metadata": {},
   "outputs": [
    {
     "name": "stdout",
     "output_type": "stream",
     "text": [
      "E = 1   q = -1    created at X = 0 [X0]\n",
      "E = 1   q = -1    propagated from X = 0 to 0.0786194  [X0]\n",
      "E = 0.704711   q = -1    propagated from X = 0.0786194 to 0.418879  [X0]\n",
      "E = 0.293874   q =  0    propagated from X = 0.0786194 to 0.713913  [X0]\n",
      "E = 0.631151   q = -1    propagated from X = 0.418879 to 0.454115  [X0]\n",
      "E = 0.0674351   q =  0    propagated from X = 0.418879 to 0.655486  [X0]\n",
      "E = 0.0726031   q =  1    propagated from X = 0.713913 to 3.83396  [X0]\n",
      "E = 0.221271   q = -1    propagated from X = 0.713913 to 1.42537  [X0]\n",
      "E = 0.276807   q = -1    propagated from X = 0.454115 to 0.534122  [X0]\n",
      "E = 0.35371   q =  0    propagated from X = 0.454115 to 0.976474  [X0]\n",
      "E = 0.0285531   q =  1    propagated from X = 0.655486 to 0.777074  [X0]\n",
      "E = 0.038882   q = -1    propagated from X = 0.655486 to 1.91158  [X0]\n",
      "E = 0.139699   q = -1    propagated from X = 1.42537 to 2.08575  [X0]\n",
      "E = 0.0687655   q =  0    propagated from X = 1.42537 to 1.5386  [X0]\n",
      "E = 0.121038   q = -1    propagated from X = 0.534122 to 1.60151  [X0]\n",
      "E = 0.154329   q =  0    propagated from X = 0.534122 to 0.958151  [X0]\n",
      "E = 0.34745   q =  1    propagated from X = 0.976474 to 1.10805  [X0]\n",
      "E = 0.00626015   q = -1    propagated from X = 0.976474 to 1.32426  [X0]\n",
      "E = 0.0175241   q =  1    propagated from X = 0.777074 to 0.787389  [X0]\n",
      "E = 0.00884041   q =  0    propagated from X = 0.777074 to 1.02462  [X0]\n",
      "E = 0.0591714   q = -1    propagated from X = 2.08575 to 2.47571  [X0]\n",
      "Shower with 103 particles, 72 charged, total track lenght 40.8682 X0, energy loss 0.735627 GeV\n",
      "Shower with  103  particles,  72  charged particles\n",
      "Total length of charged particle tracks:  [40.8681879]\n"
     ]
    }
   ],
   "source": [
    "#  Incident particle\n",
    "\n",
    "E0 = 1.\n",
    "q0 = -1\n",
    "\n",
    "# Initialise shower with incident particle\n",
    "\n",
    "myshower = emShower(E0,q0,0.)\n",
    "\n",
    "print(myshower.shower[0])\n",
    "\n",
    "# Critical energy [GeV] for Copper\n",
    "\n",
    "Ec = 0.020\n",
    "\n",
    "# Ionization losses [GeV/X0] for Copper (MIP)\n",
    "\n",
    "dEdx = 0.018\n",
    "\n",
    "# Execute shower development procedure\n",
    "\n",
    "myshower.develope(Ec,dEdx)\n",
    "\n",
    "# Test shower dump (first 10 rows)\n",
    "\n",
    "myshower.dump(20)      # create particles in shower\n",
    "print(myshower)         # summary\n",
    "\n",
    "# Other useful  information about our shower\n",
    "# Direct access to shower information\n",
    "# Can be used to model response of the uniform calorimeter\n",
    "\n",
    "print('Shower with ',myshower.npar,' particles, ',myshower.nch,' charged particles')\n",
    "print('Total length of charged particle tracks: ',myshower.chlen)"
   ]
  },
  {
   "cell_type": "markdown",
   "metadata": {},
   "source": [
    "Let's calculate all energies from shower"
   ]
  },
  {
   "cell_type": "code",
   "execution_count": 6,
   "metadata": {},
   "outputs": [
    {
     "name": "stdout",
     "output_type": "stream",
     "text": [
      "[1.3242605] 16\n"
     ]
    }
   ],
   "source": [
    "semE = 0\n",
    "\n",
    "for i in range(2, myshower.npar):\n",
    "    e = myshower.shower[i].E\n",
    "\n",
    "    if e < 0.01:\n",
    "        print(myshower.shower[i].xmax, i)\n",
    "        break\n",
    "    "
   ]
  },
  {
   "cell_type": "code",
   "execution_count": 7,
   "metadata": {},
   "outputs": [
    {
     "data": {
      "image/png": "[encoded data removed]",
      "text/plain": [
       "<IPython.core.display.Image object>"
      ]
     },
     "execution_count": 7,
     "metadata": {},
     "output_type": "execute_result"
    },
    {
     "name": "stderr",
     "output_type": "stream",
     "text": [
      "Info in <TCanvas::Print>: png file shprofile.png has been created\n"
     ]
    }
   ],
   "source": [
    "# Histogram of the longitudinal shower profile\n",
    "\n",
    "Xmax = 50.\n",
    "Nprof = 200\n",
    "\n",
    "shprofile=myshower.profile(Nprof,Xmax)\n",
    "\n",
    "# res = shprofile.Fit(fitfunc, \"s\")\n",
    "\n",
    "csh = TCanvas('csh')\n",
    "\n",
    "shprofile.DrawCopy()\n",
    "\n",
    "csh.Update()\n",
    "csh.Print('shprofile.png')\n",
    "\n",
    "Image(filename='shprofile.png')"
   ]
  },
  {
   "cell_type": "code",
   "execution_count": 8,
   "metadata": {},
   "outputs": [
    {
     "name": "stdout",
     "output_type": "stream",
     "text": [
      "100  showers generated  79  particles\n",
      "200  showers generated  101  particles\n",
      "300  showers generated  83  particles\n",
      "400  showers generated  89  particles\n",
      "500  showers generated  107  particles\n",
      "600  showers generated  93  particles\n",
      "700  showers generated  81  particles\n",
      "800  showers generated  87  particles\n",
      "900  showers generated  93  particles\n",
      "1000  showers generated  83  particles\n"
     ]
    }
   ],
   "source": [
    "# Repeat shower simulation multiple times\n",
    "# work\n",
    "\n",
    "avprofile=shprofile\n",
    "avprofile.SetNameTitle(\"havprof\",\"Average shower profile\")\n",
    "avprofile.Reset()\n",
    "\n",
    "Nmc = 1000\n",
    "myshowers = []\n",
    "\n",
    "for imc in range(Nmc):\n",
    "    newshower = emShower(E0,q0,0.1)\n",
    "    newshower.develope(Ec,dEdx)\n",
    "    myshowers.append(newshower)\n",
    "    if (imc+1)%100 == 0:\n",
    "        print(imc+1,' showers generated ',myshowers[imc].npar,' particles')"
   ]
  },
  {
   "cell_type": "code",
   "execution_count": 9,
   "metadata": {},
   "outputs": [
    {
     "data": {
      "image/png": "[encoded data removed]",
      "text/plain": [
       "<IPython.core.display.Image object>"
      ]
     },
     "execution_count": 9,
     "metadata": {},
     "output_type": "execute_result"
    },
    {
     "name": "stderr",
     "output_type": "stream",
     "text": [
      "Info in <TCanvas::Print>: png file avprofile.png has been created\n"
     ]
    }
   ],
   "source": [
    "# Average generated showers\n",
    "\n",
    "wmc = 1/Nmc\n",
    "\n",
    "for newshower in myshowers:\n",
    "    newprofile=newshower.profile(Nprof,Xmax)\n",
    "#    newprofile=myshowers[imc].profile(Nprof,Xmax)\n",
    "    avprofile.Add(newprofile,wmc)\n",
    "    newprofile.Delete()\n",
    "\n",
    "csh2 = TCanvas('csh2')\n",
    "\n",
    "avprofile.DrawCopy()\n",
    "# avprofile.Fit(fitfunc)\n",
    "\n",
    "csh2.Update()\n",
    "csh2.Print('avprofile.png')\n",
    "\n",
    "Image(filename='avprofile.png')"
   ]
  },
  {
   "cell_type": "code",
   "execution_count": 10,
   "metadata": {},
   "outputs": [
    {
     "name": "stdout",
     "output_type": "stream",
     "text": [
      "Fit results: \n",
      " X maximum position: 4.608743406574142\n",
      " Y maximum position: 5.420147291563178\n",
      " Sigma: 2.8964119592959516\n"
     ]
    },
    {
     "name": "stderr",
     "output_type": "stream",
     "text": [
      "<ipython-input-10-18dc85c777b0>:7: RuntimeWarning: divide by zero encountered in log\n",
      "  tmp = y0 * np.exp(- (x0 / sigma) ** 2 * (((x - x0) / x0) - np.log(x / x0)))\n",
      "Info in <TCanvas::Print>: png file avprofile.png has been created\n"
     ]
    }
   ],
   "source": [
    "class myfunc:   # fit function as a class\n",
    "    def __call__( self, t, par ):\n",
    "        x0 = par[0] # x center\n",
    "        y0 = par[1] #y center\n",
    "        sigma = par[2] #sigma\n",
    "        x = t[0]   \n",
    "        tmp = y0 * np.exp(- (x0 / sigma) ** 2 * (((x - x0) / x0) - np.log(x / x0)))\n",
    "        return tmp\n",
    "\n",
    "fitrangestart = 0.1   \n",
    "fitrangeend = 50\n",
    "\n",
    "parN = 3    # number of fit parameters \n",
    "\n",
    "pycallable = myfunc()\n",
    "\n",
    "func = TF1(\"func\", pycallable, fitrangestart, fitrangeend, parN)    # initialization of fitting function\n",
    "func.SetParameters(11, 60, 6)     # setting parameters for our function\n",
    "\n",
    "avprofile.Fit(func, 'Q')\n",
    "# \n",
    "\n",
    "fitresult = func.GetParameters()\n",
    "\n",
    "leg=TLegend(0.7,0.8,0.9,0.9)\n",
    "leg.AddEntry(avprofile,\"Shower data\")\n",
    "leg.AddEntry(func,\"Fitting function\")\n",
    "leg.Draw()\n",
    "\n",
    "csh2.Update()\n",
    "csh2.Print('avprofile.png')\n",
    "# \n",
    "Image(filename='avprofile.png')\n",
    "\n",
    "print(\"Fit results: \\n X maximum position: \" + str(fitresult[0]) + \"\\n Y maximum position: \" + str(fitresult[1]) + \"\\n Sigma: \" + str(fitresult[2]))\n",
    "\n"
   ]
  },
  {
   "cell_type": "markdown",
   "metadata": {},
   "source": [
    "I have found probably a way to find calorimeter depth. I have to check for what value xmax the integral is 99 percent of whole integral"
   ]
  },
  {
   "cell_type": "code",
   "execution_count": 21,
   "metadata": {},
   "outputs": [
    {
     "data": {
      "text/plain": [
       "32.85276171691548"
      ]
     },
     "execution_count": 21,
     "metadata": {},
     "output_type": "execute_result"
    }
   ],
   "source": [
    "import matplotlib.pyplot as plt\n",
    "from scipy import integrate\n",
    "\n",
    "def intfunc(x, x0, y0, sigma):\n",
    "    return y0 * np.exp(- (x0 / sigma) ** 2 * (((x - x0) / x0) - np.log(x / x0)))\n",
    "\n",
    "x = np.linspace(1, 40, 100)\n",
    "x0 = 4.5\n",
    "y0 = 5.4\n",
    "sigma = 3\n",
    "\n",
    "y = intfunc(x, x0, y0, sigma)\n",
    "\n",
    "b = integrate.quad(intfunc, 1, , args=(x0, y0, sigma))\n",
    "b[0]\n",
    "\n",
    "# plt.plot(x, y)\n",
    "# plt.savefig('new.png')\n",
    "# plt.show()"
   ]
  },
  {
   "cell_type": "code",
   "execution_count": null,
   "metadata": {},
   "outputs": [],
   "source": []
  }
 ],
 "metadata": {
  "interpreter": {
   "hash": "31f2aee4e71d21fbe5cf8b01ff0e069b9275f58929596ceb00d14d90e3e16cd6"
  },
  "kernelspec": {
   "display_name": "Python 3.9.7 64-bit",
   "language": "python",
   "name": "python3"
  },
  "language_info": {
   "codemirror_mode": {
    "name": "ipython",
    "version": 3
   },
   "file_extension": ".py",
   "mimetype": "text/x-python",
   "name": "python",
   "nbconvert_exporter": "python",
   "pygments_lexer": "ipython3",
   "version": "3.9.7"
  },
  "orig_nbformat": 4
 },
 "nbformat": 4,
 "nbformat_minor": 2
}
