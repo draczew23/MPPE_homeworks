{
 "cells": [
  {
   "cell_type": "markdown",
   "metadata": {},
   "source": [
    "# DAQ - data compression\n",
    "Auhtor: Piotr Podlaski"
   ]
  },
  {
   "cell_type": "code",
   "execution_count": null,
   "metadata": {},
   "outputs": [],
   "source": [
    "import numpy as np\n",
    "from ROOT import *\n",
    "gStyle.SetPalette(55)\n",
    "gStyle.SetOptStat(0)\n",
    "\n",
    "import os\n",
    "                  \n",
    "%jsroot on"
   ]
  },
  {
   "cell_type": "markdown",
   "metadata": {},
   "source": [
    "## Pixel detectors with binary information about the hits (0-no hit, 1-hit)"
   ]
  },
  {
   "cell_type": "markdown",
   "metadata": {},
   "source": [
    "### Example: \n",
    "* write a function to generate square pixel matrix of arbitrary size $N$, filled randomly with occupancy $O$. \n",
    "* write a function that will fill the 2-dimensional histogram with pixel values to visualize the generated sensor data\n",
    "* test operation of your code for different sensor sizes and occupacies\n",
    "* write a function that checks size of a file\n",
    "* write the array to a text file and check its size for $N=1000$"
   ]
  },
  {
   "cell_type": "code",
   "execution_count": null,
   "metadata": {},
   "outputs": [],
   "source": [
    "def generateRandomMatrix(nPoints, O):   # o represents occupancy\n",
    "    selected=np.random.random((N,N))<O\n",
    "    data=np.zeros((N,N))\n",
    "    data[selected]=1\n",
    "    return data\n",
    "\n",
    "def fillSensorHisto(h,data):\n",
    "    for i in range(len(data)):\n",
    "        for j in range(len(data[i])):\n",
    "            if data[i,j]:\n",
    "                h.Fill(j,i,)\n",
    "def getFileSize(fname):\n",
    "    return os.path.getsize(fname)\n",
    "\n"
   ]
  },
  {
   "cell_type": "code",
   "execution_count": null,
   "metadata": {},
   "outputs": [],
   "source": [
    "N=1000 # size of the array\n",
    "O=0.01 #occupancy\n",
    "\n",
    "data=generateRandomMatrix(N,O)\n",
    "hSensor=TH2I(\"hSensor,\",\"pixel distribution\",N,0,N,N,0,N)\n",
    "fillSensorHisto(hSensor,data)\n",
    "\n",
    "#drawing:\n",
    "c=TCanvas(\"c\",\"dd\",1024,768)\n",
    "hSensor.Draw(\"colz\")\n",
    "c.Draw()\n",
    "\n",
    "\n",
    "fname='./data.txt'\n",
    "np.savetxt(fname, data, fmt='%d',delimiter='')  # %d is decimal\n",
    "fullSize=getFileSize(fname)\n",
    "print(\"Size of full sensor data file: {}\" .format(fullSize))"
   ]
  },
  {
   "cell_type": "markdown",
   "metadata": {},
   "source": [
    "### Task:\n",
    "* write to a file only coordinates of pixels that have signal and check file size, typically numbers represented by a fixed number of bits are used to store information, to mimic this use zero-padded 3-digit intigers to describe position in a sensor (e.g. instead of 3 we write 003)\n",
    "* read the data from the file and compare resulting 2D array with the original one"
   ]
  },
  {
   "cell_type": "code",
   "execution_count": null,
   "metadata": {},
   "outputs": [],
   "source": [
    "fnameCoord='data_coord.txt'\n",
    "dataCoord=np.transpose(np.nonzero(data))    # list of coordinates that are non zero; %03d is the format to have 3 leading zeros before our number\n",
    "print(dataCoord)\n",
    "\n",
    "#save data here:\n",
    "np.savetxt(fnameCoord, dataCoord, fmt='%03d',delimiter='')  # %d is decimal\n",
    "nonzerosize=getFileSize(fnameCoord)     # get file size\n",
    "\n",
    "print(nonzerosize)\n",
    "\n",
    "data_read=np.zeros((N,N))\n",
    "with open(fnameCoord,'r') as f:\n",
    "    for l in f.read().splitlines():\n",
    "        strsplit = l.split()\n",
    "        print(strsplit)\n",
    "\n",
    "np.array_equal(data,data_read)\n",
    "\n",
    "# B represents number of characters in one line in file data_coord.txt \n",
    "\n",
    "B = 7\n",
    "onew = (N ** 2 + N) / (B * N ** 2)\n",
    "onew"
   ]
  },
  {
   "cell_type": "markdown",
   "metadata": {},
   "source": [
    "$o < \\frac{N^2 + N}{BN^2}$\n",
    "---\n",
    "where $B$ is number of cooridinates needed to properly identify pixel position and calculate occupancy $o$"
   ]
  },
  {
   "cell_type": "markdown",
   "metadata": {},
   "source": [
    "## Detectors storing waveforms with ADC values on each channel"
   ]
  },
  {
   "cell_type": "markdown",
   "metadata": {},
   "source": [
    "### Example:\n",
    "* a function that generates fixed size waveform with a set of gaussian signals of a given amplitudes and positions, width of the gaussians is fixed to $\\sigma=10$\n",
    "* width of the waveform is fixed to 1000 samples\n",
    "* values are integer numbers in range 0-4095 (12 bit resolution of the ADC)\n",
    "* generate and plot a single waveform with exactly one signal (random position $x\\in[50,950]$ and amplitude $a\\in[0,4095]$) in it"
   ]
  },
  {
   "cell_type": "code",
   "execution_count": null,
   "metadata": {},
   "outputs": [],
   "source": [
    "sigma=10\n",
    "N=1000\n",
    "\n",
    "def gauss(x, pos, amp):     # generate gauss function; IMPORTANT: NOT NORMALIZED!\n",
    "    return amp*np.exp(-(x-pos)**2/(2*sigma**2))/np.sqrt(2*np.pi)\n",
    "    # return amp*np.exp(-(x-pos)**2/(2*sigma**2))   # now 'amp' is real normalized amplitude\n",
    "\n",
    "def generateWvfmWithGauss(pos, amp):    # generate gaussian wave signal\n",
    "    wvfm=np.zeros(N)\n",
    "    for p,a in zip(pos,amp):\n",
    "        args=np.linspace(0,N-1,N)   # generate random arguments for gaussian functions\n",
    "        wvfm+=gauss(args,p,a)\n",
    "    wvfm=wvfm.astype(int)\n",
    "    return wvfm\n",
    "        \n",
    "def buildGraph(wvfm):   # create ROOT graph with this wave form\n",
    "    gr=TGraph()\n",
    "    for w in wvfm:\n",
    "        gr.SetPoint(gr.GetN(),gr.GetN(),w)\n",
    "    return gr\n",
    "\n",
    "def printWvfms(wvfms,fname):\n",
    "    canv=TCanvas(\"cplot\",\"\",1024,768)\n",
    "    gr=TGraph()\n",
    "    canv.Print(fname+'[')   # open pdf file\n",
    "    for w in wvfms:\n",
    "        for i in range(len(w)):\n",
    "            gr.SetPoint(i,i,w[i])\n",
    "        gr.Draw(\"AL\")   # create graph in pdf\n",
    "        gr.SetMaximum(4095)\n",
    "        canv.Print(fname)   \n",
    "    canv.Print(fname+']')   # close pdf file and have multiple graphs in one pdf file\n",
    "        "
   ]
  },
  {
   "cell_type": "code",
   "execution_count": null,
   "metadata": {},
   "outputs": [],
   "source": [
    "Nsignals=1\n",
    "w=generateWvfmWithGauss(np.random.randint(50,950,Nsignals),np.random.randint(0,4095,Nsignals))\n",
    "g=buildGraph(w)\n",
    "g.SetMaximum(4095)\n",
    "c.cd()\n",
    "g.Draw(\"AL\")\n",
    "c.Draw()\n",
    "\n",
    "w.shape\n",
    "# suppressSingleWaveform(w) "
   ]
  },
  {
   "cell_type": "markdown",
   "metadata": {},
   "source": [
    "### Task:\n",
    "* generate $N_{\\mathrm{wvfms}}$ such waveforms, with $N_{\\mathrm{signals}}$ gaussian signals of random amplitude, distribute signals randomly, **one channel can have multiple signals**\n",
    "* without creating the file with all waveforms, what would be its size? (ADC values in plain text are four digit integers padded with zeros, one integer is one byte)\n",
    "* implement a zero-suppression algorithm: instead of writting all ADC values we store only the non zero ones, with their locations\n",
    "   * ID of the channel\n",
    "   * for every joint signal in a channel:\n",
    "     * ID of the first non-zero sample\n",
    "     * length of the signal\n",
    "     * a set of samples representing the signal\n",
    "* Check size of resulting compressed data for $N_{\\mathrm{wvfms}}=1000$ and $N_{\\mathrm{signals}}=100$. Instead of writing to a file use `np.size()` - it returns number of numerical fields in an array."
   ]
  },
  {
   "cell_type": "code",
   "execution_count": 89,
   "metadata": {},
   "outputs": [],
   "source": [
    "def generateWaveforms(channels,signals):    # generate multiple waveforms\n",
    "    wvfms=[]\n",
    "    signalPositions=np.random.randint(0,N*channels,signals)     # generate random signal positions\n",
    "    for i in range(channels):\n",
    "        indInThisWvfm=np.logical_and(signalPositions>=i*N,signalPositions<(i+1)*N)  # check if this position is in my waveform?\n",
    "        pos=signalPositions[indInThisWvfm]-i*N\n",
    "        amps=np.random.randint(0,4095,len(pos))     # random amplitudes\n",
    "        wvfms.append(generateWvfmWithGauss(pos,amps))\n",
    "    return np.array(wvfms)\n",
    "    \n",
    "    \n",
    "def suppressSingleWaveform(w):  # this function gives us indices where our signal begin \n",
    "    signalFragments=[]\n",
    "    fragment=[]\n",
    "    for i in np.nonzero(w)[0]:  # loop over all non zero indices of the waveform\n",
    "        if fragment:\n",
    "            if i-fragment[-1]!=1:   # check if we are still in the same fragment\n",
    "                signalFragments.append(np.array(fragment))\n",
    "                fragment=[]\n",
    "        fragment.append(i)\n",
    "    signalFragments.append(np.array(fragment))\n",
    "    suppressed=[]\n",
    "    print(signalFragments)\n",
    "    # print(fragment)\n",
    "    for f in signalFragments:\n",
    "\n",
    "        suppressed.append(f[0])      # channel id\n",
    "        suppressed.append(len(f))    # length of the sigal\n",
    "\n",
    "        for samp in f:\n",
    "            # print(w[samp])\n",
    "            suppressed.append(w[samp])\n",
    "\n",
    "    return np.array(suppressed)\n",
    "\n",
    "def suppressWaveforms(wvfms):\n",
    "    suppr = []\n",
    "    for i in range(len(wfvms)):\n",
    "        supWvfm = [i]\n",
    "        supWvfm += suppressSingleWaveform(wfvms[i])\n",
    "        suppr.append(supWvfm)\n",
    "\n",
    "    return suppr"
   ]
  },
  {
   "cell_type": "markdown",
   "metadata": {},
   "source": [
    "Example"
   ]
  },
  {
   "cell_type": "code",
   "execution_count": 90,
   "metadata": {},
   "outputs": [
    {
     "name": "stderr",
     "output_type": "stream",
     "text": [
      "Info in <TCanvas::Print>: pdf file A.pdf has been created\n",
      "Info in <TCanvas::Print>: Current canvas added to pdf file A.pdf\n",
      "Info in <TCanvas::Print>: pdf file A.pdf has been closed\n"
     ]
    }
   ],
   "source": [
    "wfvms = generateWaveforms(1, 2)\n",
    "# sw = suppressSingleWaveform(w)    # supress multiple waveforms\n",
    "printWvfms(wfvms, \"A.pdf\")\n",
    "\n",
    "w = generateWaveforms(1, 1)\n",
    "\n",
    "\n",
    "# g=buildGraph(w)\n",
    "# g.SetMaximum(4095)\n",
    "# c.cd()\n",
    "# g.Draw(\"AL\")\n",
    "# c.Draw()\n",
    "\n",
    "# print(w.shape, sw.shape)"
   ]
  },
  {
   "cell_type": "markdown",
   "metadata": {},
   "source": [
    "Test zone"
   ]
  },
  {
   "cell_type": "code",
   "execution_count": 93,
   "metadata": {},
   "outputs": [
    {
     "name": "stdout",
     "output_type": "stream",
     "text": [
      "[array([189, 190, 191, 192, 193, 194, 195, 196, 197, 198, 199, 200, 201,\n",
      "       202, 203, 204, 205, 206, 207, 208, 209, 210, 211, 212, 213, 214,\n",
      "       215, 216, 217, 218, 219, 220, 221, 222, 223, 224, 225, 226, 227,\n",
      "       228, 229]), array([712, 713, 714, 715, 716, 717, 718, 719, 720, 721, 722, 723, 724,\n",
      "       725, 726, 727, 728, 729, 730, 731, 732, 733, 734, 735, 736, 737,\n",
      "       738, 739, 740, 741, 742, 743, 744, 745, 746, 747, 748, 749, 750,\n",
      "       751, 752, 753, 754, 755, 756, 757, 758, 759, 760, 761, 762, 763,\n",
      "       764, 765, 766, 767, 768, 769, 770, 771, 772, 773, 774, 775, 776,\n",
      "       777, 778, 779, 780, 781, 782, 783, 784, 785, 786, 787, 788])]\n"
     ]
    },
    {
     "data": {
      "text/plain": [
       "[array([ 189,   41,    1,    1,    1,    1,    2,    2,    3,    3,    4,\n",
       "           4,    5,    5,    6,    6,    6,    7,    7,    8,    8,    8,\n",
       "           8,    8,    8,    8,    7,    7,    6,    6,    6,    5,    5,\n",
       "           4,    4,    3,    3,    2,    2,    1,    1,    1,    1,  712,\n",
       "          77,    1,    1,    2,    3,    4,    6,    8,   11,   16,   21,\n",
       "          28,   38,   49,   64,   81,  103,  129,  160,  197,  239,  288,\n",
       "         343,  405,  473,  546,  626,  709,  795,  883,  972, 1058, 1140,\n",
       "        1217, 1286, 1345, 1393, 1428, 1450, 1457, 1450, 1428, 1393, 1345,\n",
       "        1286, 1217, 1140, 1058,  972,  883,  795,  709,  626,  546,  473,\n",
       "         405,  343,  288,  239,  197,  160,  129,  103,   81,   64,   49,\n",
       "          38,   28,   21,   16,   11,    8,    6,    4,    3,    2,    1,\n",
       "           1])]"
      ]
     },
     "execution_count": 93,
     "metadata": {},
     "output_type": "execute_result"
    }
   ],
   "source": [
    "# wnew = np.ravel(w)  # proper shape for buildGraph\n",
    "\n",
    "# sw = suppressSingleWaveform(w)   # this fu\n",
    "\n",
    "suppr = suppressWaveforms(wfvms)\n",
    "# wnew\n",
    "# g=buildGraph(wnew)\n",
    "# g.SetMaximum(4095)\n",
    "# c.cd()\n",
    "# g.Draw(\"AL\")\n",
    "# c.Draw()\n",
    "\n",
    "# print(wnew[299], wnew[sw[0]])\n",
    "\n",
    "# print(wfvms)\n",
    "suppr"
   ]
  },
  {
   "cell_type": "markdown",
   "metadata": {},
   "source": [
    "In suppressWaveforms output is as follows (example for 2 signals in 1 channel)\n",
    "\n",
    "[array([ 189 <- here is the index of the start of the signal,   41 <- length of the signal, -> values    1,    1,    1,    1,    2,    2,    3,    3,    4, \\\n",
    "           4,    5,    5,    6,    6,    6,    7,    7,    8,    8,    8, \\\n",
    "           8,    8,    8,    8,    7,    7,    6,    6,    6,    5,    5, \\\n",
    "           4,    4,    3,    3,    2,    2,    1,    1,    1,    1, -> new signal  712, \\\n",
    "          77,    1,    1,    2,    3,    4,    6,    8,   11,   16,   21, \\\n",
    "          28,   38,   49,   64,   81,  103,  129,  160,  197,  239,  288, \\\n",
    "         343,  405,  473,  546,  626,  709,  795,  883,  972, 1058, 1140, \\\n",
    "        1217, 1286, 1345, 1393, 1428, 1450, 1457, 1450, 1428, 1393, 1345, \\\n",
    "        1286, 1217, 1140, 1058,  972,  883,  795,  709,  626,  546,  473, \\\n",
    "         405,  343,  288,  239,  197,  160,  129,  103,   81,   64,   49, \\\n",
    "          38,   28,   21,   16,   11,    8,    6,    4,    3,    2,    1, \\\n",
    "           1])]"
   ]
  },
  {
   "cell_type": "code",
   "execution_count": 95,
   "metadata": {},
   "outputs": [
    {
     "data": {
      "text/plain": [
       "array([[   0,    0,    0,    0,    0,    0,    0,    0,    0,    0,    0,\n",
       "           0,    0,    0,    0,    0,    0,    0,    0,    0,    0,    0,\n",
       "           0,    0,    0,    0,    0,    0,    0,    0,    0,    0,    0,\n",
       "           0,    0,    0,    0,    0,    0,    0,    0,    0,    0,    0,\n",
       "           0,    0,    0,    0,    0,    0,    0,    0,    0,    0,    0,\n",
       "           0,    0,    0,    0,    0,    0,    0,    0,    0,    0,    0,\n",
       "           0,    0,    0,    0,    0,    0,    0,    0,    0,    0,    0,\n",
       "           0,    0,    0,    0,    0,    0,    0,    0,    0,    0,    0,\n",
       "           0,    0,    0,    0,    0,    0,    0,    0,    0,    0,    0,\n",
       "           0,    0,    0,    0,    0,    0,    0,    0,    0,    0,    0,\n",
       "           0,    0,    0,    0,    0,    0,    0,    0,    0,    0,    0,\n",
       "           0,    0,    0,    0,    0,    0,    0,    0,    0,    0,    0,\n",
       "           0,    0,    0,    0,    0,    0,    0,    0,    0,    0,    0,\n",
       "           0,    0,    0,    0,    0,    0,    0,    0,    0,    0,    0,\n",
       "           0,    0,    0,    0,    0,    0,    0,    0,    0,    0,    0,\n",
       "           0,    0,    0,    0,    0,    0,    0,    0,    0,    0,    0,\n",
       "           0,    0,    0,    0,    0,    0,    0,    0,    0,    0,    0,\n",
       "           0,    0,    1,    1,    1,    1,    2,    2,    3,    3,    4,\n",
       "           4,    5,    5,    6,    6,    6,    7,    7,    8,    8,    8,\n",
       "           8,    8,    8,    8,    7,    7,    6,    6,    6,    5,    5,\n",
       "           4,    4,    3,    3,    2,    2,    1,    1,    1,    1,    0,\n",
       "           0,    0,    0,    0,    0,    0,    0,    0,    0,    0,    0,\n",
       "           0,    0,    0,    0,    0,    0,    0,    0,    0,    0,    0,\n",
       "           0,    0,    0,    0,    0,    0,    0,    0,    0,    0,    0,\n",
       "           0,    0,    0,    0,    0,    0,    0,    0,    0,    0,    0,\n",
       "           0,    0,    0,    0,    0,    0,    0,    0,    0,    0,    0,\n",
       "           0,    0,    0,    0,    0,    0,    0,    0,    0,    0,    0,\n",
       "           0,    0,    0,    0,    0,    0,    0,    0,    0,    0,    0,\n",
       "           0,    0,    0,    0,    0,    0,    0,    0,    0,    0,    0,\n",
       "           0,    0,    0,    0,    0,    0,    0,    0,    0,    0,    0,\n",
       "           0,    0,    0,    0,    0,    0,    0,    0,    0,    0,    0,\n",
       "           0,    0,    0,    0,    0,    0,    0,    0,    0,    0,    0,\n",
       "           0,    0,    0,    0,    0,    0,    0,    0,    0,    0,    0,\n",
       "           0,    0,    0,    0,    0,    0,    0,    0,    0,    0,    0,\n",
       "           0,    0,    0,    0,    0,    0,    0,    0,    0,    0,    0,\n",
       "           0,    0,    0,    0,    0,    0,    0,    0,    0,    0,    0,\n",
       "           0,    0,    0,    0,    0,    0,    0,    0,    0,    0,    0,\n",
       "           0,    0,    0,    0,    0,    0,    0,    0,    0,    0,    0,\n",
       "           0,    0,    0,    0,    0,    0,    0,    0,    0,    0,    0,\n",
       "           0,    0,    0,    0,    0,    0,    0,    0,    0,    0,    0,\n",
       "           0,    0,    0,    0,    0,    0,    0,    0,    0,    0,    0,\n",
       "           0,    0,    0,    0,    0,    0,    0,    0,    0,    0,    0,\n",
       "           0,    0,    0,    0,    0,    0,    0,    0,    0,    0,    0,\n",
       "           0,    0,    0,    0,    0,    0,    0,    0,    0,    0,    0,\n",
       "           0,    0,    0,    0,    0,    0,    0,    0,    0,    0,    0,\n",
       "           0,    0,    0,    0,    0,    0,    0,    0,    0,    0,    0,\n",
       "           0,    0,    0,    0,    0,    0,    0,    0,    0,    0,    0,\n",
       "           0,    0,    0,    0,    0,    0,    0,    0,    0,    0,    0,\n",
       "           0,    0,    0,    0,    0,    0,    0,    0,    0,    0,    0,\n",
       "           0,    0,    0,    0,    0,    0,    0,    0,    0,    0,    0,\n",
       "           0,    0,    0,    0,    0,    0,    0,    0,    0,    0,    0,\n",
       "           0,    0,    0,    0,    0,    0,    0,    0,    0,    0,    0,\n",
       "           0,    0,    0,    0,    0,    0,    0,    0,    0,    0,    0,\n",
       "           0,    0,    0,    0,    0,    0,    0,    0,    0,    0,    0,\n",
       "           0,    0,    0,    0,    0,    0,    0,    0,    0,    0,    0,\n",
       "           0,    0,    0,    0,    0,    0,    0,    0,    0,    0,    0,\n",
       "           0,    0,    0,    0,    0,    0,    0,    0,    0,    0,    0,\n",
       "           0,    0,    0,    0,    0,    0,    0,    0,    0,    0,    0,\n",
       "           0,    0,    0,    0,    0,    0,    0,    0,    0,    0,    0,\n",
       "           0,    0,    0,    0,    0,    0,    0,    0,    0,    0,    0,\n",
       "           0,    0,    0,    0,    0,    0,    0,    0,    0,    0,    0,\n",
       "           0,    0,    0,    0,    0,    0,    0,    0,    0,    0,    0,\n",
       "           0,    0,    0,    0,    0,    0,    0,    0,    0,    0,    0,\n",
       "           0,    0,    0,    0,    0,    0,    0,    0,    0,    0,    0,\n",
       "           0,    0,    0,    0,    0,    0,    0,    0,    1,    1,    2,\n",
       "           3,    4,    6,    8,   11,   16,   21,   28,   38,   49,   64,\n",
       "          81,  103,  129,  160,  197,  239,  288,  343,  405,  473,  546,\n",
       "         626,  709,  795,  883,  972, 1058, 1140, 1217, 1286, 1345, 1393,\n",
       "        1428, 1450, 1457, 1450, 1428, 1393, 1345, 1286, 1217, 1140, 1058,\n",
       "         972,  883,  795,  709,  626,  546,  473,  405,  343,  288,  239,\n",
       "         197,  160,  129,  103,   81,   64,   49,   38,   28,   21,   16,\n",
       "          11,    8,    6,    4,    3,    2,    1,    1,    0,    0,    0,\n",
       "           0,    0,    0,    0,    0,    0,    0,    0,    0,    0,    0,\n",
       "           0,    0,    0,    0,    0,    0,    0,    0,    0,    0,    0,\n",
       "           0,    0,    0,    0,    0,    0,    0,    0,    0,    0,    0,\n",
       "           0,    0,    0,    0,    0,    0,    0,    0,    0,    0,    0,\n",
       "           0,    0,    0,    0,    0,    0,    0,    0,    0,    0,    0,\n",
       "           0,    0,    0,    0,    0,    0,    0,    0,    0,    0,    0,\n",
       "           0,    0,    0,    0,    0,    0,    0,    0,    0,    0,    0,\n",
       "           0,    0,    0,    0,    0,    0,    0,    0,    0,    0,    0,\n",
       "           0,    0,    0,    0,    0,    0,    0,    0,    0,    0,    0,\n",
       "           0,    0,    0,    0,    0,    0,    0,    0,    0,    0,    0,\n",
       "           0,    0,    0,    0,    0,    0,    0,    0,    0,    0,    0,\n",
       "           0,    0,    0,    0,    0,    0,    0,    0,    0,    0,    0,\n",
       "           0,    0,    0,    0,    0,    0,    0,    0,    0,    0,    0,\n",
       "           0,    0,    0,    0,    0,    0,    0,    0,    0,    0,    0,\n",
       "           0,    0,    0,    0,    0,    0,    0,    0,    0,    0,    0,\n",
       "           0,    0,    0,    0,    0,    0,    0,    0,    0,    0,    0,\n",
       "           0,    0,    0,    0,    0,    0,    0,    0,    0,    0,    0,\n",
       "           0,    0,    0,    0,    0,    0,    0,    0,    0,    0,    0,\n",
       "           0,    0,    0,    0,    0,    0,    0,    0,    0,    0]])"
      ]
     },
     "execution_count": 95,
     "metadata": {},
     "output_type": "execute_result"
    }
   ],
   "source": [
    "wfvms"
   ]
  },
  {
   "cell_type": "markdown",
   "metadata": {},
   "source": [
    "## Homework\n",
    "for $N_{\\mathrm{wvfms}}=100$\n",
    "* write a decoder for compressed waveforms and verify its operation with `np.array_equal()` as in the case of pixel detectors\n",
    "* check how size of compressed data depends on number of signals present in waveforms for $N_{\\mathrm{signals}} \\in [0,1000]$ with step of 20. Plot size of the compressed and raw data as a function of number of signals on a single plot."
   ]
  },
  {
   "cell_type": "code",
   "execution_count": null,
   "metadata": {},
   "outputs": [],
   "source": []
  }
 ],
 "metadata": {
  "interpreter": {
   "hash": "31f2aee4e71d21fbe5cf8b01ff0e069b9275f58929596ceb00d14d90e3e16cd6"
  },
  "kernelspec": {
   "display_name": "Python 3.9.7 64-bit",
   "language": "python",
   "name": "python3"
  },
  "language_info": {
   "codemirror_mode": {
    "name": "ipython",
    "version": 3
   },
   "file_extension": ".py",
   "mimetype": "text/x-python",
   "name": "python",
   "nbconvert_exporter": "python",
   "pygments_lexer": "ipython3",
   "version": "3.9.7"
  }
 },
 "nbformat": 4,
 "nbformat_minor": 4
}
