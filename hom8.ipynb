{
 "cells": [
  {
   "cell_type": "markdown",
   "metadata": {
    "colab_type": "text",
    "id": "MonTGYfCIDu_",
    "tags": []
   },
   "source": [
    "# Hypothesis testing\n",
    "Auhtor: Artur Kalinowski"
   ]
  },
  {
   "cell_type": "markdown",
   "metadata": {},
   "source": [
    "## Setup the environment"
   ]
  },
  {
   "cell_type": "code",
   "execution_count": null,
   "metadata": {
    "colab": {},
    "colab_type": "code",
    "id": "P2y_kbTMIDvD"
   },
   "outputs": [],
   "source": [
    "#Color printing\n",
    "from termcolor import colored\n",
    "\n",
    "#General data operations library\n",
    "import math\n",
    "import numpy as np\n",
    "\n",
    "#HEP specific tools\n",
    "import scipy.constants as scipy_constants\n",
    "from scipy.stats import poisson\n",
    "from scipy.stats import chi2\n",
    "from scipy.stats import norm\n",
    "from scipy.stats import gamma\n",
    "\n",
    "#Plotting libraries\n",
    "import matplotlib.pyplot as plt\n",
    "\n",
    "#Functions manipulation\n",
    "from functools import partial\n",
    "\n",
    "#Increase plots font size\n",
    "params = {'legend.fontsize': 'xx-large',\n",
    "          'figure.figsize': (10, 7),\n",
    "         'axes.labelsize': 'xx-large',\n",
    "         'axes.titlesize':'xx-large',\n",
    "         'xtick.labelsize':'xx-large',\n",
    "         'ytick.labelsize':'xx-large'}\n",
    "plt.rcParams.update(params)"
   ]
  },
  {
   "cell_type": "markdown",
   "metadata": {},
   "source": [
    "### Interpretarion of a simple measuremnt: a toy MC\n",
    "\n",
    "Consider a measuremnt of a pencil with a ruler with 0.1 cm markings. Assume the measuremnt result fluctuates accoring to the Gaussian distribution $N(\\mu, \\sigma)$. Take:\n",
    "\n",
    "\\begin{equation}\n",
    "\\mu = 15,~\n",
    "\\sigma = 0.1/\\sqrt{12}\n",
    "\\end{equation}\n",
    "\n",
    "## <span style='color:red'> Please: </span> \n",
    "\n",
    "* simulate 10000 measuremnts of the pensil length\n",
    "* calculate the fraction of cases when the true value was within the coverage region: $[x - \\sigma, x+\\sigma]$\n",
    "\n",
    "**Hints**:\n",
    "* use `np.logical_and(l0>xMin, l0<xMax)`\n",
    "* use `np.mean(...)\n"
   ]
  },
  {
   "cell_type": "code",
   "execution_count": null,
   "metadata": {},
   "outputs": [],
   "source": [
    "n = 10000\n",
    "l0 = 15\n",
    "sigma0 = 0.1/np.sqrt(12)\n",
    "\n",
    "x = l0 + np.random.randn(n) * sigma0\n",
    "xMin = x - sigma0   # lower value of our range\n",
    "xMax = x + sigma0   # higher value of our range\n",
    "\n",
    "isWithinRange = np.logical_and(l0 > xMin, l0 < xMax)    # find values within range\n",
    "fraction = np.mean(isWithinRange)\n",
    "\n",
    "print(colored(\"Fraction of regions covering the true value is?:\",\"blue\"),fraction)"
   ]
  },
  {
   "cell_type": "markdown",
   "metadata": {},
   "source": [
    "### Type I and Type II errors\n",
    "\n",
    "Assume we have an experiment loking for a (the?) \"new physics events\". The are two competing models:\n",
    "* $H_{0}$: **no new physics**, or **background only** hypothesis - we expect to obeserve `nBkg = 10` events\n",
    "* $H_{1}$: **new physics**, or **signal** hypothesis - we expect to observe `nSgn = 2` events on top of background\n",
    "* $D$: the experiment result is `n = 12`\n",
    "\n",
    "## <span style='color:red'> Please: </span> \n",
    "\n",
    "* calculate the probability of osberving `n` or more events under $H_{0}$, and $H_{1}$\n",
    "* assume we claim discovery, and reject $H_{0}$ - calculate $\\alpha$\n",
    "* assume we claim no observation of new physics, and not reject $H_{0}$ - calculate $\\beta$ \n",
    "\n",
    "**Hints:** \n",
    "* use `poisson(mu).pmf(k)` from scpit.stats package\n",
    "* use `[poisson(nBkg).pmf(k) for k in range(0,n)]` for filling a list on one line"
   ]
  },
  {
   "cell_type": "code",
   "execution_count": null,
   "metadata": {},
   "outputs": [],
   "source": [
    "nBkg = 10\n",
    "nSgn = 2\n",
    "n = 12\n",
    "\n",
    "p_H0 = poisson(nBkg).pmf(n)\n",
    "p_H1 = poisson(nBkg+nSgn).pmf(n)\n",
    "\n",
    "alpha = 1.0 - np.sum([poisson(nBkg).pmf(k) for k in range(0, n)])   # probability of obtaining n or more events\n",
    "beta = np.sum([poisson(nBkg + nSgn).pmf(k) for k in range(0, n + 1)])   # probability of obtaining n or less events \n",
    "\n",
    "print(colored(\"p(n|H0) = \",\"blue\"), \"{:3.3f}\".format(p_H0))\n",
    "print(colored(\"p(n|H1) = \",\"blue\"), \"{:3.3f}\".format(p_H1))\n",
    "print(colored(\"Type I error:\",\"blue\"), \"{:3.3f}\".format(alpha))\n",
    "print(colored(\"Type II error:\",\"blue\"), \"{:3.3f}\".format(beta))"
   ]
  },
  {
   "cell_type": "code",
   "execution_count": null,
   "metadata": {},
   "outputs": [],
   "source": [
    "p_H0"
   ]
  },
  {
   "cell_type": "markdown",
   "metadata": {},
   "source": [
    "### Type I and Type II errors - graphical representation\n",
    "\n",
    "## <span style='color:red'> Please: </span> \n",
    "\n",
    "* plot $p(n|H_{0})$ and $p(n|H_{1})$\n",
    "* fill areas showing the size of $\\alpha$, and $\\beta$\n",
    "* make plots for `nBkg=10, nSgn=2, n=12` and `nBkg=20, nSgn=10, n=30` "
   ]
  },
  {
   "cell_type": "code",
   "execution_count": null,
   "metadata": {},
   "outputs": [],
   "source": [
    "nBkg = 10\n",
    "nSgn = 2\n",
    "n = 12\n",
    "\n",
    "p_H0 = [poisson(nBkg).pmf(k) for k in range(0, 3 * nBkg)]   # probability distribution of null hypothesis\n",
    "p_H1 = [poisson(nBkg + nSgn).pmf(k) for k in range(0, 2 * (nBkg + nSgn))]   # probability distribution of alternative hypothesis\n",
    "\n",
    "alpha = [(k>=n)*poisson(nBkg).pmf(k) for k in range(0,3*nBkg)]\n",
    "beta = [(k<=n)*poisson(nBkg+nSgn).pmf(k) for k in range(0,2*(nBkg+nSgn))]\n",
    "\n",
    "fig, ax = plt.subplots(figsize=(6, 6))\n",
    "\n",
    "ax.plot(p_H0, label=r\"$P(n|H_{0})$\");\n",
    "ax.plot(p_H1, label=r\"$P(n|H_{1})$\");\n",
    "ax.fill_between(x=range(0,3*nBkg), y1=alpha, y2=0, step=\"post\")\n",
    "ax.fill_between(x=range(0,2*(nBkg+nSgn)), y1=beta, y2=0, step=\"pre\")\n",
    "ax.vlines(n, ymin=0, ymax=np.max(p_H0), colors='k', label=\"Data\")\n",
    "ax.set_xlabel(\"n\")\n",
    "ax.set_ylabel(\"p(n)\")\n",
    "ax.legend();"
   ]
  },
  {
   "cell_type": "markdown",
   "metadata": {},
   "source": [
    "## Likelihood ratio for counting experiment\n",
    "\n",
    "Prepare functions for calculating:\n",
    "\n",
    "* `t(data, mu_H0, mu_H1)` - general statistics for hypothesis testing\n",
    "* `q0(data, mu_H0, mu_H1)` - statistics for one sided (excess) B-obly hypothesis testing\n",
    "* `generate_data_hist(nEvents, nIter, muData, muH0, bins, test_statistics)` - histograms of test statistics. This is in order not to keep a large number of tesst statistics values for individial events"
   ]
  },
  {
   "cell_type": "code",
   "execution_count": null,
   "metadata": {},
   "outputs": [],
   "source": [
    "############################################################\n",
    "def t(data, mu_H0, mu_H1):\n",
    "    result = -2.0*(np.log(poisson.pmf(data, mu_H0)) - np.log(poisson.pmf(data, mu_H1)))\n",
    "    return result\n",
    "############################################################\n",
    "############################################################\n",
    "def q0(data, mu_H0, mu_H1):\n",
    "    result = -2.0*(np.log(poisson.pmf(data, mu_H0)) - np.log(poisson.pmf(data, mu_H1)))\n",
    "    result = np.where(data<mu_H0, 0, result)  #discovery\n",
    "    # result = np.where(data>mu_H0, 0, result)  # exclusion for q_mu\n",
    "    return result\n",
    "############################################################\n",
    "def generate_data_hist(nEvents, nIter, muData, muH0, bins, test_statistics):\n",
    "    \n",
    "    result = np.zeros(bins.shape[0]-1)\n",
    "    \n",
    "    for iter in range(nIter):\n",
    "        data = np.random.poisson(muData, nEvents)\n",
    "        t = test_statistics(data, muH0, data)\n",
    "        hist,_ = np.histogram(t, bins=bins)\n",
    "        result +=hist\n",
    "    return result \n",
    "############################################################"
   ]
  },
  {
   "cell_type": "markdown",
   "metadata": {},
   "source": [
    "### Toy Monte Carlo data generation\n",
    "\n",
    "* generate `nEvents` events with `muBkg=20`, `muSgn=10` \n",
    "* calculate the t values for each event\n",
    "* create histograms of t with bins defined as `np.arange(0,40,0.5)`"
   ]
  },
  {
   "cell_type": "code",
   "execution_count": null,
   "metadata": {},
   "outputs": [],
   "source": [
    "%%time\n",
    "\n",
    "bins = np.arange(0,40,0.5)\n",
    "muBkg = 20  # expected background   \n",
    "muSgn = 10  # expected signal\n",
    "nEvents = int(1E6)\n",
    "nIter = 10     # number of iterations\n",
    "\n",
    "muData = muBkg\n",
    "t_H0 = generate_data_hist(nEvents, nIter, muData, muBkg, bins, t)"
   ]
  },
  {
   "cell_type": "markdown",
   "metadata": {},
   "source": [
    "* draw t distribution under the $H_{0}$ hypothesis\n",
    "* overlay $\\chi^{2}$ distributon for `ndof=1`\n",
    "* mark t for observed number of events"
   ]
  },
  {
   "cell_type": "code",
   "execution_count": null,
   "metadata": {},
   "outputs": [],
   "source": [
    "# nObs = 30\n",
    "nObs = 46 #S for 5 sigma significance \n",
    "t_Obs = t(nObs, muBkg, nObs)\n",
    "\n",
    "ymin = 1E-8\n",
    "ymax = 1.0\n",
    "step = bins[1]-bins[0]\n",
    "x = np.arange(start=bins[0]+step/2.0, stop=bins[-1],step=step)\n",
    "\n",
    "fig, ax = plt.subplots(figsize=(6, 6))\n",
    "ax.bar(x,t_H0/np.sum(t_H0), alpha=0.7, color=\"#ff7f0e\", width=step, label = r\"$p(t|H_{0})$\")    # normalized histogram\n",
    "ax.plot(x, chi2.pdf(x, df=1)*step,alpha=0.7,label=r\"$\\chi^{2}, ndof=1$\")\n",
    "ax.vlines(t_Obs, ymin=ymin, ymax=ymax, color=\"red\", label=\"t(nObs)\")\n",
    "ax.set_xlabel(r\"$t$\")\n",
    "ax.set_ylabel(r\"Probability per bin\")\n",
    "ax.set_yscale(\"log\")\n",
    "ax.set_ylim(ymin = ymin, ymax = ymax)\n",
    "ax.legend();"
   ]
  },
  {
   "cell_type": "markdown",
   "metadata": {
    "tags": []
   },
   "source": [
    "### Perform hypothesis test for $H_{0}$ - background only, $H_{1}$ - data best fit singal value\n",
    "\n",
    "Use the modified t test statistics - $q_{0}$\n",
    "\n",
    "* generate `nEvents=`$100 \\cdot 10^{6}$ events with `muBkg=20`, `muSgn=10` assuming $H_{0}$ is true "
   ]
  },
  {
   "cell_type": "code",
   "execution_count": null,
   "metadata": {},
   "outputs": [],
   "source": [
    "muBkg = 20\n",
    "muSgn = 10\n",
    "nEvents = int(1E6)\n",
    "nIter = 100\n",
    "\n",
    "muData = muBkg      # here we test background only hypothesis\n",
    "q0_H0 = generate_data_hist(nEvents, nIter, muData, muBkg, bins, q0)"
   ]
  },
  {
   "cell_type": "markdown",
   "metadata": {},
   "source": [
    "Assume an experiment has observed `nObs=30` events. Calculate probability for $p_{0} = p(q_{0}>q_{0, obs}|H_{0})$, and corrsponding Gaussian `Z` value\n",
    "using:\n",
    "\n",
    "* histogram of the $q_{0}$ distribution - a Monte Carlo estimate\n",
    "* the Gaussian cumulative distribution - an analytical approximation\n",
    "\n",
    "Next take $\\alpha$ corresponding to $5\\sigma$, and \n",
    "\n",
    "* compare the $p_{0}$ with $\\alpha$ and decide if null hypothesis can be rejected."
   ]
  },
  {
   "cell_type": "code",
   "execution_count": null,
   "metadata": {},
   "outputs": [],
   "source": [
    "nObs = 30   # number of observed events\n",
    "nObs = 46 #S for 5 sigma significance \n",
    "q0_Obs = q0(nObs, muBkg, nObs)      # best fit signal event\n",
    "# q0_Obs = 25 #q0 for 5sigma exclusion\n",
    "\n",
    "alpha = 1-norm.cdf(5)   # norm.cdf(5) represents gaussian distribution form - infinity to 5 sigma, so to obtain alpha we subtract \n",
    "index = np.argwhere(bins>q0_Obs)[0,0]\n",
    "p_MC = np.sum(q0_H0[index:])/np.sum(q0_H0)      # monte carlo estimated \n",
    "sigma_MC = norm.ppf(1-p_MC)\n",
    "\n",
    "p_gauss = 1-norm.cdf(np.sqrt(q0_Obs))\n",
    "sigma_gauss = norm.ppf(1-p_gauss)\n",
    "isRejected = p_MC<alpha\n",
    "\n",
    "print(colored(\"q0_Obs:\",\"blue\"),\"{:.2f}\".format(q0_Obs))\n",
    "print(colored(\"MC estimate for p(q0>q0_Obs):\",\"blue\"),\"{:.2E}\".format(p_MC), end=\", \")\n",
    "print(colored(\"single sided Gaussian sigma:\",\"blue\"),\"{:.1f}\".format(sigma_MC))\n",
    "print(colored(\"Gauss esimate for p(q0>q0_Obs):\",\"blue\"),\"{:.2E}\".format(p_gauss), end=\", \")\n",
    "print(colored(\"single sided Gaussian sigma:\",\"blue\"),\"{:.1f}\".format(sigma_gauss))\n",
    "print(\"\")\n",
    "print(colored(\"alpha:\",\"blue\"),\"{:.2E}\".format(alpha))\n",
    "print(\"Null hypothesis (B only) is\", end = \" \")\n",
    "if isRejected:\n",
    "      print(colored(\"REJECTED\",\"red\"))\n",
    "else:        \n",
    "    print(colored(\"NOT REJECTED\",\"green\"))"
   ]
  },
  {
   "cell_type": "markdown",
   "metadata": {},
   "source": [
    "## Approximate formulas for significance\n",
    "\n",
    "## <span style='color:red'> Please: </span> \n",
    "\n",
    "Plot approximate formulas for signal significance expressed in Gaussian sigmas:\n",
    "\n",
    "* $\\sqrt{q_{0}}$ for Poisson model: $z \\simeq \\sqrt{2[(S+B)\\ln(1 + \\frac{S}{B}) - S]}$\n",
    "\n",
    "* $z \\simeq \\frac{S}{\\sqrt{B}}$\n",
    "\n",
    "Assume:\n",
    "* B = 10\n",
    "* S = [1, 50]"
   ]
  },
  {
   "cell_type": "code",
   "execution_count": null,
   "metadata": {},
   "outputs": [],
   "source": [
    "s = np.arange(1,51,1)\n",
    "b = 100\n",
    "\n",
    "f1 = np.sqrt(2 * ((s + b) * np.log(1 + s / b) - s))\n",
    "f2 = s / np.sqrt(b)\n",
    "\n",
    "fig, ax = plt.subplots(figsize=(6, 6))\n",
    "ax.plot(s/b, f1, label=r\"$z_{1} \\simeq \\sqrt{2[(S+B)\\ln(1+ \\frac{S}{B}) -S]}  $\")\n",
    "ax.plot(s/b, f2, label=r\"$z_{2} \\simeq \\frac{S}{\\sqrt{B}}$\")\n",
    "ax.plot(s/b, f1/f2, label=r\"$z_{1}/z_{2}$\")\n",
    "ax.set_xlabel(\"S/B\")\n",
    "ax.set_ylim(ymin = 0, ymax = 8.5)\n",
    "ax.legend();"
   ]
  },
  {
   "cell_type": "markdown",
   "metadata": {},
   "source": [
    "## <span style='color:red'> Please: </span> \n",
    "\n",
    "Calculate the approximate signal significance with approximate formulas:\n",
    "\n",
    "* $z \\simeq \\sqrt{q_{0}}$\n",
    "* $z \\simeq \\frac{N_{obs} - B}{\\sqrt{B}}$"
   ]
  },
  {
   "cell_type": "code",
   "execution_count": null,
   "metadata": {},
   "outputs": [],
   "source": [
    "z_sqrt = np.sqrt(q0_Obs)\n",
    "z_frac = (nObs - muBkg) / np.sqrt(muBkg)\n",
    "\n",
    "print(colored(\"Signficance from sqrt(q0):\",\"blue\"),\"{:.1f}\".format(z_sqrt))\n",
    "print(colored(\"Signficance from S/sqrt(B):\",\"blue\"),\"{:.1f}\".format(z_frac))"
   ]
  },
  {
   "cell_type": "markdown",
   "metadata": {},
   "source": [
    "## Expected experiment result fluctuations\n",
    "\n",
    "## <span style='color:red'> Please: </span>\n",
    "\n",
    "Assuming data is drawn from the alternative hypothesis, (S+B),find:\n",
    "\n",
    "* $q_{0,median}: \\int_{-\\infty}^{q_{0,median}} p(q_{0}|H_{1}) dq = 0.5$ \n",
    "\n",
    "* $q_{0,minus}: \\int_{-\\infty}^{q_{0,-}} p(q_{0}|H_{1}) dq = 0.5 - 0.341$ \n",
    "* $q_{0,plus}: \\int_{-\\infty}^{q_{0,+}} p(q_{0}|H_{1}) dq = 0.5 + 0.341$ \n",
    "* $q_{0,Asimov}: q0(nObs=S+B)$\n",
    "* check if probabilities are correct by summing the $q_{0}$ values in corresponding ranges\n",
    "\n",
    "**Hint:** use histogrammed data created for the $H_{1}$ as approximation"
   ]
  },
  {
   "cell_type": "code",
   "execution_count": null,
   "metadata": {},
   "outputs": [],
   "source": [
    "%%time\n",
    "muBkg = 20\n",
    "muSgn = 10\n",
    "muObs = 30\n",
    "\n",
    "muData = muBkg + muSgn\n",
    "q0_H1 = generate_data_hist(nEvents, nIter, muData, muBkg, bins, q0)"
   ]
  },
  {
   "cell_type": "code",
   "execution_count": null,
   "metadata": {},
   "outputs": [],
   "source": [
    "cumulative_q0_H1 = np.cumsum(q0_H1)/np.sum(q0_H1)\n",
    "index_minus = np.argwhere(cumulative_q0_H1>0.5-0.341)[0,0]\n",
    "index_median = np.argwhere(cumulative_q0_H1>0.5)[0,0]\n",
    "index_plus = np.argwhere(cumulative_q0_H1>0.5+0.341)[0,0]\n",
    "\n",
    "q0_minus = x[index_minus]\n",
    "q0_median = x[index_median]\n",
    "q0_plus = x[index_plus]\n",
    "\n",
    "nObs = muBkg + muSgn\n",
    "q0_Asimov = q0(nObs, muBkg, nObs)\n",
    "index = np.argwhere(bins>q0_Asimov)[0,0]\n",
    "p_Asimov = np.sum(q0_H1[index:])/np.sum(q0_H1)\n",
    "print(\"q0 median from Asimov dataset = {:.2f}\".format(q0_Asimov))\n",
    "print(colored(\"MC estimate for p(q0>q0_Asimov) under H1:\\t\",\"blue\"),\"{:.2E} (expected: {:.2f})\".format(p_Asimov, 0.5))\n",
    "print(\"\")\n",
    "\n",
    "print(\"q0 minus = {}, q0 median = {}, q0 plus = {}\".format(q0_minus, q0_median, q0_plus))\n",
    "index = np.argwhere(bins>q0_minus)[0,0]\n",
    "p_MC = np.sum(q0_H1[index:])/np.sum(q0_H1)\n",
    "print(colored(\"MC estimate for p(q0>q0_minus) under H1:\\t\",\"blue\"),\"{:.2E} (expected: {:.2f})\".format(p_MC, 0.5+0.341))\n",
    "\n",
    "index = np.argwhere(bins>q0_median)[0,0]\n",
    "p_MC = np.sum(q0_H1[index:])/np.sum(q0_H1)\n",
    "print(colored(\"MC estimate for p(q0>q0_median) under H1:\\t\",\"blue\"),\"{:.2E} (expected: {:.2f})\".format(p_MC, 0.5))\n",
    "\n",
    "index = np.argwhere(bins>q0_plus)[0,0]\n",
    "p_MC = np.sum(q0_H1[index:])/np.sum(q0_H1)\n",
    "print(colored(\"MC estimate for p(q0>q0_plus) under H1: \\t\",\"blue\"),\"{:.2E} (expected: {:.2f})\".format(p_MC, 0.5-0.341))"
   ]
  },
  {
   "cell_type": "markdown",
   "metadata": {},
   "source": [
    "## <span style='color:red'> Please: </span>\n",
    "\n",
    "* plot $q_{0}$ distribution for events drawn under $H_{0}$, and $H_{1}$ hypotheses\n",
    "* mark the values of $q_{0,minus}$, $q_{0,median}$, $q_{0,plus}$"
   ]
  },
  {
   "cell_type": "code",
   "execution_count": null,
   "metadata": {},
   "outputs": [],
   "source": [
    "ymin = 1E-4\n",
    "ymax = 1.0\n",
    "\n",
    "fig, ax = plt.subplots(figsize=(6, 6))\n",
    "ax.bar(x,q0_H1/np.sum(q0_H1), alpha=0.7, label = r\"$p(q_{0}|H_{1})$\")\n",
    "ax.bar(x,q0_H0/np.sum(q0_H0), alpha=0.7, color=\"#ff7f0e\", label = r\"$p(q_{0}|H_{0})$\")\n",
    "ax.vlines(q0_minus, ymin=ymin, ymax=ymax, color=\"red\", label=r\"$q_{0,-}$\")\n",
    "ax.vlines(q0_median, ymin=ymin, ymax=ymax, color=\"black\", label=r\"$q_{0,median}$\")\n",
    "ax.vlines(q0_plus, ymin=ymin, ymax=ymax, color=\"blue\", label=r\"$q_{0,+}$\")\n",
    "ax.set_xlabel(r\"$q_{0}$\")\n",
    "ax.set_ylabel(r\"Probability/bin width\")\n",
    "ax.set_yscale(\"log\")\n",
    "ax.set_ylim(ymin = ymin, ymax = ymax)\n",
    "ax.legend();"
   ]
  },
  {
   "cell_type": "markdown",
   "metadata": {},
   "source": [
    "* calculate the $p_{0}$ and $Z$ values for $q_{0,minus}$, $q_{0,median}$, $q_{0,plus}$ and $q_{0,Asimov}$\n",
    "* note the difference of $Z$ values for choosed $q_{0}$ values"
   ]
  },
  {
   "cell_type": "code",
   "execution_count": null,
   "metadata": {},
   "outputs": [],
   "source": [
    "p = 1 - norm.cdf(np.sqrt(q0_minus))\n",
    "sigma = norm.ppf(1-p)\n",
    "\n",
    "print(colored(\"Gauss esimate for p(q0>q0_minus):\\t\",\"blue\"),\"{:.2E},\\t\".format(p), end = \"\")\n",
    "print(colored(\"single sided Gaussian sigma:\",\"blue\"),\"{:.1f}\".format(sigma))\n",
    "\n",
    "p = 1 - norm.cdf(np.sqrt(q0_median))\n",
    "sigma = norm.ppf(1-p)\n",
    "print(colored(\"Gauss esimate for p(q0>q0_median):\\t\",\"blue\"),\"{:.2E},\\t\".format(p), end = \"\")\n",
    "print(colored(\"single sided Gaussian sigma:\",\"blue\"),\"{:.1f}\".format(sigma))\n",
    "\n",
    "p = 1 - norm.cdf(np.sqrt(q0_Asimov))\n",
    "sigma = norm.ppf(1-p)\n",
    "print(colored(\"Gauss esimate for p(q0>q0_Asimov):\\t\",\"green\"),\"{:.2E},\\t\".format(p), end = \"\")\n",
    "print(colored(\"single sided Gaussian sigma:\",\"green\"),\"{:.1f}\".format(sigma))\n",
    "\n",
    "p = 1 - norm.cdf(np.sqrt(q0_plus))\n",
    "sigma = norm.ppf(1-p)\n",
    "print(colored(\"Gauss esimate for p(q0>q0_plus):\\t\",\"blue\"),\"{:.2E},\\t\".format(p), end = \"\")\n",
    "print(colored(\"single sided Gaussian sigma:\",\"blue\"),\"{:.1f}\".format(sigma))"
   ]
  },
  {
   "cell_type": "markdown",
   "metadata": {},
   "source": [
    "## Homework - Perform hypothesis test for $H_{0}$ - the expected signal value, $H_{1}$ - data best fit singal value\n",
    "\n",
    "Assume there is an experiment planned, where one expects to observe `muBkg=200` background events. What value of additional signal events, `muSgn` can be exluded with $\\alpha = 0.05$?\n",
    "\n",
    "* define `qMu(data, mu_H0, mu_H1)` function for the $q_{\\mu}$ test statistics\n",
    "* scan a range of assumed `muSgn` values:\n",
    "    * for each value calculate median $q_{0}$ value as the Asimov $q_{0,Asimov}$\n",
    "    * using the Gaussian cumulative distribution caluculate $p_{0}(q_{0}>q_{0,Asimov})$\n",
    "    * return minimal value of `muSgn` for which $p_{0}<\\alpha$"
   ]
  },
  {
   "cell_type": "code",
   "execution_count": 124,
   "metadata": {},
   "outputs": [],
   "source": [
    "##########################\n",
    "\n",
    "def qMu(data, mu_H0, mu_H1):\n",
    "    result = -2.0*(np.log(poisson.pmf(data, mu_H0)) - np.log(poisson.pmf(data, mu_H1)))\n",
    "    # result = np.where(data<mu_H0, 0, result)  #discovery\n",
    "    result = np.where(data>mu_H0, 0, result)  #exclusion\n",
    "    return result\n",
    "\n",
    "###########################\n",
    "\n",
    "def getPValue(data, mu_H0, mu_H1):\n",
    "    qMu_Asimov = qMu(data, mu_H0, mu_H1)\n",
    "    p = 1-norm.cdf(np.sqrt(qMu_Asimov))\n",
    "    return p\n",
    "###########################\n",
    "\n",
    "def isExcluded(data, mu_H0, alpha):\n",
    "    p = getPValue(data=data, mu_H0=mu_H0, mu_H1=mu_H0)\n",
    "    return p<alpha\n",
    "\n",
    "###########################\n",
    "\n",
    "def isExcludedPrim(data, mu_H0, mu_H1, alpha):      # sligthly changed function isExcluded\n",
    "    p = getPValue(data=data, mu_H0=mu_H0, mu_H1=mu_H1)\n",
    "    return p<alpha\n",
    "\n",
    "    \n",
    "def exclusionBand(muBkg, alpha):\n",
    "\n",
    "    ...\n",
    "    ...\n",
    "    ...\n",
    "    \n",
    "    return q0_minus2, q0_minus1, q0_median, q0_plus1, q0_plus2\n",
    "########################### \n",
    "def expectedBkg(m):\n",
    "    return 200*np.exp(-(m-100)/20)\n",
    "###########################"
   ]
  },
  {
   "cell_type": "markdown",
   "metadata": {},
   "source": [
    "## Expected median exclusion limit"
   ]
  },
  {
   "cell_type": "code",
   "execution_count": 120,
   "metadata": {},
   "outputs": [
    {
     "name": "stdout",
     "output_type": "stream",
     "text": [
      "\u001b[34mExpectded median exclusion on S\u001b[0m = 1\n",
      "0\n"
     ]
    }
   ],
   "source": [
    "# muBkg = 200\n",
    "# muSgn = np.arange(1, muBkg, 1).astype(int)\n",
    "# # muSgn = np.array([25])\n",
    "# alpha = 0.05\n",
    "\n",
    "# data = muBkg\n",
    "# mu_H0 = muBkg\n",
    "# index = np.argmax(isExcluded(data, mu_H0, alpha))\n",
    "# S_excluded = muSgn[index]\n",
    "# print(colored(\"Expectded median exclusion on S\",\"blue\"),\"= {}\".format(S_excluded))\n",
    "# print(index)"
   ]
  },
  {
   "cell_type": "markdown",
   "metadata": {},
   "source": [
    "## Expected median exclusion limit: alternative solution with my function"
   ]
  },
  {
   "cell_type": "code",
   "execution_count": 125,
   "metadata": {},
   "outputs": [
    {
     "name": "stdout",
     "output_type": "stream",
     "text": [
      "\u001b[34mExpectded median exclusion on S\u001b[0m = 25\n"
     ]
    }
   ],
   "source": [
    "muBkg = 200\n",
    "muSgn = np.arange(1, muBkg, 1).astype(int)\n",
    "alpha = 0.05\n",
    "\n",
    "for S in muSgn:\n",
    "    data = muBkg\n",
    "    mu_H0 = muBkg + S\n",
    "    mu_H1 = data\n",
    "    condition = isExcludedPrim(data, mu_H0, mu_H1, alpha)\n",
    "    S_excluded = S\n",
    "    if condition:\n",
    "        print(colored(\"Expectded median exclusion on S\",\"blue\"),\"= {}\".format(S_excluded))\n",
    "        break\n"
   ]
  },
  {
   "cell_type": "markdown",
   "metadata": {},
   "source": [
    "## Expected median and $\\pm 1 \\sigma$ exlusion limits for varying expected number of background events.\n",
    "\n",
    "The exclusion limits are calculated with toy Monte Carlo."
   ]
  },
  {
   "cell_type": "code",
   "execution_count": null,
   "metadata": {},
   "outputs": [],
   "source": [
    "# alpha = 0.05\n",
    "# m = np.arange(100,150,10)\n",
    "# muBkg = expectedBkg(m)\n",
    "\n",
    "# q0_minus2 = []\n",
    "# q0_minus1 = []\n",
    "# q0_median = []\n",
    "# q0_plus1 = []\n",
    "# q0_plus2 = []\n",
    "\n",
    "# for B in muBkg:\n",
    "#     minus2, minus1, median, plus1, plus2 = exclusionBand(B, alpha)\n",
    "#     q0_minus2.append(minus2)\n",
    "#     q0_minus1.append(minus1)\n",
    "#     q0_median.append(median)\n",
    "#     q0_plus1.append(plus1)\n",
    "#     q0_plus2.append(plus2)\n",
    "    \n",
    "# fig, ax = plt.subplots(figsize=(6, 6))\n",
    "# ax.fill_between(m, q0_plus2, q0_minus2, color =\"#ffff00\", alpha=.5, linewidth=0, label=r\"$\\pm2 \\sigma$\")\n",
    "# ax.fill_between(m, q0_plus1, q0_minus1, color =\"#00cc00\", alpha=.5, linewidth=0, label=r\"$\\pm1 \\sigma$\")\n",
    "# ax.plot(m, q0_median, color=\"black\", label=\"expected\")\n",
    "# ax.set_xlabel(r\"$m$\")\n",
    "# ax.set_ylabel(r\"95% CLupper limit on S\")\n",
    "# ax.legend();    "
   ]
  }
 ],
 "metadata": {
  "colab": {
   "collapsed_sections": [],
   "name": "01a_Powtórka_numpy.ipynb",
   "provenance": [
    {
     "file_id": "0BzwQ_Lscn8yDWnZVeHU1MjluWFU",
     "timestamp": 1546856440599
    }
   ]
  },
  "interpreter": {
   "hash": "31f2aee4e71d21fbe5cf8b01ff0e069b9275f58929596ceb00d14d90e3e16cd6"
  },
  "kernelspec": {
   "display_name": "Python 3.9.7 64-bit",
   "language": "python",
   "name": "python3"
  },
  "language_info": {
   "codemirror_mode": {
    "name": "ipython",
    "version": 3
   },
   "file_extension": ".py",
   "mimetype": "text/x-python",
   "name": "python",
   "nbconvert_exporter": "python",
   "pygments_lexer": "ipython3",
   "version": "3.9.7"
  },
  "toc-autonumbering": false,
  "toc-showcode": false,
  "toc-showmarkdowntxt": false,
  "toc-showtags": false
 },
 "nbformat": 4,
 "nbformat_minor": 4
}
