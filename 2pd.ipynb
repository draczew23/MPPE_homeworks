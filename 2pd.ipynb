{
 "cells": [
  {
   "cell_type": "code",
   "execution_count": 1,
   "metadata": {},
   "outputs": [
    {
     "name": "stdout",
     "output_type": "stream",
     "text": [
      "Welcome to JupyROOT 6.24/04\n"
     ]
    }
   ],
   "source": [
    "#Imports\n",
    "import ROOT\n",
    "import os, sys, subprocess, time\n",
    "import py8settings as py8s\n",
    "from py8settings import PDF\n",
    "import itertools as it\n",
    "import ctypes\n",
    "%jsroot on"
   ]
  },
  {
   "cell_type": "code",
   "execution_count": 2,
   "metadata": {},
   "outputs": [],
   "source": [
    "#Settings\n",
    "def makePythiaSilent(pythia):\n",
    "    pythia.ReadString(\"Init:showMultipartonInteractions = off\")\n",
    "    pythia.ReadString(\"Init:showChangedParticleData = off\")\n",
    "    pythia.ReadString(\"Init:showProcesses = off\")\n",
    "    pythia.ReadString(\"Init:showChangedSettings = off\")\n",
    "    pythia.ReadString(\"Next:numberShowInfo = 0\")\n",
    "    pythia.ReadString(\"Next:numberShowProcess = 0\")\n",
    "    pythia.ReadString(\"Next:numberShowEvent = 0\")\n",
    "    pythia.ReadString(\"Next:numberCount = 0\")\n",
    "    \n",
    "pythia = ROOT.TPythia8(False)\n",
    "makePythiaSilent(pythia)\n",
    "pythia.ReadString(\"WeakSingleBoson:ffbar2gmZ = on\")\n",
    "pythia.ReadString(\"Random:setSeed = on\")\n",
    "pythia.ReadString(\"Random:seed = 42\")\n",
    "pythia.ReadString(\"23:onMode = off\")\n",
    "pythia.ReadString(\"23:onIfAny = 11\")\n",
    "pythia.ReadString(\"HadronLevel:Hadronize = off\")\n",
    "pythia.ReadString(\"PhaseSpace:mHatMin = 70\")\n",
    "pythia.ReadString(\"PhaseSpace:mHatMax = 110\")"
   ]
  },
  {
   "cell_type": "code",
   "execution_count": 3,
   "metadata": {},
   "outputs": [],
   "source": [
    "#Part 1 with FSR on\n",
    "pythia.ReadString(\"PartonLevel:FSR = on\")\n",
    "particles = ROOT.TClonesArray(\"TParticle\", 10000)\n",
    "pythia.Initialize(2212 , -2212 , 630)\n",
    "pythia.GenerateEvent()\n",
    "#pythia.EventListing()"
   ]
  },
  {
   "cell_type": "code",
   "execution_count": 4,
   "metadata": {},
   "outputs": [],
   "source": [
    "def isFinal(p,name=None):\n",
    "    if name==None:\n",
    "        return p.GetStatusCode()>0\n",
    "    else:\n",
    "        return p.GetStatusCode()>0 and p.GetName()==name\n",
    "\n",
    "def getMinv(pair):\n",
    "    p4_1=ROOT.TLorentzVector()\n",
    "    p4_2=ROOT.TLorentzVector()\n",
    "    pair[0].Momentum(p4_1)\n",
    "    pair[1].Momentum(p4_2)\n",
    "    p4=p4_1+p4_2\n",
    "    return p4.M()"
   ]
  },
  {
   "cell_type": "code",
   "execution_count": 5,
   "metadata": {},
   "outputs": [
    {
     "name": "stdout",
     "output_type": "stream",
     "text": [
      " PYTHIA Warning in JunctionSplitting::SplitJunPairs: parallel junction state not allowed.  \n",
      " PYTHIA Warning in JunctionSplitting::CheckColours: Not possible to split junctions; making new colours  \n",
      " PYTHIA Error in BeamRemnants::add: failed to find physical colour state after colour reconnection  \n",
      " PYTHIA Warning in MultipartonInteractions::pTnext: weight above unity  \n"
     ]
    },
    {
     "name": "stderr",
     "output_type": "stream",
     "text": [
      "Warning in <TParticle::SetPdgCode>: PDG code 9942003 unknown from TDatabasePDG\n",
      "Warning in <TParticle::SetPdgCode>: PDG code 9942003 unknown from TDatabasePDG\n",
      "Warning in <TParticle::SetPdgCode>: PDG code 9942003 unknown from TDatabasePDG\n",
      "Warning in <TParticle::SetPdgCode>: PDG code 9942003 unknown from TDatabasePDG\n",
      "Warning in <TParticle::SetPdgCode>: PDG code 30443 unknown from TDatabasePDG\n",
      "Warning in <TParticle::SetPdgCode>: PDG code 30443 unknown from TDatabasePDG\n",
      "Warning in <TParticle::SetPdgCode>: PDG code 30443 unknown from TDatabasePDG\n",
      "Warning in <TParticle::SetPdgCode>: PDG code 30443 unknown from TDatabasePDG\n",
      "Warning in <TParticle::SetPdgCode>: PDG code 30443 unknown from TDatabasePDG\n",
      "Warning in <TParticle::SetPdgCode>: PDG code 30443 unknown from TDatabasePDG\n"
     ]
    }
   ],
   "source": [
    "#plotting invariant mass distribution of product of decay of Z boson (e+ and e-)\n",
    "nEvents=10000\n",
    "h=ROOT.TH1D(\"h\",\"\",300,70,110)\n",
    "parts=[\"electron\", \"positron\"]\n",
    "labels={\"e-\": \"#e^{-}\", \"e+\": \"#e^{+}\"}\n",
    "\n",
    "def getZbosondecayCandidates(parts):\n",
    "    electron = [p for p in parts if isFinal(p,\"e-\")]\n",
    "    positron = [p for p in parts if isFinal(p,\"e+\")]\n",
    "    return list(it.product(electron,positron))\n",
    "\n",
    "for i in range(nEvents):\n",
    "    pythia.GenerateEvent()\n",
    "    pythia.ImportParticles(particles,\"All\")\n",
    "    #pythia.EventListing()\n",
    "    #for all possible e- e+ pairs we fill invariant mass histogram\n",
    "    for pair in getZbosondecayCandidates(particles):\n",
    "        h.Fill(getMinv(pair))\n",
    "        #pythia.EventListing()\n",
    "        \n",
    "#normalizacja\n",
    "h.Scale(1/h.GetMaximum())"
   ]
  },
  {
   "cell_type": "code",
   "execution_count": 6,
   "metadata": {},
   "outputs": [
    {
     "data": {
      "text/html": [
       "\n",
       "\n",
       "<div id=\"root_plot_1649443139323\"\n",
       "     style=\"width: 796px; height: 572px\">\n",
       "</div>\n",
       "<script>\n",
       "\n",
       "function display_root_plot_1649443139323(Core) {\n",
       "   let obj = Core.parse({\"_typename\":\"TCanvas\",\"fUniqueID\":0,\"fBits\":3342344,\"fLineColor\":1,\"fLineStyle\":1,\"fLineWidth\":1,\"fFillColor\":0,\"fFillStyle\":1001,\"fLeftMargin\":0.1,\"fRightMargin\":0.1,\"fBottomMargin\":0.1,\"fTopMargin\":0.1,\"fXfile\":2,\"fYfile\":2,\"fAfile\":1,\"fXstat\":0.99,\"fYstat\":0.99,\"fAstat\":2,\"fFrameFillColor\":0,\"fFrameLineColor\":1,\"fFrameFillStyle\":1001,\"fFrameLineStyle\":1,\"fFrameLineWidth\":1,\"fFrameBorderSize\":1,\"fFrameBorderMode\":0,\"fX1\":64.9999996274709,\"fY1\":-0.131250009778888,\"fX2\":115.000000372529,\"fY2\":1.18125000977889,\"fXtoAbsPixelk\":-1034.79992864961,\"fXtoPixelk\":-1034.79992864961,\"fXtoPixel\":15.9199997627735,\"fYtoAbsPixelk\":514.800046590614,\"fYtoPixelk\":514.800046590614,\"fYtoPixel\":-435.809517315456,\"fUtoAbsPixelk\":5e-5,\"fUtoPixelk\":5e-5,\"fUtoPixel\":796,\"fVtoAbsPixelk\":572.00005,\"fVtoPixelk\":572,\"fVtoPixel\":-572,\"fAbsPixeltoXk\":64.9999996274709,\"fPixeltoXk\":64.9999996274709,\"fPixeltoX\":0.0628140712877615,\"fAbsPixeltoYk\":1.18125000977889,\"fPixeltoYk\":-0.131250009778888,\"fPixeltoY\":-0.00229458045377233,\"fXlowNDC\":0,\"fYlowNDC\":0,\"fXUpNDC\":1,\"fYUpNDC\":1,\"fWNDC\":1,\"fHNDC\":1,\"fAbsXlowNDC\":0,\"fAbsYlowNDC\":0,\"fAbsWNDC\":1,\"fAbsHNDC\":1,\"fUxmin\":70,\"fUymin\":0,\"fUxmax\":110,\"fUymax\":1.05,\"fTheta\":30,\"fPhi\":30,\"fAspectRatio\":0,\"fNumber\":0,\"fTickx\":0,\"fTicky\":0,\"fLogx\":0,\"fLogy\":0,\"fLogz\":0,\"fPadPaint\":0,\"fCrosshair\":0,\"fCrosshairPos\":0,\"fBorderSize\":2,\"fBorderMode\":0,\"fModified\":false,\"fGridx\":false,\"fGridy\":false,\"fAbsCoord\":false,\"fEditable\":true,\"fFixedAspectRatio\":false,\"fPrimitives\":{\"_typename\":\"TList\",\"name\":\"TList\",\"arr\":[{\"_typename\":\"TFrame\",\"fUniqueID\":0,\"fBits\":8,\"fLineColor\":1,\"fLineStyle\":1,\"fLineWidth\":1,\"fFillColor\":0,\"fFillStyle\":1001,\"fX1\":70,\"fY1\":0,\"fX2\":110,\"fY2\":1.05,\"fBorderSize\":1,\"fBorderMode\":0},{\"_typename\":\"TH1D\",\"fUniqueID\":0,\"fBits\":8,\"fName\":\"h\",\"fTitle\":\"\",\"fLineColor\":416,\"fLineStyle\":1,\"fLineWidth\":2,\"fFillColor\":0,\"fFillStyle\":1001,\"fMarkerColor\":1,\"fMarkerStyle\":1,\"fMarkerSize\":1,\"fNcells\":302,\"fXaxis\":{\"_typename\":\"TAxis\",\"fUniqueID\":0,\"fBits\":0,\"fName\":\"xaxis\",\"fTitle\":\"M_{#e^{-}e^{+}} with FSR off[GeV\\/#it{c}^{2}]\",\"fNdivisions\":510,\"fAxisColor\":1,\"fLabelColor\":1,\"fLabelFont\":42,\"fLabelOffset\":0.005,\"fLabelSize\":0.035,\"fTickLength\":0.03,\"fTitleOffset\":1.1,\"fTitleSize\":0.035,\"fTitleColor\":1,\"fTitleFont\":42,\"fNbins\":300,\"fXmin\":70,\"fXmax\":110,\"fXbins\":[],\"fFirst\":0,\"fLast\":0,\"fBits2\":0,\"fTimeDisplay\":false,\"fTimeFormat\":\"\",\"fLabels\":null,\"fModLabs\":null},\"fYaxis\":{\"_typename\":\"TAxis\",\"fUniqueID\":0,\"fBits\":0,\"fName\":\"yaxis\",\"fTitle\":\"Entries\",\"fNdivisions\":510,\"fAxisColor\":1,\"fLabelColor\":1,\"fLabelFont\":42,\"fLabelOffset\":0.005,\"fLabelSize\":0.035,\"fTickLength\":0.03,\"fTitleOffset\":0,\"fTitleSize\":0.035,\"fTitleColor\":1,\"fTitleFont\":42,\"fNbins\":1,\"fXmin\":0,\"fXmax\":1,\"fXbins\":[],\"fFirst\":0,\"fLast\":0,\"fBits2\":0,\"fTimeDisplay\":false,\"fTimeFormat\":\"\",\"fLabels\":null,\"fModLabs\":null},\"fZaxis\":{\"_typename\":\"TAxis\",\"fUniqueID\":0,\"fBits\":0,\"fName\":\"zaxis\",\"fTitle\":\"\",\"fNdivisions\":510,\"fAxisColor\":1,\"fLabelColor\":1,\"fLabelFont\":42,\"fLabelOffset\":0.005,\"fLabelSize\":0.035,\"fTickLength\":0.03,\"fTitleOffset\":1,\"fTitleSize\":0.035,\"fTitleColor\":1,\"fTitleFont\":42,\"fNbins\":1,\"fXmin\":0,\"fXmax\":1,\"fXbins\":[],\"fFirst\":0,\"fLast\":0,\"fBits2\":0,\"fTimeDisplay\":false,\"fTimeFormat\":\"\",\"fLabels\":null,\"fModLabs\":null},\"fBarOffset\":0,\"fBarWidth\":1000,\"fEntries\":10111,\"fTsumw\":35.044776119403,\"fTsumw2\":0.130764089997772,\"fTsumwx\":3125.34913220852,\"fTsumwx2\":279762.387898982,\"fMaximum\":-1111,\"fMinimum\":-1111,\"fNormFactor\":0,\"fContour\":[],\"fSumw2\":[0.0100105814212519,1.25306304299399e-4,1.11383381599465e-4,9.74604588995322e-5,8.3537536199599e-5,5.56916907997327e-5,1.80997995099131e-4,1.11383381599465e-4,9.74604588995322e-5,6.96146134996659e-5,8.3537536199599e-5,8.3537536199599e-5,1.67075072399198e-4,1.11383381599465e-4,5.56916907997327e-5,8.3537536199599e-5,8.3537536199599e-5,1.67075072399198e-4,1.25306304299399e-4,1.25306304299399e-4,1.25306304299399e-4,2.78458453998663e-5,1.11383381599465e-4,8.3537536199599e-5,6.96146134996659e-5,1.11383381599465e-4,8.3537536199599e-5,1.39229226999332e-4,5.56916907997327e-5,1.53152149699265e-4,1.94920917799064e-4,1.53152149699265e-4,1.53152149699265e-4,1.53152149699265e-4,1.39229226999332e-4,1.67075072399198e-4,1.53152149699265e-4,1.94920917799064e-4,2.08843840498998e-4,1.11383381599465e-4,1.67075072399198e-4,5.56916907997327e-5,6.96146134996659e-5,6.96146134996659e-5,2.08843840498998e-4,1.53152149699265e-4,5.56916907997327e-5,1.80997995099131e-4,1.39229226999332e-4,1.80997995099131e-4,1.39229226999332e-4,1.53152149699265e-4,9.74604588995322e-5,2.22766763198931e-4,1.25306304299399e-4,1.67075072399198e-4,1.39229226999332e-4,9.74604588995322e-5,2.22766763198931e-4,2.22766763198931e-4,9.74604588995322e-5,1.67075072399198e-4,1.25306304299399e-4,1.25306304299399e-4,1.80997995099131e-4,2.22766763198931e-4,2.36689685898864e-4,1.80997995099131e-4,1.25306304299399e-4,1.94920917799064e-4,2.78458453998663e-4,2.78458453998663e-4,2.78458453998663e-4,1.80997995099131e-4,1.11383381599465e-4,1.80997995099131e-4,2.36689685898864e-4,2.92381376698597e-4,2.08843840498998e-4,1.67075072399198e-4,2.22766763198931e-4,2.36689685898864e-4,2.08843840498998e-4,2.22766763198931e-4,1.94920917799064e-4,3.48073067498329e-4,2.50612608598797e-4,1.11383381599465e-4,2.08843840498998e-4,2.08843840498998e-4,2.92381376698597e-4,2.36689685898864e-4,2.92381376698597e-4,4.17687680997995e-4,1.25306304299399e-4,2.50612608598797e-4,1.94920917799064e-4,3.20227222098463e-4,2.92381376698597e-4,2.08843840498998e-4,3.48073067498329e-4,2.6453553129873e-4,3.48073067498329e-4,2.92381376698597e-4,3.61995990198262e-4,4.17687680997995e-4,2.50612608598797e-4,3.34150144798396e-4,3.75918912898196e-4,4.87302294497661e-4,2.92381376698597e-4,3.75918912898196e-4,4.59456449097795e-4,5.15148139897527e-4,3.48073067498329e-4,4.45533526397861e-4,5.84762753397193e-4,5.42993985297394e-4,5.15148139897527e-4,4.73379371797728e-4,5.98685676097126e-4,4.59456449097795e-4,4.31610603697928e-4,4.59456449097795e-4,6.68300289596792e-4,5.56916907997327e-4,4.31610603697928e-4,5.98685676097126e-4,6.40454444196926e-4,5.56916907997327e-4,6.12608598797059e-4,8.07529516596124e-4,7.10069057696592e-4,7.79683671196257e-4,6.26531521496993e-4,9.60681666295389e-4,9.04989975495656e-4,7.23991980396525e-4,0.00100245043439519,0.00118344842949432,9.18912898195589e-4,0.00132267765649365,0.00104421920249499,0.00132267765649365,0.00164290487859211,0.00146190688349298,0.00174036533749165,0.00171251949209178,0.00219982178658944,0.00222766763198931,0.00193528625529071,0.00231120516818891,0.0029795054577857,0.00267320115838717,0.00290989084428603,0.00303519714858543,0.00325796391178436,0.00373134328358209,0.00353642236578302,0.00366172867008242,0.00313265760748496,0.00336934729338383,0.00292381376698597,0.00279850746268657,0.00295165961238583,0.00238081978168857,0.00221374470928937,0.00201882379149031,0.00211628425038984,0.00169859656939185,0.00155936734239251,0.00119737135219425,0.00126698596569392,9.60681666295389e-4,8.7714413009579e-4,7.37914903096458e-4,8.91067052795723e-4,7.79683671196257e-4,6.54377366896859e-4,6.82223212296725e-4,5.42993985297394e-4,5.15148139897527e-4,5.98685676097126e-4,4.17687680997995e-4,4.31610603697928e-4,3.48073067498329e-4,4.03764758298062e-4,3.75918912898196e-4,3.20227222098463e-4,3.20227222098463e-4,2.92381376698597e-4,3.0630429939853e-4,4.45533526397861e-4,2.50612608598797e-4,2.6453553129873e-4,2.36689685898864e-4,1.94920917799064e-4,2.08843840498998e-4,1.94920917799064e-4,1.80997995099131e-4,2.08843840498998e-4,1.67075072399198e-4,1.53152149699265e-4,1.53152149699265e-4,2.78458453998663e-4,1.39229226999332e-4,4.17687680997995e-5,1.80997995099131e-4,1.11383381599465e-4,1.25306304299399e-4,1.39229226999332e-4,8.3537536199599e-5,1.39229226999332e-4,5.56916907997327e-5,1.39229226999332e-4,1.11383381599465e-4,1.11383381599465e-4,5.56916907997327e-5,5.56916907997327e-5,8.3537536199599e-5,9.74604588995322e-5,1.11383381599465e-4,8.3537536199599e-5,5.56916907997327e-5,9.74604588995322e-5,6.96146134996659e-5,2.78458453998663e-5,6.96146134996659e-5,6.96146134996659e-5,5.56916907997327e-5,8.3537536199599e-5,2.78458453998663e-5,6.96146134996659e-5,1.39229226999332e-5,0,2.78458453998663e-5,5.56916907997327e-5,2.78458453998663e-5,5.56916907997327e-5,6.96146134996659e-5,5.56916907997327e-5,5.56916907997327e-5,2.78458453998663e-5,4.17687680997995e-5,5.56916907997327e-5,2.78458453998663e-5,0,5.56916907997327e-5,2.78458453998663e-5,2.78458453998663e-5,4.17687680997995e-5,4.17687680997995e-5,2.78458453998663e-5,1.39229226999332e-5,4.17687680997995e-5,1.39229226999332e-5,1.39229226999332e-5,4.17687680997995e-5,0,2.78458453998663e-5,8.3537536199599e-5,5.56916907997327e-5,1.39229226999332e-5,0,1.39229226999332e-5,1.39229226999332e-5,5.56916907997327e-5,0,1.39229226999332e-5,2.78458453998663e-5,0,1.39229226999332e-5,5.56916907997327e-5,4.17687680997995e-5,4.17687680997995e-5,1.39229226999332e-5,1.39229226999332e-5,2.78458453998663e-5,0,1.39229226999332e-5,0,4.17687680997995e-5,1.39229226999332e-5,4.17687680997995e-5,1.39229226999332e-5,1.39229226999332e-5,1.39229226999332e-5,0,1.39229226999332e-5,0,0,0,2.78458453998663e-5,2.78458453998663e-5,2.78458453998663e-5,1.39229226999332e-5,1.39229226999332e-5,1.39229226999332e-5,0,1.39229226999332e-5,0,0],\"fOption\":\"\",\"fFunctions\":{\"_typename\":\"TList\",\"name\":\"TList\",\"arr\":[],\"opt\":[]},\"fBufferSize\":0,\"fBuffer\":[],\"fBinStatErrOpt\":0,\"fStatOverflows\":2,\"fArray\":[2.68283582089552,0.0335820895522388,0.0298507462686567,0.0261194029850746,0.0223880597014925,0.0149253731343284,0.0485074626865672,0.0298507462686567,0.0261194029850746,0.0186567164179104,0.0223880597014925,0.0223880597014925,0.0447761194029851,0.0298507462686567,0.0149253731343284,0.0223880597014925,0.0223880597014925,0.0447761194029851,0.0335820895522388,0.0335820895522388,0.0335820895522388,0.00746268656716418,0.0298507462686567,0.0223880597014925,0.0186567164179104,0.0298507462686567,0.0223880597014925,0.0373134328358209,0.0149253731343284,0.041044776119403,0.0522388059701493,0.041044776119403,0.041044776119403,0.041044776119403,0.0373134328358209,0.0447761194029851,0.041044776119403,0.0522388059701493,0.0559701492537313,0.0298507462686567,0.0447761194029851,0.0149253731343284,0.0186567164179104,0.0186567164179104,0.0559701492537313,0.041044776119403,0.0149253731343284,0.0485074626865672,0.0373134328358209,0.0485074626865672,0.0373134328358209,0.041044776119403,0.0261194029850746,0.0597014925373134,0.0335820895522388,0.0447761194029851,0.0373134328358209,0.0261194029850746,0.0597014925373134,0.0597014925373134,0.0261194029850746,0.0447761194029851,0.0335820895522388,0.0335820895522388,0.0485074626865672,0.0597014925373134,0.0634328358208955,0.0485074626865672,0.0335820895522388,0.0522388059701493,0.0746268656716418,0.0746268656716418,0.0746268656716418,0.0485074626865672,0.0298507462686567,0.0485074626865672,0.0634328358208955,0.0783582089552239,0.0559701492537313,0.0447761194029851,0.0597014925373134,0.0634328358208955,0.0559701492537313,0.0597014925373134,0.0522388059701493,0.0932835820895522,0.0671641791044776,0.0298507462686567,0.0559701492537313,0.0559701492537313,0.0783582089552239,0.0634328358208955,0.0783582089552239,0.111940298507463,0.0335820895522388,0.0671641791044776,0.0522388059701493,0.0858208955223881,0.0783582089552239,0.0559701492537313,0.0932835820895522,0.0708955223880597,0.0932835820895522,0.0783582089552239,0.0970149253731343,0.111940298507463,0.0671641791044776,0.0895522388059701,0.100746268656716,0.130597014925373,0.0783582089552239,0.100746268656716,0.123134328358209,0.138059701492537,0.0932835820895522,0.119402985074627,0.156716417910448,0.145522388059701,0.138059701492537,0.126865671641791,0.16044776119403,0.123134328358209,0.115671641791045,0.123134328358209,0.17910447761194,0.149253731343284,0.115671641791045,0.16044776119403,0.171641791044776,0.149253731343284,0.164179104477612,0.216417910447761,0.190298507462687,0.208955223880597,0.167910447761194,0.257462686567164,0.242537313432836,0.194029850746269,0.26865671641791,0.317164179104478,0.246268656716418,0.354477611940298,0.279850746268657,0.354477611940298,0.440298507462687,0.391791044776119,0.466417910447761,0.458955223880597,0.58955223880597,0.597014925373134,0.51865671641791,0.619402985074627,0.798507462686567,0.716417910447761,0.779850746268657,0.813432835820896,0.873134328358209,1,0.947761194029851,0.98134328358209,0.83955223880597,0.902985074626866,0.783582089552239,0.75,0.791044776119403,0.638059701492537,0.593283582089552,0.541044776119403,0.567164179104478,0.455223880597015,0.417910447761194,0.32089552238806,0.33955223880597,0.257462686567164,0.235074626865672,0.197761194029851,0.238805970149254,0.208955223880597,0.175373134328358,0.182835820895522,0.145522388059701,0.138059701492537,0.16044776119403,0.111940298507463,0.115671641791045,0.0932835820895522,0.108208955223881,0.100746268656716,0.0858208955223881,0.0858208955223881,0.0783582089552239,0.082089552238806,0.119402985074627,0.0671641791044776,0.0708955223880597,0.0634328358208955,0.0522388059701493,0.0559701492537313,0.0522388059701493,0.0485074626865672,0.0559701492537313,0.0447761194029851,0.041044776119403,0.041044776119403,0.0746268656716418,0.0373134328358209,0.0111940298507463,0.0485074626865672,0.0298507462686567,0.0335820895522388,0.0373134328358209,0.0223880597014925,0.0373134328358209,0.0149253731343284,0.0373134328358209,0.0298507462686567,0.0298507462686567,0.0149253731343284,0.0149253731343284,0.0223880597014925,0.0261194029850746,0.0298507462686567,0.0223880597014925,0.0149253731343284,0.0261194029850746,0.0186567164179104,0.00746268656716418,0.0186567164179104,0.0186567164179104,0.0149253731343284,0.0223880597014925,0.00746268656716418,0.0186567164179104,0.00373134328358209,0,0.00746268656716418,0.0149253731343284,0.00746268656716418,0.0149253731343284,0.0186567164179104,0.0149253731343284,0.0149253731343284,0.00746268656716418,0.0111940298507463,0.0149253731343284,0.00746268656716418,0,0.0149253731343284,0.00746268656716418,0.00746268656716418,0.0111940298507463,0.0111940298507463,0.00746268656716418,0.00373134328358209,0.0111940298507463,0.00373134328358209,0.00373134328358209,0.0111940298507463,0,0.00746268656716418,0.0223880597014925,0.0149253731343284,0.00373134328358209,0,0.00373134328358209,0.00373134328358209,0.0149253731343284,0,0.00373134328358209,0.00746268656716418,0,0.00373134328358209,0.0149253731343284,0.0111940298507463,0.0111940298507463,0.00373134328358209,0.00373134328358209,0.00746268656716418,0,0.00373134328358209,0,0.0111940298507463,0.00373134328358209,0.0111940298507463,0.00373134328358209,0.00373134328358209,0.00373134328358209,0,0.00373134328358209,0,0,0,0.00746268656716418,0.00746268656716418,0.00746268656716418,0.00373134328358209,0.00373134328358209,0.00373134328358209,0,0.00373134328358209,0,0]},{\"_typename\":\"TLegend\",\"fUniqueID\":0,\"fBits\":8,\"fLineColor\":1,\"fLineStyle\":1,\"fLineWidth\":1,\"fFillColor\":0,\"fFillStyle\":1001,\"fX1\":90,\"fY1\":0.787500003911555,\"fX2\":110.000000298023,\"fY2\":1.05000000782311,\"fX1NDC\":0.5,\"fY1NDC\":0.7,\"fX2NDC\":0.9,\"fY2NDC\":0.9,\"fBorderSize\":1,\"fInit\":1,\"fShadowColor\":1,\"fCornerRadius\":0,\"fOption\":\"brNDC\",\"fName\":\"TPave\",\"fTextAngle\":0,\"fTextSize\":0,\"fTextAlign\":12,\"fTextColor\":1,\"fTextFont\":42,\"fPrimitives\":{\"_typename\":\"TList\",\"name\":\"TList\",\"arr\":[{\"_typename\":\"TLegendEntry\",\"fUniqueID\":0,\"fBits\":0,\"fTextAngle\":0,\"fTextSize\":0,\"fTextAlign\":0,\"fTextColor\":0,\"fTextFont\":42,\"fLineColor\":416,\"fLineStyle\":1,\"fLineWidth\":2,\"fFillColor\":0,\"fFillStyle\":1001,\"fMarkerColor\":1,\"fMarkerStyle\":1,\"fMarkerSize\":1,\"fObject\":{\"$ref\":3},\"fLabel\":\"all e^{-}e^{+} pairs\",\"fOption\":\"lpf\"}],\"opt\":[\"lpf\"]},\"fEntrySeparation\":0.1,\"fMargin\":0.25,\"fNColumns\":1,\"fColumnSeparation\":0},{\"_typename\":\"TStyle\",\"fUniqueID\":0,\"fBits\":0,\"fName\":\"Modern\",\"fTitle\":\"Modern Style\",\"fLineColor\":1,\"fLineStyle\":1,\"fLineWidth\":1,\"fFillColor\":19,\"fFillStyle\":1001,\"fMarkerColor\":1,\"fMarkerStyle\":1,\"fMarkerSize\":1,\"fTextAngle\":0,\"fTextSize\":0.05,\"fTextAlign\":11,\"fTextColor\":1,\"fTextFont\":62,\"fXaxis\":{\"_typename\":\"TAttAxis\",\"fNdivisions\":510,\"fAxisColor\":1,\"fLabelColor\":1,\"fLabelFont\":42,\"fLabelOffset\":0.005,\"fLabelSize\":0.035,\"fTickLength\":0.03,\"fTitleOffset\":1,\"fTitleSize\":0.035,\"fTitleColor\":1,\"fTitleFont\":42},\"fYaxis\":{\"_typename\":\"TAttAxis\",\"fNdivisions\":510,\"fAxisColor\":1,\"fLabelColor\":1,\"fLabelFont\":42,\"fLabelOffset\":0.005,\"fLabelSize\":0.035,\"fTickLength\":0.03,\"fTitleOffset\":0,\"fTitleSize\":0.035,\"fTitleColor\":1,\"fTitleFont\":42},\"fZaxis\":{\"_typename\":\"TAttAxis\",\"fNdivisions\":510,\"fAxisColor\":1,\"fLabelColor\":1,\"fLabelFont\":42,\"fLabelOffset\":0.005,\"fLabelSize\":0.035,\"fTickLength\":0.03,\"fTitleOffset\":1,\"fTitleSize\":0.035,\"fTitleColor\":1,\"fTitleFont\":42},\"fBarWidth\":1,\"fBarOffset\":0,\"fColorModelPS\":0,\"fDrawBorder\":0,\"fOptLogx\":0,\"fOptLogy\":0,\"fOptLogz\":0,\"fOptDate\":0,\"fOptStat\":0,\"fOptTitle\":1,\"fOptFile\":0,\"fOptFit\":0,\"fShowEventStatus\":0,\"fShowEditor\":0,\"fShowToolBar\":0,\"fNumberContours\":20,\"fAttDate\":{\"_typename\":\"TAttText\",\"fTextAngle\":0,\"fTextSize\":0.025,\"fTextAlign\":11,\"fTextColor\":1,\"fTextFont\":62},\"fDateX\":0.01,\"fDateY\":0.01,\"fEndErrorSize\":2,\"fErrorX\":0.5,\"fFuncColor\":2,\"fFuncStyle\":1,\"fFuncWidth\":2,\"fGridColor\":0,\"fGridStyle\":3,\"fGridWidth\":1,\"fLegendBorderSize\":1,\"fLegendFillColor\":0,\"fLegendFont\":42,\"fLegendTextSize\":0,\"fHatchesLineWidth\":1,\"fHatchesSpacing\":1,\"fFrameFillColor\":0,\"fFrameLineColor\":1,\"fFrameFillStyle\":1001,\"fFrameLineStyle\":1,\"fFrameLineWidth\":1,\"fFrameBorderSize\":1,\"fFrameBorderMode\":0,\"fHistFillColor\":0,\"fHistLineColor\":602,\"fHistFillStyle\":1001,\"fHistLineStyle\":1,\"fHistLineWidth\":1,\"fHistMinimumZero\":false,\"fHistTopMargin\":0.05,\"fCanvasPreferGL\":false,\"fCanvasColor\":0,\"fCanvasBorderSize\":2,\"fCanvasBorderMode\":0,\"fCanvasDefH\":500,\"fCanvasDefW\":700,\"fCanvasDefX\":10,\"fCanvasDefY\":10,\"fPadColor\":0,\"fPadBorderSize\":2,\"fPadBorderMode\":0,\"fPadBottomMargin\":0.1,\"fPadTopMargin\":0.1,\"fPadLeftMargin\":0.1,\"fPadRightMargin\":0.1,\"fPadGridX\":false,\"fPadGridY\":false,\"fPadTickX\":0,\"fPadTickY\":0,\"fPaperSizeX\":20,\"fPaperSizeY\":26,\"fScreenFactor\":1,\"fStatColor\":0,\"fStatTextColor\":1,\"fStatBorderSize\":1,\"fStatFont\":42,\"fStatFontSize\":0,\"fStatStyle\":1001,\"fStatFormat\":\"6.4g\",\"fStatX\":0.98,\"fStatY\":0.935,\"fStatW\":0.2,\"fStatH\":0.16,\"fStripDecimals\":true,\"fTitleAlign\":23,\"fTitleColor\":0,\"fTitleTextColor\":1,\"fTitleBorderSize\":0,\"fTitleFont\":42,\"fTitleFontSize\":0.05,\"fTitleStyle\":0,\"fTitleX\":0.5,\"fTitleY\":0.995,\"fTitleW\":0,\"fTitleH\":0,\"fLegoInnerR\":0.5,\"fLineStyle\":[\"\",\"  \",\" 12 12\",\" 4 8\",\" 12 16 4 16\",\" 20 12 4 12\",\" 20 12 4 12 4 12 4 12\",\" 20 20\",\" 20 12 4 12 4 12\",\" 80 20\",\" 80 40 4 40\",\"  \",\"  \",\"  \",\"  \",\"  \",\"  \",\"  \",\"  \",\"  \",\"  \",\"  \",\"  \",\"  \",\"  \",\"  \",\"  \",\"  \",\"  \",\"  \"],\"fHeaderPS\":\"\",\"fTitlePS\":\"\",\"fFitFormat\":\"5.4g\",\"fPaintTextFormat\":\"g\",\"fLineScalePS\":3,\"fJoinLinePS\":0,\"fCapLinePS\":0,\"fTimeOffset\":788918400,\"fImageScaling\":1}],\"opt\":[\"\",\"HIST\",\"\",\"\"]},\"fExecs\":null,\"fName\":\"c1\",\"fTitle\":\"\",\"fNumPaletteColor\":0,\"fNextPaletteColor\":0,\"fDISPLAY\":\"$DISPLAY\",\"fDoubleBuffer\":0,\"fRetained\":true,\"fXsizeUser\":0,\"fYsizeUser\":0,\"fXsizeReal\":20,\"fYsizeReal\":15,\"fWindowTopX\":0,\"fWindowTopY\":0,\"fWindowWidth\":0,\"fWindowHeight\":0,\"fCw\":796,\"fCh\":572,\"fCatt\":{\"_typename\":\"TAttCanvas\",\"fXBetween\":2,\"fYBetween\":2,\"fTitleFromTop\":1.2,\"fXdate\":0.2,\"fYdate\":0.3,\"fAdate\":1},\"kMoveOpaque\":true,\"kResizeOpaque\":true,\"fHighLightColor\":2,\"fBatch\":true,\"kShowEventStatus\":false,\"kAutoExec\":true,\"kMenuBar\":true});\n",
       "   Core.settings.HandleKeys = false;\n",
       "   Core.draw(\"root_plot_1649443139323\", obj, \"\");\n",
       "}\n",
       "\n",
       "function script_load_root_plot_1649443139323(src, on_error) {\n",
       "    let script = document.createElement('script');\n",
       "    script.src = src;\n",
       "    script.onload = function() { display_root_plot_1649443139323(JSROOT); };\n",
       "    script.onerror = function() { script.remove(); on_error(); };\n",
       "    document.head.appendChild(script);\n",
       "}\n",
       "\n",
       "if (typeof requirejs !== 'undefined') {\n",
       "\n",
       "    // We are in jupyter notebooks, use require.js which should be configured already\n",
       "    requirejs.config({\n",
       "       paths: { 'JSRootCore' : [ 'scripts/JSRoot.core', 'https://root.cern/js/6.1.1/scripts/JSRoot.core.min', 'https://jsroot.gsi.de/6.1.1/scripts/JSRoot.core.min' ] }\n",
       "    })(['JSRootCore'],  function(Core) {\n",
       "       display_root_plot_1649443139323(Core);\n",
       "    });\n",
       "\n",
       "} else if (typeof JSROOT !== 'undefined') {\n",
       "\n",
       "   // JSROOT already loaded, just use it\n",
       "   display_root_plot_1649443139323(JSROOT);\n",
       "\n",
       "} else {\n",
       "\n",
       "    // We are in jupyterlab without require.js, directly loading jsroot\n",
       "    // Jupyterlab might be installed in a different base_url so we need to know it.\n",
       "    try {\n",
       "        var base_url = JSON.parse(document.getElementById('jupyter-config-data').innerHTML).baseUrl;\n",
       "    } catch(_) {\n",
       "        var base_url = '/';\n",
       "    }\n",
       "\n",
       "    // Try loading a local version of requirejs and fallback to cdn if not possible.\n",
       "    script_load_root_plot_1649443139323(base_url + 'static/scripts/JSRoot.core.js', function(){\n",
       "        console.error('Fail to load JSROOT locally, please check your jupyter_notebook_config.py file');\n",
       "        script_load_root_plot_1649443139323('https://root.cern/js/6.1.1/scripts/JSRoot.core.min.js', function(){\n",
       "            document.getElementById(\"root_plot_1649443139323\").innerHTML = \"Failed to load JSROOT\";\n",
       "        });\n",
       "    });\n",
       "}\n",
       "\n",
       "</script>\n"
      ],
      "text/plain": [
       "<IPython.core.display.HTML object>"
      ]
     },
     "metadata": {},
     "output_type": "display_data"
    }
   ],
   "source": [
    "#Plot\n",
    "c1_kstar = ROOT.TCanvas(\"c1\",\"\",800,600)\n",
    "ROOT.gStyle.SetOptStat(0)\n",
    "h.GetXaxis().SetTitle(\"M_{#e^{-}e^{+}} with FSR off[GeV/#it{c}^{2}]\")\n",
    "h.GetXaxis().SetTitleOffset(1.1)\n",
    "h.GetYaxis().SetTitle(\"Entries\")\n",
    "h.SetLineColor(ROOT.kGreen)\n",
    "h.SetLineWidth(2)\n",
    "h.Draw(\"HIST\")\n",
    "\n",
    "leg=ROOT.TLegend(0.5,0.7,0.9,0.9)\n",
    "leg.AddEntry(h,\"all e^{-}e^{+} pairs\")\n",
    "leg.Draw()\n",
    "c1_kstar.Draw()"
   ]
  },
  {
   "cell_type": "code",
   "execution_count": null,
   "metadata": {},
   "outputs": [],
   "source": []
  }
 ],
 "metadata": {
  "kernelspec": {
   "display_name": "Python 3",
   "language": "python",
   "name": "python3"
  },
  "language_info": {
   "codemirror_mode": {
    "name": "ipython",
    "version": 3
   },
   "file_extension": ".py",
   "mimetype": "text/x-python",
   "name": "python",
   "nbconvert_exporter": "python",
   "pygments_lexer": "ipython3",
   "version": "3.9.7"
  }
 },
 "nbformat": 4,
 "nbformat_minor": 4
}
