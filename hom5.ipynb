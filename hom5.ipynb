{
 "cells": [
  {
   "cell_type": "markdown",
   "metadata": {},
   "source": [
    "Libraries"
   ]
  },
  {
   "cell_type": "code",
   "execution_count": 65,
   "metadata": {},
   "outputs": [],
   "source": [
    "import math\n",
    "from ROOT import *\n",
    "import numpy as np\n",
    "from array import array\n",
    "import glob\n",
    "\n",
    "# For inline image display\n",
    "from IPython.display import Image"
   ]
  },
  {
   "cell_type": "markdown",
   "metadata": {},
   "source": [
    "Settings"
   ]
  },
  {
   "cell_type": "code",
   "execution_count": 66,
   "metadata": {},
   "outputs": [],
   "source": [
    "# Set ROOT graphics options\n",
    "\n",
    "gROOT.SetStyle(\"Plain\")\n",
    "\n",
    "# Default canvas  size\n",
    "\n",
    "gStyle.SetCanvasDefW(600)\n",
    "gStyle.SetCanvasDefH(400)\n",
    " \n",
    "# set the margins\n",
    "  \n",
    "gStyle.SetPadBottomMargin(0.18)\n",
    "gStyle.SetPadTopMargin(0.08)\n",
    "gStyle.SetPadRightMargin(0.08)\n",
    "gStyle.SetPadLeftMargin(0.17)\n",
    "\n",
    "# set the number of divisions to show\n",
    "\n",
    "gStyle.SetNdivisions(510, \"xy\")\n",
    "\n",
    "# show grid\n",
    "\n",
    "gStyle.SetPadGridX(1)\n",
    "gStyle.SetPadGridY(1)\n",
    "\n",
    "# border ploted only around statistics\n",
    "\n",
    "gStyle.SetPadBorderMode(0)\n",
    "gStyle.SetFrameBorderMode(0)\n",
    "gStyle.SetLegendBorderSize(0)\n",
    "gStyle.SetTitleBorderSize(0)\n",
    "gStyle.SetStatBorderSize(1)\n",
    "\n",
    "# Text sizes\n",
    "\n",
    "gStyle.SetTextSize(0.05)\n",
    "gStyle.SetTitleSize(0.06,\"xyz\")\n",
    "gStyle.SetLabelSize(0.05,\"xyz\")\n",
    "\n",
    "gStyle.SetLabelOffset(0.015,\"xyz\")\n",
    "gStyle.SetTitleOffset(1.2,\"yz\")\n",
    "gStyle.SetTitleOffset(1.0,\"x\")\n",
    "\n",
    "# Font settings\n",
    "\n",
    "font = 42\n",
    "gStyle.SetTitleFont(font)\n",
    "gStyle.SetTitleFontSize(0.05)\n",
    "gStyle.SetStatFont(font)\n",
    "gStyle.SetStatFontSize(0.06)\n",
    "gStyle.SetTextFont(font)\n",
    "gStyle.SetLabelFont(font,\"xyz\")\n",
    "gStyle.SetTitleFont(font,\"xyz\")\n",
    "gStyle.SetLegendFont(font)\n",
    "\n",
    "# Line settings\n",
    "\n",
    "gStyle.SetHistLineWidth(2)\n",
    "gStyle.SetFrameLineWidth(2)\n",
    "gStyle.SetFuncWidth(2)\n",
    "gStyle.SetHistLineColor(kBlue)\n",
    "gStyle.SetFuncColor(kRed)\n",
    "\n",
    "# Log scale\n",
    "gStyle.SetOptLogy(0)\n",
    "\n",
    "# Histogram title\n",
    "gStyle.SetOptTitle(1)  \n",
    "\n",
    "# Histogram statistics\n",
    "gStyle.SetOptStat(1100)\n",
    "\n",
    "# Fit results\n",
    "gStyle.SetOptFit(0) \n"
   ]
  },
  {
   "cell_type": "markdown",
   "metadata": {},
   "source": [
    "Access data in files"
   ]
  },
  {
   "cell_type": "code",
   "execution_count": 67,
   "metadata": {},
   "outputs": [
    {
     "name": "stdout",
     "output_type": "stream",
     "text": [
      "6  input data files available\n",
      "Reading input file  uhcr_1.dat\n",
      "176  measurement points read\n"
     ]
    }
   ],
   "source": [
    "# Input files to consider\n",
    "\n",
    "# allfiles= glob.glob('uhcr_*.dat')\n",
    "\n",
    "allfiles = ['uhcr_1.dat','uhcr_2.dat','uhcr_3.dat','uhcr_4.dat','uhcr_5.dat','uhcr_6.dat']\n",
    "\n",
    "print(len(allfiles),' input data files available')\n",
    "\n",
    "# select one of the files for analysis \n",
    "\n",
    "myfile = allfiles[0]\n",
    "\n",
    "print ('Reading input file ',myfile)\n",
    "data= np.loadtxt(myfile,skiprows=1)\n",
    "\n",
    "x_pos, y_pos, t_peak, a_peak = array( 'd' ), array( 'd' ), array( 'd' ), array( 'd' )\n",
    "z_pos = array('d')\n",
    "\n",
    "npos = data[:,0].size\n",
    "\n",
    "# Access data columns\n",
    "\n",
    "for i in range(npos):\n",
    "    x_pos.append(data[i,0])    # antenna position x (m)\n",
    "    y_pos.append(data[i,1])    # antenna position y (m)\n",
    "    z_pos.append(0)\n",
    "    # t_peak.append(data[i,2])   # pulse peak time (s) - convert to micro seconds\n",
    "    t_peak.append(1000000.*data[i,2])   # pulse peak time (s) - convert to micro seconds\n",
    "    a_peak.append(data[i,3])   # pulse peak amplitude (micro-volt)\n",
    "    \n",
    "print (npos,' measurement points read')\n",
    "\n",
    "# ROOT does not see numpy array, so we have to copy the data in the numpy array to the array from array package\n",
    "# array package is seen by ROOT"
   ]
  },
  {
   "cell_type": "markdown",
   "metadata": {},
   "source": [
    "Plot our data"
   ]
  },
  {
   "cell_type": "code",
   "execution_count": 68,
   "metadata": {},
   "outputs": [],
   "source": [
    "# # Create 2D graph of measured pulse amplitudes\n",
    "\n",
    "# agr = TGraph2D(\"agr\",\"Radio pulse amplitude\",npos,x_pos,y_pos,a_peak)   # the last three parameters are not numpy arrays\n",
    "#                                                                         # they are arrays from array package \n",
    "\n",
    "# # Create 2D graph of measured pulse arrival times\n",
    "\n",
    "# tgr = TGraph2D(\"tgr\",\"Radio pulse arrival time\",npos,x_pos,y_pos,t_peak)    # the same situation as above\n",
    "\n",
    "# # Set graph options\n",
    "\n",
    "# agr.SetMarkerStyle(20)\n",
    "# agr.GetXaxis().SetTitle(\"X (East) [m]\")\n",
    "# agr.GetYaxis().SetTitle(\"Y (North) [m]\")\n",
    "# agr.GetZaxis().SetTitle(\"A   [#muV]\")\n",
    "# agr.GetXaxis().SetTitleOffset(1.5)\n",
    "# agr.GetYaxis().SetTitleOffset(1.8)\n",
    "\n",
    "# tgr.SetMarkerStyle(20)\n",
    "# tgr.GetXaxis().SetTitle(\"X (East) [m]\")\n",
    "# tgr.GetYaxis().SetTitle(\"Y (North) [m]\")\n",
    "\n",
    "# tgr.GetZaxis().SetTitle(\"t   [#mus]\")\n",
    "# tgr.GetXaxis().SetTitleOffset(1.5)\n",
    "# tgr.GetYaxis().SetTitleOffset(1.8)\n",
    "\n",
    "# # Plot shower profiles\n",
    "\n",
    "# csh = TCanvas(\"csh\",\"UHCR profile\",800,400)\n",
    "# csh.Divide(2,1)\n",
    "\n",
    "# csh.cd(1)\n",
    "# agr.Draw(\"P\")\n",
    "\n",
    "# # Log scale for amplitude ?\n",
    "# csh.GetPad(1).SetLogz(1)\n",
    "\n",
    "# csh.cd(2)\n",
    "# tgr.Draw(\"P\")\n",
    "\n",
    "# csh.Update()\n",
    "# csh.Print('shprofile.png')\n",
    "\n",
    "# Image(filename='shprofile.png')\n",
    "\n",
    "# # 1 image - shape of the shower profile\n",
    "# # 2 image - the direction perp to this plane gives the direction from the shower"
   ]
  },
  {
   "cell_type": "code",
   "execution_count": 69,
   "metadata": {},
   "outputs": [],
   "source": [
    "# # Define 2D shower profile (2D Gauss distribution)\n",
    "\n",
    "# def shprof(x,par):  # our fit function\n",
    "#     x0   = par[0]\n",
    "#     y0   = par[1]\n",
    "#     sig_x = par[2]\n",
    "#     sig_y = par[3]\n",
    "#     rho   = par[4]\n",
    "#     amp   = par[5]\n",
    "    \n",
    "#     dx = x[0] - x0\n",
    "#     dy = x[1] - y0\n",
    "    \n",
    "#     arg = dx*dx/sig_x/sig_x + dy*dy/sig_y/sig_y - 2*rho*dx*dy/sig_x/sig_y\n",
    "    \n",
    "#     return amp*exp(-0.5*arg/(1-rho*rho))\n",
    "\n",
    "# fprof=TF2(\"fprof\",shprof,-1000.,1000.,-1000.,1000.,6)\n",
    "\n",
    "# fprof.SetTitle(\"2D Gauss profile\")\n",
    "\n",
    "# # Initialize function parameters\n",
    "\n",
    "# fprof.SetParameter(0,0.)    \n",
    "# fprof.SetParameter(1,0.) \n",
    "# fprof.SetParameter(2,300.)    \n",
    "# fprof.SetParameter(3,300.) \n",
    "# fprof.SetParameter(4,0.)    \n",
    "# fprof.SetParameter(5,np.max(a_peak)) \n",
    "\n",
    "# fprof.SetNpx(100)\n",
    "# fprof.SetNpy(100)\n",
    "\n",
    "# fprof.GetXaxis().SetTitle(\"X (East) [m]\")\n",
    "# fprof.GetYaxis().SetTitle(\"Y (North) [m]\")\n",
    "# fprof.GetZaxis().SetTitle(\"A   [#muV]\")\n",
    "# fprof.GetXaxis().SetTitleOffset(1.5)\n",
    "# fprof.GetYaxis().SetTitleOffset(1.8)\n",
    "\n",
    "# # Draw function (for test)\n",
    "\n",
    "# csh2 = TCanvas('csh2',\"Shower profile\",400,400)\n",
    "\n",
    "# fprof.Draw(\"surf2\")\n",
    "\n",
    "# csh2.Update()\n",
    "# csh2.Print('fprof.png')\n",
    "\n",
    "# Image(filename='fprof.png')"
   ]
  },
  {
   "cell_type": "code",
   "execution_count": 70,
   "metadata": {},
   "outputs": [],
   "source": [
    "# # Fit profile to 2D graph\n",
    "\n",
    "# agr.Fit(fprof)\n",
    "\n",
    "# # Extract fit results\n",
    "\n",
    "# x0 = fprof.GetParameter(0)\n",
    "# y0 = fprof.GetParameter(1)\n",
    "\n",
    "# print(\"Position of the shower axis: \",x0,\" m (W->E), \",y0,\" m (S->N)\")\n",
    "\n",
    "# # Draw data (interpolated) and fitted function \n",
    "\n",
    "# csh3 = TCanvas('csh3',\"Shower profile fit\",800,400)\n",
    "\n",
    "# csh3.Divide(2,1)\n",
    "# csh3.cd(1)\n",
    "\n",
    "# agr.Draw(\"surf7\")\n",
    "# # csh3.GetPad(1).SetLogz(1)\n",
    "\n",
    "# csh3.cd(2)\n",
    "# fprof.Draw(\"surf7\")\n",
    "# fprof.SetMinimum(0.3)\n",
    "# # csh3.GetPad(2).SetLogz(1)\n",
    "\n",
    "# csh3.Update()\n",
    "# csh3.Print('fitprof.png')\n",
    "\n",
    "# Image(filename='fitprof.png')"
   ]
  },
  {
   "cell_type": "markdown",
   "metadata": {},
   "source": [
    "Maybe we have to somehow derive z cooridnate. Having x,y,z Cartesian coordinates we can transform them into speherical coordinates. "
   ]
  },
  {
   "cell_type": "code",
   "execution_count": 71,
   "metadata": {},
   "outputs": [],
   "source": [
    "# transfer data from array type from array library to numpy array\n",
    "\n",
    "x_pos_numpy = np.array([])\n",
    "y_pos_numpy = np.array([])\n",
    "z_pos_numpy = np.array([])\n",
    "\n",
    "for i in range(npos):\n",
    "    x_pos_numpy = np.append(x_pos_numpy, x_pos[i])\n",
    "    y_pos_numpy = np.append(y_pos_numpy, y_pos[i])\n",
    "    z_pos_numpy = np.append(z_pos_numpy, z_pos[i])\n",
    "\n",
    "r = np.sqrt(x_pos_numpy ** 2 + y_pos_numpy ** 2 + z_pos_numpy ** 2)\n",
    "phi = np.arctan2(y_pos_numpy, x_pos_numpy)\n",
    "theta = np.arccos(z_pos_numpy, r)\n",
    "\n",
    "phi_deg = phi * 180 / np.pi\n",
    "theta_deg = theta * 180 / np.pi\n",
    "\n",
    "phi_ar = array('d')\n",
    "theta_ar = array('d')\n",
    "\n",
    "for i in range(npos):\n",
    "    phi_ar.append(phi_deg[i]) \n",
    "    theta_ar.append(theta_deg[i]) "
   ]
  },
  {
   "cell_type": "markdown",
   "metadata": {},
   "source": [
    "Plot $\\phi$ and $\\theta$ "
   ]
  },
  {
   "cell_type": "code",
   "execution_count": 72,
   "metadata": {},
   "outputs": [
    {
     "data": {
      "image/png": "[encoded data removed]",
      "text/plain": [
       "<IPython.core.display.Image object>"
      ]
     },
     "execution_count": 72,
     "metadata": {},
     "output_type": "execute_result"
    },
    {
     "name": "stderr",
     "output_type": "stream",
     "text": [
      "Warning in <TROOT::Append>: Replacing existing TGraph2D: agr (Potential memory leak).\n",
      "Warning in <TROOT::Append>: Replacing existing TGraph2D: tgr (Potential memory leak).\n",
      "Warning in <TCanvas::Constructor>: Deleting canvas with same name: csh\n",
      "Info in <TCanvas::Print>: png file shprofile.png has been created\n"
     ]
    }
   ],
   "source": [
    "# Create 2D graph of measured pulse amplitudes\n",
    "\n",
    "agr = TGraph2D(\"agr\",\"Phi angle\",npos,x_pos,y_pos, phi_ar)   # the last three parameters are not numpy arrays\n",
    "                                                                        # they are arrays from array package \n",
    "\n",
    "# Create 2D graph of measured pulse arrival times\n",
    "\n",
    "tgr = TGraph2D(\"tgr\",\"Theta angle\",npos,x_pos,y_pos, theta_ar)    # the same situation as above\n",
    "\n",
    "# Set graph options\n",
    "\n",
    "agr.SetMarkerStyle(20)\n",
    "agr.GetXaxis().SetTitle(\"X (East) [m]\")\n",
    "agr.GetYaxis().SetTitle(\"Y (North) [m]\")\n",
    "agr.GetZaxis().SetTitle(\"#phi in degrees  \")\n",
    "# agr.GetXaxis().SetTitleOffset(1.5)\n",
    "# agr.GetYaxis().SetTitleOffset(1.8)\n",
    "\n",
    "tgr.SetMarkerStyle(20)\n",
    "tgr.GetXaxis().SetTitle(\"X (East) [m]\")\n",
    "tgr.GetYaxis().SetTitle(\"Y (North) [m]\")\n",
    "\n",
    "tgr.GetZaxis().SetTitle(\"#theta in degrees\")\n",
    "tgr.GetXaxis().SetTitleOffset(1.5)\n",
    "tgr.GetYaxis().SetTitleOffset(1.8)\n",
    "\n",
    "# Plot shower profiles\n",
    "\n",
    "csh = TCanvas(\"csh\",\"UHCR profile\",800,400)\n",
    "csh.Divide(2,1)\n",
    "\n",
    "csh.cd(1)\n",
    "agr.Draw(\"P\")\n",
    "\n",
    "# Log scale for amplitude ?\n",
    "# csh.GetPad(1).SetLogz(1)\n",
    "\n",
    "csh.cd(2)\n",
    "tgr.Draw(\"P\")\n",
    "\n",
    "csh.Update()\n",
    "csh.Print('shprofile.png')\n",
    "\n",
    "Image(filename='shprofile.png')\n",
    "\n",
    "# 1 image - shape of the shower profile\n",
    "# 2 image - the direction perp to this plane gives the direction from the shower"
   ]
  },
  {
   "cell_type": "code",
   "execution_count": 73,
   "metadata": {},
   "outputs": [
    {
     "data": {
      "image/png": "[encoded data removed]",
      "text/plain": [
       "<IPython.core.display.Image object>"
      ]
     },
     "execution_count": 73,
     "metadata": {},
     "output_type": "execute_result"
    },
    {
     "name": "stderr",
     "output_type": "stream",
     "text": [
      "Warning in <TCanvas::Constructor>: Deleting canvas with same name: csh2\n",
      "Info in <TCanvas::Print>: png file fprof.png has been created\n"
     ]
    }
   ],
   "source": [
    "import scipy.constants\n",
    "\n",
    "c = scipy.constants.c\n",
    "\n",
    "def fitfunc(t, par):\n",
    "        x = t[0] # x center\n",
    "        y = t[1] #y center\n",
    "\n",
    "        theta = par[0]\n",
    "        phi = par[1]\n",
    "\n",
    "        # tmp = (1 / c) * (- x * np.sin(theta) * np.cos(phi) - y * np.sin(theta) * np.sin(phi))\n",
    "        tmp =  (- x * np.sin(theta) * np.cos(phi) - y * np.sin(theta) * np.sin(phi)) \n",
    "\n",
    "        return c * tmp\n",
    "\n",
    "fprof=TF2(\"fprof\",fitfunc,-1000.,1000.,-1000.,1000.,2)\n",
    "\n",
    "fprof.SetTitle(\"2D Gauss profile\")\n",
    "\n",
    "# Initialize function parameters\n",
    "\n",
    "fprof.SetParameter(0,0.)    \n",
    "fprof.SetParameter(1,0.) \n",
    "fprof.SetParameter(2,300.)    \n",
    "fprof.SetParameter(3,300.) \n",
    "fprof.SetParameter(4,0.)    \n",
    "fprof.SetParameter(5,np.max(t_peak)) \n",
    "\n",
    "fprof.SetNpx(100)\n",
    "fprof.SetNpy(100)\n",
    "\n",
    "fprof.GetXaxis().SetTitle(\"X (East) [m]\")\n",
    "fprof.GetYaxis().SetTitle(\"Y (North) [m]\")\n",
    "fprof.GetZaxis().SetTitle(\"A   [#muV]\")\n",
    "fprof.GetXaxis().SetTitleOffset(1.5)\n",
    "fprof.GetYaxis().SetTitleOffset(1.8)\n",
    "\n",
    "# Draw function (for test)\n",
    "\n",
    "csh2 = TCanvas('csh2',\"Shower profile\",400,400)\n",
    "\n",
    "fprof.Draw(\"surf2\")\n",
    "\n",
    "csh2.Update()\n",
    "csh2.Print('fprof.png')\n",
    "\n",
    "Image(filename='fprof.png')"
   ]
  },
  {
   "cell_type": "code",
   "execution_count": 74,
   "metadata": {},
   "outputs": [
    {
     "data": {
      "image/png": "[encoded data removed]",
      "text/plain": [
       "<IPython.core.display.Image object>"
      ]
     },
     "execution_count": 74,
     "metadata": {},
     "output_type": "execute_result"
    },
    {
     "name": "stderr",
     "output_type": "stream",
     "text": [
      "Warning in <TROOT::Append>: Replacing existing TGraph2D: agr (Potential memory leak).\n",
      "Warning in <TROOT::Append>: Replacing existing TGraph2D: tgr (Potential memory leak).\n",
      "Warning in <TCanvas::Constructor>: Deleting canvas with same name: csh\n",
      "Info in <TCanvas::Print>: png file shprofile.png has been created\n"
     ]
    }
   ],
   "source": [
    "# Create 2D graph of measured pulse amplitudes\n",
    "\n",
    "agr = TGraph2D(\"agr\",\"Radio pulse amplitude\",npos,x_pos,y_pos,a_peak)   # the last three parameters are not numpy arrays\n",
    "                                                                        # they are arrays from array package \n",
    "\n",
    "# Create 2D graph of measured pulse arrival times\n",
    "\n",
    "tgr = TGraph2D(\"tgr\",\"Radio pulse arrival time\",npos,x_pos,y_pos,t_peak)    # the same situation as above\n",
    "\n",
    "# Set graph options\n",
    "\n",
    "agr.SetMarkerStyle(20)\n",
    "agr.GetXaxis().SetTitle(\"X (East) [m]\")\n",
    "agr.GetYaxis().SetTitle(\"Y (North) [m]\")\n",
    "agr.GetZaxis().SetTitle(\"A   [#muV]\")\n",
    "agr.GetXaxis().SetTitleOffset(1.5)\n",
    "agr.GetYaxis().SetTitleOffset(1.8)\n",
    "\n",
    "tgr.SetMarkerStyle(20)\n",
    "tgr.GetXaxis().SetTitle(\"X (East) [m]\")\n",
    "tgr.GetYaxis().SetTitle(\"Y (North) [m]\")\n",
    "\n",
    "tgr.GetZaxis().SetTitle(\"t   [#mus]\")\n",
    "tgr.GetXaxis().SetTitleOffset(1.5)\n",
    "tgr.GetYaxis().SetTitleOffset(1.8)\n",
    "\n",
    "# Plot shower profiles\n",
    "\n",
    "csh = TCanvas(\"csh\",\"UHCR profile\",800,400)\n",
    "csh.Divide(2,1)\n",
    "\n",
    "csh.cd(1)\n",
    "agr.Draw(\"P\")\n",
    "\n",
    "# Log scale for amplitude ?\n",
    "csh.GetPad(1).SetLogz(1)\n",
    "\n",
    "csh.cd(2)\n",
    "tgr.Draw(\"P\")\n",
    "\n",
    "csh.Update()\n",
    "csh.Print('shprofile.png')\n",
    "\n",
    "Image(filename='shprofile.png')\n",
    "\n",
    "# 1 image - shape of the shower profile\n",
    "# 2 image - the direction perp to this plane gives the direction from the shower"
   ]
  },
  {
   "cell_type": "code",
   "execution_count": 75,
   "metadata": {},
   "outputs": [
    {
     "name": "stdout",
     "output_type": "stream",
     "text": [
      "Fitted parameters:  7.225646078979078e-12  phi angle in radians,  1.5616065939573167  theta angle in radians\n"
     ]
    },
    {
     "data": {
      "image/png": "[encoded data removed]",
      "text/plain": [
       "<IPython.core.display.Image object>"
      ]
     },
     "execution_count": 75,
     "metadata": {},
     "output_type": "execute_result"
    },
    {
     "name": "stdout",
     "output_type": "stream",
     "text": [
      "\n",
      "****************************************\n",
      "Minimizer is Minuit / Migrad\n",
      "Chi2                      =       34.864\n",
      "NDf                       =          174\n",
      "Edm                       =  6.87865e-07\n",
      "NCalls                    =          136\n",
      "p0                        =  7.22565e-12   +/-   2.49727e-13 \n",
      "p1                        =      1.56161   +/-   0.0424725   \n"
     ]
    },
    {
     "name": "stderr",
     "output_type": "stream",
     "text": [
      "Warning in <TCanvas::Constructor>: Deleting canvas with same name: csh3\n",
      "Info in <TCanvas::Print>: png file fitprof.png has been created\n"
     ]
    }
   ],
   "source": [
    "# Fit profile to 2D graph\n",
    "\n",
    "tgr.Fit(fprof)\n",
    "\n",
    "# Extract fit results\n",
    "\n",
    "x0 = fprof.GetParameter(0)\n",
    "y0 = fprof.GetParameter(1)\n",
    "\n",
    "print(\"Fitted parameters: \",x0,\" phi angle in radians, \",y0,\" theta angle in radians\")\n",
    "\n",
    "# Draw data (interpolated) and fitted function \n",
    "\n",
    "csh3 = TCanvas('csh3',\"Shower profile fit\",800,400)\n",
    "\n",
    "# csh3.Divide(2,1)\n",
    "# csh3.cd(1)\n",
    "\n",
    "tgr.Draw(\"surf7\")\n",
    "# csh3.GetPad(1).SetLogz(1)\n",
    "\n",
    "# csh3.cd(2)\n",
    "# fprof.Draw(\"surf7\")\n",
    "# fprof.SetMinimum(0.3)\n",
    "# csh3.GetPad(2).SetLogz(1)\n",
    "\n",
    "csh3.Update()\n",
    "csh3.Print('fitprof.png')\n",
    "\n",
    "Image(filename='fitprof.png')"
   ]
  },
  {
   "cell_type": "code",
   "execution_count": 76,
   "metadata": {},
   "outputs": [
    {
     "name": "stdout",
     "output_type": "stream",
     "text": [
      "4.139990245807531e-10 89.4734670935539\n"
     ]
    }
   ],
   "source": [
    "print(np.degrees(x0), np.degrees(y0))"
   ]
  },
  {
   "cell_type": "code",
   "execution_count": null,
   "metadata": {},
   "outputs": [],
   "source": []
  }
 ],
 "metadata": {
  "interpreter": {
   "hash": "31f2aee4e71d21fbe5cf8b01ff0e069b9275f58929596ceb00d14d90e3e16cd6"
  },
  "kernelspec": {
   "display_name": "Python 3.9.7 64-bit",
   "language": "python",
   "name": "python3"
  },
  "language_info": {
   "codemirror_mode": {
    "name": "ipython",
    "version": 3
   },
   "file_extension": ".py",
   "mimetype": "text/x-python",
   "name": "python",
   "nbconvert_exporter": "python",
   "pygments_lexer": "ipython3",
   "version": "3.9.7"
  },
  "orig_nbformat": 4
 },
 "nbformat": 4,
 "nbformat_minor": 2
}
